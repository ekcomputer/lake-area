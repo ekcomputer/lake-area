{
 "cells": [
  {
   "cell_type": "code",
   "execution_count": 1,
   "metadata": {},
   "outputs": [],
   "source": [
    "import os\n",
    "import geopandas as gpd\n",
    "import ee\n",
    "import geemap"
   ]
  },
  {
   "cell_type": "code",
   "execution_count": 2,
   "metadata": {},
   "outputs": [],
   "source": [
    "## Register with ee\n",
    "# ee.Authenticate(authorization_code='4/1AWgavdf9gch8us9pDJkVc_RGBg9LxSoiYkEcbEDEQwigeGYJPNGKjQLT9AI')\n",
    "ee.Initialize()"
   ]
  },
  {
   "cell_type": "code",
   "execution_count": 3,
   "metadata": {},
   "outputs": [
    {
     "name": "stderr",
     "output_type": "stream",
     "text": [
      "ERROR 1: PROJ: proj_create_from_database: Open of /home/ekyzivat/mambaforge/envs/geospatial/share/proj failed\n"
     ]
    }
   ],
   "source": [
    "## Create earthengine feature for BAWLD\n",
    "gdf = gpd.read_file('/mnt/g/Other/Kuhn-olefeldt-BAWLD/BAWLD/BAWLD_V1___Shapefile.zip')\n",
    "# bawld = geemap.shp_to_ee('/mnt/g/Other/Kuhn-olefeldt-BAWLD/BAWLD/BAWLD_V1___Shapefile.zip')\n",
    "# bawld = geemap.gdf_to_ee(gdf)"
   ]
  },
  {
   "cell_type": "code",
   "execution_count": 4,
   "metadata": {},
   "outputs": [
    {
     "data": {
      "text/plain": [
       "<Derived Projected CRS: PROJCS[\"Lambert_Azimuthal_Equal_Area\",GEOGCS[\"WGS  ...>\n",
       "Name: Lambert_Azimuthal_Equal_Area\n",
       "Axis Info [cartesian]:\n",
       "- [south]: Easting (metre)\n",
       "- [south]: Northing (metre)\n",
       "Area of Use:\n",
       "- undefined\n",
       "Coordinate Operation:\n",
       "- name: unnamed\n",
       "- method: Lambert Azimuthal Equal Area\n",
       "Datum: World Geodetic System 1984\n",
       "- Ellipsoid: WGS 84\n",
       "- Prime Meridian: Greenwich"
      ]
     },
     "execution_count": 4,
     "metadata": {},
     "output_type": "execute_result"
    }
   ],
   "source": [
    "bawld_crs = gdf.crs.to_wkt()\n",
    "gdf.crs"
   ]
  },
  {
   "cell_type": "code",
   "execution_count": 5,
   "metadata": {},
   "outputs": [],
   "source": [
    "## Load BAWLD\n",
    "bawld = ee.FeatureCollection('projects/ee-ekyzivat/assets/Shapes/BAWLD/bawld_grid')"
   ]
  },
  {
   "cell_type": "code",
   "execution_count": 6,
   "metadata": {},
   "outputs": [
    {
     "data": {
      "application/vnd.jupyter.widget-view+json": {
       "model_id": "aa4a678a67d847009e488047bc4b8597",
       "version_major": 2,
       "version_minor": 0
      },
      "text/plain": [
       "Map(center=[20, 0], controls=(WidgetControl(options=['position', 'transparent_bg'], widget=HBox(children=(Togg…"
      ]
     },
     "metadata": {},
     "output_type": "display_data"
    }
   ],
   "source": [
    "## View\n",
    "Map = geemap.Map()\n",
    "Map.addLayer(bawld, {}, 'BAWLD grid')\n",
    "Map"
   ]
  },
  {
   "cell_type": "code",
   "execution_count": 21,
   "metadata": {},
   "outputs": [],
   "source": [
    "## Load GSW\n",
    "gsw = ee.Image('JRC/GSW1_1/GlobalSurfaceWater')\n",
    "occurrence = gsw.select('occurrence')"
   ]
  },
  {
   "cell_type": "code",
   "execution_count": 22,
   "metadata": {},
   "outputs": [],
   "source": [
    "## Vis GSW\n",
    "VIS_OCCURRENCE = {\n",
    "  'min':0,\n",
    "  'max':100,\n",
    "  'palette': ['red', 'blue']\n",
    "}\n",
    "VIS_WATER_MASK = {\n",
    "  'palette': ['white', 'black']\n",
    "}\n",
    "\n",
    "## Create a water mask layer, and set the image mask so that non-water areas are opaque.\n",
    "water_mask = occurrence.gt(90).selfMask()\n",
    "\n",
    "## Map Layers\n",
    "\n",
    "Map.addLayer(occurrence.updateMask(occurrence.divide(100)), VIS_OCCURRENCE, \"Water Occurrence (1984-2018)\")\n",
    "Map.addLayer(water_mask, VIS_WATER_MASK, '90% occurrence water mask', False)"
   ]
  },
  {
   "attachments": {},
   "cell_type": "markdown",
   "metadata": {},
   "source": [
    "## Try to filter features to reduce cost"
   ]
  },
  {
   "cell_type": "code",
   "execution_count": 17,
   "metadata": {},
   "outputs": [
    {
     "name": "stdout",
     "output_type": "stream",
     "text": [
      "ee.Element({\n",
      "  \"functionInvocationValue\": {\n",
      "    \"functionName\": \"Collection.first\",\n",
      "    \"arguments\": {\n",
      "      \"collection\": {\n",
      "        \"functionInvocationValue\": {\n",
      "          \"functionName\": \"Collection.filter\",\n",
      "          \"arguments\": {\n",
      "            \"collection\": {\n",
      "              \"functionInvocationValue\": {\n",
      "                \"functionName\": \"Collection.loadTable\",\n",
      "                \"arguments\": {\n",
      "                  \"tableId\": {\n",
      "                    \"constantValue\": \"projects/ee-ekyzivat/assets/Shapes/BAWLD/bawld_grid\"\n",
      "                  }\n",
      "                }\n",
      "              }\n",
      "            },\n",
      "            \"filter\": {\n",
      "              \"constantValue\": \"cell_ID >= 100 AND cell_id <=120\"\n",
      "            }\n",
      "          }\n",
      "        }\n",
      "      }\n",
      "    }\n",
      "  }\n",
      "})\n"
     ]
    }
   ],
   "source": [
    "## Filter BAWLD to reduce size of operation\n",
    "# bawldF = bawld.filter(\"cell_ID >= 100 AND cell_id <=120\")\n",
    "# print(bawldF.first())"
   ]
  },
  {
   "cell_type": "code",
   "execution_count": 23,
   "metadata": {},
   "outputs": [],
   "source": [
    "## Select spatially\n",
    "roi = ee.FeatureCollection(ee.Geometry.Polygon(\n",
    "    [[[-126.3, 57.5],\n",
    "      [-124.8, 57.5],\n",
    "      [-126.3, 56.7],\n",
    "      [-124.8, 56.7]]]))\n",
    "# roi = ee.FeatureCollection(ee.Geometry.Polygon([[[-26.3, 57.5]\n",
    "#       [-124.8, 57.5],\n",
    "#       [-26.3, 56.7],\n",
    "#       [-124.8, 56.7]]]))\n",
    "bawldF = bawld.filterBounds(roi)"
   ]
  },
  {
   "cell_type": "code",
   "execution_count": 13,
   "metadata": {},
   "outputs": [],
   "source": [
    "## Select spatially\n",
    "# roi = ee.FeatureCollection(Map.draw_features)\n",
    "# bawldF = bawld.filterBounds(roi)"
   ]
  },
  {
   "attachments": {},
   "cell_type": "markdown",
   "metadata": {},
   "source": [
    "## Verify filter"
   ]
  },
  {
   "cell_type": "code",
   "execution_count": 24,
   "metadata": {},
   "outputs": [
    {
     "data": {
      "application/vnd.jupyter.widget-view+json": {
       "model_id": "54a4f84f50e74593a2387a41efabc111",
       "version_major": 2,
       "version_minor": 0
      },
      "text/plain": [
       "Map(center=[57.26721506172541, -125.51036863401669], controls=(WidgetControl(options=['position', 'transparent…"
      ]
     },
     "metadata": {},
     "output_type": "display_data"
    }
   ],
   "source": [
    "Map2 = geemap.Map()\n",
    "Map2.addLayer(bawldF, {}, 'BAWLD filtered')\n",
    "Map2.centerObject(bawldF, 9);\n",
    "Map2"
   ]
  },
  {
   "attachments": {},
   "cell_type": "markdown",
   "metadata": {},
   "source": [
    "## Stats"
   ]
  },
  {
   "cell_type": "code",
   "execution_count": 39,
   "metadata": {},
   "outputs": [
    {
     "name": "stdout",
     "output_type": "stream",
     "text": [
      "Computing ... \n",
      "Generating URL ...\n",
      "Downloading data from https://earthengine.googleapis.com/v1alpha/projects/earthengine-legacy/tables/d6408da633709a6f38243da744adcf58-b988fad73a6c2f3fe2149e78cbb45de3:getFeatures\n",
      "Please wait ...\n",
      "Data downloaded to /mnt/g/Ch4/GSW_zonal_stats/bawld_stats.csv\n"
     ]
    }
   ],
   "source": [
    "## Zonal stats\n",
    "out_dir = '/mnt/g/Ch4/GSW_zonal_stats'\n",
    "bawld_stats_pth = os.path.join(out_dir, 'bawld_stats.csv')\n",
    "\n",
    "if not os.path.exists(out_dir):\n",
    "    os.makedirs(out_dir)\n",
    "\n",
    "# statistics_type can be either 'SUM' or 'PERCENTAGE'\n",
    "# denominator can be used to convert square meters to other areal units, such as square kilometers\n",
    "geemap.zonal_statistics_by_group(\n",
    "    occurrence,\n",
    "    bawldF,\n",
    "    bawld_stats_pth,\n",
    "    statistics_type='SUM',\n",
    "    denominator=1000000,\n",
    "    decimal_places=3,\n",
    "    crs=bawld_crs,\n",
    "    tile_scale=1 # default is 1, but it exceeds GEE capacity\n",
    ")"
   ]
  },
  {
   "cell_type": "code",
   "execution_count": 40,
   "metadata": {},
   "outputs": [
    {
     "name": "stdout",
     "output_type": "stream",
     "text": [
      "Class_70,Class_71,Class_72,Class_73,Class_74,Class_75,Class_76,Class_77,Class_sum,Class_8,Class_78,Class_7,Class_79,Class_9,Class_0,Class_2,Class_1,Class_4,Class_3,Class_6,Class_5,Class_80,Class_60,Class_61,Class_62,Class_63,Class_64,Class_65,Class_66,Class_67,Class_68,Class_69,Class_92,Class_93,Class_94,Class_95,Class_96,Class_97,Class_10,Class_98,Class_11,Class_99,Class_12,Class_13,Class_14,Class_15,Class_16,Class_17,Class_18,Class_19,Class_81,Class_82,Class_83,Class_84,Class_85,Class_86,Class_87,Class_88,Class_89,Class_100,Class_90,Class_91,Class_30,Class_31,Class_32,Class_33,Class_34,Class_35,Class_36,Class_37,Class_38,Class_39,Class_20,Class_21,Class_22,Class_23,Class_24,Class_25,Class_26,Class_27,Class_28,Class_29,Class_50,Class_51,Class_52,Class_53,Class_54,Class_55,Class_56,Class_57,Class_58,Class_59,Class_40,Class_41,Class_42,Class_43,Class_44,Class_45,Class_46,Class_47,Class_48,Class_49,FEN_H,FEN_L,MPL,MYL_L,SPL,LAK_L,MYL_H,WTU_H,WTU_L,WTU,BOG,Area_Pct,BOG_L,MYL,BOR,BOG_H,ROC,SYL,RIV_L,SPL_L,RIV_H,SPL_H,TUN_H,Long,WETSCAPE,TUN_L,MAR,GLA_L,Cell_ID,WET,ROC_H,LAR_L,SYL_L,GLA_H,LAL_L,LAR_H,LAL_H,SRP,MAR_L,SRR,Shp_Area,SYL_H,SRR_L,ROC_L,MAR_H,MGL_L,SRP_H,SRR_H,WET_H,MGL_H,SRP_L,BOR_H,TUN,PEB,FEN,MPL_H,PEB_H,LAK_H,SGL_H,MGL,MPL_L,BOR_L,LAL,SGL_L,LAK,SGL,WET_L,LAR,GLA,PEB_L,Lat,RIV,system:index\n",
      "0.64,0.74,0.59,0.54,0.4,0.76,0.69,0.4,49.070000000000014,0.4,0.64,0.35,1.09,0.25,0,0.05,0,0.15,0,0.15,0,0.64,0.35,0.78,0.55,0.6,0.5,0.84,0.54,0.84,0.59,0.64,0.84,0.55,0.55,0.1,0,0.05,0.69,0,0.63,0,0.54,0.99,0.59,0.35,0.49,0.3,0.39,0.39,0.74,1.34,0.64,0.54,0.25,0.63,0.25,0.33,0.45,0,0.3,0.35,0.78,0.35,0.74,0.59,0.52,0.3,0.84,0.69,0.49,0.35,0.74,0.63,0.25,0.7,0.49,0.43,0.35,0.3,0.74,0.49,0.4,0.5,0.54,0.41,0.59,0.64,0.59,0.79,0.39,0.4,0.2,0.5,0.35,0.45,0.48,0.79,0.59,0.21,0.99,0.51,1.41,0.19,0.0,0.0,0.0,0.0,0.0,0.0,0.0,0.0,0.0,90.9,0.0,0.0,66.05,3.28,30.52,0.0,0.03,0.0,0.18,0.0,7.11,-126.25,14,0.0,0.0,1.81,3142,0.48,35.73,0.0,0.0,3.0,0.0,0.0,0.21,0.18,0.0,0.0,1.547986296E9,0.0,0.0,30.0,0.46,0.53,0.24,0.0,0.48,0.6,0.11,67.69,0.0,0.0,0.48,0.0,0.02,0.56,0.0,0.56,0.0,62.4,0.0,0.0,0.56,0.0,0.48,0.0,2.22,0.0,56.75,0.18,000000000000000000e1\n",
      "0.2,0.25,0.35,0.25,0.35,0.29,0.1,0.35,38.640000000000015,0.4,0.1,0.45,0.25,0.54,0,0.05,0.05,0.15,0,0.25,0.2,0.3,0.55,0.35,0.54,0.34,0.05,0.44,0.3,0.25,0.25,0.38,0.1,0.2,0.3,0.49,0.59,0,0.54,0,0.77,0,0.64,0.3,0.54,0.4,0.35,0.44,0.54,0.54,0.1,0.15,0.25,0.1,0.3,0.28,0.18,0.1,0.2,0,0.25,0.05,0.89,0.64,0.4,0.79,0.75,0.84,0.4,0.44,0.74,0.69,0.69,0.6,0.49,0.39,0.59,0.89,0.35,0.49,0.69,0.49,0.44,0.44,0.54,0.15,0.31,0.59,0.33,0.54,0.26,0.25,0.6,0.79,0.54,0.64,0.55,0.28,0.73,0.4,0.49,0.49,1.65,0.25,0.0,0.0,0.0,0.0,0.0,0.0,0.0,0.0,0.0,96.18,0.0,0.0,69.11,3.04,29.86,0.0,0.02,0.0,0.17,0.0,5.81,-125.75,14,0.0,0.0,0.0,3143,0.56,32.44,0.0,0.0,0.0,0.0,0.0,0.18,0.17,0.0,0.0,1.638328477E9,0.0,0.0,26.63,0.4,0.23,0.17,0.0,0.56,0.4,0.08,70.15,0.0,0.0,0.56,0.0,0.0,0.23,0.0,0.23,0.0,63.44,0.0,0.0,0.23,0.0,0.56,0.0,0.07,0.0,56.75,0.17,00000000000000000880\n",
      "1.03,1.73,1.68,2.12,1.63,1.01,1.87,1.33,96.97999999999999,0.79,1.58,0.78,1.27,0.89,0.05,0.3,1.13,0.25,0.34,0.49,0.58,1.11,1.48,1.07,0.94,1.14,1.14,1.04,1.38,1.78,0.84,1.28,1.48,2.03,2.41,2.96,2.37,0.49,0.89,0.05,0.58,0,1.09,0.69,0.88,0.79,0.83,0.64,0.45,0.64,1.97,1.57,1.31,1.13,1.62,1.67,1.33,0.99,0.99,0,1.62,1.09,0.49,0.44,0.43,0.4,0.69,0.59,0.54,0.84,0.68,0.49,0.69,0.64,0.64,0.64,0.84,0.59,0.59,0.59,0.64,0.53,0.64,0.69,1.28,0.64,1.17,0.84,0.78,0.93,1.09,0.89,0.92,0.49,0.63,0.79,0.71,0.69,0.79,0.94,0.89,0.59,1.66,0.71,0.03,0.0,0.0,1.25,0.0,0.0,0.0,0.0,0.02,100.0,0.0,0.0,77.45,4.11,19.25,0.0,0.14,0.0,0.57,0.0,5.71,-125.25,14,0.0,0.49,0.0,3144,1.45,24.1,0.07,0.0,0.0,0.07,0.23,0.18,0.16,0.49,0.0,1.703128546E9,0.0,0.0,16.85,1.11,1.25,0.38,0.03,1.91,1.98,0.15,77.45,0.0,0.0,0.94,0.04,4.77,2.21,0.07,1.25,0.01,69.04,0.18,0.0,1.47,0.0,0.9,0.23,0.0,0.0,56.75,0.39,000000000000000008f7\n",
      "0.75,0.49,0.64,0.69,1.04,0.84,0.94,1.02,149.02,0.54,0.79,0.59,0.94,0.59,0.05,0.05,0.1,0,0.1,0.15,0.2,0.9,0.4,0.69,0.25,0.45,0.59,0.4,0.64,0.49,0.3,0.49,1.53,1.38,1.74,2.92,13.0,43.46,0.44,39.66,0.25,4.25,0.44,0.2,0.2,0.3,0.24,0.1,0.1,0.44,0.8,1.09,1.09,0.69,1.39,1.09,1.48,1.18,1.38,0,1.63,1.19,0.15,0.2,0.1,0.1,0.25,0.3,0.1,0.34,0.3,0.25,0.1,0,0.1,0.2,0.05,0.25,0.15,0.05,0.1,0.05,0.3,0.2,0.45,0.39,0.54,0.39,0.25,0.44,0.25,0.35,0.15,0.1,0.25,0.3,0.35,0.2,0.1,0.4,0.35,0.35,0.1,0.0,0.0,0.0,0.0,8.41,0.0,0.0,0.0,0.0,0.0,77.3,0.0,0.0,62.52,5.03,27.9,0.0,0.0,0.0,0.35,0.12,1.82,-124.75,14,0.0,0.07,0.0,3145,0.07,29.74,0.0,0.0,0.0,9.15,0.27,10.07,0.14,0.07,0.0,1.315638868E9,0.0,0.0,20.75,0.84,0.21,0.26,0.12,1.35,0.42,0.1,62.52,0.0,0.0,0.0,0.27,0.17,9.39,0.13,0.21,0.0,51.56,9.16,0.0,9.38,0.01,0.0,0.0,0.0,0.0,56.75,0.14,00000000000000002a2f\n",
      "0.43,0.15,0.29,0.62,0.44,0.34,0.44,0.34,33.17999999999998,0.29,0.29,0.63,0.4,0.98,0,0.2,0.1,0,0,0.15,0.15,0.49,0.54,0.34,0.65,0.34,0.47,0.64,0.2,0.34,0.39,0.34,0.05,0.34,0.15,0.49,0.1,0.05,0.39,0.05,0.39,0,0.24,0.21,0.49,0.34,0.19,0.29,0.29,0.39,0.29,0.24,0.34,0.1,0.2,0.29,0.2,0.29,0.29,0,0.15,0.15,0.34,0.05,0.44,0.73,0.4,0.49,0.34,0.07,0.24,0.34,0.34,0.15,0.49,0.29,0.2,0.29,0.62,0.34,0.2,0.34,0.29,0.29,0.39,0.44,0.29,0.83,0.34,0.54,0.49,0.64,0.35,0.19,0.44,0.43,0.21,0.49,0.49,0.39,0.44,0.54,1.18,0.1,0.0,0.0,0.0,0.0,0.0,0.0,0.0,0.0,0.0,100.0,0.0,0.0,64.43,1.79,32.29,0.0,0.03,0.0,0.17,0.0,6.66,-126.25,14,0.0,0.0,2.01,3459,0.43,39.05,0.0,0.0,3.0,0.0,0.0,0.27,0.17,0.0,0.0,1.680574965E9,0.0,0.0,31.51,0.3,0.18,0.28,0.01,0.43,0.31,0.09,67.27,0.0,0.0,0.43,0.0,0.0,0.2,0.08,0.2,0.0,61.21,0.0,0.0,0.2,0.0,0.43,0.0,2.48,0.0,57.25,0.17,00000000000000004392\n",
      "0.79,0.68,0.54,0.83,0.53,0.95,0.83,0.65,48.889999999999986,0.78,0.78,0.1,0.83,0.54,0,0.1,0,0.1,0,0.19,0.1,0.44,0.73,0.6,0.88,0.75,0.68,0.92,0.88,0.73,0.84,0.91,0.19,0.34,0.15,0.15,0.15,0,0.78,0,0.59,0,0.34,0.34,0.54,0.49,0.83,0.78,0.63,0.44,0.93,0.58,0.29,0.19,0.49,0.5,0.5,0.68,0.26,0,0.29,0.29,0.72,0.4,0.68,0.44,0.39,0.44,0.39,0.24,0.44,0.49,0.44,0.54,0.73,0.49,0.39,0.54,0.44,0.24,0.49,0.54,0.6,0.39,0.93,0.49,0.58,0.24,0.35,0.68,0.46,0.53,0.4,0.54,0.68,0.46,0.54,0.44,0.6,0.39,0.31,0.39,1.02,0.01,0.0,0.0,0.0,0.0,0.0,0.0,0.0,0.0,0.0,100.0,0.0,0.0,70.97,1.7,28.13,0.0,0.05,0.0,0.57,0.0,4.75,-125.75,14,0.0,0.0,0.0,3460,0.23,30.58,0.11,0.0,0.0,0.0,0.26,0.16,0.16,0.0,0.0,1.680574966E9,0.0,0.0,26.58,0.2,0.26,0.29,0.0,0.23,0.41,0.13,73.8,0.0,0.0,0.23,0.0,0.74,0.26,0.0,0.26,0.0,67.78,0.0,0.0,0.26,0.0,0.23,0.26,0.0,0.0,57.25,0.41,00000000000000003ec2\n",
      "1.29,1.01,1.06,0.86,1.01,1.45,1.16,0.92,63.01999999999997,0.38,1.3,0.67,1.05,0.53,0,0.1,0,0.05,0.1,0.48,0.1,0.87,1.25,0.48,0.9,0.72,0.92,0.87,0.97,1.35,1.06,1.01,1.11,0.62,0.58,0.05,0,0,0.39,0,0.34,0,0.63,0.71,0.24,0.76,0.63,0.32,0.67,0.32,1.4,1.01,0.58,0.68,0.63,0.9,0.72,0.72,1.08,0,0.91,1.14,0.39,0.48,0.39,0.34,0.43,0.43,0.58,0.64,0.39,0.39,0.56,0.53,0.48,0.71,0.43,0.43,0.48,0.67,0.48,0.34,0.43,0.52,0.67,0.63,0.72,0.58,0.34,0.72,1.14,0.68,0.6,0.43,0.76,0.58,0.9,0.63,0.58,0.39,0.32,0.77,1.44,0.29,0.0,0.0,0.0,0.11,0.0,0.0,0.0,0.0,0.17,100.0,0.02,0.0,80.16,2.56,18.16,0.0,0.02,0.0,0.18,0.0,8.38,-126.25,14,0.0,0.09,0.0,3809,0.81,21.75,0.0,0.0,0.0,0.0,0.0,0.08,0.18,0.01,0.0,1.657887127E9,0.0,0.0,16.07,0.31,0.66,0.42,0.0,1.02,0.77,0.16,80.16,0.0,0.0,0.56,0.0,1.34,0.69,0.0,0.69,0.0,70.94,0.0,0.0,0.69,0.0,0.67,0.0,0.0,0.0,57.75,0.18,000000000000000046fb\n",
      "0.71,0.66,0.38,0.58,0.81,0.67,0.39,0.58,85.56,1.18,0.34,0.53,0.57,0.72,0,0.14,0.05,0.19,0.1,0.34,0.19,0.85,0.53,0.38,0.82,0.48,0.96,0.43,0.63,0.43,0.67,0.39,1.2,1.49,1.97,2.02,2.3,4.8,0.91,4.23,1.3,1.19,0.87,0.96,0.72,0.72,0.82,0.63,1.25,0.6,0.67,0.87,1.09,0.77,0.58,0.77,0.91,1.44,0.82,0.41,0.76,0.91,0.87,0.52,0.82,0.61,0.58,0.85,0.96,0.82,0.96,1.67,0.34,0.87,0.82,0.67,0.72,0.48,0.53,0.39,0.48,0.34,0.87,1.06,0.58,1.01,1.06,0.77,0.91,1.25,0.77,1.01,0.81,0.82,0.96,0.71,0.77,0.96,0.96,0.72,0.81,0.77,1.88,0.79,0.0,0.0,0.0,0.55,0.0,0.0,0.0,0.0,0.03,100.0,0.02,0.0,64.59,4.05,32.04,0.0,0.04,0.0,0.29,0.0,5.53,-125.25,14,0.0,0.09,0.79,3811,1.06,34.26,0.0,0.0,2.0,0.0,0.0,0.21,0.15,0.09,0.0,1.657887126E9,0.0,0.0,26.45,0.64,1.31,0.23,0.01,1.94,1.64,0.12,65.59,0.0,0.0,0.94,0.0,0.0,1.37,0.04,1.37,0.0,58.5,0.0,0.0,1.37,0.0,0.88,0.0,0.79,0.0,57.75,0.15,000000000000000013ce\n",
      "0.58,0.7,1.11,0.44,0.53,0.43,0.63,0.51,49.66000000000001,0.35,0.67,0.39,0.82,0.63,0,0.05,0,0.05,0,0,0.19,0.48,0.63,0.66,0.63,0.62,0.29,0.53,0.48,0.82,0.44,0.72,0.63,1.44,1.97,2.02,0.96,0,0.48,0,0.48,0,0.87,0.48,0.39,0.48,0.72,0.39,0.67,0.53,0.58,0.38,0.63,0.96,0.48,0.92,0.87,0.53,0.63,0,0.63,0.49,0.42,0.24,0.43,0.34,0.34,0.44,0.05,0.29,0.34,0.45,0.63,0.58,0.34,0.58,0.77,0.34,0.53,0.19,0.24,0.29,0.39,0.34,0.19,0.53,0.48,0.24,0.48,0.44,0.22,0.34,0.48,0.43,0.39,0.44,0.19,0.72,0.34,0.72,0.29,0.19,0.47,0.01,0.0,0.0,0.0,0.32,0.0,0.0,0.0,0.0,0.0,100.0,0.0,0.0,83.97,3.35,14.8,0.0,0.02,0.0,0.2,0.0,7.62,-125.75,14,0.0,0.0,0.0,3810,0.08,19.4,0.0,0.0,0.0,0.0,0.0,0.12,0.2,0.0,0.0,1.657887125E9,0.0,0.0,12.46,0.32,0.94,0.31,0.0,0.46,1.36,0.15,83.97,0.0,0.0,0.08,0.0,0.67,0.94,0.0,0.94,0.0,74.58,0.0,0.0,0.94,0.0,0.03,0.0,0.0,0.0,57.75,0.2,00000000000000003f61\n"
     ]
    }
   ],
   "source": [
    "## View csv\n",
    "!head {bawld_stats_pth}"
   ]
  },
  {
   "attachments": {},
   "cell_type": "markdown",
   "metadata": {},
   "source": [
    "Output when I tried to save as .shp (~7 min):\n",
    "```python\n",
    "Computing ... \n",
    "Generating URL ...\n",
    "Downloading data from https://earthengine.googleapis.com/v1alpha/projects/earthengine-legacy/tables/2439eef1ef1e866e84ef7c39c7a25950-9928bfc2ae36fcea36b19e2b8f795f73:getFeatures\n",
    "Please wait ...\n",
    "An error occurred while downloading. \n",
    " Retrying ...\n",
    "Generating URL ...\n",
    "Downloading data from https://earthengine.googleapis.com/v1alpha/projects/earthengine-legacy/tables/396259f2c3d332ef482a33098d6cc711-36e72eb94399a5afd8debbacfcaffc6c:getFeatures\n",
    "Please wait ...\n",
    "Output exceeds the size limit. Open the full output data in a text editor\n",
    "---------------------------------------------------------------------------\n",
    "BadZipFile                                Traceback (most recent call last)\n",
    "File ~/mambaforge/envs/geospatial/lib/python3.10/site-packages/geemap/common.py:1579, in ee_export_vector(ee_object, filename, selectors, verbose, keep_zip, timeout, proxies)\n",
    "   1578 if filetype == \"shp\":\n",
    "-> 1579     with zipfile.ZipFile(filename) as z:\n",
    "   1580         z.extractall(os.path.dirname(filename))\n",
    "\n",
    "File ~/mambaforge/envs/geospatial/lib/python3.10/zipfile.py:1267, in ZipFile.__init__(self, file, mode, compression, allowZip64, compresslevel, strict_timestamps)\n",
    "   1266 if mode == 'r':\n",
    "-> 1267     self._RealGetContents()\n",
    "   1268 elif mode in ('w', 'x'):\n",
    "   1269     # set the modified flag so central directory gets written\n",
    "   1270     # even if no files are added to the archive\n",
    "\n",
    "File ~/mambaforge/envs/geospatial/lib/python3.10/zipfile.py:1334, in ZipFile._RealGetContents(self)\n",
    "   1333 if not endrec:\n",
    "-> 1334     raise BadZipFile(\"File is not a zip file\")\n",
    "   1335 if self.debug > 1:\n",
    "\n",
    "BadZipFile: File is not a zip file\n",
    "\n",
    "During handling of the above exception, another exception occurred:\n",
    "\n",
    "ValueError                                Traceback (most recent call last)\n",
    "File ~/mambaforge/envs/geospatial/lib/python3.10/site-packages/geemap/common.py:6960, in zonal_stats_by_group(in_value_raster, in_zone_vector, out_file_path, statistics_type, decimal_places, denominator, scale, crs, tile_scale, return_fc, verbose, timeout, proxies, **kwargs)\n",
    "...\n",
    "   6960         ee_export_vector(final_result, filename, timeout=timeout, proxies=proxies)\n",
    "   6962 except Exception as e:\n",
    "-> 6963     raise Exception(e)\n",
    "\n",
    "Exception: File is not a zip file\n"
   ]
  },
  {
   "cell_type": "code",
   "execution_count": 22,
   "metadata": {},
   "outputs": [
    {
     "ename": "ValueError",
     "evalue": "ee_object must be an ee.FeatureCollection",
     "output_type": "error",
     "traceback": [
      "\u001b[0;31m---------------------------------------------------------------------------\u001b[0m",
      "\u001b[0;31mValueError\u001b[0m                                Traceback (most recent call last)",
      "Cell \u001b[0;32mIn[22], line 1\u001b[0m\n\u001b[0;32m----> 1\u001b[0m geemap\u001b[39m.\u001b[39;49mee_export_vector(\u001b[39m'\u001b[39;49m\u001b[39mhttps://earthengine.googleapis.com/v1alpha/projects/earthengine-legacy/tables/396259f2c3d332ef482a33098d6cc711-36e72eb94399a5afd8debbacfcaffc6c:getFeatures\u001b[39;49m\u001b[39m'\u001b[39;49m, bawld_stats_pth, keep_zip\u001b[39m=\u001b[39;49m\u001b[39mTrue\u001b[39;49;00m)\n",
      "File \u001b[0;32m~/mambaforge/envs/geospatial/lib/python3.10/site-packages/geemap/common.py:1503\u001b[0m, in \u001b[0;36mee_export_vector\u001b[0;34m(ee_object, filename, selectors, verbose, keep_zip, timeout, proxies)\u001b[0m\n\u001b[1;32m   1490\u001b[0m \u001b[39m\"\"\"Exports Earth Engine FeatureCollection to other formats, including shp, csv, json, kml, and kmz.\u001b[39;00m\n\u001b[1;32m   1491\u001b[0m \n\u001b[1;32m   1492\u001b[0m \u001b[39mArgs:\u001b[39;00m\n\u001b[0;32m   (...)\u001b[0m\n\u001b[1;32m   1499\u001b[0m \u001b[39m    proxies (dict, optional): A dictionary of proxies to use. Defaults to None.\u001b[39;00m\n\u001b[1;32m   1500\u001b[0m \u001b[39m\"\"\"\u001b[39;00m\n\u001b[1;32m   1502\u001b[0m \u001b[39mif\u001b[39;00m \u001b[39mnot\u001b[39;00m \u001b[39misinstance\u001b[39m(ee_object, ee\u001b[39m.\u001b[39mFeatureCollection):\n\u001b[0;32m-> 1503\u001b[0m     \u001b[39mraise\u001b[39;00m \u001b[39mValueError\u001b[39;00m(\u001b[39m\"\u001b[39m\u001b[39mee_object must be an ee.FeatureCollection\u001b[39m\u001b[39m\"\u001b[39m)\n\u001b[1;32m   1505\u001b[0m allowed_formats \u001b[39m=\u001b[39m [\u001b[39m\"\u001b[39m\u001b[39mcsv\u001b[39m\u001b[39m\"\u001b[39m, \u001b[39m\"\u001b[39m\u001b[39mgeojson\u001b[39m\u001b[39m\"\u001b[39m, \u001b[39m\"\u001b[39m\u001b[39mjson\u001b[39m\u001b[39m\"\u001b[39m, \u001b[39m\"\u001b[39m\u001b[39mkml\u001b[39m\u001b[39m\"\u001b[39m, \u001b[39m\"\u001b[39m\u001b[39mkmz\u001b[39m\u001b[39m\"\u001b[39m, \u001b[39m\"\u001b[39m\u001b[39mshp\u001b[39m\u001b[39m\"\u001b[39m]\n\u001b[1;32m   1506\u001b[0m \u001b[39m# allowed_formats = ['csv', 'kml', 'kmz']\u001b[39;00m\n",
      "\u001b[0;31mValueError\u001b[0m: ee_object must be an ee.FeatureCollection"
     ]
    }
   ],
   "source": [
    "geemap.ee_export_vector('https://earthengine.googleapis.com/v1alpha/projects/earthengine-legacy/tables/396259f2c3d332ef482a33098d6cc711-36e72eb94399a5afd8debbacfcaffc6c:getFeatures', bawld_stats_pth, keep_zip=True)"
   ]
  },
  {
   "cell_type": "code",
   "execution_count": 30,
   "metadata": {},
   "outputs": [
    {
     "data": {
      "text/plain": [
       "'/home/ekyzivat/mambaforge/envs/geospatial/lib/python3.10/site-packages/geemap/data/template/template.py'"
      ]
     },
     "execution_count": 30,
     "metadata": {},
     "output_type": "execute_result"
    }
   ],
   "source": [
    "# geemap.datasets.get_geemap_data_list()\n",
    "geemap.get_nb_template()"
   ]
  }
 ],
 "metadata": {
  "kernelspec": {
   "display_name": "geospatial",
   "language": "python",
   "name": "python3"
  },
  "language_info": {
   "codemirror_mode": {
    "name": "ipython",
    "version": 3
   },
   "file_extension": ".py",
   "mimetype": "text/x-python",
   "name": "python",
   "nbconvert_exporter": "python",
   "pygments_lexer": "ipython3",
   "version": "3.10.8"
  },
  "orig_nbformat": 4,
  "vscode": {
   "interpreter": {
    "hash": "7c2adcd04cb759f62ae312ee256557939cf64646c4c1feb81f383cf035bb7331"
   }
  }
 },
 "nbformat": 4,
 "nbformat_minor": 2
}
