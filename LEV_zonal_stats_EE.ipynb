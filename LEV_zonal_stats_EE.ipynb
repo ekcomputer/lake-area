{
 "cells": [
  {
   "attachments": {},
   "cell_type": "markdown",
   "metadata": {},
   "source": [
    "Practice script for working with GEE datasets: GSW and BAWLD"
   ]
  },
  {
   "cell_type": "code",
   "execution_count": 1,
   "metadata": {},
   "outputs": [],
   "source": [
    "import os\n",
    "import geopandas as gpd\n",
    "import ee\n",
    "import geemap"
   ]
  },
  {
   "cell_type": "code",
   "execution_count": 19,
   "metadata": {},
   "outputs": [],
   "source": [
    "## Register with ee\n",
    "# ee.Authenticate(authorization_code='4/1AWgavdf9gch8us9pDJkVc_RGBg9LxSoiYkEcbEDEQwigeGYJPNGKjQLT9AI')\n",
    "ee.Initialize(opt_url='https://earthengine.googleapis.com') #'https://earthengine-highvolume.googleapis.com')"
   ]
  },
  {
   "cell_type": "code",
   "execution_count": 7,
   "metadata": {},
   "outputs": [
    {
     "name": "stderr",
     "output_type": "stream",
     "text": [
      "ERROR 1: PROJ: proj_create_from_database: Open of /home/ekyzivat/mambaforge/envs/geospatial/share/proj failed\n"
     ]
    }
   ],
   "source": [
    "## Create earthengine feature for BAWLD\n",
    "gdf = gpd.read_file('/mnt/g/Other/Kuhn-olefeldt-BAWLD/BAWLD/BAWLD_V1___Shapefile.zip')\n",
    "# bawld = geemap.shp_to_ee('/mnt/g/Other/Kuhn-olefeldt-BAWLD/BAWLD/BAWLD_V1___Shapefile.zip')\n",
    "# bawld = geemap.gdf_to_ee(gdf)"
   ]
  },
  {
   "cell_type": "code",
   "execution_count": 8,
   "metadata": {},
   "outputs": [
    {
     "data": {
      "text/plain": [
       "<Derived Projected CRS: PROJCS[\"Lambert_Azimuthal_Equal_Area\",GEOGCS[\"WGS  ...>\n",
       "Name: Lambert_Azimuthal_Equal_Area\n",
       "Axis Info [cartesian]:\n",
       "- [south]: Easting (metre)\n",
       "- [south]: Northing (metre)\n",
       "Area of Use:\n",
       "- undefined\n",
       "Coordinate Operation:\n",
       "- name: unnamed\n",
       "- method: Lambert Azimuthal Equal Area\n",
       "Datum: World Geodetic System 1984\n",
       "- Ellipsoid: WGS 84\n",
       "- Prime Meridian: Greenwich"
      ]
     },
     "execution_count": 8,
     "metadata": {},
     "output_type": "execute_result"
    }
   ],
   "source": [
    "## Set CRS used for analysis\n",
    "# bawld_crs = ee.Projection(gdf.crs.to_wkt()) # this returns no errors...\n",
    "# bawld_crs = ee.Projection(ee.Projection(gdf.crs.list_authority()[0].auth_name + ':' + gdf.crs.list_authority()[0].code))\n",
    "# bawld_crs = ee.Projection(gdf.crs.to_epsg())\n",
    "bawld_crs = 'PROJCS[\"Lambert_Azimuthal_Equal_Area\",GEOGCS[\"Unknown\",DATUM[\"D_unknown\",SPHEROID[\"Unknown\",6371007.181,0]],PRIMEM[\"Greenwich\",0],UNIT[\"Degree\",0.017453292519943295]],PROJECTION[\"Lambert_Azimuthal_Equal_Area\"],PARAMETER[\"latitude_of_origin\",45.5],PARAMETER[\"central_meridian\",-114.125],PARAMETER[\"false_easting\",0],PARAMETER[\"false_northing\",0],UNIT[\"Meter\",1]]'\n",
    "# bawld_crs = gdf.crs.to_epsg()\n",
    "# bawld_crs = gdf.crs.list_authority()[0].auth_name + ':' + gdf.crs.list_authority()[0].code\n",
    "\n",
    "## testing\n",
    "# print(ee.Projection(gdf.crs.list_authority()[0].auth_name + ':' + gdf.crs.list_authority()[0].code))\n",
    "# print(ee.Projection('tooth:456'))\n",
    "\n",
    "# print(ee.Projection(gdf.crs.to_wkt()))\n",
    "# print(ee.Projection('EPSG:4326'))# gdf.crs.list_authority()\n",
    "gdf.crs\n",
    "# print(bawld_crs.crs())\n",
    "# bawld_crs.crs()"
   ]
  },
  {
   "cell_type": "code",
   "execution_count": 9,
   "metadata": {},
   "outputs": [],
   "source": [
    "## EASE grid 2.0\n",
    "\n",
    "# bawld_crs = 'PROJCS[\"WGS 84 / NSIDC EASE-Grid 2.0 North\",GEOGCS[\"WGS 84\",DATUM[\"WGS_1984\",SPHEROID[\"WGS 84\",6378137,298.257223563,AUTHORITY[\"EPSG\",\"7030\"]],AUTHORITY[\"EPSG\",\"6326\"]],PRIMEM[\"Greenwich\",0,AUTHORITY[\"EPSG\",\"8901\"]],UNIT[\"degree\",0.0174532925199433,AUTHORITY[\"EPSG\",\"9122\"]],AUTHORITY[\"EPSG\",\"4326\"]],PROJECTION[\"Lambert_Azimuthal_Equal_Area\"],PARAMETER[\"latitude_of_center\",90],PARAMETER[\"longitude_of_center\",0],PARAMETER[\"false_easting\",0],PARAMETER[\"false_northing\",0],UNIT[\"metre\",1,AUTHORITY[\"EPSG\",\"9001\"]],AUTHORITY[\"EPSG\",\"6931\"]]'"
   ]
  },
  {
   "cell_type": "code",
   "execution_count": 10,
   "metadata": {},
   "outputs": [],
   "source": [
    "## Load BAWLD\n",
    "bawld = ee.FeatureCollection('projects/ee-ekyzivat/assets/Shapes/BAWLD/bawld_grid')"
   ]
  },
  {
   "cell_type": "code",
   "execution_count": 27,
   "metadata": {},
   "outputs": [
    {
     "data": {
      "application/vnd.jupyter.widget-view+json": {
       "model_id": "0846e5a82e1f41f9829bc380db8e20a9",
       "version_major": 2,
       "version_minor": 0
      },
      "text/plain": [
       "Map(center=[20, 0], controls=(WidgetControl(options=['position', 'transparent_bg'], widget=HBox(children=(Togg…"
      ]
     },
     "metadata": {},
     "output_type": "display_data"
    }
   ],
   "source": [
    "## View\n",
    "Map = geemap.Map()\n",
    "Map.addLayer(bawld, {}, 'BAWLD grid')\n",
    "Map"
   ]
  },
  {
   "cell_type": "code",
   "execution_count": 30,
   "metadata": {},
   "outputs": [],
   "source": [
    "## Load GSW\n",
    "gsw = ee.Image('JRC/GSW1_4/GlobalSurfaceWater')\n",
    "occurrence = gsw.select('occurrence')\n",
    "\n",
    "## load dataset for ocean mask\n",
    "# sstg =  ee.ImageCollection(\"projects/sat-io/open-datasets/sstg\")\n",
    "\n",
    "## Unmask and reapply ocean mask\n",
    "occurrence = occurrence.unmask()"
   ]
  },
  {
   "cell_type": "code",
   "execution_count": 29,
   "metadata": {},
   "outputs": [],
   "source": [
    "## Vis GSW\n",
    "VIS_OCCURRENCE = {\n",
    "  'min':0,\n",
    "  'max':100,\n",
    "  'palette': ['red', 'blue']\n",
    "}\n",
    "VIS_WATER_MASK = {\n",
    "  'palette': ['white', 'black']\n",
    "}\n",
    "\n",
    "## Create a water mask layer, and set the image mask so that non-water areas are opaque.\n",
    "water_mask = occurrence.gt(90).selfMask()\n",
    "\n",
    "## Map Layers\n",
    "\n",
    "Map.addLayer(occurrence.updateMask(occurrence.divide(100)), VIS_OCCURRENCE, \"Water Occurrence (1984-2018)\") ## UPdating mask is not necessary! It is already masked. Maybe earlier versions weren't.\n",
    "Map.addLayer(occurrence, VIS_OCCURRENCE, \"Water Occurrence masked\")\n",
    "Map.addLayer(water_mask, VIS_WATER_MASK, '90% occurrence water mask', False)"
   ]
  },
  {
   "attachments": {},
   "cell_type": "markdown",
   "metadata": {},
   "source": [
    "## Try to filter features to reduce cost"
   ]
  },
  {
   "cell_type": "code",
   "execution_count": 6,
   "metadata": {},
   "outputs": [
    {
     "name": "stdout",
     "output_type": "stream",
     "text": [
      "ee.Element({\n",
      "  \"functionInvocationValue\": {\n",
      "    \"functionName\": \"Collection.first\",\n",
      "    \"arguments\": {\n",
      "      \"collection\": {\n",
      "        \"functionInvocationValue\": {\n",
      "          \"functionName\": \"Collection.filter\",\n",
      "          \"arguments\": {\n",
      "            \"collection\": {\n",
      "              \"functionInvocationValue\": {\n",
      "                \"functionName\": \"Collection.filter\",\n",
      "                \"arguments\": {\n",
      "                  \"collection\": {\n",
      "                    \"functionInvocationValue\": {\n",
      "                      \"functionName\": \"Collection.loadTable\",\n",
      "                      \"arguments\": {\n",
      "                        \"tableId\": {\n",
      "                          \"constantValue\": \"projects/ee-ekyzivat/assets/Shapes/BAWLD/bawld_grid\"\n",
      "                        }\n",
      "                      }\n",
      "                    }\n",
      "                  },\n",
      "                  \"filter\": {\n",
      "                    \"constantValue\": \"Long > -126.5\"\n",
      "                  }\n",
      "                }\n",
      "              }\n",
      "            },\n",
      "            \"filter\": {\n",
      "              \"constantValue\": \"Long < -126.0\"\n",
      "            }\n",
      "          }\n",
      "        }\n",
      "      }\n",
      "    }\n",
      "  }\n",
      "})\n"
     ]
    }
   ],
   "source": [
    "## Filter BAWLD to reduce size of operation\n",
    "bawldF = bawld.filter(\"Long > -126.5\").filter(\"Long < -126.0\")\n",
    "# bawldF = bawld.filter(\"Long == -126.25\")\n",
    "print(bawldF.first())"
   ]
  },
  {
   "cell_type": "code",
   "execution_count": 59,
   "metadata": {},
   "outputs": [],
   "source": [
    "## Select spatially\n",
    "roi = ee.FeatureCollection(ee.Geometry.Polygon(\n",
    "    [[[-126.3, 59.5],\n",
    "      [-124.8, 59.5],\n",
    "      [-126.3, 56.7],\n",
    "      [-124.8, 56.7]]]))\n",
    "# roi = ee.FeatureCollection(ee.Geometry.Polygon([[[-26.3, 57.5]\n",
    "#       [-124.8, 57.5],\n",
    "#       [-26.3, 56.7],\n",
    "#       [-124.8, 56.7]]]))\n",
    "bawldF = bawld.filterBounds(roi)"
   ]
  },
  {
   "cell_type": "code",
   "execution_count": 13,
   "metadata": {},
   "outputs": [],
   "source": [
    "## Select spatially\n",
    "# roi = ee.FeatureCollection(Map.draw_features)\n",
    "# bawldF = bawld.filterBounds(roi)"
   ]
  },
  {
   "attachments": {},
   "cell_type": "markdown",
   "metadata": {},
   "source": [
    "## Verify filter"
   ]
  },
  {
   "cell_type": "code",
   "execution_count": 60,
   "metadata": {},
   "outputs": [
    {
     "data": {
      "application/vnd.jupyter.widget-view+json": {
       "model_id": "25dd486a274d47f2a692ffd311e61dac",
       "version_major": 2,
       "version_minor": 0
      },
      "text/plain": [
       "Map(center=[58.26632108296024, -125.5379009909403], controls=(WidgetControl(options=['position', 'transparent_…"
      ]
     },
     "metadata": {},
     "output_type": "display_data"
    }
   ],
   "source": [
    "Map2 = geemap.Map()\n",
    "Map2.addLayer(bawldF, {}, 'BAWLD filtered')\n",
    "Map2.centerObject(bawldF, 3);\n",
    "Map2"
   ]
  },
  {
   "cell_type": "code",
   "execution_count": 61,
   "metadata": {},
   "outputs": [],
   "source": [
    "info = bawldF.getInfo()"
   ]
  },
  {
   "cell_type": "code",
   "execution_count": 62,
   "metadata": {},
   "outputs": [
    {
     "data": {
      "text/plain": [
       "{'type': 'Feature',\n",
       " 'geometry': {'type': 'Polygon',\n",
       "  'coordinates': [[[-125.50000196006685, 57.99999867909776],\n",
       "    [-125.50000168548866, 58.06253502101735],\n",
       "    [-125.5000014726343, 58.125060968116806],\n",
       "    [-125.50000137254703, 58.1875765486345],\n",
       "    [-125.50000116666408, 58.25008187781203],\n",
       "    [-125.50000106944472, 58.31257683319872],\n",
       "    [-125.5000008613192, 58.37506153176618],\n",
       "    [-125.50000069869205, 58.43753607177019],\n",
       "    [-125.50000055526583, 58.50000030968435],\n",
       "    [-125.62500058143287, 58.50023097796593],\n",
       "    [-125.75000180030969, 58.50030765308199],\n",
       "    [-125.87500306440508, 58.500230085563544],\n",
       "    [-126.00000308441794, 58.4999985767822],\n",
       "    [-126.0000020633585, 58.437534609320615],\n",
       "    [-126.00000101137081, 58.3750605619131],\n",
       "    [-126.00000006445256, 58.31257613895723],\n",
       "    [-125.9999990055643, 58.25008146255445],\n",
       "    [-125.99999788769746, 58.18757656785795],\n",
       "    [-125.9999968183898, 58.125061271880654],\n",
       "    [-125.99999595573645, 58.06253567732226],\n",
       "    [-125.99999489845237, 57.99999966834623],\n",
       "    [-125.87499721103354, 58.00023447400767],\n",
       "    [-125.74999828807613, 58.00031252665994],\n",
       "    [-125.62499956747669, 58.00023398484154],\n",
       "    [-125.50000196006685, 57.99999867909776]]]},\n",
       " 'id': '000000000000000043ef',\n",
       " 'properties': {'Area_Pct': 100,\n",
       "  'BOG': 0,\n",
       "  'BOG_H': 1.42,\n",
       "  'BOG_L': 0,\n",
       "  'BOR': 62.6,\n",
       "  'BOR_H': 64.35,\n",
       "  'BOR_L': 56.49,\n",
       "  'Cell_ID': 4178,\n",
       "  'FEN': 0.9,\n",
       "  'FEN_H': 1.58,\n",
       "  'FEN_L': 0.34,\n",
       "  'GLA': 3.7,\n",
       "  'GLA_H': 4,\n",
       "  'GLA_L': 2.37,\n",
       "  'LAK': 0.33,\n",
       "  'LAK_H': 0.33,\n",
       "  'LAK_L': 0,\n",
       "  'LAL': 0,\n",
       "  'LAL_H': 0.12,\n",
       "  'LAL_L': 0,\n",
       "  'LAR': 0,\n",
       "  'LAR_H': 0,\n",
       "  'LAR_L': 0,\n",
       "  'Lat': 58.25,\n",
       "  'Long': -125.75,\n",
       "  'MAR': 0.05,\n",
       "  'MAR_H': 0.37,\n",
       "  'MAR_L': 0,\n",
       "  'MGL': 0.33,\n",
       "  'MGL_H': 0.44,\n",
       "  'MGL_L': 0.32,\n",
       "  'MPL': 0,\n",
       "  'MPL_H': 0,\n",
       "  'MPL_L': 0,\n",
       "  'MYL': 0,\n",
       "  'MYL_H': 0,\n",
       "  'MYL_L': 0,\n",
       "  'PEB': 0,\n",
       "  'PEB_H': 0,\n",
       "  'PEB_L': 0,\n",
       "  'RIV': 0.15,\n",
       "  'RIV_H': 0.15,\n",
       "  'RIV_L': 0,\n",
       "  'ROC': 32.28,\n",
       "  'ROC_H': 37.11,\n",
       "  'ROC_L': 30.82,\n",
       "  'SGL': 0,\n",
       "  'SGL_H': 0,\n",
       "  'SGL_L': 0,\n",
       "  'SPL': 0,\n",
       "  'SPL_H': 0,\n",
       "  'SPL_L': 0,\n",
       "  'SRP': 0.15,\n",
       "  'SRP_H': 0.53,\n",
       "  'SRP_L': 0.1,\n",
       "  'SRR': 0,\n",
       "  'SRR_H': 0,\n",
       "  'SRR_L': 0,\n",
       "  'SYL': 0,\n",
       "  'SYL_H': 0,\n",
       "  'SYL_L': 0,\n",
       "  'Shp_Area': 1635066748,\n",
       "  'TUN': 0,\n",
       "  'TUN_H': 5.63,\n",
       "  'TUN_L': 0,\n",
       "  'WET': 0.95,\n",
       "  'WETSCAPE': 14,\n",
       "  'WET_H': 0.95,\n",
       "  'WET_L': 0.92,\n",
       "  'WTU': 0,\n",
       "  'WTU_H': 0,\n",
       "  'WTU_L': 0}}"
      ]
     },
     "execution_count": 62,
     "metadata": {},
     "output_type": "execute_result"
    }
   ],
   "source": [
    "info['features'][0]"
   ]
  },
  {
   "cell_type": "code",
   "execution_count": 39,
   "metadata": {},
   "outputs": [
    {
     "data": {
      "text/plain": [
       "[68.25,\n",
       " 60.25,\n",
       " 62.25,\n",
       " 64.75,\n",
       " 68.75,\n",
       " 65.25,\n",
       " 69.25,\n",
       " 56.75,\n",
       " 65.75,\n",
       " 69.75,\n",
       " 66.25,\n",
       " 57.25,\n",
       " 59.25,\n",
       " 61.25,\n",
       " 63.25,\n",
       " 66.75,\n",
       " 67.25,\n",
       " 57.75,\n",
       " 59.75,\n",
       " 63.75,\n",
       " 67.75,\n",
       " 71.75,\n",
       " 52.25,\n",
       " 56.25,\n",
       " 58.25,\n",
       " 58.75,\n",
       " 60.75,\n",
       " 51.25,\n",
       " 51.75,\n",
       " 61.75,\n",
       " 64.25,\n",
       " 62.75]"
      ]
     },
     "execution_count": 39,
     "metadata": {},
     "output_type": "execute_result"
    }
   ],
   "source": [
    "len(info['features'])\n",
    "# bawldF.propertyNames()\n",
    "\n",
    "# info.aggregate_first('LAK')'\n",
    "bawld.aggregate_array('Lat').getInfo()"
   ]
  },
  {
   "cell_type": "code",
   "execution_count": 51,
   "metadata": {},
   "outputs": [
    {
     "data": {
      "text/html": [
       "<div><style>:root {\n",
       "  --font-color-primary: var(--jp-content-font-color0, rgba(0, 0, 0, 1));\n",
       "  --font-color-secondary: var(--jp-content-font-color2, rgba(0, 0, 0, 0.6));\n",
       "  --font-color-accent: rgba(123, 31, 162, 1);\n",
       "  --border-color: var(--jp-border-color2, #e0e0e0);\n",
       "  --background-color: var(--jp-layout-color0, white);\n",
       "  --background-color-row-even: var(--jp-layout-color1, white);\n",
       "  --background-color-row-odd: var(--jp-layout-color2, #eeeeee);\n",
       "}\n",
       "\n",
       "html[theme=\"dark\"],\n",
       "body[data-theme=\"dark\"],\n",
       "body.vscode-dark {\n",
       "  --font-color-primary: rgba(255, 255, 255, 1);\n",
       "  --font-color-secondary: rgba(255, 255, 255, 0.6);\n",
       "  --font-color-accent: rgb(173, 132, 190);\n",
       "  --border-color: #2e2e2e;\n",
       "  --background-color: #111111;\n",
       "  --background-color-row-even: #111111;\n",
       "  --background-color-row-odd: #313131;\n",
       "}\n",
       "\n",
       ".ee {\n",
       "  padding: 1em;\n",
       "  line-height: 1.5em;\n",
       "  min-width: 300px;\n",
       "  max-width: 1200px;\n",
       "  overflow-y: scroll;\n",
       "  max-height: 600px;\n",
       "  border: 1px solid var(--border-color);\n",
       "  font-family: monospace;\n",
       "}\n",
       "\n",
       ".ee li {\n",
       "  list-style-type: none;\n",
       "}\n",
       "\n",
       ".ee ul {\n",
       "  padding-left: 1.5em !important;\n",
       "  margin: 0;\n",
       "}\n",
       "\n",
       ".ee > ul {\n",
       "  padding-left: 0 !important;\n",
       "}\n",
       "\n",
       ".ee-open,\n",
       ".ee-shut {\n",
       "  color: var(--font-color-secondary);\n",
       "  cursor: pointer;\n",
       "  margin: 0;\n",
       "}\n",
       "\n",
       ".ee-open:hover,\n",
       ".ee-shut:hover {\n",
       "  color: var(--font-color-primary);\n",
       "}\n",
       "\n",
       ".ee-k {\n",
       "  color: var(--font-color-accent);\n",
       "  margin-right: 6px;\n",
       "}\n",
       "\n",
       ".ee-v {\n",
       "  color: var(--font-color-primary);\n",
       "}\n",
       "\n",
       ".ee-toggle {\n",
       "  display: none;\n",
       "}\n",
       "\n",
       ".ee-shut + ul {\n",
       "  display: none;\n",
       "}\n",
       "\n",
       ".ee-open + ul {\n",
       "  display: block;\n",
       "}\n",
       "\n",
       ".ee-shut::before {\n",
       "  display: inline-block;\n",
       "  content: \"▼\";\n",
       "  margin-right: 6px;\n",
       "  transform: rotate(-90deg);\n",
       "  transition: transform 0.2s;\n",
       "}\n",
       "\n",
       ".ee-open::before {\n",
       "  transform: rotate(0deg);\n",
       "  display: inline-block;\n",
       "  content: \"▼\";\n",
       "  margin-right: 6px;\n",
       "  transition: transform 0.2s;\n",
       "}\n",
       "</style><div class='ee'><ul><li><label class='ee-shut'>FeatureCollection projects/ee-ekyzivat/assets/Shapes/BAWLD/bawld_grid  (1 element, 73 columns)<input type='checkbox' class='ee-toggle'></label><ul><li><span class='ee-k'>type:</span><span class='ee-v'>FeatureCollection</span></li><li><span class='ee-k'>id:</span><span class='ee-v'>projects/ee-ekyzivat/assets/Shapes/BAWLD/bawld_grid</span></li><li><span class='ee-k'>version:</span><span class='ee-v'>1674231518420365</span></li><li><label class='ee-shut'>columns: Object (73 properties)<input type='checkbox' class='ee-toggle'></label><ul><li><span class='ee-k'>Area_Pct:</span><span class='ee-v'>Float</span></li><li><span class='ee-k'>BOG:</span><span class='ee-v'>Float</span></li><li><span class='ee-k'>BOG_H:</span><span class='ee-v'>Float</span></li><li><span class='ee-k'>BOG_L:</span><span class='ee-v'>Float</span></li><li><span class='ee-k'>BOR:</span><span class='ee-v'>Float</span></li><li><span class='ee-k'>BOR_H:</span><span class='ee-v'>Float</span></li><li><span class='ee-k'>BOR_L:</span><span class='ee-v'>Float</span></li><li><span class='ee-k'>Cell_ID:</span><span class='ee-v'>Long</span></li><li><span class='ee-k'>FEN:</span><span class='ee-v'>Float</span></li><li><span class='ee-k'>FEN_H:</span><span class='ee-v'>Float</span></li><li><span class='ee-k'>FEN_L:</span><span class='ee-v'>Float</span></li><li><span class='ee-k'>GLA:</span><span class='ee-v'>Float</span></li><li><span class='ee-k'>GLA_H:</span><span class='ee-v'>Float</span></li><li><span class='ee-k'>GLA_L:</span><span class='ee-v'>Float</span></li><li><span class='ee-k'>LAK:</span><span class='ee-v'>Float</span></li><li><span class='ee-k'>LAK_H:</span><span class='ee-v'>Float</span></li><li><span class='ee-k'>LAK_L:</span><span class='ee-v'>Float</span></li><li><span class='ee-k'>LAL:</span><span class='ee-v'>Float</span></li><li><span class='ee-k'>LAL_H:</span><span class='ee-v'>Float</span></li><li><span class='ee-k'>LAL_L:</span><span class='ee-v'>Float</span></li><li><span class='ee-k'>LAR:</span><span class='ee-v'>Float</span></li><li><span class='ee-k'>LAR_H:</span><span class='ee-v'>Float</span></li><li><span class='ee-k'>LAR_L:</span><span class='ee-v'>Float</span></li><li><span class='ee-k'>Lat:</span><span class='ee-v'>Float</span></li><li><span class='ee-k'>Long:</span><span class='ee-v'>Float</span></li><li><span class='ee-k'>MAR:</span><span class='ee-v'>Float</span></li><li><span class='ee-k'>MAR_H:</span><span class='ee-v'>Float</span></li><li><span class='ee-k'>MAR_L:</span><span class='ee-v'>Float</span></li><li><span class='ee-k'>MGL:</span><span class='ee-v'>Float</span></li><li><span class='ee-k'>MGL_H:</span><span class='ee-v'>Float</span></li><li><span class='ee-k'>MGL_L:</span><span class='ee-v'>Float</span></li><li><span class='ee-k'>MPL:</span><span class='ee-v'>Float</span></li><li><span class='ee-k'>MPL_H:</span><span class='ee-v'>Float</span></li><li><span class='ee-k'>MPL_L:</span><span class='ee-v'>Float</span></li><li><span class='ee-k'>MYL:</span><span class='ee-v'>Float</span></li><li><span class='ee-k'>MYL_H:</span><span class='ee-v'>Float</span></li><li><span class='ee-k'>MYL_L:</span><span class='ee-v'>Float</span></li><li><span class='ee-k'>PEB:</span><span class='ee-v'>Float</span></li><li><span class='ee-k'>PEB_H:</span><span class='ee-v'>Float</span></li><li><span class='ee-k'>PEB_L:</span><span class='ee-v'>Float</span></li><li><span class='ee-k'>RIV:</span><span class='ee-v'>Float</span></li><li><span class='ee-k'>RIV_H:</span><span class='ee-v'>Float</span></li><li><span class='ee-k'>RIV_L:</span><span class='ee-v'>Float</span></li><li><span class='ee-k'>ROC:</span><span class='ee-v'>Float</span></li><li><span class='ee-k'>ROC_H:</span><span class='ee-v'>Float</span></li><li><span class='ee-k'>ROC_L:</span><span class='ee-v'>Float</span></li><li><span class='ee-k'>SGL:</span><span class='ee-v'>Float</span></li><li><span class='ee-k'>SGL_H:</span><span class='ee-v'>Float</span></li><li><span class='ee-k'>SGL_L:</span><span class='ee-v'>Float</span></li><li><span class='ee-k'>SPL:</span><span class='ee-v'>Float</span></li><li><span class='ee-k'>SPL_H:</span><span class='ee-v'>Float</span></li><li><span class='ee-k'>SPL_L:</span><span class='ee-v'>Float</span></li><li><span class='ee-k'>SRP:</span><span class='ee-v'>Float</span></li><li><span class='ee-k'>SRP_H:</span><span class='ee-v'>Float</span></li><li><span class='ee-k'>SRP_L:</span><span class='ee-v'>Float</span></li><li><span class='ee-k'>SRR:</span><span class='ee-v'>Float</span></li><li><span class='ee-k'>SRR_H:</span><span class='ee-v'>Float</span></li><li><span class='ee-k'>SRR_L:</span><span class='ee-v'>Float</span></li><li><span class='ee-k'>SYL:</span><span class='ee-v'>Float</span></li><li><span class='ee-k'>SYL_H:</span><span class='ee-v'>Float</span></li><li><span class='ee-k'>SYL_L:</span><span class='ee-v'>Float</span></li><li><span class='ee-k'>Shp_Area:</span><span class='ee-v'>Float</span></li><li><span class='ee-k'>TUN:</span><span class='ee-v'>Float</span></li><li><span class='ee-k'>TUN_H:</span><span class='ee-v'>Float</span></li><li><span class='ee-k'>TUN_L:</span><span class='ee-v'>Float</span></li><li><span class='ee-k'>WET:</span><span class='ee-v'>Float</span></li><li><span class='ee-k'>WETSCAPE:</span><span class='ee-v'>Long</span></li><li><span class='ee-k'>WET_H:</span><span class='ee-v'>Float</span></li><li><span class='ee-k'>WET_L:</span><span class='ee-v'>Float</span></li><li><span class='ee-k'>WTU:</span><span class='ee-v'>Float</span></li><li><span class='ee-k'>WTU_H:</span><span class='ee-v'>Float</span></li><li><span class='ee-k'>WTU_L:</span><span class='ee-v'>Float</span></li><li><span class='ee-k'>system:index:</span><span class='ee-v'>String</span></li></ul></li><li><label class='ee-shut'>properties: Object (1 property)<input type='checkbox' class='ee-toggle'></label><ul><li><span class='ee-k'>system:asset_size:</span><span class='ee-v'>15006581</span></li></ul></li><li><label class='ee-shut'>features: List (1 element)<input type='checkbox' class='ee-toggle'></label><ul><li><label class='ee-shut'>0: Feature (Polygon, 72 properties)<input type='checkbox' class='ee-toggle'></label><ul><li><span class='ee-k'>type:</span><span class='ee-v'>Feature</span></li><li><span class='ee-k'>id:</span><span class='ee-v'>0000000000000000088f</span></li><li><label class='ee-shut'>geometry: Polygon (19 vertices)<input type='checkbox' class='ee-toggle'></label><ul><li><span class='ee-k'>type:</span><span class='ee-v'>Polygon</span></li><li><label class='ee-shut'>coordinates: List (1 element)<input type='checkbox' class='ee-toggle'></label><ul><li><label class='ee-shut'>0: List (19 elements)<input type='checkbox' class='ee-toggle'></label><ul><li><label class='ee-shut'>0: [-126.50000125495188, 61.9999991003462]<input type='checkbox' class='ee-toggle'></label><ul><li><span class='ee-k'>0:</span><span class='ee-v'>-126.50000125495188</span></li><li><span class='ee-k'>1:</span><span class='ee-v'>61.9999991003462</span></li></ul></li><li><label class='ee-shut'>1: [-126.50000222987795, 61.87505434448742]<input type='checkbox' class='ee-toggle'></label><ul><li><span class='ee-k'>0:</span><span class='ee-v'>-126.50000222987795</span></li><li><span class='ee-k'>1:</span><span class='ee-v'>61.87505434448742</span></li></ul></li><li><label class='ee-shut'>2: [-126.50000316871181, 61.75007315916914]<input type='checkbox' class='ee-toggle'></label><ul><li><span class='ee-k'>0:</span><span class='ee-v'>-126.50000316871181</span></li><li><span class='ee-k'>1:</span><span class='ee-v'>61.75007315916914</span></li></ul></li><li><label class='ee-shut'>3: [-126.50000390168685, 61.62505545063115]<input type='checkbox' class='ee-toggle'></label><ul><li><span class='ee-k'>0:</span><span class='ee-v'>-126.50000390168685</span></li><li><span class='ee-k'>1:</span><span class='ee-v'>61.62505545063115</span></li></ul></li><li><label class='ee-shut'>4: [-126.50000434176977, 61.56253277780367]<input type='checkbox' class='ee-toggle'></label><ul><li><span class='ee-k'>0:</span><span class='ee-v'>-126.50000434176977</span></li><li><span class='ee-k'>1:</span><span class='ee-v'>61.56253277780367</span></li></ul></li><li><label class='ee-shut'>5: [-126.50000485125881, 61.50000095082268]<input type='checkbox' class='ee-toggle'></label><ul><li><span class='ee-k'>0:</span><span class='ee-v'>-126.50000485125881</span></li><li><span class='ee-k'>1:</span><span class='ee-v'>61.50000095082268</span></li></ul></li><li><label class='ee-shut'>6: [-126.37500402148586, 61.50020924400005]<input type='checkbox' class='ee-toggle'></label><ul><li><span class='ee-k'>0:</span><span class='ee-v'>-126.37500402148586</span></li><li><span class='ee-k'>1:</span><span class='ee-v'>61.50020924400005</span></li></ul></li><li><label class='ee-shut'>7: [-126.25000200068368, 61.50027888072561]<input type='checkbox' class='ee-toggle'></label><ul><li><span class='ee-k'>0:</span><span class='ee-v'>-126.25000200068368</span></li><li><span class='ee-k'>1:</span><span class='ee-v'>61.50027888072561</span></li></ul></li><li><label class='ee-shut'>8: [-126.12500003317926, 61.500209743559516]<input type='checkbox' class='ee-toggle'></label><ul><li><span class='ee-k'>0:</span><span class='ee-v'>-126.12500003317926</span></li><li><span class='ee-k'>1:</span><span class='ee-v'>61.500209743559516</span></li></ul></li><li><label class='ee-shut'>9: [-125.9999991863753, 61.500001874962855]<input type='checkbox' class='ee-toggle'></label><ul><li><span class='ee-k'>0:</span><span class='ee-v'>-125.9999991863753</span></li><li><span class='ee-k'>1:</span><span class='ee-v'>61.500001874962855</span></li></ul></li><li><label class='ee-shut'>10: [-125.99999975345449, 61.562533609302996]<input type='checkbox' class='ee-toggle'></label><ul><li><span class='ee-k'>0:</span><span class='ee-v'>-125.99999975345449</span></li><li><span class='ee-k'>1:</span><span class='ee-v'>61.562533609302996</span></li></ul></li><li><label class='ee-shut'>11: [-126.00000022231009, 61.62505607573416]<input type='checkbox' class='ee-toggle'></label><ul><li><span class='ee-k'>0:</span><span class='ee-v'>-126.00000022231009</span></li><li><span class='ee-k'>1:</span><span class='ee-v'>61.62505607573416</span></li></ul></li><li><label class='ee-shut'>12: [-126.00000134833432, 61.75007348127905]<input type='checkbox' class='ee-toggle'></label><ul><li><span class='ee-k'>0:</span><span class='ee-v'>-126.00000134833432</span></li><li><span class='ee-k'>1:</span><span class='ee-v'>61.75007348127905</span></li></ul></li><li><label class='ee-shut'>13: [-126.00000240821468, 61.875054266893436]<input type='checkbox' class='ee-toggle'></label><ul><li><span class='ee-k'>0:</span><span class='ee-v'>-126.00000240821468</span></li><li><span class='ee-k'>1:</span><span class='ee-v'>61.875054266893436</span></li></ul></li><li><label class='ee-shut'>14: [-126.00000363021188, 61.999998707863604]<input type='checkbox' class='ee-toggle'></label><ul><li><span class='ee-k'>0:</span><span class='ee-v'>-126.00000363021188</span></li><li><span class='ee-k'>1:</span><span class='ee-v'>61.999998707863604</span></li></ul></li><li><label class='ee-shut'>15: [-126.12500243712778, 62.000203036486816]<input type='checkbox' class='ee-toggle'></label><ul><li><span class='ee-k'>0:</span><span class='ee-v'>-126.12500243712778</span></li><li><span class='ee-k'>1:</span><span class='ee-v'>62.000203036486816</span></li></ul></li><li><label class='ee-shut'>16: [-126.25000246453811, 62.00027128918666]<input type='checkbox' class='ee-toggle'></label><ul><li><span class='ee-k'>0:</span><span class='ee-v'>-126.25000246453811</span></li><li><span class='ee-k'>1:</span><span class='ee-v'>62.00027128918666</span></li></ul></li><li><label class='ee-shut'>17: [-126.3750024288798, 62.00020328680127]<input type='checkbox' class='ee-toggle'></label><ul><li><span class='ee-k'>0:</span><span class='ee-v'>-126.3750024288798</span></li><li><span class='ee-k'>1:</span><span class='ee-v'>62.00020328680127</span></li></ul></li><li><label class='ee-shut'>18: [-126.50000125495188, 61.9999991003462]<input type='checkbox' class='ee-toggle'></label><ul><li><span class='ee-k'>0:</span><span class='ee-v'>-126.50000125495188</span></li><li><span class='ee-k'>1:</span><span class='ee-v'>61.9999991003462</span></li></ul></li></ul></li></ul></li></ul></li><li><label class='ee-shut'>properties: Object (72 properties)<input type='checkbox' class='ee-toggle'></label><ul><li><span class='ee-k'>Area_Pct:</span><span class='ee-v'>100</span></li><li><span class='ee-k'>BOG:</span><span class='ee-v'>0</span></li><li><span class='ee-k'>BOG_H:</span><span class='ee-v'>0</span></li><li><span class='ee-k'>BOG_L:</span><span class='ee-v'>0</span></li><li><span class='ee-k'>BOR:</span><span class='ee-v'>48.66</span></li><li><span class='ee-k'>BOR_H:</span><span class='ee-v'>53.01</span></li><li><span class='ee-k'>BOR_L:</span><span class='ee-v'>42.03</span></li><li><span class='ee-k'>Cell_ID:</span><span class='ee-v'>7361</span></li><li><span class='ee-k'>FEN:</span><span class='ee-v'>0.17</span></li><li><span class='ee-k'>FEN_H:</span><span class='ee-v'>0.65</span></li><li><span class='ee-k'>FEN_L:</span><span class='ee-v'>0.04</span></li><li><span class='ee-k'>GLA:</span><span class='ee-v'>0</span></li><li><span class='ee-k'>GLA_H:</span><span class='ee-v'>1</span></li><li><span class='ee-k'>GLA_L:</span><span class='ee-v'>0</span></li><li><span class='ee-k'>LAK:</span><span class='ee-v'>0</span></li><li><span class='ee-k'>LAK_H:</span><span class='ee-v'>0</span></li><li><span class='ee-k'>LAK_L:</span><span class='ee-v'>0</span></li><li><span class='ee-k'>LAL:</span><span class='ee-v'>0</span></li><li><span class='ee-k'>LAL_H:</span><span class='ee-v'>0.09</span></li><li><span class='ee-k'>LAL_L:</span><span class='ee-v'>0</span></li><li><span class='ee-k'>LAR:</span><span class='ee-v'>1.32</span></li><li><span class='ee-k'>LAR_H:</span><span class='ee-v'>1.53</span></li><li><span class='ee-k'>LAR_L:</span><span class='ee-v'>1.31</span></li><li><span class='ee-k'>Lat:</span><span class='ee-v'>61.75</span></li><li><span class='ee-k'>Long:</span><span class='ee-v'>-126.25</span></li><li><span class='ee-k'>MAR:</span><span class='ee-v'>0.03</span></li><li><span class='ee-k'>MAR_H:</span><span class='ee-v'>0.28</span></li><li><span class='ee-k'>MAR_L:</span><span class='ee-v'>0.03</span></li><li><span class='ee-k'>MGL:</span><span class='ee-v'>0</span></li><li><span class='ee-k'>MGL_H:</span><span class='ee-v'>0</span></li><li><span class='ee-k'>MGL_L:</span><span class='ee-v'>0</span></li><li><span class='ee-k'>MPL:</span><span class='ee-v'>0</span></li><li><span class='ee-k'>MPL_H:</span><span class='ee-v'>0</span></li><li><span class='ee-k'>MPL_L:</span><span class='ee-v'>0</span></li><li><span class='ee-k'>MYL:</span><span class='ee-v'>0</span></li><li><span class='ee-k'>MYL_H:</span><span class='ee-v'>0</span></li><li><span class='ee-k'>MYL_L:</span><span class='ee-v'>0</span></li><li><span class='ee-k'>PEB:</span><span class='ee-v'>4.01</span></li><li><span class='ee-k'>PEB_H:</span><span class='ee-v'>5</span></li><li><span class='ee-k'>PEB_L:</span><span class='ee-v'>3.46</span></li><li><span class='ee-k'>RIV:</span><span class='ee-v'>1.52</span></li><li><span class='ee-k'>RIV_H:</span><span class='ee-v'>1.72</span></li><li><span class='ee-k'>RIV_L:</span><span class='ee-v'>1.5</span></li><li><span class='ee-k'>ROC:</span><span class='ee-v'>21.85</span></li><li><span class='ee-k'>ROC_H:</span><span class='ee-v'>37.44</span></li><li><span class='ee-k'>ROC_L:</span><span class='ee-v'>21.37</span></li><li><span class='ee-k'>SGL:</span><span class='ee-v'>0</span></li><li><span class='ee-k'>SGL_H:</span><span class='ee-v'>0.24</span></li><li><span class='ee-k'>SGL_L:</span><span class='ee-v'>0</span></li><li><span class='ee-k'>SPL:</span><span class='ee-v'>0</span></li><li><span class='ee-k'>SPL_H:</span><span class='ee-v'>0</span></li><li><span class='ee-k'>SPL_L:</span><span class='ee-v'>0</span></li><li><span class='ee-k'>SRP:</span><span class='ee-v'>0.19</span></li><li><span class='ee-k'>SRP_H:</span><span class='ee-v'>0.6</span></li><li><span class='ee-k'>SRP_L:</span><span class='ee-v'>0.19</span></li><li><span class='ee-k'>SRR:</span><span class='ee-v'>0.01</span></li><li><span class='ee-k'>SRR_H:</span><span class='ee-v'>0.01</span></li><li><span class='ee-k'>SRR_L:</span><span class='ee-v'>0</span></li><li><span class='ee-k'>SYL:</span><span class='ee-v'>0</span></li><li><span class='ee-k'>SYL_H:</span><span class='ee-v'>0</span></li><li><span class='ee-k'>SYL_L:</span><span class='ee-v'>0</span></li><li><span class='ee-k'>Shp_Area:</span><span class='ee-v'>1471758873</span></li><li><span class='ee-k'>TUN:</span><span class='ee-v'>23.73</span></li><li><span class='ee-k'>TUN_H:</span><span class='ee-v'>24.85</span></li><li><span class='ee-k'>TUN_L:</span><span class='ee-v'>18.41</span></li><li><span class='ee-k'>WET:</span><span class='ee-v'>4.24</span></li><li><span class='ee-k'>WETSCAPE:</span><span class='ee-v'>14</span></li><li><span class='ee-k'>WET_H:</span><span class='ee-v'>6.91</span></li><li><span class='ee-k'>WET_L:</span><span class='ee-v'>3.24</span></li><li><span class='ee-k'>WTU:</span><span class='ee-v'>0.04</span></li><li><span class='ee-k'>WTU_H:</span><span class='ee-v'>0.3</span></li><li><span class='ee-k'>WTU_L:</span><span class='ee-v'>0</span></li></ul></li></ul></li></ul></li></ul></li></ul></div><script>function toggleHeader() {\n",
       "    const parent = this.parentElement;\n",
       "    parent.className = parent.className === \"ee-open\" ? \"ee-shut\" : \"ee-open\";\n",
       "}\n",
       "\n",
       "for (let c of document.getElementsByClassName(\"ee-toggle\")) {\n",
       "    c.onclick = toggleHeader;\n",
       "}</script></div>"
      ],
      "text/plain": [
       "<ee.featurecollection.FeatureCollection at 0x7f6e6be80a60>"
      ]
     },
     "execution_count": 51,
     "metadata": {},
     "output_type": "execute_result"
    }
   ],
   "source": [
    "bawldF.filter(ee.Filter.eq(\"Lat\", 61.75))"
   ]
  },
  {
   "attachments": {},
   "cell_type": "markdown",
   "metadata": {},
   "source": [
    "## Stats"
   ]
  },
  {
   "cell_type": "code",
   "execution_count": 69,
   "metadata": {},
   "outputs": [
    {
     "name": "stdout",
     "output_type": "stream",
     "text": [
      "Computing (Hi Ethan!)... \n",
      "Generating URL ...\n",
      "Downloading data from https://earthengine-highvolume.googleapis.com/v1alpha/projects/earthengine-legacy/tables/e3c00643edd5979aacef07ef936cb675-43b966b60692d0006b1804a0b492646a:getFeatures\n",
      "Please wait ...\n",
      "Data downloaded to /mnt/g/Ch4/GSW_zonal_stats/bawld_stats_scale_test.csv\n"
     ]
    }
   ],
   "source": [
    "## Zonal stats\n",
    "out_dir = '/mnt/g/Ch4/GSW_zonal_stats'\n",
    "bawld_stats_pth = os.path.join(out_dir, 'bawld_stats_scale_test.csv')\n",
    "\n",
    "if not os.path.exists(out_dir):\n",
    "    os.makedirs(out_dir)\n",
    "\n",
    "# statistics_type can be either 'SUM' or 'PERCENTAGE'\n",
    "# denominator can be used to convert square meters to other areal units, such as square kilometers\n",
    "geemap.zonal_statistics_by_group(\n",
    "    occurrence,\n",
    "    bawldF,\n",
    "    bawld_stats_pth,\n",
    "    statistics_type='SUM',\n",
    "    denominator=1000000,\n",
    "    decimal_places=3,\n",
    "    scale=30,\n",
    "    crs=bawld_crs,\n",
    "    tile_scale=1 # default is 1, but it exceeds GEE capacity\n",
    ")"
   ]
  },
  {
   "cell_type": "code",
   "execution_count": 70,
   "metadata": {},
   "outputs": [
    {
     "data": {
      "text/plain": [
       "'PROJCS[\"Lambert_Azimuthal_Equal_Area\",GEOGCS[\"Unknown\",DATUM[\"D_unknown\",SPHEROID[\"Unknown\",6371007.181,0]],PRIMEM[\"Greenwich\",0],UNIT[\"Degree\",0.017453292519943295]],PROJECTION[\"Lambert_Azimuthal_Equal_Area\"],PARAMETER[\"latitude_of_origin\",45.5],PARAMETER[\"central_meridian\",-114.125],PARAMETER[\"false_easting\",0],PARAMETER[\"false_northing\",0],UNIT[\"Meter\",1]]'"
      ]
     },
     "execution_count": 70,
     "metadata": {},
     "output_type": "execute_result"
    }
   ],
   "source": [
    "bawld_crs"
   ]
  },
  {
   "cell_type": "code",
   "execution_count": 40,
   "metadata": {},
   "outputs": [
    {
     "name": "stdout",
     "output_type": "stream",
     "text": [
      "Class_70,Class_71,Class_72,Class_73,Class_74,Class_75,Class_76,Class_77,Class_sum,Class_8,Class_78,Class_7,Class_79,Class_9,Class_0,Class_2,Class_1,Class_4,Class_3,Class_6,Class_5,Class_80,Class_60,Class_61,Class_62,Class_63,Class_64,Class_65,Class_66,Class_67,Class_68,Class_69,Class_92,Class_93,Class_94,Class_95,Class_96,Class_97,Class_10,Class_98,Class_11,Class_99,Class_12,Class_13,Class_14,Class_15,Class_16,Class_17,Class_18,Class_19,Class_81,Class_82,Class_83,Class_84,Class_85,Class_86,Class_87,Class_88,Class_89,Class_100,Class_90,Class_91,Class_30,Class_31,Class_32,Class_33,Class_34,Class_35,Class_36,Class_37,Class_38,Class_39,Class_20,Class_21,Class_22,Class_23,Class_24,Class_25,Class_26,Class_27,Class_28,Class_29,Class_50,Class_51,Class_52,Class_53,Class_54,Class_55,Class_56,Class_57,Class_58,Class_59,Class_40,Class_41,Class_42,Class_43,Class_44,Class_45,Class_46,Class_47,Class_48,Class_49,FEN_H,FEN_L,MPL,MYL_L,SPL,LAK_L,MYL_H,WTU_H,WTU_L,WTU,BOG,Area_Pct,BOG_L,MYL,BOR,BOG_H,ROC,SYL,RIV_L,SPL_L,RIV_H,SPL_H,TUN_H,Long,WETSCAPE,TUN_L,MAR,GLA_L,Cell_ID,WET,ROC_H,LAR_L,SYL_L,GLA_H,LAL_L,LAR_H,LAL_H,SRP,MAR_L,SRR,Shp_Area,SYL_H,SRR_L,ROC_L,MAR_H,MGL_L,SRP_H,SRR_H,WET_H,MGL_H,SRP_L,BOR_H,TUN,PEB,FEN,MPL_H,PEB_H,LAK_H,SGL_H,MGL,MPL_L,BOR_L,LAL,SGL_L,LAK,SGL,WET_L,LAR,GLA,PEB_L,Lat,RIV,system:index\n",
      "0.64,0.74,0.59,0.54,0.4,0.76,0.69,0.4,49.070000000000014,0.4,0.64,0.35,1.09,0.25,0,0.05,0,0.15,0,0.15,0,0.64,0.35,0.78,0.55,0.6,0.5,0.84,0.54,0.84,0.59,0.64,0.84,0.55,0.55,0.1,0,0.05,0.69,0,0.63,0,0.54,0.99,0.59,0.35,0.49,0.3,0.39,0.39,0.74,1.34,0.64,0.54,0.25,0.63,0.25,0.33,0.45,0,0.3,0.35,0.78,0.35,0.74,0.59,0.52,0.3,0.84,0.69,0.49,0.35,0.74,0.63,0.25,0.7,0.49,0.43,0.35,0.3,0.74,0.49,0.4,0.5,0.54,0.41,0.59,0.64,0.59,0.79,0.39,0.4,0.2,0.5,0.35,0.45,0.48,0.79,0.59,0.21,0.99,0.51,1.41,0.19,0.0,0.0,0.0,0.0,0.0,0.0,0.0,0.0,0.0,90.9,0.0,0.0,66.05,3.28,30.52,0.0,0.03,0.0,0.18,0.0,7.11,-126.25,14,0.0,0.0,1.81,3142,0.48,35.73,0.0,0.0,3.0,0.0,0.0,0.21,0.18,0.0,0.0,1.547986296E9,0.0,0.0,30.0,0.46,0.53,0.24,0.0,0.48,0.6,0.11,67.69,0.0,0.0,0.48,0.0,0.02,0.56,0.0,0.56,0.0,62.4,0.0,0.0,0.56,0.0,0.48,0.0,2.22,0.0,56.75,0.18,000000000000000000e1\n",
      "0.2,0.25,0.35,0.25,0.35,0.29,0.1,0.35,38.640000000000015,0.4,0.1,0.45,0.25,0.54,0,0.05,0.05,0.15,0,0.25,0.2,0.3,0.55,0.35,0.54,0.34,0.05,0.44,0.3,0.25,0.25,0.38,0.1,0.2,0.3,0.49,0.59,0,0.54,0,0.77,0,0.64,0.3,0.54,0.4,0.35,0.44,0.54,0.54,0.1,0.15,0.25,0.1,0.3,0.28,0.18,0.1,0.2,0,0.25,0.05,0.89,0.64,0.4,0.79,0.75,0.84,0.4,0.44,0.74,0.69,0.69,0.6,0.49,0.39,0.59,0.89,0.35,0.49,0.69,0.49,0.44,0.44,0.54,0.15,0.31,0.59,0.33,0.54,0.26,0.25,0.6,0.79,0.54,0.64,0.55,0.28,0.73,0.4,0.49,0.49,1.65,0.25,0.0,0.0,0.0,0.0,0.0,0.0,0.0,0.0,0.0,96.18,0.0,0.0,69.11,3.04,29.86,0.0,0.02,0.0,0.17,0.0,5.81,-125.75,14,0.0,0.0,0.0,3143,0.56,32.44,0.0,0.0,0.0,0.0,0.0,0.18,0.17,0.0,0.0,1.638328477E9,0.0,0.0,26.63,0.4,0.23,0.17,0.0,0.56,0.4,0.08,70.15,0.0,0.0,0.56,0.0,0.0,0.23,0.0,0.23,0.0,63.44,0.0,0.0,0.23,0.0,0.56,0.0,0.07,0.0,56.75,0.17,00000000000000000880\n",
      "1.03,1.73,1.68,2.12,1.63,1.01,1.87,1.33,96.97999999999999,0.79,1.58,0.78,1.27,0.89,0.05,0.3,1.13,0.25,0.34,0.49,0.58,1.11,1.48,1.07,0.94,1.14,1.14,1.04,1.38,1.78,0.84,1.28,1.48,2.03,2.41,2.96,2.37,0.49,0.89,0.05,0.58,0,1.09,0.69,0.88,0.79,0.83,0.64,0.45,0.64,1.97,1.57,1.31,1.13,1.62,1.67,1.33,0.99,0.99,0,1.62,1.09,0.49,0.44,0.43,0.4,0.69,0.59,0.54,0.84,0.68,0.49,0.69,0.64,0.64,0.64,0.84,0.59,0.59,0.59,0.64,0.53,0.64,0.69,1.28,0.64,1.17,0.84,0.78,0.93,1.09,0.89,0.92,0.49,0.63,0.79,0.71,0.69,0.79,0.94,0.89,0.59,1.66,0.71,0.03,0.0,0.0,1.25,0.0,0.0,0.0,0.0,0.02,100.0,0.0,0.0,77.45,4.11,19.25,0.0,0.14,0.0,0.57,0.0,5.71,-125.25,14,0.0,0.49,0.0,3144,1.45,24.1,0.07,0.0,0.0,0.07,0.23,0.18,0.16,0.49,0.0,1.703128546E9,0.0,0.0,16.85,1.11,1.25,0.38,0.03,1.91,1.98,0.15,77.45,0.0,0.0,0.94,0.04,4.77,2.21,0.07,1.25,0.01,69.04,0.18,0.0,1.47,0.0,0.9,0.23,0.0,0.0,56.75,0.39,000000000000000008f7\n",
      "0.75,0.49,0.64,0.69,1.04,0.84,0.94,1.02,149.02,0.54,0.79,0.59,0.94,0.59,0.05,0.05,0.1,0,0.1,0.15,0.2,0.9,0.4,0.69,0.25,0.45,0.59,0.4,0.64,0.49,0.3,0.49,1.53,1.38,1.74,2.92,13.0,43.46,0.44,39.66,0.25,4.25,0.44,0.2,0.2,0.3,0.24,0.1,0.1,0.44,0.8,1.09,1.09,0.69,1.39,1.09,1.48,1.18,1.38,0,1.63,1.19,0.15,0.2,0.1,0.1,0.25,0.3,0.1,0.34,0.3,0.25,0.1,0,0.1,0.2,0.05,0.25,0.15,0.05,0.1,0.05,0.3,0.2,0.45,0.39,0.54,0.39,0.25,0.44,0.25,0.35,0.15,0.1,0.25,0.3,0.35,0.2,0.1,0.4,0.35,0.35,0.1,0.0,0.0,0.0,0.0,8.41,0.0,0.0,0.0,0.0,0.0,77.3,0.0,0.0,62.52,5.03,27.9,0.0,0.0,0.0,0.35,0.12,1.82,-124.75,14,0.0,0.07,0.0,3145,0.07,29.74,0.0,0.0,0.0,9.15,0.27,10.07,0.14,0.07,0.0,1.315638868E9,0.0,0.0,20.75,0.84,0.21,0.26,0.12,1.35,0.42,0.1,62.52,0.0,0.0,0.0,0.27,0.17,9.39,0.13,0.21,0.0,51.56,9.16,0.0,9.38,0.01,0.0,0.0,0.0,0.0,56.75,0.14,00000000000000002a2f\n",
      "0.43,0.15,0.29,0.62,0.44,0.34,0.44,0.34,33.17999999999998,0.29,0.29,0.63,0.4,0.98,0,0.2,0.1,0,0,0.15,0.15,0.49,0.54,0.34,0.65,0.34,0.47,0.64,0.2,0.34,0.39,0.34,0.05,0.34,0.15,0.49,0.1,0.05,0.39,0.05,0.39,0,0.24,0.21,0.49,0.34,0.19,0.29,0.29,0.39,0.29,0.24,0.34,0.1,0.2,0.29,0.2,0.29,0.29,0,0.15,0.15,0.34,0.05,0.44,0.73,0.4,0.49,0.34,0.07,0.24,0.34,0.34,0.15,0.49,0.29,0.2,0.29,0.62,0.34,0.2,0.34,0.29,0.29,0.39,0.44,0.29,0.83,0.34,0.54,0.49,0.64,0.35,0.19,0.44,0.43,0.21,0.49,0.49,0.39,0.44,0.54,1.18,0.1,0.0,0.0,0.0,0.0,0.0,0.0,0.0,0.0,0.0,100.0,0.0,0.0,64.43,1.79,32.29,0.0,0.03,0.0,0.17,0.0,6.66,-126.25,14,0.0,0.0,2.01,3459,0.43,39.05,0.0,0.0,3.0,0.0,0.0,0.27,0.17,0.0,0.0,1.680574965E9,0.0,0.0,31.51,0.3,0.18,0.28,0.01,0.43,0.31,0.09,67.27,0.0,0.0,0.43,0.0,0.0,0.2,0.08,0.2,0.0,61.21,0.0,0.0,0.2,0.0,0.43,0.0,2.48,0.0,57.25,0.17,00000000000000004392\n",
      "0.79,0.68,0.54,0.83,0.53,0.95,0.83,0.65,48.889999999999986,0.78,0.78,0.1,0.83,0.54,0,0.1,0,0.1,0,0.19,0.1,0.44,0.73,0.6,0.88,0.75,0.68,0.92,0.88,0.73,0.84,0.91,0.19,0.34,0.15,0.15,0.15,0,0.78,0,0.59,0,0.34,0.34,0.54,0.49,0.83,0.78,0.63,0.44,0.93,0.58,0.29,0.19,0.49,0.5,0.5,0.68,0.26,0,0.29,0.29,0.72,0.4,0.68,0.44,0.39,0.44,0.39,0.24,0.44,0.49,0.44,0.54,0.73,0.49,0.39,0.54,0.44,0.24,0.49,0.54,0.6,0.39,0.93,0.49,0.58,0.24,0.35,0.68,0.46,0.53,0.4,0.54,0.68,0.46,0.54,0.44,0.6,0.39,0.31,0.39,1.02,0.01,0.0,0.0,0.0,0.0,0.0,0.0,0.0,0.0,0.0,100.0,0.0,0.0,70.97,1.7,28.13,0.0,0.05,0.0,0.57,0.0,4.75,-125.75,14,0.0,0.0,0.0,3460,0.23,30.58,0.11,0.0,0.0,0.0,0.26,0.16,0.16,0.0,0.0,1.680574966E9,0.0,0.0,26.58,0.2,0.26,0.29,0.0,0.23,0.41,0.13,73.8,0.0,0.0,0.23,0.0,0.74,0.26,0.0,0.26,0.0,67.78,0.0,0.0,0.26,0.0,0.23,0.26,0.0,0.0,57.25,0.41,00000000000000003ec2\n",
      "1.29,1.01,1.06,0.86,1.01,1.45,1.16,0.92,63.01999999999997,0.38,1.3,0.67,1.05,0.53,0,0.1,0,0.05,0.1,0.48,0.1,0.87,1.25,0.48,0.9,0.72,0.92,0.87,0.97,1.35,1.06,1.01,1.11,0.62,0.58,0.05,0,0,0.39,0,0.34,0,0.63,0.71,0.24,0.76,0.63,0.32,0.67,0.32,1.4,1.01,0.58,0.68,0.63,0.9,0.72,0.72,1.08,0,0.91,1.14,0.39,0.48,0.39,0.34,0.43,0.43,0.58,0.64,0.39,0.39,0.56,0.53,0.48,0.71,0.43,0.43,0.48,0.67,0.48,0.34,0.43,0.52,0.67,0.63,0.72,0.58,0.34,0.72,1.14,0.68,0.6,0.43,0.76,0.58,0.9,0.63,0.58,0.39,0.32,0.77,1.44,0.29,0.0,0.0,0.0,0.11,0.0,0.0,0.0,0.0,0.17,100.0,0.02,0.0,80.16,2.56,18.16,0.0,0.02,0.0,0.18,0.0,8.38,-126.25,14,0.0,0.09,0.0,3809,0.81,21.75,0.0,0.0,0.0,0.0,0.0,0.08,0.18,0.01,0.0,1.657887127E9,0.0,0.0,16.07,0.31,0.66,0.42,0.0,1.02,0.77,0.16,80.16,0.0,0.0,0.56,0.0,1.34,0.69,0.0,0.69,0.0,70.94,0.0,0.0,0.69,0.0,0.67,0.0,0.0,0.0,57.75,0.18,000000000000000046fb\n",
      "0.71,0.66,0.38,0.58,0.81,0.67,0.39,0.58,85.56,1.18,0.34,0.53,0.57,0.72,0,0.14,0.05,0.19,0.1,0.34,0.19,0.85,0.53,0.38,0.82,0.48,0.96,0.43,0.63,0.43,0.67,0.39,1.2,1.49,1.97,2.02,2.3,4.8,0.91,4.23,1.3,1.19,0.87,0.96,0.72,0.72,0.82,0.63,1.25,0.6,0.67,0.87,1.09,0.77,0.58,0.77,0.91,1.44,0.82,0.41,0.76,0.91,0.87,0.52,0.82,0.61,0.58,0.85,0.96,0.82,0.96,1.67,0.34,0.87,0.82,0.67,0.72,0.48,0.53,0.39,0.48,0.34,0.87,1.06,0.58,1.01,1.06,0.77,0.91,1.25,0.77,1.01,0.81,0.82,0.96,0.71,0.77,0.96,0.96,0.72,0.81,0.77,1.88,0.79,0.0,0.0,0.0,0.55,0.0,0.0,0.0,0.0,0.03,100.0,0.02,0.0,64.59,4.05,32.04,0.0,0.04,0.0,0.29,0.0,5.53,-125.25,14,0.0,0.09,0.79,3811,1.06,34.26,0.0,0.0,2.0,0.0,0.0,0.21,0.15,0.09,0.0,1.657887126E9,0.0,0.0,26.45,0.64,1.31,0.23,0.01,1.94,1.64,0.12,65.59,0.0,0.0,0.94,0.0,0.0,1.37,0.04,1.37,0.0,58.5,0.0,0.0,1.37,0.0,0.88,0.0,0.79,0.0,57.75,0.15,000000000000000013ce\n",
      "0.58,0.7,1.11,0.44,0.53,0.43,0.63,0.51,49.66000000000001,0.35,0.67,0.39,0.82,0.63,0,0.05,0,0.05,0,0,0.19,0.48,0.63,0.66,0.63,0.62,0.29,0.53,0.48,0.82,0.44,0.72,0.63,1.44,1.97,2.02,0.96,0,0.48,0,0.48,0,0.87,0.48,0.39,0.48,0.72,0.39,0.67,0.53,0.58,0.38,0.63,0.96,0.48,0.92,0.87,0.53,0.63,0,0.63,0.49,0.42,0.24,0.43,0.34,0.34,0.44,0.05,0.29,0.34,0.45,0.63,0.58,0.34,0.58,0.77,0.34,0.53,0.19,0.24,0.29,0.39,0.34,0.19,0.53,0.48,0.24,0.48,0.44,0.22,0.34,0.48,0.43,0.39,0.44,0.19,0.72,0.34,0.72,0.29,0.19,0.47,0.01,0.0,0.0,0.0,0.32,0.0,0.0,0.0,0.0,0.0,100.0,0.0,0.0,83.97,3.35,14.8,0.0,0.02,0.0,0.2,0.0,7.62,-125.75,14,0.0,0.0,0.0,3810,0.08,19.4,0.0,0.0,0.0,0.0,0.0,0.12,0.2,0.0,0.0,1.657887125E9,0.0,0.0,12.46,0.32,0.94,0.31,0.0,0.46,1.36,0.15,83.97,0.0,0.0,0.08,0.0,0.67,0.94,0.0,0.94,0.0,74.58,0.0,0.0,0.94,0.0,0.03,0.0,0.0,0.0,57.75,0.2,00000000000000003f61\n"
     ]
    }
   ],
   "source": [
    "## View csv (orig)\n",
    "!head {bawld_stats_pth}"
   ]
  },
  {
   "cell_type": "code",
   "execution_count": 64,
   "metadata": {},
   "outputs": [
    {
     "name": "stdout",
     "output_type": "stream",
     "text": [
      "Class_70,Class_71,Class_72,Class_73,Class_74,Class_75,Class_76,Class_77,Class_sum,Class_8,Class_78,Class_7,Class_79,Class_9,Class_0,Class_2,Class_1,Class_4,Class_3,Class_6,Class_5,Class_80,Class_60,Class_61,Class_62,Class_63,Class_64,Class_65,Class_66,Class_67,Class_68,Class_69,Class_92,Class_93,Class_94,Class_95,Class_96,Class_97,Class_10,Class_98,Class_11,Class_99,Class_12,Class_13,Class_14,Class_15,Class_16,Class_17,Class_18,Class_19,Class_81,Class_82,Class_83,Class_84,Class_85,Class_86,Class_87,Class_88,Class_89,Class_100,Class_90,Class_91,Class_30,Class_31,Class_32,Class_33,Class_34,Class_35,Class_36,Class_37,Class_38,Class_39,Class_20,Class_21,Class_22,Class_23,Class_24,Class_25,Class_26,Class_27,Class_28,Class_29,Class_50,Class_51,Class_52,Class_53,Class_54,Class_55,Class_56,Class_57,Class_58,Class_59,Class_40,Class_41,Class_42,Class_43,Class_44,Class_45,Class_46,Class_47,Class_48,Class_49,FEN_H,FEN_L,MPL,MYL_L,SPL,LAK_L,MYL_H,WTU_H,WTU_L,WTU,BOG,Area_Pct,BOG_L,MYL,BOR,BOG_H,ROC,SYL,RIV_L,SPL_L,RIV_H,SPL_H,TUN_H,Long,WETSCAPE,TUN_L,MAR,GLA_L,Cell_ID,WET,ROC_H,LAR_L,SYL_L,GLA_H,LAL_L,LAR_H,LAL_H,SRP,MAR_L,SRR,Shp_Area,SYL_H,SRR_L,ROC_L,MAR_H,MGL_L,SRP_H,SRR_H,WET_H,MGL_H,SRP_L,BOR_H,TUN,PEB,FEN,MPL_H,PEB_H,LAK_H,SGL_H,MGL,MPL_L,BOR_L,LAL,SGL_L,LAK,SGL,WET_L,LAR,GLA,PEB_L,Lat,RIV,system:index\n",
      "0.605,0.596,0.646,0.68,0.683,0.722,0.803,0.801,192.46499999999997,0.729,0.866,0.655,0.909,0.728,0.035,0.177,0.091,0.391,0.267,0.585,0.509,1.043,0.566,0.568,0.554,0.547,0.567,0.563,0.578,0.572,0.619,0.595,21.961,15.941,7.322,1.677,0.152,0.003,0.731,0,0.728,0,0.756,0.79,0.828,0.814,0.733,0.691,0.679,0.634,1.156,1.329,1.526,1.972,3.01,5.184,8.487,12.353,16.841,0,22.146,23.939,0.572,0.565,0.587,0.547,0.543,0.556,0.553,0.567,0.526,0.528,0.615,0.582,0.593,0.575,0.543,0.593,0.565,0.562,0.565,0.589,0.543,0.541,0.531,0.501,0.488,0.535,0.504,0.526,0.547,0.518,0.577,0.494,0.532,0.512,0.522,0.531,0.521,0.555,0.545,0.483,0.0,0.0,2.4,0.0,0.77,11.99,0.85,7.23,5.0,5.85,0.0,100.0,0.0,0.0,3.12,0.0,0.0,0.0,0.05,0.51,0.32,0.77,67.64,-126.25,13,61.78,0.0,0.0,14819,14.84,0.76,0.0,0.0,0.0,1.18,0.0,1.43,0.15,0.0,0.03,1.153571861E9,0.14,0.0,0.0,0.29,8.19,0.18,0.06,17.54,9.77,0.08,7.49,66.66,8.99,0.0,2.61,9.1,15.2,1.94,8.94,2.15,3.07,1.4,0.78,15.2,1.69,14.3,0.0,0.0,6.71,68.25,0.18,00000000000000000df4\n",
      "0.094,0.101,0.1,0.12,0.091,0.094,0.106,0.134,39.608000000000004,0.211,0.12,0.211,0.136,0.18,0.003,0.009,0.004,0.087,0.069,0.136,0.087,0.146,0.094,0.094,0.086,0.101,0.094,0.106,0.09,0.099,0.089,0.103,7.906,7.372,3.536,1.011,0.194,0.012,0.13,0,0.144,0,0.176,0.162,0.16,0.148,0.114,0.119,0.11,0.108,0.149,0.171,0.177,0.228,0.312,0.452,0.644,0.858,1.312,0,2.296,4.761,0.104,0.088,0.09,0.085,0.082,0.089,0.092,0.086,0.064,0.086,0.112,0.116,0.099,0.116,0.12,0.109,0.11,0.089,0.102,0.108,0.093,0.104,0.079,0.079,0.072,0.09,0.077,0.079,0.086,0.101,0.098,0.088,0.084,0.072,0.088,0.085,0.088,0.081,0.078,0.082,1.58,0.45,0.0,0.0,0.0,1.9,0.0,0.0,0.0,0.0,0.18,100.0,0.14,0.0,94.23,2.86,2.09,0.0,0.05,0.0,0.52,0.2,3.91,-126.25,14,0.0,0.13,0.0,5879,1.28,3.3,0.0,0.0,0.0,1.07,0.0,1.46,0.18,0.13,0.0,1.542494322E9,0.0,0.0,1.17,1.07,0.73,0.29,0.11,2.41,1.04,0.12,96.95,0.0,0.45,0.52,0.14,1.18,2.54,0.07,0.75,0.0,90.07,1.45,0.0,2.21,0.0,0.12,0.0,0.0,0.06,60.25,0.18,0000000000000000138f\n",
      "0.094,0.102,0.107,0.113,0.093,0.134,0.123,0.135,11.693999999999999,0.154,0.139,0.128,0.128,0.165,0.009,0.062,0.03,0.072,0.062,0.097,0.085,0.16,0.107,0.112,0.096,0.087,0.103,0.096,0.107,0.114,0.099,0.105,0.098,0.079,0.067,0.033,0.009,0.004,0.172,0,0.183,0,0.187,0.228,0.181,0.202,0.17,0.16,0.171,0.133,0.151,0.187,0.206,0.198,0.229,0.211,0.183,0.209,0.194,0.0,0.167,0.131,0.125,0.105,0.113,0.095,0.106,0.089,0.101,0.109,0.093,0.089,0.161,0.154,0.169,0.148,0.112,0.147,0.153,0.14,0.127,0.119,0.111,0.084,0.094,0.095,0.102,0.088,0.104,0.107,0.109,0.074,0.098,0.108,0.098,0.094,0.09,0.09,0.096,0.078,0.099,0.059,0.0,0.0,0.0,0.0,0.0,0.02,0.0,0.06,0.0,0.03,0.0,100.0,0.0,0.0,8.39,0.0,45.56,0.0,0.06,0.0,0.38,0.0,55.73,-126.25,11,45.59,0.0,0.03,7883,0.03,46.6,0.0,0.0,0.0,0.0,0.12,0.0,0.22,0.0,0.0,1.447941161E9,0.0,0.0,39.51,0.0,0.0,0.31,0.0,0.03,0.0,0.14,15.19,45.59,0.0,0.0,0.0,0.0,0.04,0.29,0.0,0.0,5.55,0.0,0.03,0.04,0.04,0.03,0.0,0.17,0.0,62.25,0.22,00000000000000003ea7\n",
      "0.198,0.234,0.213,0.208,0.216,0.248,0.229,0.243,49.06399999999999,0.395,0.257,0.374,0.267,0.345,0.018,0.074,0.049,0.225,0.142,0.356,0.294,0.304,0.191,0.159,0.186,0.175,0.174,0.191,0.173,0.156,0.18,0.186,2.873,2.144,1.498,1.782,4.813,7.695,0.366,1.753,0.349,0.026,0.307,0.304,0.282,0.252,0.234,0.234,0.211,0.165,0.293,0.314,0.362,0.383,0.458,0.539,0.744,1.028,1.454,0,2.23,2.743,0.162,0.148,0.168,0.159,0.151,0.138,0.153,0.147,0.142,0.153,0.203,0.19,0.176,0.182,0.157,0.171,0.163,0.159,0.18,0.15,0.169,0.167,0.149,0.167,0.16,0.146,0.168,0.167,0.208,0.161,0.155,0.133,0.148,0.176,0.18,0.184,0.2,0.184,0.157,0.137,1.38,0.6,0.65,0.0,1.02,2.18,0.22,3.34,1.85,1.85,0.8,100.0,0.15,0.0,49.6,1.47,5.53,0.0,1.14,0.49,1.46,1.02,9.98,-126.25,1,1.46,0.66,0.0,10672,33.38,6.27,1.1,0.0,0.0,0.0,1.27,0.03,0.07,0.62,0.08,1.32714101E9,0.12,0.04,4.03,0.92,0.71,0.15,0.18,36.65,0.96,0.04,53.04,7.58,28.83,1.23,0.74,29.53,2.67,0.2,0.96,0.51,41.8,0.0,0.0,2.64,0.0,33.07,1.11,0.0,22.78,64.75,1.26,00000000000000004ff7\n",
      "0.589,0.591,0.62,0.622,0.619,0.729,0.753,0.823,239.085,0.805,0.869,0.762,0.976,0.792,0.04,0.395,0.213,0.568,0.496,0.688,0.614,1.238,0.501,0.469,0.492,0.507,0.494,0.535,0.522,0.534,0.556,0.569,27.81,16.193,4.886,0.6,0.024,0,0.807,0,0.751,0,0.768,0.712,0.746,0.748,0.687,0.659,0.633,0.508,1.569,2.391,3.846,6.162,9.526,13.387,17.189,19.232,19.543,0,23.016,28.418,0.514,0.466,0.494,0.492,0.519,0.481,0.485,0.47,0.451,0.442,0.572,0.515,0.528,0.536,0.51,0.584,0.542,0.516,0.536,0.508,0.481,0.468,0.465,0.475,0.487,0.456,0.448,0.45,0.497,0.449,0.501,0.437,0.46,0.449,0.416,0.464,0.448,0.432,0.449,0.4,0.0,0.0,2.3,0.0,0.87,18.47,1.02,7.42,5.28,6.09,0.0,100.0,0.0,0.0,0.0,0.01,0.0,0.0,0.07,0.44,0.33,0.87,64.65,-126.25,13,59.39,0.0,0.0,15385,16.97,0.49,0.0,0.0,0.0,8.29,0.0,9.12,0.15,0.0,0.04,1.128386024E9,0.13,0.0,0.0,0.35,6.38,0.36,0.04,18.4,7.4,0.14,0.16,62.2,10.88,0.0,2.3,10.88,20.64,3.16,6.97,1.44,0.0,8.31,1.35,20.64,2.19,15.28,0.0,0.0,6.5,68.75,0.19,000000000000000031e6\n",
      "0.171,0.156,0.183,0.166,0.149,0.202,0.2,0.185,163.53199999999998,0.196,0.201,0.183,0.227,0.189,0.04,0.096,0.068,0.124,0.113,0.186,0.134,0.227,0.163,0.159,0.157,0.17,0.171,0.155,0.16,0.15,0.156,0.166,4.46,12.214,25.263,35.449,34.328,25.746,0.194,7.39,0.177,0.397,0.177,0.179,0.168,0.187,0.159,0.13,0.131,0.105,0.241,0.251,0.269,0.286,0.306,0.375,0.394,0.511,0.766,0.001,1.157,1.853,0.109,0.107,0.122,0.103,0.106,0.122,0.105,0.114,0.11,0.118,0.123,0.123,0.124,0.121,0.121,0.123,0.121,0.126,0.117,0.115,0.16,0.174,0.209,0.15,0.18,0.186,0.184,0.145,0.163,0.161,0.111,0.114,0.118,0.104,0.123,0.133,0.136,0.141,0.125,0.118,1.61,0.74,0.1,0.0,0.13,7.02,0.0,2.0,1.23,1.53,0.0,100.0,0.0,0.0,53.73,2.31,13.49,0.0,6.18,0.12,8.08,0.35,10.21,-126.25,3,4.29,0.63,0.0,11272,12.92,17.87,5.63,0.0,0.0,6.95,6.78,8.39,0.14,0.63,0.03,1.302651743E9,0.0,0.01,13.45,1.54,0.57,0.64,0.08,20.2,0.82,0.14,58.03,5.46,9.49,1.27,0.46,14.22,8.52,0.73,0.67,0.07,51.77,6.95,0.29,8.22,0.37,12.92,6.01,0.0,9.17,65.25,6.18,00000000000000004eba\n",
      "0.206,0.204,0.231,0.223,0.216,0.227,0.209,0.249,47.287000000000006,0.578,0.254,0.534,0.285,0.585,0.036,0.159,0.073,0.348,0.248,0.486,0.444,0.338,0.182,0.173,0.195,0.184,0.199,0.186,0.189,0.196,0.197,0.198,1.313,0.696,0.583,0.592,0.405,0.171,0.614,0.014,0.594,0,0.525,0.506,0.501,0.424,0.447,0.425,0.364,0.37,0.373,0.455,0.531,0.794,1.317,2.096,2.954,3.498,3.412,0,3.07,2.263,0.299,0.273,0.28,0.271,0.268,0.302,0.272,0.265,0.245,0.221,0.346,0.351,0.355,0.325,0.307,0.33,0.323,0.305,0.308,0.287,0.213,0.189,0.211,0.173,0.203,0.175,0.189,0.186,0.184,0.178,0.242,0.223,0.219,0.235,0.214,0.202,0.195,0.208,0.193,0.183,0.0,0.0,0.15,0.0,0.23,2.31,0.46,6.49,3.74,3.74,0.0,96.69,0.0,0.0,0.0,0.0,9.65,0.0,0.13,0.0,0.41,0.26,81.92,-126.25,5,75.48,0.0,0.0,15941,6.07,11.87,0.0,0.0,0.0,0.0,0.1,0.14,0.19,0.0,0.01,1.066766487E9,0.12,0.0,8.81,0.0,1.4,0.27,0.01,9.24,1.73,0.09,0.0,81.57,2.33,0.0,0.36,3.86,3.36,0.7,1.55,0.13,0.0,0.0,0.25,2.51,0.59,4.8,0.0,0.0,0.71,69.25,0.19,000000000000000053c6\n",
      "0.066,0.064,0.064,0.062,0.076,0.08,0.081,0.081,13.055000000000005,0.068,0.08,0.049,0.081,0.066,0.0,0.014,0.007,0.012,0.008,0.027,0.011,0.118,0.054,0.053,0.046,0.069,0.059,0.062,0.061,0.063,0.062,0.05,1.063,1.137,0.816,0.4,0.182,0.096,0.085,0.019,0.075,0,0.082,0.097,0.099,0.062,0.077,0.077,0.055,0.063,0.126,0.159,0.179,0.231,0.284,0.327,0.424,0.569,0.583,0,0.696,0.782,0.071,0.061,0.068,0.074,0.076,0.056,0.066,0.06,0.073,0.06,0.065,0.056,0.065,0.075,0.064,0.062,0.064,0.072,0.07,0.062,0.062,0.062,0.061,0.055,0.056,0.056,0.05,0.056,0.063,0.054,0.065,0.076,0.068,0.065,0.06,0.065,0.056,0.052,0.066,0.048,1.41,0.19,0.0,0.0,0.0,0.0,0.0,0.0,0.0,0.0,0.0,90.9,0.0,0.0,66.05,3.28,30.52,0.0,0.03,0.0,0.18,0.0,7.11,-126.25,14,0.0,0.0,1.81,3142,0.48,35.73,0.0,0.0,3.0,0.0,0.0,0.21,0.18,0.0,0.0,1.547986296E9,0.0,0.0,30.0,0.46,0.53,0.24,0.0,0.48,0.6,0.11,67.69,0.0,0.0,0.48,0.0,0.02,0.56,0.0,0.56,0.0,62.4,0.0,0.0,0.56,0.0,0.48,0.0,2.22,0.0,56.75,0.18,000000000000000000e1\n",
      "0.285,0.301,0.329,0.32,0.282,0.3,0.306,0.314,76.261,0.266,0.338,0.234,0.357,0.306,0.02,0.047,0.059,0.115,0.064,0.214,0.166,0.406,0.24,0.256,0.262,0.259,0.266,0.265,0.263,0.261,0.303,0.232,6.406,6.181,5.445,6.694,6.454,2.271,0.305,0.146,0.249,0,0.275,0.274,0.283,0.278,0.268,0.267,0.227,0.209,0.407,0.46,0.528,0.653,0.856,1.286,1.914,3.059,4.087,0,5.43,5.978,0.169,0.16,0.169,0.181,0.177,0.161,0.181,0.167,0.174,0.157,0.192,0.204,0.199,0.19,0.178,0.198,0.171,0.196,0.207,0.199,0.207,0.205,0.246,0.24,0.242,0.234,0.236,0.27,0.272,0.259,0.172,0.163,0.15,0.147,0.153,0.161,0.18,0.174,0.199,0.195,0.76,0.25,1.59,0.0,0.75,5.72,0.05,3.48,2.78,3.21,0.0,100.0,0.0,0.0,56.67,0.95,1.08,0.0,0.04,0.47,0.13,0.75,7.42,-126.25,1,0.78,0.04,0.0,11879,32.76,2.53,0.0,0.0,0.0,1.78,0.0,1.98,0.07,0.04,0.07,1.278057147E9,0.02,0.01,0.34,0.52,1.7,0.08,0.07,33.48,2.2,0.01,59.89,3.1,28.82,0.69,1.59,28.82,6.26,0.18,1.85,0.87,52.25,1.96,0.01,6.26,0.11,30.37,0.0,0.0,22.23,65.75,0.13,00000000000000000d7b\n"
     ]
    }
   ],
   "source": [
    "## View csv (orig)\n",
    "!head {bawld_stats_pth}"
   ]
  },
  {
   "cell_type": "code",
   "execution_count": 22,
   "metadata": {},
   "outputs": [
    {
     "ename": "ValueError",
     "evalue": "ee_object must be an ee.FeatureCollection",
     "output_type": "error",
     "traceback": [
      "\u001b[0;31m---------------------------------------------------------------------------\u001b[0m",
      "\u001b[0;31mValueError\u001b[0m                                Traceback (most recent call last)",
      "Cell \u001b[0;32mIn[22], line 1\u001b[0m\n\u001b[0;32m----> 1\u001b[0m geemap\u001b[39m.\u001b[39;49mee_export_vector(\u001b[39m'\u001b[39;49m\u001b[39mhttps://earthengine.googleapis.com/v1alpha/projects/earthengine-legacy/tables/396259f2c3d332ef482a33098d6cc711-36e72eb94399a5afd8debbacfcaffc6c:getFeatures\u001b[39;49m\u001b[39m'\u001b[39;49m, bawld_stats_pth, keep_zip\u001b[39m=\u001b[39;49m\u001b[39mTrue\u001b[39;49;00m)\n",
      "File \u001b[0;32m~/mambaforge/envs/geospatial/lib/python3.10/site-packages/geemap/common.py:1503\u001b[0m, in \u001b[0;36mee_export_vector\u001b[0;34m(ee_object, filename, selectors, verbose, keep_zip, timeout, proxies)\u001b[0m\n\u001b[1;32m   1490\u001b[0m \u001b[39m\"\"\"Exports Earth Engine FeatureCollection to other formats, including shp, csv, json, kml, and kmz.\u001b[39;00m\n\u001b[1;32m   1491\u001b[0m \n\u001b[1;32m   1492\u001b[0m \u001b[39mArgs:\u001b[39;00m\n\u001b[0;32m   (...)\u001b[0m\n\u001b[1;32m   1499\u001b[0m \u001b[39m    proxies (dict, optional): A dictionary of proxies to use. Defaults to None.\u001b[39;00m\n\u001b[1;32m   1500\u001b[0m \u001b[39m\"\"\"\u001b[39;00m\n\u001b[1;32m   1502\u001b[0m \u001b[39mif\u001b[39;00m \u001b[39mnot\u001b[39;00m \u001b[39misinstance\u001b[39m(ee_object, ee\u001b[39m.\u001b[39mFeatureCollection):\n\u001b[0;32m-> 1503\u001b[0m     \u001b[39mraise\u001b[39;00m \u001b[39mValueError\u001b[39;00m(\u001b[39m\"\u001b[39m\u001b[39mee_object must be an ee.FeatureCollection\u001b[39m\u001b[39m\"\u001b[39m)\n\u001b[1;32m   1505\u001b[0m allowed_formats \u001b[39m=\u001b[39m [\u001b[39m\"\u001b[39m\u001b[39mcsv\u001b[39m\u001b[39m\"\u001b[39m, \u001b[39m\"\u001b[39m\u001b[39mgeojson\u001b[39m\u001b[39m\"\u001b[39m, \u001b[39m\"\u001b[39m\u001b[39mjson\u001b[39m\u001b[39m\"\u001b[39m, \u001b[39m\"\u001b[39m\u001b[39mkml\u001b[39m\u001b[39m\"\u001b[39m, \u001b[39m\"\u001b[39m\u001b[39mkmz\u001b[39m\u001b[39m\"\u001b[39m, \u001b[39m\"\u001b[39m\u001b[39mshp\u001b[39m\u001b[39m\"\u001b[39m]\n\u001b[1;32m   1506\u001b[0m \u001b[39m# allowed_formats = ['csv', 'kml', 'kmz']\u001b[39;00m\n",
      "\u001b[0;31mValueError\u001b[0m: ee_object must be an ee.FeatureCollection"
     ]
    }
   ],
   "source": [
    "geemap.ee_export_vector('https://earthengine.googleapis.com/v1alpha/projects/earthengine-legacy/tables/396259f2c3d332ef482a33098d6cc711-36e72eb94399a5afd8debbacfcaffc6c:getFeatures', bawld_stats_pth, keep_zip=True)"
   ]
  },
  {
   "cell_type": "code",
   "execution_count": 30,
   "metadata": {},
   "outputs": [
    {
     "data": {
      "text/plain": [
       "'/home/ekyzivat/mambaforge/envs/geospatial/lib/python3.10/site-packages/geemap/data/template/template.py'"
      ]
     },
     "execution_count": 30,
     "metadata": {},
     "output_type": "execute_result"
    }
   ],
   "source": [
    "# geemap.datasets.get_geemap_data_list()\n",
    "geemap.get_nb_template()"
   ]
  },
  {
   "attachments": {},
   "cell_type": "markdown",
   "metadata": {},
   "source": [
    "### Errors"
   ]
  },
  {
   "attachments": {},
   "cell_type": "markdown",
   "metadata": {},
   "source": [
    "Output when I tried to save as .shp (~7 min):\n",
    "```python\n",
    "Computing ... \n",
    "Generating URL ...\n",
    "Downloading data from https://earthengine.googleapis.com/v1alpha/projects/earthengine-legacy/tables/2439eef1ef1e866e84ef7c39c7a25950-9928bfc2ae36fcea36b19e2b8f795f73:getFeatures\n",
    "Please wait ...\n",
    "An error occurred while downloading. \n",
    " Retrying ...\n",
    "Generating URL ...\n",
    "Downloading data from https://earthengine.googleapis.com/v1alpha/projects/earthengine-legacy/tables/396259f2c3d332ef482a33098d6cc711-36e72eb94399a5afd8debbacfcaffc6c:getFeatures\n",
    "Please wait ...\n",
    "Output exceeds the size limit. Open the full output data in a text editor\n",
    "---------------------------------------------------------------------------\n",
    "BadZipFile                                Traceback (most recent call last)\n",
    "File ~/mambaforge/envs/geospatial/lib/python3.10/site-packages/geemap/common.py:1579, in ee_export_vector(ee_object, filename, selectors, verbose, keep_zip, timeout, proxies)\n",
    "   1578 if filetype == \"shp\":\n",
    "-> 1579     with zipfile.ZipFile(filename) as z:\n",
    "   1580         z.extractall(os.path.dirname(filename))\n",
    "\n",
    "File ~/mambaforge/envs/geospatial/lib/python3.10/zipfile.py:1267, in ZipFile.__init__(self, file, mode, compression, allowZip64, compresslevel, strict_timestamps)\n",
    "   1266 if mode == 'r':\n",
    "-> 1267     self._RealGetContents()\n",
    "   1268 elif mode in ('w', 'x'):\n",
    "   1269     # set the modified flag so central directory gets written\n",
    "   1270     # even if no files are added to the archive\n",
    "\n",
    "File ~/mambaforge/envs/geospatial/lib/python3.10/zipfile.py:1334, in ZipFile._RealGetContents(self)\n",
    "   1333 if not endrec:\n",
    "-> 1334     raise BadZipFile(\"File is not a zip file\")\n",
    "   1335 if self.debug > 1:\n",
    "\n",
    "BadZipFile: File is not a zip file\n",
    "\n",
    "During handling of the above exception, another exception occurred:\n",
    "\n",
    "ValueError                                Traceback (most recent call last)\n",
    "File ~/mambaforge/envs/geospatial/lib/python3.10/site-packages/geemap/common.py:6960, in zonal_stats_by_group(in_value_raster, in_zone_vector, out_file_path, statistics_type, decimal_places, denominator, scale, crs, tile_scale, return_fc, verbose, timeout, proxies, **kwargs)\n",
    "...\n",
    "   6960         ee_export_vector(final_result, filename, timeout=timeout, proxies=proxies)\n",
    "   6962 except Exception as e:\n",
    "-> 6963     raise Exception(e)\n",
    "\n",
    "Exception: File is not a zip file\n"
   ]
  },
  {
   "attachments": {},
   "cell_type": "markdown",
   "metadata": {},
   "source": [
    "```python\n",
    "HttpError: <HttpError 400 when requesting https://earthengine-highvolume.googleapis.com/v1alpha/projects/earthengine-legacy/value:compute?prettyPrint=false&alt=json returned \"Collection query aborted after accumulating over 5000 elements.\". Details: \"Collection query aborted after accumulating over 5000 elements.\">"
   ]
  }
 ],
 "metadata": {
  "kernelspec": {
   "display_name": "geospatial",
   "language": "python",
   "name": "python3"
  },
  "language_info": {
   "codemirror_mode": {
    "name": "ipython",
    "version": 3
   },
   "file_extension": ".py",
   "mimetype": "text/x-python",
   "name": "python",
   "nbconvert_exporter": "python",
   "pygments_lexer": "ipython3",
   "version": "3.10.8"
  },
  "orig_nbformat": 4,
  "vscode": {
   "interpreter": {
    "hash": "7c2adcd04cb759f62ae312ee256557939cf64646c4c1feb81f383cf035bb7331"
   }
  }
 },
 "nbformat": 4,
 "nbformat_minor": 2
}
