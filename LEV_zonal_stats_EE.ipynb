{
 "cells": [
  {
   "cell_type": "code",
   "execution_count": 36,
   "metadata": {},
   "outputs": [],
   "source": [
    "import os\n",
    "import geopandas as gpd\n",
    "import ee\n",
    "import geemap"
   ]
  },
  {
   "cell_type": "code",
   "execution_count": 3,
   "metadata": {},
   "outputs": [],
   "source": [
    "## Register with ee\n",
    "# ee.Authenticate(authorization_code='4/1AWgavdf9gch8us9pDJkVc_RGBg9LxSoiYkEcbEDEQwigeGYJPNGKjQLT9AI')\n",
    "ee.Initialize(opt_url='https://earthengine-highvolume.googleapis.com')"
   ]
  },
  {
   "cell_type": "code",
   "execution_count": 4,
   "metadata": {},
   "outputs": [
    {
     "name": "stderr",
     "output_type": "stream",
     "text": [
      "ERROR 1: PROJ: proj_create_from_database: Open of /home/ekyzivat/mambaforge/envs/geospatial/share/proj failed\n"
     ]
    }
   ],
   "source": [
    "## Create earthengine feature for BAWLD\n",
    "gdf = gpd.read_file('/mnt/g/Other/Kuhn-olefeldt-BAWLD/BAWLD/BAWLD_V1___Shapefile.zip')\n",
    "# bawld = geemap.shp_to_ee('/mnt/g/Other/Kuhn-olefeldt-BAWLD/BAWLD/BAWLD_V1___Shapefile.zip')\n",
    "# bawld = geemap.gdf_to_ee(gdf)"
   ]
  },
  {
   "cell_type": "code",
   "execution_count": 5,
   "metadata": {},
   "outputs": [
    {
     "data": {
      "text/plain": [
       "<Derived Projected CRS: PROJCS[\"Lambert_Azimuthal_Equal_Area\",GEOGCS[\"WGS  ...>\n",
       "Name: Lambert_Azimuthal_Equal_Area\n",
       "Axis Info [cartesian]:\n",
       "- [south]: Easting (metre)\n",
       "- [south]: Northing (metre)\n",
       "Area of Use:\n",
       "- undefined\n",
       "Coordinate Operation:\n",
       "- name: unnamed\n",
       "- method: Lambert Azimuthal Equal Area\n",
       "Datum: World Geodetic System 1984\n",
       "- Ellipsoid: WGS 84\n",
       "- Prime Meridian: Greenwich"
      ]
     },
     "execution_count": 5,
     "metadata": {},
     "output_type": "execute_result"
    }
   ],
   "source": [
    "bawld_crs = gdf.crs.to_wkt()\n",
    "gdf.crs"
   ]
  },
  {
   "cell_type": "code",
   "execution_count": 6,
   "metadata": {},
   "outputs": [],
   "source": [
    "## Load BAWLD\n",
    "bawld = ee.FeatureCollection('projects/ee-ekyzivat/assets/Shapes/BAWLD/bawld_grid')"
   ]
  },
  {
   "cell_type": "code",
   "execution_count": 8,
   "metadata": {},
   "outputs": [
    {
     "data": {
      "application/vnd.jupyter.widget-view+json": {
       "model_id": "893e8daadaf449b0844ec520050ed3d7",
       "version_major": 2,
       "version_minor": 0
      },
      "text/plain": [
       "Map(center=[20, 0], controls=(WidgetControl(options=['position', 'transparent_bg'], widget=HBox(children=(Togg…"
      ]
     },
     "metadata": {},
     "output_type": "display_data"
    }
   ],
   "source": [
    "## View\n",
    "Map = geemap.Map()\n",
    "Map.addLayer(bawld, {}, 'BAWLD grid')\n",
    "Map"
   ]
  },
  {
   "cell_type": "code",
   "execution_count": 7,
   "metadata": {},
   "outputs": [],
   "source": [
    "## Load GSW\n",
    "gsw = ee.Image('JRC/GSW1_1/GlobalSurfaceWater')\n",
    "occurrence = gsw.select('occurrence')"
   ]
  },
  {
   "cell_type": "code",
   "execution_count": 9,
   "metadata": {},
   "outputs": [],
   "source": [
    "## Vis GSW\n",
    "VIS_OCCURRENCE = {\n",
    "  'min':0,\n",
    "  'max':100,\n",
    "  'palette': ['red', 'blue']\n",
    "}\n",
    "VIS_WATER_MASK = {\n",
    "  'palette': ['white', 'black']\n",
    "}\n",
    "\n",
    "## Create a water mask layer, and set the image mask so that non-water areas are opaque.\n",
    "water_mask = occurrence.gt(90).selfMask()\n",
    "\n",
    "## Map Layers\n",
    "\n",
    "Map.addLayer(occurrence.updateMask(occurrence.divide(100)), VIS_OCCURRENCE, \"Water Occurrence (1984-2018)\")\n",
    "Map.addLayer(water_mask, VIS_WATER_MASK, '90% occurrence water mask', False)"
   ]
  },
  {
   "attachments": {},
   "cell_type": "markdown",
   "metadata": {},
   "source": [
    "## Try to filter features to reduce cost"
   ]
  },
  {
   "cell_type": "code",
   "execution_count": 49,
   "metadata": {},
   "outputs": [
    {
     "name": "stdout",
     "output_type": "stream",
     "text": [
      "ee.Element({\n",
      "  \"functionInvocationValue\": {\n",
      "    \"functionName\": \"Collection.first\",\n",
      "    \"arguments\": {\n",
      "      \"collection\": {\n",
      "        \"functionInvocationValue\": {\n",
      "          \"functionName\": \"Collection.filter\",\n",
      "          \"arguments\": {\n",
      "            \"collection\": {\n",
      "              \"functionInvocationValue\": {\n",
      "                \"functionName\": \"Collection.filter\",\n",
      "                \"arguments\": {\n",
      "                  \"collection\": {\n",
      "                    \"functionInvocationValue\": {\n",
      "                      \"functionName\": \"Collection.loadTable\",\n",
      "                      \"arguments\": {\n",
      "                        \"tableId\": {\n",
      "                          \"constantValue\": \"projects/ee-ekyzivat/assets/Shapes/BAWLD/bawld_grid\"\n",
      "                        }\n",
      "                      }\n",
      "                    }\n",
      "                  },\n",
      "                  \"filter\": {\n",
      "                    \"constantValue\": \"Long > -126.5\"\n",
      "                  }\n",
      "                }\n",
      "              }\n",
      "            },\n",
      "            \"filter\": {\n",
      "              \"constantValue\": \"Long < -126.0\"\n",
      "            }\n",
      "          }\n",
      "        }\n",
      "      }\n",
      "    }\n",
      "  }\n",
      "})\n"
     ]
    }
   ],
   "source": [
    "## Filter BAWLD to reduce size of operation\n",
    "bawldF = bawld.filter(\"Long > -126.5\").filter(\"Long < -126.0\")\n",
    "# bawldF = bawld.filter(\"Long == -126.25\")\n",
    "print(bawldF.first())"
   ]
  },
  {
   "cell_type": "code",
   "execution_count": 10,
   "metadata": {},
   "outputs": [],
   "source": [
    "## Select spatially\n",
    "roi = ee.FeatureCollection(ee.Geometry.Polygon(\n",
    "    [[[-126.3, 59.5],\n",
    "      [-124.8, 59.5],\n",
    "      [-126.3, 56.7],\n",
    "      [-124.8, 56.7]]]))\n",
    "# roi = ee.FeatureCollection(ee.Geometry.Polygon([[[-26.3, 57.5]\n",
    "#       [-124.8, 57.5],\n",
    "#       [-26.3, 56.7],\n",
    "#       [-124.8, 56.7]]]))\n",
    "bawldF = bawld.filterBounds(roi)"
   ]
  },
  {
   "cell_type": "code",
   "execution_count": 13,
   "metadata": {},
   "outputs": [],
   "source": [
    "## Select spatially\n",
    "# roi = ee.FeatureCollection(Map.draw_features)\n",
    "# bawldF = bawld.filterBounds(roi)"
   ]
  },
  {
   "attachments": {},
   "cell_type": "markdown",
   "metadata": {},
   "source": [
    "## Verify filter"
   ]
  },
  {
   "cell_type": "code",
   "execution_count": 35,
   "metadata": {},
   "outputs": [
    {
     "data": {
      "application/vnd.jupyter.widget-view+json": {
       "model_id": "c1bf93d89716466fb30781f0aacc478f",
       "version_major": 2,
       "version_minor": 0
      },
      "text/plain": [
       "Map(center=[62.09181495014535, -126.24644532019646], controls=(WidgetControl(options=['position', 'transparent…"
      ]
     },
     "metadata": {},
     "output_type": "display_data"
    }
   ],
   "source": [
    "Map2 = geemap.Map()\n",
    "Map2.addLayer(bawldF, {}, 'BAWLD filtered')\n",
    "Map2.centerObject(bawldF, 3);\n",
    "Map2"
   ]
  },
  {
   "cell_type": "code",
   "execution_count": 28,
   "metadata": {},
   "outputs": [],
   "source": [
    "info = bawldF.getInfo()"
   ]
  },
  {
   "cell_type": "code",
   "execution_count": 45,
   "metadata": {},
   "outputs": [
    {
     "data": {
      "text/plain": [
       "{'type': 'Feature',\n",
       " 'geometry': {'type': 'Polygon',\n",
       "  'coordinates': [[[-126.50000004030716, 67.99999760152089],\n",
       "    [-126.37500124109799, 68.00015731410363],\n",
       "    [-126.25000147215928, 68.00021099585095],\n",
       "    [-126.12500172504075, 68.00015853959457],\n",
       "    [-126.00000313967394, 67.99999990836633],\n",
       "    [-126.00000223710812, 68.12504191005456],\n",
       "    [-126.00000137508675, 68.25005568887994],\n",
       "    [-126.00000049037568, 68.37504140182772],\n",
       "    [-125.99999970568798, 68.49999916179775],\n",
       "    [-126.12499772789434, 68.50015471042866],\n",
       "    [-126.24999686890023, 68.50020663568225],\n",
       "    [-126.37499585756767, 68.50015490453531],\n",
       "    [-126.49999395139079, 68.49999945907038],\n",
       "    [-126.4999952959312, 68.37504102433456],\n",
       "    [-126.49999682448448, 68.25005469156731],\n",
       "    [-126.49999841166532, 68.12504023091101],\n",
       "    [-126.50000004030716, 67.99999760152089]]]},\n",
       " 'id': '00000000000000000df4',\n",
       " 'properties': {'Area_Pct': 100,\n",
       "  'BOG': 0,\n",
       "  'BOG_H': 0,\n",
       "  'BOG_L': 0,\n",
       "  'BOR': 3.12,\n",
       "  'BOR_H': 7.49,\n",
       "  'BOR_L': 3.07,\n",
       "  'Cell_ID': 14819,\n",
       "  'FEN': 0,\n",
       "  'FEN_H': 0,\n",
       "  'FEN_L': 0,\n",
       "  'GLA': 0,\n",
       "  'GLA_H': 0,\n",
       "  'GLA_L': 0,\n",
       "  'LAK': 15.2,\n",
       "  'LAK_H': 15.2,\n",
       "  'LAK_L': 11.99,\n",
       "  'LAL': 1.4,\n",
       "  'LAL_H': 1.43,\n",
       "  'LAL_L': 1.18,\n",
       "  'LAR': 0,\n",
       "  'LAR_H': 0,\n",
       "  'LAR_L': 0,\n",
       "  'Lat': 68.25,\n",
       "  'Long': -126.25,\n",
       "  'MAR': 0,\n",
       "  'MAR_H': 0.29,\n",
       "  'MAR_L': 0,\n",
       "  'MGL': 8.94,\n",
       "  'MGL_H': 9.77,\n",
       "  'MGL_L': 8.19,\n",
       "  'MPL': 2.4,\n",
       "  'MPL_H': 2.61,\n",
       "  'MPL_L': 2.15,\n",
       "  'MYL': 0,\n",
       "  'MYL_H': 0.85,\n",
       "  'MYL_L': 0,\n",
       "  'PEB': 8.99,\n",
       "  'PEB_H': 9.1,\n",
       "  'PEB_L': 6.71,\n",
       "  'RIV': 0.18,\n",
       "  'RIV_H': 0.32,\n",
       "  'RIV_L': 0.05,\n",
       "  'ROC': 0,\n",
       "  'ROC_H': 0.76,\n",
       "  'ROC_L': 0,\n",
       "  'SGL': 1.69,\n",
       "  'SGL_H': 1.94,\n",
       "  'SGL_L': 0.78,\n",
       "  'SPL': 0.77,\n",
       "  'SPL_H': 0.77,\n",
       "  'SPL_L': 0.51,\n",
       "  'SRP': 0.15,\n",
       "  'SRP_H': 0.18,\n",
       "  'SRP_L': 0.08,\n",
       "  'SRR': 0.03,\n",
       "  'SRR_H': 0.06,\n",
       "  'SRR_L': 0,\n",
       "  'SYL': 0,\n",
       "  'SYL_H': 0.14,\n",
       "  'SYL_L': 0,\n",
       "  'Shp_Area': 1153571861,\n",
       "  'TUN': 66.66,\n",
       "  'TUN_H': 67.64,\n",
       "  'TUN_L': 61.78,\n",
       "  'WET': 14.84,\n",
       "  'WETSCAPE': 13,\n",
       "  'WET_H': 17.54,\n",
       "  'WET_L': 14.3,\n",
       "  'WTU': 5.85,\n",
       "  'WTU_H': 7.23,\n",
       "  'WTU_L': 5}}"
      ]
     },
     "execution_count": 45,
     "metadata": {},
     "output_type": "execute_result"
    }
   ],
   "source": [
    "info['features'][0]"
   ]
  },
  {
   "cell_type": "code",
   "execution_count": 39,
   "metadata": {},
   "outputs": [
    {
     "data": {
      "text/plain": [
       "[68.25,\n",
       " 60.25,\n",
       " 62.25,\n",
       " 64.75,\n",
       " 68.75,\n",
       " 65.25,\n",
       " 69.25,\n",
       " 56.75,\n",
       " 65.75,\n",
       " 69.75,\n",
       " 66.25,\n",
       " 57.25,\n",
       " 59.25,\n",
       " 61.25,\n",
       " 63.25,\n",
       " 66.75,\n",
       " 67.25,\n",
       " 57.75,\n",
       " 59.75,\n",
       " 63.75,\n",
       " 67.75,\n",
       " 71.75,\n",
       " 52.25,\n",
       " 56.25,\n",
       " 58.25,\n",
       " 58.75,\n",
       " 60.75,\n",
       " 51.25,\n",
       " 51.75,\n",
       " 61.75,\n",
       " 64.25,\n",
       " 62.75]"
      ]
     },
     "execution_count": 39,
     "metadata": {},
     "output_type": "execute_result"
    }
   ],
   "source": [
    "len(info['features'])\n",
    "# bawldF.propertyNames()\n",
    "\n",
    "# info.aggregate_first('LAK')'\n",
    "bawld.aggregate_array('Lat').getInfo()"
   ]
  },
  {
   "cell_type": "code",
   "execution_count": 51,
   "metadata": {},
   "outputs": [
    {
     "data": {
      "text/html": [
       "<div><style>:root {\n",
       "  --font-color-primary: var(--jp-content-font-color0, rgba(0, 0, 0, 1));\n",
       "  --font-color-secondary: var(--jp-content-font-color2, rgba(0, 0, 0, 0.6));\n",
       "  --font-color-accent: rgba(123, 31, 162, 1);\n",
       "  --border-color: var(--jp-border-color2, #e0e0e0);\n",
       "  --background-color: var(--jp-layout-color0, white);\n",
       "  --background-color-row-even: var(--jp-layout-color1, white);\n",
       "  --background-color-row-odd: var(--jp-layout-color2, #eeeeee);\n",
       "}\n",
       "\n",
       "html[theme=\"dark\"],\n",
       "body[data-theme=\"dark\"],\n",
       "body.vscode-dark {\n",
       "  --font-color-primary: rgba(255, 255, 255, 1);\n",
       "  --font-color-secondary: rgba(255, 255, 255, 0.6);\n",
       "  --font-color-accent: rgb(173, 132, 190);\n",
       "  --border-color: #2e2e2e;\n",
       "  --background-color: #111111;\n",
       "  --background-color-row-even: #111111;\n",
       "  --background-color-row-odd: #313131;\n",
       "}\n",
       "\n",
       ".ee {\n",
       "  padding: 1em;\n",
       "  line-height: 1.5em;\n",
       "  min-width: 300px;\n",
       "  max-width: 1200px;\n",
       "  overflow-y: scroll;\n",
       "  max-height: 600px;\n",
       "  border: 1px solid var(--border-color);\n",
       "  font-family: monospace;\n",
       "}\n",
       "\n",
       ".ee li {\n",
       "  list-style-type: none;\n",
       "}\n",
       "\n",
       ".ee ul {\n",
       "  padding-left: 1.5em !important;\n",
       "  margin: 0;\n",
       "}\n",
       "\n",
       ".ee > ul {\n",
       "  padding-left: 0 !important;\n",
       "}\n",
       "\n",
       ".ee-open,\n",
       ".ee-shut {\n",
       "  color: var(--font-color-secondary);\n",
       "  cursor: pointer;\n",
       "  margin: 0;\n",
       "}\n",
       "\n",
       ".ee-open:hover,\n",
       ".ee-shut:hover {\n",
       "  color: var(--font-color-primary);\n",
       "}\n",
       "\n",
       ".ee-k {\n",
       "  color: var(--font-color-accent);\n",
       "  margin-right: 6px;\n",
       "}\n",
       "\n",
       ".ee-v {\n",
       "  color: var(--font-color-primary);\n",
       "}\n",
       "\n",
       ".ee-toggle {\n",
       "  display: none;\n",
       "}\n",
       "\n",
       ".ee-shut + ul {\n",
       "  display: none;\n",
       "}\n",
       "\n",
       ".ee-open + ul {\n",
       "  display: block;\n",
       "}\n",
       "\n",
       ".ee-shut::before {\n",
       "  display: inline-block;\n",
       "  content: \"▼\";\n",
       "  margin-right: 6px;\n",
       "  transform: rotate(-90deg);\n",
       "  transition: transform 0.2s;\n",
       "}\n",
       "\n",
       ".ee-open::before {\n",
       "  transform: rotate(0deg);\n",
       "  display: inline-block;\n",
       "  content: \"▼\";\n",
       "  margin-right: 6px;\n",
       "  transition: transform 0.2s;\n",
       "}\n",
       "</style><div class='ee'><ul><li><label class='ee-shut'>FeatureCollection projects/ee-ekyzivat/assets/Shapes/BAWLD/bawld_grid  (1 element, 73 columns)<input type='checkbox' class='ee-toggle'></label><ul><li><span class='ee-k'>type:</span><span class='ee-v'>FeatureCollection</span></li><li><span class='ee-k'>id:</span><span class='ee-v'>projects/ee-ekyzivat/assets/Shapes/BAWLD/bawld_grid</span></li><li><span class='ee-k'>version:</span><span class='ee-v'>1674231518420365</span></li><li><label class='ee-shut'>columns: Object (73 properties)<input type='checkbox' class='ee-toggle'></label><ul><li><span class='ee-k'>Area_Pct:</span><span class='ee-v'>Float</span></li><li><span class='ee-k'>BOG:</span><span class='ee-v'>Float</span></li><li><span class='ee-k'>BOG_H:</span><span class='ee-v'>Float</span></li><li><span class='ee-k'>BOG_L:</span><span class='ee-v'>Float</span></li><li><span class='ee-k'>BOR:</span><span class='ee-v'>Float</span></li><li><span class='ee-k'>BOR_H:</span><span class='ee-v'>Float</span></li><li><span class='ee-k'>BOR_L:</span><span class='ee-v'>Float</span></li><li><span class='ee-k'>Cell_ID:</span><span class='ee-v'>Long</span></li><li><span class='ee-k'>FEN:</span><span class='ee-v'>Float</span></li><li><span class='ee-k'>FEN_H:</span><span class='ee-v'>Float</span></li><li><span class='ee-k'>FEN_L:</span><span class='ee-v'>Float</span></li><li><span class='ee-k'>GLA:</span><span class='ee-v'>Float</span></li><li><span class='ee-k'>GLA_H:</span><span class='ee-v'>Float</span></li><li><span class='ee-k'>GLA_L:</span><span class='ee-v'>Float</span></li><li><span class='ee-k'>LAK:</span><span class='ee-v'>Float</span></li><li><span class='ee-k'>LAK_H:</span><span class='ee-v'>Float</span></li><li><span class='ee-k'>LAK_L:</span><span class='ee-v'>Float</span></li><li><span class='ee-k'>LAL:</span><span class='ee-v'>Float</span></li><li><span class='ee-k'>LAL_H:</span><span class='ee-v'>Float</span></li><li><span class='ee-k'>LAL_L:</span><span class='ee-v'>Float</span></li><li><span class='ee-k'>LAR:</span><span class='ee-v'>Float</span></li><li><span class='ee-k'>LAR_H:</span><span class='ee-v'>Float</span></li><li><span class='ee-k'>LAR_L:</span><span class='ee-v'>Float</span></li><li><span class='ee-k'>Lat:</span><span class='ee-v'>Float</span></li><li><span class='ee-k'>Long:</span><span class='ee-v'>Float</span></li><li><span class='ee-k'>MAR:</span><span class='ee-v'>Float</span></li><li><span class='ee-k'>MAR_H:</span><span class='ee-v'>Float</span></li><li><span class='ee-k'>MAR_L:</span><span class='ee-v'>Float</span></li><li><span class='ee-k'>MGL:</span><span class='ee-v'>Float</span></li><li><span class='ee-k'>MGL_H:</span><span class='ee-v'>Float</span></li><li><span class='ee-k'>MGL_L:</span><span class='ee-v'>Float</span></li><li><span class='ee-k'>MPL:</span><span class='ee-v'>Float</span></li><li><span class='ee-k'>MPL_H:</span><span class='ee-v'>Float</span></li><li><span class='ee-k'>MPL_L:</span><span class='ee-v'>Float</span></li><li><span class='ee-k'>MYL:</span><span class='ee-v'>Float</span></li><li><span class='ee-k'>MYL_H:</span><span class='ee-v'>Float</span></li><li><span class='ee-k'>MYL_L:</span><span class='ee-v'>Float</span></li><li><span class='ee-k'>PEB:</span><span class='ee-v'>Float</span></li><li><span class='ee-k'>PEB_H:</span><span class='ee-v'>Float</span></li><li><span class='ee-k'>PEB_L:</span><span class='ee-v'>Float</span></li><li><span class='ee-k'>RIV:</span><span class='ee-v'>Float</span></li><li><span class='ee-k'>RIV_H:</span><span class='ee-v'>Float</span></li><li><span class='ee-k'>RIV_L:</span><span class='ee-v'>Float</span></li><li><span class='ee-k'>ROC:</span><span class='ee-v'>Float</span></li><li><span class='ee-k'>ROC_H:</span><span class='ee-v'>Float</span></li><li><span class='ee-k'>ROC_L:</span><span class='ee-v'>Float</span></li><li><span class='ee-k'>SGL:</span><span class='ee-v'>Float</span></li><li><span class='ee-k'>SGL_H:</span><span class='ee-v'>Float</span></li><li><span class='ee-k'>SGL_L:</span><span class='ee-v'>Float</span></li><li><span class='ee-k'>SPL:</span><span class='ee-v'>Float</span></li><li><span class='ee-k'>SPL_H:</span><span class='ee-v'>Float</span></li><li><span class='ee-k'>SPL_L:</span><span class='ee-v'>Float</span></li><li><span class='ee-k'>SRP:</span><span class='ee-v'>Float</span></li><li><span class='ee-k'>SRP_H:</span><span class='ee-v'>Float</span></li><li><span class='ee-k'>SRP_L:</span><span class='ee-v'>Float</span></li><li><span class='ee-k'>SRR:</span><span class='ee-v'>Float</span></li><li><span class='ee-k'>SRR_H:</span><span class='ee-v'>Float</span></li><li><span class='ee-k'>SRR_L:</span><span class='ee-v'>Float</span></li><li><span class='ee-k'>SYL:</span><span class='ee-v'>Float</span></li><li><span class='ee-k'>SYL_H:</span><span class='ee-v'>Float</span></li><li><span class='ee-k'>SYL_L:</span><span class='ee-v'>Float</span></li><li><span class='ee-k'>Shp_Area:</span><span class='ee-v'>Float</span></li><li><span class='ee-k'>TUN:</span><span class='ee-v'>Float</span></li><li><span class='ee-k'>TUN_H:</span><span class='ee-v'>Float</span></li><li><span class='ee-k'>TUN_L:</span><span class='ee-v'>Float</span></li><li><span class='ee-k'>WET:</span><span class='ee-v'>Float</span></li><li><span class='ee-k'>WETSCAPE:</span><span class='ee-v'>Long</span></li><li><span class='ee-k'>WET_H:</span><span class='ee-v'>Float</span></li><li><span class='ee-k'>WET_L:</span><span class='ee-v'>Float</span></li><li><span class='ee-k'>WTU:</span><span class='ee-v'>Float</span></li><li><span class='ee-k'>WTU_H:</span><span class='ee-v'>Float</span></li><li><span class='ee-k'>WTU_L:</span><span class='ee-v'>Float</span></li><li><span class='ee-k'>system:index:</span><span class='ee-v'>String</span></li></ul></li><li><label class='ee-shut'>properties: Object (1 property)<input type='checkbox' class='ee-toggle'></label><ul><li><span class='ee-k'>system:asset_size:</span><span class='ee-v'>15006581</span></li></ul></li><li><label class='ee-shut'>features: List (1 element)<input type='checkbox' class='ee-toggle'></label><ul><li><label class='ee-shut'>0: Feature (Polygon, 72 properties)<input type='checkbox' class='ee-toggle'></label><ul><li><span class='ee-k'>type:</span><span class='ee-v'>Feature</span></li><li><span class='ee-k'>id:</span><span class='ee-v'>0000000000000000088f</span></li><li><label class='ee-shut'>geometry: Polygon (19 vertices)<input type='checkbox' class='ee-toggle'></label><ul><li><span class='ee-k'>type:</span><span class='ee-v'>Polygon</span></li><li><label class='ee-shut'>coordinates: List (1 element)<input type='checkbox' class='ee-toggle'></label><ul><li><label class='ee-shut'>0: List (19 elements)<input type='checkbox' class='ee-toggle'></label><ul><li><label class='ee-shut'>0: [-126.50000125495188, 61.9999991003462]<input type='checkbox' class='ee-toggle'></label><ul><li><span class='ee-k'>0:</span><span class='ee-v'>-126.50000125495188</span></li><li><span class='ee-k'>1:</span><span class='ee-v'>61.9999991003462</span></li></ul></li><li><label class='ee-shut'>1: [-126.50000222987795, 61.87505434448742]<input type='checkbox' class='ee-toggle'></label><ul><li><span class='ee-k'>0:</span><span class='ee-v'>-126.50000222987795</span></li><li><span class='ee-k'>1:</span><span class='ee-v'>61.87505434448742</span></li></ul></li><li><label class='ee-shut'>2: [-126.50000316871181, 61.75007315916914]<input type='checkbox' class='ee-toggle'></label><ul><li><span class='ee-k'>0:</span><span class='ee-v'>-126.50000316871181</span></li><li><span class='ee-k'>1:</span><span class='ee-v'>61.75007315916914</span></li></ul></li><li><label class='ee-shut'>3: [-126.50000390168685, 61.62505545063115]<input type='checkbox' class='ee-toggle'></label><ul><li><span class='ee-k'>0:</span><span class='ee-v'>-126.50000390168685</span></li><li><span class='ee-k'>1:</span><span class='ee-v'>61.62505545063115</span></li></ul></li><li><label class='ee-shut'>4: [-126.50000434176977, 61.56253277780367]<input type='checkbox' class='ee-toggle'></label><ul><li><span class='ee-k'>0:</span><span class='ee-v'>-126.50000434176977</span></li><li><span class='ee-k'>1:</span><span class='ee-v'>61.56253277780367</span></li></ul></li><li><label class='ee-shut'>5: [-126.50000485125881, 61.50000095082268]<input type='checkbox' class='ee-toggle'></label><ul><li><span class='ee-k'>0:</span><span class='ee-v'>-126.50000485125881</span></li><li><span class='ee-k'>1:</span><span class='ee-v'>61.50000095082268</span></li></ul></li><li><label class='ee-shut'>6: [-126.37500402148586, 61.50020924400005]<input type='checkbox' class='ee-toggle'></label><ul><li><span class='ee-k'>0:</span><span class='ee-v'>-126.37500402148586</span></li><li><span class='ee-k'>1:</span><span class='ee-v'>61.50020924400005</span></li></ul></li><li><label class='ee-shut'>7: [-126.25000200068368, 61.50027888072561]<input type='checkbox' class='ee-toggle'></label><ul><li><span class='ee-k'>0:</span><span class='ee-v'>-126.25000200068368</span></li><li><span class='ee-k'>1:</span><span class='ee-v'>61.50027888072561</span></li></ul></li><li><label class='ee-shut'>8: [-126.12500003317926, 61.500209743559516]<input type='checkbox' class='ee-toggle'></label><ul><li><span class='ee-k'>0:</span><span class='ee-v'>-126.12500003317926</span></li><li><span class='ee-k'>1:</span><span class='ee-v'>61.500209743559516</span></li></ul></li><li><label class='ee-shut'>9: [-125.9999991863753, 61.500001874962855]<input type='checkbox' class='ee-toggle'></label><ul><li><span class='ee-k'>0:</span><span class='ee-v'>-125.9999991863753</span></li><li><span class='ee-k'>1:</span><span class='ee-v'>61.500001874962855</span></li></ul></li><li><label class='ee-shut'>10: [-125.99999975345449, 61.562533609302996]<input type='checkbox' class='ee-toggle'></label><ul><li><span class='ee-k'>0:</span><span class='ee-v'>-125.99999975345449</span></li><li><span class='ee-k'>1:</span><span class='ee-v'>61.562533609302996</span></li></ul></li><li><label class='ee-shut'>11: [-126.00000022231009, 61.62505607573416]<input type='checkbox' class='ee-toggle'></label><ul><li><span class='ee-k'>0:</span><span class='ee-v'>-126.00000022231009</span></li><li><span class='ee-k'>1:</span><span class='ee-v'>61.62505607573416</span></li></ul></li><li><label class='ee-shut'>12: [-126.00000134833432, 61.75007348127905]<input type='checkbox' class='ee-toggle'></label><ul><li><span class='ee-k'>0:</span><span class='ee-v'>-126.00000134833432</span></li><li><span class='ee-k'>1:</span><span class='ee-v'>61.75007348127905</span></li></ul></li><li><label class='ee-shut'>13: [-126.00000240821468, 61.875054266893436]<input type='checkbox' class='ee-toggle'></label><ul><li><span class='ee-k'>0:</span><span class='ee-v'>-126.00000240821468</span></li><li><span class='ee-k'>1:</span><span class='ee-v'>61.875054266893436</span></li></ul></li><li><label class='ee-shut'>14: [-126.00000363021188, 61.999998707863604]<input type='checkbox' class='ee-toggle'></label><ul><li><span class='ee-k'>0:</span><span class='ee-v'>-126.00000363021188</span></li><li><span class='ee-k'>1:</span><span class='ee-v'>61.999998707863604</span></li></ul></li><li><label class='ee-shut'>15: [-126.12500243712778, 62.000203036486816]<input type='checkbox' class='ee-toggle'></label><ul><li><span class='ee-k'>0:</span><span class='ee-v'>-126.12500243712778</span></li><li><span class='ee-k'>1:</span><span class='ee-v'>62.000203036486816</span></li></ul></li><li><label class='ee-shut'>16: [-126.25000246453811, 62.00027128918666]<input type='checkbox' class='ee-toggle'></label><ul><li><span class='ee-k'>0:</span><span class='ee-v'>-126.25000246453811</span></li><li><span class='ee-k'>1:</span><span class='ee-v'>62.00027128918666</span></li></ul></li><li><label class='ee-shut'>17: [-126.3750024288798, 62.00020328680127]<input type='checkbox' class='ee-toggle'></label><ul><li><span class='ee-k'>0:</span><span class='ee-v'>-126.3750024288798</span></li><li><span class='ee-k'>1:</span><span class='ee-v'>62.00020328680127</span></li></ul></li><li><label class='ee-shut'>18: [-126.50000125495188, 61.9999991003462]<input type='checkbox' class='ee-toggle'></label><ul><li><span class='ee-k'>0:</span><span class='ee-v'>-126.50000125495188</span></li><li><span class='ee-k'>1:</span><span class='ee-v'>61.9999991003462</span></li></ul></li></ul></li></ul></li></ul></li><li><label class='ee-shut'>properties: Object (72 properties)<input type='checkbox' class='ee-toggle'></label><ul><li><span class='ee-k'>Area_Pct:</span><span class='ee-v'>100</span></li><li><span class='ee-k'>BOG:</span><span class='ee-v'>0</span></li><li><span class='ee-k'>BOG_H:</span><span class='ee-v'>0</span></li><li><span class='ee-k'>BOG_L:</span><span class='ee-v'>0</span></li><li><span class='ee-k'>BOR:</span><span class='ee-v'>48.66</span></li><li><span class='ee-k'>BOR_H:</span><span class='ee-v'>53.01</span></li><li><span class='ee-k'>BOR_L:</span><span class='ee-v'>42.03</span></li><li><span class='ee-k'>Cell_ID:</span><span class='ee-v'>7361</span></li><li><span class='ee-k'>FEN:</span><span class='ee-v'>0.17</span></li><li><span class='ee-k'>FEN_H:</span><span class='ee-v'>0.65</span></li><li><span class='ee-k'>FEN_L:</span><span class='ee-v'>0.04</span></li><li><span class='ee-k'>GLA:</span><span class='ee-v'>0</span></li><li><span class='ee-k'>GLA_H:</span><span class='ee-v'>1</span></li><li><span class='ee-k'>GLA_L:</span><span class='ee-v'>0</span></li><li><span class='ee-k'>LAK:</span><span class='ee-v'>0</span></li><li><span class='ee-k'>LAK_H:</span><span class='ee-v'>0</span></li><li><span class='ee-k'>LAK_L:</span><span class='ee-v'>0</span></li><li><span class='ee-k'>LAL:</span><span class='ee-v'>0</span></li><li><span class='ee-k'>LAL_H:</span><span class='ee-v'>0.09</span></li><li><span class='ee-k'>LAL_L:</span><span class='ee-v'>0</span></li><li><span class='ee-k'>LAR:</span><span class='ee-v'>1.32</span></li><li><span class='ee-k'>LAR_H:</span><span class='ee-v'>1.53</span></li><li><span class='ee-k'>LAR_L:</span><span class='ee-v'>1.31</span></li><li><span class='ee-k'>Lat:</span><span class='ee-v'>61.75</span></li><li><span class='ee-k'>Long:</span><span class='ee-v'>-126.25</span></li><li><span class='ee-k'>MAR:</span><span class='ee-v'>0.03</span></li><li><span class='ee-k'>MAR_H:</span><span class='ee-v'>0.28</span></li><li><span class='ee-k'>MAR_L:</span><span class='ee-v'>0.03</span></li><li><span class='ee-k'>MGL:</span><span class='ee-v'>0</span></li><li><span class='ee-k'>MGL_H:</span><span class='ee-v'>0</span></li><li><span class='ee-k'>MGL_L:</span><span class='ee-v'>0</span></li><li><span class='ee-k'>MPL:</span><span class='ee-v'>0</span></li><li><span class='ee-k'>MPL_H:</span><span class='ee-v'>0</span></li><li><span class='ee-k'>MPL_L:</span><span class='ee-v'>0</span></li><li><span class='ee-k'>MYL:</span><span class='ee-v'>0</span></li><li><span class='ee-k'>MYL_H:</span><span class='ee-v'>0</span></li><li><span class='ee-k'>MYL_L:</span><span class='ee-v'>0</span></li><li><span class='ee-k'>PEB:</span><span class='ee-v'>4.01</span></li><li><span class='ee-k'>PEB_H:</span><span class='ee-v'>5</span></li><li><span class='ee-k'>PEB_L:</span><span class='ee-v'>3.46</span></li><li><span class='ee-k'>RIV:</span><span class='ee-v'>1.52</span></li><li><span class='ee-k'>RIV_H:</span><span class='ee-v'>1.72</span></li><li><span class='ee-k'>RIV_L:</span><span class='ee-v'>1.5</span></li><li><span class='ee-k'>ROC:</span><span class='ee-v'>21.85</span></li><li><span class='ee-k'>ROC_H:</span><span class='ee-v'>37.44</span></li><li><span class='ee-k'>ROC_L:</span><span class='ee-v'>21.37</span></li><li><span class='ee-k'>SGL:</span><span class='ee-v'>0</span></li><li><span class='ee-k'>SGL_H:</span><span class='ee-v'>0.24</span></li><li><span class='ee-k'>SGL_L:</span><span class='ee-v'>0</span></li><li><span class='ee-k'>SPL:</span><span class='ee-v'>0</span></li><li><span class='ee-k'>SPL_H:</span><span class='ee-v'>0</span></li><li><span class='ee-k'>SPL_L:</span><span class='ee-v'>0</span></li><li><span class='ee-k'>SRP:</span><span class='ee-v'>0.19</span></li><li><span class='ee-k'>SRP_H:</span><span class='ee-v'>0.6</span></li><li><span class='ee-k'>SRP_L:</span><span class='ee-v'>0.19</span></li><li><span class='ee-k'>SRR:</span><span class='ee-v'>0.01</span></li><li><span class='ee-k'>SRR_H:</span><span class='ee-v'>0.01</span></li><li><span class='ee-k'>SRR_L:</span><span class='ee-v'>0</span></li><li><span class='ee-k'>SYL:</span><span class='ee-v'>0</span></li><li><span class='ee-k'>SYL_H:</span><span class='ee-v'>0</span></li><li><span class='ee-k'>SYL_L:</span><span class='ee-v'>0</span></li><li><span class='ee-k'>Shp_Area:</span><span class='ee-v'>1471758873</span></li><li><span class='ee-k'>TUN:</span><span class='ee-v'>23.73</span></li><li><span class='ee-k'>TUN_H:</span><span class='ee-v'>24.85</span></li><li><span class='ee-k'>TUN_L:</span><span class='ee-v'>18.41</span></li><li><span class='ee-k'>WET:</span><span class='ee-v'>4.24</span></li><li><span class='ee-k'>WETSCAPE:</span><span class='ee-v'>14</span></li><li><span class='ee-k'>WET_H:</span><span class='ee-v'>6.91</span></li><li><span class='ee-k'>WET_L:</span><span class='ee-v'>3.24</span></li><li><span class='ee-k'>WTU:</span><span class='ee-v'>0.04</span></li><li><span class='ee-k'>WTU_H:</span><span class='ee-v'>0.3</span></li><li><span class='ee-k'>WTU_L:</span><span class='ee-v'>0</span></li></ul></li></ul></li></ul></li></ul></li></ul></div><script>function toggleHeader() {\n",
       "    const parent = this.parentElement;\n",
       "    parent.className = parent.className === \"ee-open\" ? \"ee-shut\" : \"ee-open\";\n",
       "}\n",
       "\n",
       "for (let c of document.getElementsByClassName(\"ee-toggle\")) {\n",
       "    c.onclick = toggleHeader;\n",
       "}</script></div>"
      ],
      "text/plain": [
       "<ee.featurecollection.FeatureCollection at 0x7f6e6be80a60>"
      ]
     },
     "execution_count": 51,
     "metadata": {},
     "output_type": "execute_result"
    }
   ],
   "source": [
    "bawldF.filter(ee.Filter.eq(\"Lat\", 61.75))"
   ]
  },
  {
   "attachments": {},
   "cell_type": "markdown",
   "metadata": {},
   "source": [
    "## Stats"
   ]
  },
  {
   "cell_type": "code",
   "execution_count": 13,
   "metadata": {},
   "outputs": [
    {
     "name": "stdout",
     "output_type": "stream",
     "text": [
      "Computing ... \n",
      "Generating URL ...\n",
      "Downloading data from https://earthengine-highvolume.googleapis.com/v1alpha/projects/earthengine-legacy/tables/2a7a9a1b998fb10822282857a178fbc9-bd1fd5d75eb52f20d5561dfbd484ef7a:getFeatures\n",
      "Please wait ...\n",
      "Data downloaded to /mnt/g/Ch4/GSW_zonal_stats/bawld_stats.csv\n"
     ]
    }
   ],
   "source": [
    "## Zonal stats\n",
    "out_dir = '/mnt/g/Ch4/GSW_zonal_stats'\n",
    "bawld_stats_pth = os.path.join(out_dir, 'bawld_stats.csv')\n",
    "\n",
    "if not os.path.exists(out_dir):\n",
    "    os.makedirs(out_dir)\n",
    "\n",
    "# statistics_type can be either 'SUM' or 'PERCENTAGE'\n",
    "# denominator can be used to convert square meters to other areal units, such as square kilometers\n",
    "geemap.zonal_statistics_by_group(\n",
    "    occurrence,\n",
    "    bawldF,\n",
    "    bawld_stats_pth,\n",
    "    statistics_type='SUM',\n",
    "    denominator=1000000,\n",
    "    decimal_places=3,\n",
    "    crs=bawld_crs,\n",
    "    tile_scale=1 # default is 1, but it exceeds GEE capacity\n",
    ")"
   ]
  },
  {
   "cell_type": "code",
   "execution_count": 40,
   "metadata": {},
   "outputs": [
    {
     "name": "stdout",
     "output_type": "stream",
     "text": [
      "Class_70,Class_71,Class_72,Class_73,Class_74,Class_75,Class_76,Class_77,Class_sum,Class_8,Class_78,Class_7,Class_79,Class_9,Class_0,Class_2,Class_1,Class_4,Class_3,Class_6,Class_5,Class_80,Class_60,Class_61,Class_62,Class_63,Class_64,Class_65,Class_66,Class_67,Class_68,Class_69,Class_92,Class_93,Class_94,Class_95,Class_96,Class_97,Class_10,Class_98,Class_11,Class_99,Class_12,Class_13,Class_14,Class_15,Class_16,Class_17,Class_18,Class_19,Class_81,Class_82,Class_83,Class_84,Class_85,Class_86,Class_87,Class_88,Class_89,Class_100,Class_90,Class_91,Class_30,Class_31,Class_32,Class_33,Class_34,Class_35,Class_36,Class_37,Class_38,Class_39,Class_20,Class_21,Class_22,Class_23,Class_24,Class_25,Class_26,Class_27,Class_28,Class_29,Class_50,Class_51,Class_52,Class_53,Class_54,Class_55,Class_56,Class_57,Class_58,Class_59,Class_40,Class_41,Class_42,Class_43,Class_44,Class_45,Class_46,Class_47,Class_48,Class_49,FEN_H,FEN_L,MPL,MYL_L,SPL,LAK_L,MYL_H,WTU_H,WTU_L,WTU,BOG,Area_Pct,BOG_L,MYL,BOR,BOG_H,ROC,SYL,RIV_L,SPL_L,RIV_H,SPL_H,TUN_H,Long,WETSCAPE,TUN_L,MAR,GLA_L,Cell_ID,WET,ROC_H,LAR_L,SYL_L,GLA_H,LAL_L,LAR_H,LAL_H,SRP,MAR_L,SRR,Shp_Area,SYL_H,SRR_L,ROC_L,MAR_H,MGL_L,SRP_H,SRR_H,WET_H,MGL_H,SRP_L,BOR_H,TUN,PEB,FEN,MPL_H,PEB_H,LAK_H,SGL_H,MGL,MPL_L,BOR_L,LAL,SGL_L,LAK,SGL,WET_L,LAR,GLA,PEB_L,Lat,RIV,system:index\n",
      "0.64,0.74,0.59,0.54,0.4,0.76,0.69,0.4,49.070000000000014,0.4,0.64,0.35,1.09,0.25,0,0.05,0,0.15,0,0.15,0,0.64,0.35,0.78,0.55,0.6,0.5,0.84,0.54,0.84,0.59,0.64,0.84,0.55,0.55,0.1,0,0.05,0.69,0,0.63,0,0.54,0.99,0.59,0.35,0.49,0.3,0.39,0.39,0.74,1.34,0.64,0.54,0.25,0.63,0.25,0.33,0.45,0,0.3,0.35,0.78,0.35,0.74,0.59,0.52,0.3,0.84,0.69,0.49,0.35,0.74,0.63,0.25,0.7,0.49,0.43,0.35,0.3,0.74,0.49,0.4,0.5,0.54,0.41,0.59,0.64,0.59,0.79,0.39,0.4,0.2,0.5,0.35,0.45,0.48,0.79,0.59,0.21,0.99,0.51,1.41,0.19,0.0,0.0,0.0,0.0,0.0,0.0,0.0,0.0,0.0,90.9,0.0,0.0,66.05,3.28,30.52,0.0,0.03,0.0,0.18,0.0,7.11,-126.25,14,0.0,0.0,1.81,3142,0.48,35.73,0.0,0.0,3.0,0.0,0.0,0.21,0.18,0.0,0.0,1.547986296E9,0.0,0.0,30.0,0.46,0.53,0.24,0.0,0.48,0.6,0.11,67.69,0.0,0.0,0.48,0.0,0.02,0.56,0.0,0.56,0.0,62.4,0.0,0.0,0.56,0.0,0.48,0.0,2.22,0.0,56.75,0.18,000000000000000000e1\n",
      "0.2,0.25,0.35,0.25,0.35,0.29,0.1,0.35,38.640000000000015,0.4,0.1,0.45,0.25,0.54,0,0.05,0.05,0.15,0,0.25,0.2,0.3,0.55,0.35,0.54,0.34,0.05,0.44,0.3,0.25,0.25,0.38,0.1,0.2,0.3,0.49,0.59,0,0.54,0,0.77,0,0.64,0.3,0.54,0.4,0.35,0.44,0.54,0.54,0.1,0.15,0.25,0.1,0.3,0.28,0.18,0.1,0.2,0,0.25,0.05,0.89,0.64,0.4,0.79,0.75,0.84,0.4,0.44,0.74,0.69,0.69,0.6,0.49,0.39,0.59,0.89,0.35,0.49,0.69,0.49,0.44,0.44,0.54,0.15,0.31,0.59,0.33,0.54,0.26,0.25,0.6,0.79,0.54,0.64,0.55,0.28,0.73,0.4,0.49,0.49,1.65,0.25,0.0,0.0,0.0,0.0,0.0,0.0,0.0,0.0,0.0,96.18,0.0,0.0,69.11,3.04,29.86,0.0,0.02,0.0,0.17,0.0,5.81,-125.75,14,0.0,0.0,0.0,3143,0.56,32.44,0.0,0.0,0.0,0.0,0.0,0.18,0.17,0.0,0.0,1.638328477E9,0.0,0.0,26.63,0.4,0.23,0.17,0.0,0.56,0.4,0.08,70.15,0.0,0.0,0.56,0.0,0.0,0.23,0.0,0.23,0.0,63.44,0.0,0.0,0.23,0.0,0.56,0.0,0.07,0.0,56.75,0.17,00000000000000000880\n",
      "1.03,1.73,1.68,2.12,1.63,1.01,1.87,1.33,96.97999999999999,0.79,1.58,0.78,1.27,0.89,0.05,0.3,1.13,0.25,0.34,0.49,0.58,1.11,1.48,1.07,0.94,1.14,1.14,1.04,1.38,1.78,0.84,1.28,1.48,2.03,2.41,2.96,2.37,0.49,0.89,0.05,0.58,0,1.09,0.69,0.88,0.79,0.83,0.64,0.45,0.64,1.97,1.57,1.31,1.13,1.62,1.67,1.33,0.99,0.99,0,1.62,1.09,0.49,0.44,0.43,0.4,0.69,0.59,0.54,0.84,0.68,0.49,0.69,0.64,0.64,0.64,0.84,0.59,0.59,0.59,0.64,0.53,0.64,0.69,1.28,0.64,1.17,0.84,0.78,0.93,1.09,0.89,0.92,0.49,0.63,0.79,0.71,0.69,0.79,0.94,0.89,0.59,1.66,0.71,0.03,0.0,0.0,1.25,0.0,0.0,0.0,0.0,0.02,100.0,0.0,0.0,77.45,4.11,19.25,0.0,0.14,0.0,0.57,0.0,5.71,-125.25,14,0.0,0.49,0.0,3144,1.45,24.1,0.07,0.0,0.0,0.07,0.23,0.18,0.16,0.49,0.0,1.703128546E9,0.0,0.0,16.85,1.11,1.25,0.38,0.03,1.91,1.98,0.15,77.45,0.0,0.0,0.94,0.04,4.77,2.21,0.07,1.25,0.01,69.04,0.18,0.0,1.47,0.0,0.9,0.23,0.0,0.0,56.75,0.39,000000000000000008f7\n",
      "0.75,0.49,0.64,0.69,1.04,0.84,0.94,1.02,149.02,0.54,0.79,0.59,0.94,0.59,0.05,0.05,0.1,0,0.1,0.15,0.2,0.9,0.4,0.69,0.25,0.45,0.59,0.4,0.64,0.49,0.3,0.49,1.53,1.38,1.74,2.92,13.0,43.46,0.44,39.66,0.25,4.25,0.44,0.2,0.2,0.3,0.24,0.1,0.1,0.44,0.8,1.09,1.09,0.69,1.39,1.09,1.48,1.18,1.38,0,1.63,1.19,0.15,0.2,0.1,0.1,0.25,0.3,0.1,0.34,0.3,0.25,0.1,0,0.1,0.2,0.05,0.25,0.15,0.05,0.1,0.05,0.3,0.2,0.45,0.39,0.54,0.39,0.25,0.44,0.25,0.35,0.15,0.1,0.25,0.3,0.35,0.2,0.1,0.4,0.35,0.35,0.1,0.0,0.0,0.0,0.0,8.41,0.0,0.0,0.0,0.0,0.0,77.3,0.0,0.0,62.52,5.03,27.9,0.0,0.0,0.0,0.35,0.12,1.82,-124.75,14,0.0,0.07,0.0,3145,0.07,29.74,0.0,0.0,0.0,9.15,0.27,10.07,0.14,0.07,0.0,1.315638868E9,0.0,0.0,20.75,0.84,0.21,0.26,0.12,1.35,0.42,0.1,62.52,0.0,0.0,0.0,0.27,0.17,9.39,0.13,0.21,0.0,51.56,9.16,0.0,9.38,0.01,0.0,0.0,0.0,0.0,56.75,0.14,00000000000000002a2f\n",
      "0.43,0.15,0.29,0.62,0.44,0.34,0.44,0.34,33.17999999999998,0.29,0.29,0.63,0.4,0.98,0,0.2,0.1,0,0,0.15,0.15,0.49,0.54,0.34,0.65,0.34,0.47,0.64,0.2,0.34,0.39,0.34,0.05,0.34,0.15,0.49,0.1,0.05,0.39,0.05,0.39,0,0.24,0.21,0.49,0.34,0.19,0.29,0.29,0.39,0.29,0.24,0.34,0.1,0.2,0.29,0.2,0.29,0.29,0,0.15,0.15,0.34,0.05,0.44,0.73,0.4,0.49,0.34,0.07,0.24,0.34,0.34,0.15,0.49,0.29,0.2,0.29,0.62,0.34,0.2,0.34,0.29,0.29,0.39,0.44,0.29,0.83,0.34,0.54,0.49,0.64,0.35,0.19,0.44,0.43,0.21,0.49,0.49,0.39,0.44,0.54,1.18,0.1,0.0,0.0,0.0,0.0,0.0,0.0,0.0,0.0,0.0,100.0,0.0,0.0,64.43,1.79,32.29,0.0,0.03,0.0,0.17,0.0,6.66,-126.25,14,0.0,0.0,2.01,3459,0.43,39.05,0.0,0.0,3.0,0.0,0.0,0.27,0.17,0.0,0.0,1.680574965E9,0.0,0.0,31.51,0.3,0.18,0.28,0.01,0.43,0.31,0.09,67.27,0.0,0.0,0.43,0.0,0.0,0.2,0.08,0.2,0.0,61.21,0.0,0.0,0.2,0.0,0.43,0.0,2.48,0.0,57.25,0.17,00000000000000004392\n",
      "0.79,0.68,0.54,0.83,0.53,0.95,0.83,0.65,48.889999999999986,0.78,0.78,0.1,0.83,0.54,0,0.1,0,0.1,0,0.19,0.1,0.44,0.73,0.6,0.88,0.75,0.68,0.92,0.88,0.73,0.84,0.91,0.19,0.34,0.15,0.15,0.15,0,0.78,0,0.59,0,0.34,0.34,0.54,0.49,0.83,0.78,0.63,0.44,0.93,0.58,0.29,0.19,0.49,0.5,0.5,0.68,0.26,0,0.29,0.29,0.72,0.4,0.68,0.44,0.39,0.44,0.39,0.24,0.44,0.49,0.44,0.54,0.73,0.49,0.39,0.54,0.44,0.24,0.49,0.54,0.6,0.39,0.93,0.49,0.58,0.24,0.35,0.68,0.46,0.53,0.4,0.54,0.68,0.46,0.54,0.44,0.6,0.39,0.31,0.39,1.02,0.01,0.0,0.0,0.0,0.0,0.0,0.0,0.0,0.0,0.0,100.0,0.0,0.0,70.97,1.7,28.13,0.0,0.05,0.0,0.57,0.0,4.75,-125.75,14,0.0,0.0,0.0,3460,0.23,30.58,0.11,0.0,0.0,0.0,0.26,0.16,0.16,0.0,0.0,1.680574966E9,0.0,0.0,26.58,0.2,0.26,0.29,0.0,0.23,0.41,0.13,73.8,0.0,0.0,0.23,0.0,0.74,0.26,0.0,0.26,0.0,67.78,0.0,0.0,0.26,0.0,0.23,0.26,0.0,0.0,57.25,0.41,00000000000000003ec2\n",
      "1.29,1.01,1.06,0.86,1.01,1.45,1.16,0.92,63.01999999999997,0.38,1.3,0.67,1.05,0.53,0,0.1,0,0.05,0.1,0.48,0.1,0.87,1.25,0.48,0.9,0.72,0.92,0.87,0.97,1.35,1.06,1.01,1.11,0.62,0.58,0.05,0,0,0.39,0,0.34,0,0.63,0.71,0.24,0.76,0.63,0.32,0.67,0.32,1.4,1.01,0.58,0.68,0.63,0.9,0.72,0.72,1.08,0,0.91,1.14,0.39,0.48,0.39,0.34,0.43,0.43,0.58,0.64,0.39,0.39,0.56,0.53,0.48,0.71,0.43,0.43,0.48,0.67,0.48,0.34,0.43,0.52,0.67,0.63,0.72,0.58,0.34,0.72,1.14,0.68,0.6,0.43,0.76,0.58,0.9,0.63,0.58,0.39,0.32,0.77,1.44,0.29,0.0,0.0,0.0,0.11,0.0,0.0,0.0,0.0,0.17,100.0,0.02,0.0,80.16,2.56,18.16,0.0,0.02,0.0,0.18,0.0,8.38,-126.25,14,0.0,0.09,0.0,3809,0.81,21.75,0.0,0.0,0.0,0.0,0.0,0.08,0.18,0.01,0.0,1.657887127E9,0.0,0.0,16.07,0.31,0.66,0.42,0.0,1.02,0.77,0.16,80.16,0.0,0.0,0.56,0.0,1.34,0.69,0.0,0.69,0.0,70.94,0.0,0.0,0.69,0.0,0.67,0.0,0.0,0.0,57.75,0.18,000000000000000046fb\n",
      "0.71,0.66,0.38,0.58,0.81,0.67,0.39,0.58,85.56,1.18,0.34,0.53,0.57,0.72,0,0.14,0.05,0.19,0.1,0.34,0.19,0.85,0.53,0.38,0.82,0.48,0.96,0.43,0.63,0.43,0.67,0.39,1.2,1.49,1.97,2.02,2.3,4.8,0.91,4.23,1.3,1.19,0.87,0.96,0.72,0.72,0.82,0.63,1.25,0.6,0.67,0.87,1.09,0.77,0.58,0.77,0.91,1.44,0.82,0.41,0.76,0.91,0.87,0.52,0.82,0.61,0.58,0.85,0.96,0.82,0.96,1.67,0.34,0.87,0.82,0.67,0.72,0.48,0.53,0.39,0.48,0.34,0.87,1.06,0.58,1.01,1.06,0.77,0.91,1.25,0.77,1.01,0.81,0.82,0.96,0.71,0.77,0.96,0.96,0.72,0.81,0.77,1.88,0.79,0.0,0.0,0.0,0.55,0.0,0.0,0.0,0.0,0.03,100.0,0.02,0.0,64.59,4.05,32.04,0.0,0.04,0.0,0.29,0.0,5.53,-125.25,14,0.0,0.09,0.79,3811,1.06,34.26,0.0,0.0,2.0,0.0,0.0,0.21,0.15,0.09,0.0,1.657887126E9,0.0,0.0,26.45,0.64,1.31,0.23,0.01,1.94,1.64,0.12,65.59,0.0,0.0,0.94,0.0,0.0,1.37,0.04,1.37,0.0,58.5,0.0,0.0,1.37,0.0,0.88,0.0,0.79,0.0,57.75,0.15,000000000000000013ce\n",
      "0.58,0.7,1.11,0.44,0.53,0.43,0.63,0.51,49.66000000000001,0.35,0.67,0.39,0.82,0.63,0,0.05,0,0.05,0,0,0.19,0.48,0.63,0.66,0.63,0.62,0.29,0.53,0.48,0.82,0.44,0.72,0.63,1.44,1.97,2.02,0.96,0,0.48,0,0.48,0,0.87,0.48,0.39,0.48,0.72,0.39,0.67,0.53,0.58,0.38,0.63,0.96,0.48,0.92,0.87,0.53,0.63,0,0.63,0.49,0.42,0.24,0.43,0.34,0.34,0.44,0.05,0.29,0.34,0.45,0.63,0.58,0.34,0.58,0.77,0.34,0.53,0.19,0.24,0.29,0.39,0.34,0.19,0.53,0.48,0.24,0.48,0.44,0.22,0.34,0.48,0.43,0.39,0.44,0.19,0.72,0.34,0.72,0.29,0.19,0.47,0.01,0.0,0.0,0.0,0.32,0.0,0.0,0.0,0.0,0.0,100.0,0.0,0.0,83.97,3.35,14.8,0.0,0.02,0.0,0.2,0.0,7.62,-125.75,14,0.0,0.0,0.0,3810,0.08,19.4,0.0,0.0,0.0,0.0,0.0,0.12,0.2,0.0,0.0,1.657887125E9,0.0,0.0,12.46,0.32,0.94,0.31,0.0,0.46,1.36,0.15,83.97,0.0,0.0,0.08,0.0,0.67,0.94,0.0,0.94,0.0,74.58,0.0,0.0,0.94,0.0,0.03,0.0,0.0,0.0,57.75,0.2,00000000000000003f61\n"
     ]
    }
   ],
   "source": [
    "## View csv\n",
    "!head {bawld_stats_pth}"
   ]
  },
  {
   "cell_type": "code",
   "execution_count": 22,
   "metadata": {},
   "outputs": [
    {
     "ename": "ValueError",
     "evalue": "ee_object must be an ee.FeatureCollection",
     "output_type": "error",
     "traceback": [
      "\u001b[0;31m---------------------------------------------------------------------------\u001b[0m",
      "\u001b[0;31mValueError\u001b[0m                                Traceback (most recent call last)",
      "Cell \u001b[0;32mIn[22], line 1\u001b[0m\n\u001b[0;32m----> 1\u001b[0m geemap\u001b[39m.\u001b[39;49mee_export_vector(\u001b[39m'\u001b[39;49m\u001b[39mhttps://earthengine.googleapis.com/v1alpha/projects/earthengine-legacy/tables/396259f2c3d332ef482a33098d6cc711-36e72eb94399a5afd8debbacfcaffc6c:getFeatures\u001b[39;49m\u001b[39m'\u001b[39;49m, bawld_stats_pth, keep_zip\u001b[39m=\u001b[39;49m\u001b[39mTrue\u001b[39;49;00m)\n",
      "File \u001b[0;32m~/mambaforge/envs/geospatial/lib/python3.10/site-packages/geemap/common.py:1503\u001b[0m, in \u001b[0;36mee_export_vector\u001b[0;34m(ee_object, filename, selectors, verbose, keep_zip, timeout, proxies)\u001b[0m\n\u001b[1;32m   1490\u001b[0m \u001b[39m\"\"\"Exports Earth Engine FeatureCollection to other formats, including shp, csv, json, kml, and kmz.\u001b[39;00m\n\u001b[1;32m   1491\u001b[0m \n\u001b[1;32m   1492\u001b[0m \u001b[39mArgs:\u001b[39;00m\n\u001b[0;32m   (...)\u001b[0m\n\u001b[1;32m   1499\u001b[0m \u001b[39m    proxies (dict, optional): A dictionary of proxies to use. Defaults to None.\u001b[39;00m\n\u001b[1;32m   1500\u001b[0m \u001b[39m\"\"\"\u001b[39;00m\n\u001b[1;32m   1502\u001b[0m \u001b[39mif\u001b[39;00m \u001b[39mnot\u001b[39;00m \u001b[39misinstance\u001b[39m(ee_object, ee\u001b[39m.\u001b[39mFeatureCollection):\n\u001b[0;32m-> 1503\u001b[0m     \u001b[39mraise\u001b[39;00m \u001b[39mValueError\u001b[39;00m(\u001b[39m\"\u001b[39m\u001b[39mee_object must be an ee.FeatureCollection\u001b[39m\u001b[39m\"\u001b[39m)\n\u001b[1;32m   1505\u001b[0m allowed_formats \u001b[39m=\u001b[39m [\u001b[39m\"\u001b[39m\u001b[39mcsv\u001b[39m\u001b[39m\"\u001b[39m, \u001b[39m\"\u001b[39m\u001b[39mgeojson\u001b[39m\u001b[39m\"\u001b[39m, \u001b[39m\"\u001b[39m\u001b[39mjson\u001b[39m\u001b[39m\"\u001b[39m, \u001b[39m\"\u001b[39m\u001b[39mkml\u001b[39m\u001b[39m\"\u001b[39m, \u001b[39m\"\u001b[39m\u001b[39mkmz\u001b[39m\u001b[39m\"\u001b[39m, \u001b[39m\"\u001b[39m\u001b[39mshp\u001b[39m\u001b[39m\"\u001b[39m]\n\u001b[1;32m   1506\u001b[0m \u001b[39m# allowed_formats = ['csv', 'kml', 'kmz']\u001b[39;00m\n",
      "\u001b[0;31mValueError\u001b[0m: ee_object must be an ee.FeatureCollection"
     ]
    }
   ],
   "source": [
    "geemap.ee_export_vector('https://earthengine.googleapis.com/v1alpha/projects/earthengine-legacy/tables/396259f2c3d332ef482a33098d6cc711-36e72eb94399a5afd8debbacfcaffc6c:getFeatures', bawld_stats_pth, keep_zip=True)"
   ]
  },
  {
   "cell_type": "code",
   "execution_count": 30,
   "metadata": {},
   "outputs": [
    {
     "data": {
      "text/plain": [
       "'/home/ekyzivat/mambaforge/envs/geospatial/lib/python3.10/site-packages/geemap/data/template/template.py'"
      ]
     },
     "execution_count": 30,
     "metadata": {},
     "output_type": "execute_result"
    }
   ],
   "source": [
    "# geemap.datasets.get_geemap_data_list()\n",
    "geemap.get_nb_template()"
   ]
  },
  {
   "attachments": {},
   "cell_type": "markdown",
   "metadata": {},
   "source": [
    "### Errors"
   ]
  },
  {
   "attachments": {},
   "cell_type": "markdown",
   "metadata": {},
   "source": [
    "Output when I tried to save as .shp (~7 min):\n",
    "```python\n",
    "Computing ... \n",
    "Generating URL ...\n",
    "Downloading data from https://earthengine.googleapis.com/v1alpha/projects/earthengine-legacy/tables/2439eef1ef1e866e84ef7c39c7a25950-9928bfc2ae36fcea36b19e2b8f795f73:getFeatures\n",
    "Please wait ...\n",
    "An error occurred while downloading. \n",
    " Retrying ...\n",
    "Generating URL ...\n",
    "Downloading data from https://earthengine.googleapis.com/v1alpha/projects/earthengine-legacy/tables/396259f2c3d332ef482a33098d6cc711-36e72eb94399a5afd8debbacfcaffc6c:getFeatures\n",
    "Please wait ...\n",
    "Output exceeds the size limit. Open the full output data in a text editor\n",
    "---------------------------------------------------------------------------\n",
    "BadZipFile                                Traceback (most recent call last)\n",
    "File ~/mambaforge/envs/geospatial/lib/python3.10/site-packages/geemap/common.py:1579, in ee_export_vector(ee_object, filename, selectors, verbose, keep_zip, timeout, proxies)\n",
    "   1578 if filetype == \"shp\":\n",
    "-> 1579     with zipfile.ZipFile(filename) as z:\n",
    "   1580         z.extractall(os.path.dirname(filename))\n",
    "\n",
    "File ~/mambaforge/envs/geospatial/lib/python3.10/zipfile.py:1267, in ZipFile.__init__(self, file, mode, compression, allowZip64, compresslevel, strict_timestamps)\n",
    "   1266 if mode == 'r':\n",
    "-> 1267     self._RealGetContents()\n",
    "   1268 elif mode in ('w', 'x'):\n",
    "   1269     # set the modified flag so central directory gets written\n",
    "   1270     # even if no files are added to the archive\n",
    "\n",
    "File ~/mambaforge/envs/geospatial/lib/python3.10/zipfile.py:1334, in ZipFile._RealGetContents(self)\n",
    "   1333 if not endrec:\n",
    "-> 1334     raise BadZipFile(\"File is not a zip file\")\n",
    "   1335 if self.debug > 1:\n",
    "\n",
    "BadZipFile: File is not a zip file\n",
    "\n",
    "During handling of the above exception, another exception occurred:\n",
    "\n",
    "ValueError                                Traceback (most recent call last)\n",
    "File ~/mambaforge/envs/geospatial/lib/python3.10/site-packages/geemap/common.py:6960, in zonal_stats_by_group(in_value_raster, in_zone_vector, out_file_path, statistics_type, decimal_places, denominator, scale, crs, tile_scale, return_fc, verbose, timeout, proxies, **kwargs)\n",
    "...\n",
    "   6960         ee_export_vector(final_result, filename, timeout=timeout, proxies=proxies)\n",
    "   6962 except Exception as e:\n",
    "-> 6963     raise Exception(e)\n",
    "\n",
    "Exception: File is not a zip file\n"
   ]
  },
  {
   "attachments": {},
   "cell_type": "markdown",
   "metadata": {},
   "source": [
    "```python\n",
    "HttpError: <HttpError 400 when requesting https://earthengine-highvolume.googleapis.com/v1alpha/projects/earthengine-legacy/value:compute?prettyPrint=false&alt=json returned \"Collection query aborted after accumulating over 5000 elements.\". Details: \"Collection query aborted after accumulating over 5000 elements.\">"
   ]
  }
 ],
 "metadata": {
  "kernelspec": {
   "display_name": "geospatial",
   "language": "python",
   "name": "python3"
  },
  "language_info": {
   "codemirror_mode": {
    "name": "ipython",
    "version": 3
   },
   "file_extension": ".py",
   "mimetype": "text/x-python",
   "name": "python",
   "nbconvert_exporter": "python",
   "pygments_lexer": "ipython3",
   "version": "3.10.8"
  },
  "orig_nbformat": 4,
  "vscode": {
   "interpreter": {
    "hash": "7c2adcd04cb759f62ae312ee256557939cf64646c4c1feb81f383cf035bb7331"
   }
  }
 },
 "nbformat": 4,
 "nbformat_minor": 2
}
