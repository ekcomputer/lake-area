{
 "cells": [
  {
   "attachments": {},
   "cell_type": "markdown",
   "metadata": {},
   "source": [
    "Notebook to try various baseline upscaling estimates"
   ]
  },
  {
   "cell_type": "code",
   "execution_count": 1,
   "metadata": {},
   "outputs": [
    {
     "name": "stderr",
     "output_type": "stream",
     "text": [
      "/var/folders/rv/sn0kln2103b9fs4xl56n3w7w0000gn/T/ipykernel_93286/4026541184.py:7: DeprecationWarning: Shapely 2.0 is installed, but because PyGEOS is also installed, GeoPandas still uses PyGEOS by default. However, starting with version 0.14, the default will switch to Shapely. To force to use Shapely 2.0 now, you can either uninstall PyGEOS or set the environment variable USE_PYGEOS=0. You can do this before starting the Python process, or in your code before importing geopandas:\n",
      "\n",
      "import os\n",
      "os.environ['USE_PYGEOS'] = '0'\n",
      "import geopandas\n",
      "\n",
      "In the next release, GeoPandas will switch to using Shapely by default, even if PyGEOS is installed. If you only have PyGEOS installed to get speed-ups, this switch should be smooth. However, if you are using PyGEOS directly (calling PyGEOS functions on geometries from GeoPandas), this will then stop working and you are encouraged to migrate from PyGEOS to Shapely 2.0 (https://shapely.readthedocs.io/en/latest/migration_pygeos.html).\n",
      "  import geopandas as gpd\n"
     ]
    }
   ],
   "source": [
    "## Imports\n",
    "import os\n",
    "import numpy as np\n",
    "import matplotlib.pyplot as plt\n",
    "import seaborn as sns\n",
    "import pandas as pd\n",
    "import geopandas as gpd\n",
    "import dask.dataframe as dd\n",
    "import dask_geopandas as dgpd\n",
    "import statsmodels as sm\n",
    "from statsmodels.formula.api import ols\n",
    "from latlon_utils import get_climate, get_data_dir\n",
    "import xarray as xr\n",
    "import rioxarray\n",
    "import cdsapi\n",
    "import urllib3\n",
    "import cartopy.crs as ccrs\n",
    "import cartopy\n",
    "\n",
    "# import powerlaw\n",
    "\n",
    "analysis_dir = '/Volumes/thebe/Ch4/GSW_zonal_stats/HL/v3/'\n",
    "# roi_pth = '/Volumes/thebe/PAD2019/classification_training/ROI-analysis/ROI-analysis_albers.shp' # for small UAVSAR rois\n",
    "season = 'jja' # or 'ann'\n",
    "maxArea = 5000 # km2 include only lakes less than this for calc\n",
    "\n",
    "###### vars\n",
    "''' Vars 'dataset', 'roi_region', 'run' are used to generate output filename.'''\n",
    "###########\n",
    "# HL vars\n",
    "# dataset = 'HL'\n",
    "# variables = {'id_':'Hylak_id', 'gridcell_':'BAWLDCell_', 'area_':'Shp_Area', 'long_':'BAWLDLong', 'lat_':'BAWLDLat'} # Note: need t o join in lat/long\n",
    "# gdf_pth = '/Volumes/thebe/Ch4/GSW_zonal_stats/HL/v3/HL_zStats_Oc_binned_jnBAWLD.shp' # HL clipped to BAWLD\n",
    "# # gdf_pth = '/Volumes/thebe/Ch4/GSW_zonal_stats/HL/v3/HL_zStats_Oc_binned_jnBAWLD_roiNAHL.shp' # HL clipped to BAWLD and WBD-NAHL\n",
    "# useROI = False\n",
    "# roi_region = 'BAWLD' #'WBD' # 'Baker' # PAD, Daring, YF\n",
    "# run=7\n",
    "# roi_pth = '/Volumes/thebe/Other/Feng-High-res-inland-surface-water-tundra-boreal-NA/edk_out/WBD_convex_hull.shp' # for WBD roi\n",
    "# areaConversionFactor = 1 # because area already in m2\n",
    "# runNote = 'Trying to replicate run 00... success!'\n",
    "\n",
    "\n",
    "## WBD vars\n",
    "# dataset = 'WBD'\n",
    "# # variables = {'id_':'OBJECTID', 'gridcell_':'BAWLDCell_', 'area_':'Area', 'long_':'BAWLDLong', 'lat_':'BAWLDLat'} # if using joined BAWLD\n",
    "# variables = {'id_':'OBJECTID', 'gridcell_':'Cell_ID', 'area_':'Area', 'long_':'Long', 'lat_':'Lat'}\n",
    "# gdf_pth = '/Volumes/thebe/Other/Feng-High-res-inland-surface-water-tundra-boreal-NA/edk_out/fixed_geoms/WBD.shp' # '/Volumes/thebe/Ch4/GSW_zonal_stats/HL/v3/WBD_jnBAWLD.shp' # WBD NOTE: next run, use pre-joined and de-duplicated WBD\n",
    "# useROI = True\n",
    "# roi_region = 'WBD_BAWLD' # WBD intersect BAWLD\n",
    "# run=4\n",
    "# roi_pth = '/Volumes/thebe/Other/Kuhn-olefeldt-BAWLD/BAWLD/BAWLD_V1___Shapefile.zip'\n",
    "# areaConversionFactor = 1 # because area already in m2\n",
    "# runNote = 'No additional notes.'\n",
    "\n",
    "## Sheng vars\n",
    "# dataset = 'Sheng'\n",
    "# variables = {'id_':'SID', 'gridcell_':'Cell_ID', 'area_':'area', 'long_':'Long', 'lat_':'Lat'}\n",
    "# gdf_pth = [f'/Volumes/thebe/Other/Sheng-Arctic-lakes/edk_out/UCLA_ArcticLakes15_{l}.shp' for l in ['AS', 'EU', 'NA']]\n",
    "# useROI = True\n",
    "# roi_region = 'BAWLD' # WBD intersect BAWLD\n",
    "# run=6\n",
    "# roi_pth = '/Volumes/thebe/Other/Kuhn-olefeldt-BAWLD/BAWLD/BAWLD_V1___Shapefile.zip'\n",
    "# areaConversionFactor = 1e6 # area is in m2, want km2\n",
    "# runNote = 'No additional notes.'\n",
    "\n",
    "## Sheng vars (for intersection with WBD and BAWLD)\n",
    "dataset = 'Sheng'\n",
    "variables = {'id_':'SID', 'gridcell_':'Cell_ID', 'area_':'area', 'long_':'Long', 'lat_':'Lat'}\n",
    "gdf_pth = '/Volumes/thebe/Other/Sheng-Arctic-lakes/edk_out/clips/UCLA_ArcticLakes15_NA_WBD_BAWLD.shp'\n",
    "useROI = True\n",
    "roi_region = 'WBD_BAWLD' #'BAWLD' # WBD intersect BAWLD\n",
    "run=8\n",
    "roi_pth = '/Volumes/thebe/Other/Kuhn-olefeldt-BAWLD/BAWLD/BAWLD_V1___Shapefile.zip'\n",
    "areaConversionFactor = 1e6 # area is in m2, want km2\n",
    "runNote = 'HL in BAWLD-WBD domain for comparison'\n",
    "################ auto update vars\n",
    "#################################\n",
    "\n",
    "## Def output paths\n",
    "joined_clim_dir = os.path.join(analysis_dir, 'joined_climate', f'run{run:02}')\n",
    "summ_file_pth = os.path.join(joined_clim_dir, f'{dataset}_sub{roi_region}_clim_summ.csv')\n",
    "logFile_pth = os.path.join(joined_clim_dir, f'logfile_run{run:02}.txt')\n",
    "\n",
    "## Make dirs\n",
    "os.makedirs(joined_clim_dir, exist_ok=True)"
   ]
  },
  {
   "attachments": {},
   "cell_type": "markdown",
   "metadata": {},
   "source": [
    "## Start with Kuhn 2021 regression equations from BAWLD-CH4."
   ]
  },
  {
   "cell_type": "markdown",
   "metadata": {},
   "source": [
    "### Try to replicate coefficients"
   ]
  },
  {
   "cell_type": "code",
   "execution_count": 35,
   "metadata": {},
   "outputs": [
    {
     "name": "stdout",
     "output_type": "stream",
     "text": [
      "Filtered out 81 values (472 remaining).\n",
      "Variables: Index(['ï»¿ID', 'NUM', 'STUDY', 'DATASET', 'YEAR', 'COUNTRY', 'SITE',\n",
      "       'NUMBER.LAKES', 'LAT', 'LONG', 'ECOREGION', 'PERMA.ZONE', 'LAKE.TYPE',\n",
      "       'BOTTOM', 'TALIK', 'SA', 'DEPTH', 'SEASON', 'YEAR.S', 'MONTH',\n",
      "       'PATHWAY', 'D.METHOD', 'K600_EQ', 'K_REF', 'E.METHOD', 'E.LOCATION',\n",
      "       'S.METHOD', 'D.DAYS', 'E.DAYS', 'LENGTH', 'CH4.D.FLUX', 'CH4.E.FLUX',\n",
      "       'Seasonal.Diff.Flux', 'Seasonal.Ebul', 'Seasonal.Storage', 'IBS',\n",
      "       'TEMP', 'DOC', 'PH', 'ICEFREE.DAYS', 'CLASS', 'SIZE', 'TYPE',\n",
      "       'CD_Pcp_An', 'BIOME', 'GRID_T', 'NOTES', 'DOI', 'CH4.D.FLUX.LOG'],\n",
      "      dtype='object')\n"
     ]
    },
    {
     "data": {
      "text/html": [
       "<div>\n",
       "<style scoped>\n",
       "    .dataframe tbody tr th:only-of-type {\n",
       "        vertical-align: middle;\n",
       "    }\n",
       "\n",
       "    .dataframe tbody tr th {\n",
       "        vertical-align: top;\n",
       "    }\n",
       "\n",
       "    .dataframe thead th {\n",
       "        text-align: right;\n",
       "    }\n",
       "</style>\n",
       "<table border=\"1\" class=\"dataframe\">\n",
       "  <thead>\n",
       "    <tr style=\"text-align: right;\">\n",
       "      <th></th>\n",
       "      <th>ï»¿ID</th>\n",
       "      <th>NUM</th>\n",
       "      <th>STUDY</th>\n",
       "      <th>DATASET</th>\n",
       "      <th>YEAR</th>\n",
       "      <th>COUNTRY</th>\n",
       "      <th>SITE</th>\n",
       "      <th>NUMBER.LAKES</th>\n",
       "      <th>LAT</th>\n",
       "      <th>LONG</th>\n",
       "      <th>...</th>\n",
       "      <th>ICEFREE.DAYS</th>\n",
       "      <th>CLASS</th>\n",
       "      <th>SIZE</th>\n",
       "      <th>TYPE</th>\n",
       "      <th>CD_Pcp_An</th>\n",
       "      <th>BIOME</th>\n",
       "      <th>GRID_T</th>\n",
       "      <th>NOTES</th>\n",
       "      <th>DOI</th>\n",
       "      <th>CH4.D.FLUX.LOG</th>\n",
       "    </tr>\n",
       "  </thead>\n",
       "  <tbody>\n",
       "    <tr>\n",
       "      <th>0</th>\n",
       "      <td>1</td>\n",
       "      <td>1</td>\n",
       "      <td>Bartlett et al. 1992</td>\n",
       "      <td>WIK</td>\n",
       "      <td>1992</td>\n",
       "      <td>USA</td>\n",
       "      <td>Large lakes</td>\n",
       "      <td>20.0</td>\n",
       "      <td>60.46</td>\n",
       "      <td>-161.45</td>\n",
       "      <td>...</td>\n",
       "      <td>NaN</td>\n",
       "      <td>LL</td>\n",
       "      <td>L</td>\n",
       "      <td>NaN</td>\n",
       "      <td>522.45</td>\n",
       "      <td>11.0</td>\n",
       "      <td>-0.006</td>\n",
       "      <td>NaN</td>\n",
       "      <td>https://doi.org/10.1029/91JD00610</td>\n",
       "      <td>0.681241</td>\n",
       "    </tr>\n",
       "    <tr>\n",
       "      <th>1</th>\n",
       "      <td>2</td>\n",
       "      <td>1</td>\n",
       "      <td>Bartlett et al. 1992</td>\n",
       "      <td>WIK</td>\n",
       "      <td>1992</td>\n",
       "      <td>USA</td>\n",
       "      <td>Small lakes</td>\n",
       "      <td>20.0</td>\n",
       "      <td>60.46</td>\n",
       "      <td>-161.45</td>\n",
       "      <td>...</td>\n",
       "      <td>NaN</td>\n",
       "      <td>MLPe</td>\n",
       "      <td>M</td>\n",
       "      <td>Pe</td>\n",
       "      <td>522.45</td>\n",
       "      <td>11.0</td>\n",
       "      <td>-0.006</td>\n",
       "      <td>NaN</td>\n",
       "      <td>https://doi.org/10.1029/91JD00610</td>\n",
       "      <td>1.892095</td>\n",
       "    </tr>\n",
       "  </tbody>\n",
       "</table>\n",
       "<p>2 rows × 49 columns</p>\n",
       "</div>"
      ],
      "text/plain": [
       "   ï»¿ID  NUM                 STUDY DATASET  YEAR COUNTRY         SITE  \\\n",
       "0      1    1  Bartlett et al. 1992     WIK  1992     USA  Large lakes   \n",
       "1      2    1  Bartlett et al. 1992     WIK  1992     USA  Small lakes   \n",
       "\n",
       "   NUMBER.LAKES    LAT    LONG  ... ICEFREE.DAYS CLASS SIZE TYPE CD_Pcp_An  \\\n",
       "0          20.0  60.46 -161.45  ...          NaN    LL    L  NaN    522.45   \n",
       "1          20.0  60.46 -161.45  ...          NaN  MLPe    M   Pe    522.45   \n",
       "\n",
       "   BIOME  GRID_T NOTES                                DOI CH4.D.FLUX.LOG  \n",
       "0   11.0  -0.006   NaN  https://doi.org/10.1029/91JD00610       0.681241  \n",
       "1   11.0  -0.006   NaN  https://doi.org/10.1029/91JD00610       1.892095  \n",
       "\n",
       "[2 rows x 49 columns]"
      ]
     },
     "execution_count": 35,
     "metadata": {},
     "output_type": "execute_result"
    }
   ],
   "source": [
    "## Load\n",
    "df = pd.read_csv('/Volumes/thebe/Other/Kuhn-olefeldt-BAWLD/BAWLD-CH4/data/ek_out/archive/BAWLD_CH4_Aquatic.csv', \n",
    "    encoding = \"ISO-8859-1\", dtype={'CH4.E.FLUX ':'float'}, na_values='-')\n",
    "len0 = len(df)\n",
    "\n",
    "## Filter and pre-process\n",
    "# df.query(\"SEASON == 'Icefree' \", inplace=True) # and `D.METHOD` == 'CH'\n",
    "df.dropna(subset=['SA'], inplace=True) # 'CH4.D.FLUX', 'TEMP'\n",
    "\n",
    "## if I want transformed y as its own var\n",
    "df['CH4.D.FLUX.LOG'] = np.log10(df['CH4.D.FLUX']+1) \n",
    "\n",
    "## print filtering\n",
    "len1 = len(df)\n",
    "print(f'Filtered out {len0-len1} values ({len1} remaining).')\n",
    "print(f'Variables: {df.columns}')\n",
    "\n",
    "## View\n",
    "df.head(2)"
   ]
  },
  {
   "cell_type": "code",
   "execution_count": 36,
   "metadata": {},
   "outputs": [
    {
     "data": {
      "text/plain": [
       "Text(0.5, 0, 'Mg CH4 / m2 /day')"
      ]
     },
     "execution_count": 36,
     "metadata": {},
     "output_type": "execute_result"
    },
    {
     "data": {
      "image/png": "[encoded data removed]",
      "text/plain": [
       "<Figure size 640x480 with 1 Axes>"
      ]
     },
     "metadata": {},
     "output_type": "display_data"
    }
   ],
   "source": [
    "## Viz plot\n",
    "df['CH4.D.FLUX'].plot.hist()\n",
    "plt.xlabel('Mg CH4 / m2 /day')"
   ]
  },
  {
   "cell_type": "markdown",
   "metadata": {},
   "source": [
    "## Find D vs E ratio"
   ]
  },
  {
   "cell_type": "markdown",
   "metadata": {},
   "source": [
    "## Exploratory data analysis   "
   ]
  },
  {
   "cell_type": "code",
   "execution_count": 37,
   "metadata": {},
   "outputs": [],
   "source": [
    "## Add total lake flux column (to match LSD.py)\n",
    "dff = df.copy() # make a copy for filling nans and combined D + E\n",
    "dff['CH4.E.FLUX'].fillna(dff['CH4.D.FLUX']*1.2, inplace=True)\n",
    "dff['CH4.D.FLUX'].fillna(dff['CH4.E.FLUX']/1.2, inplace=True)\n",
    "dff['CH4.DE.FLUX'] = dff['CH4.D.FLUX'] + dff['CH4.E.FLUX']\n",
    "\n",
    "## Pre-process some more\n",
    "dff['LAKE.TYPE'] = dff['LAKE.TYPE'].replace('PP/T', 'T') # set peatland pond/thermokarst = thermokarst for simplicity\n",
    "\n",
    "## Filter and pre-process\n",
    "# dff.query(\"SEASON == 'Icefree' \", inplace=True) # and `D.METHOD` == 'CH'\n",
    "dff.dropna(subset=['SA', 'CH4.DE.FLUX'], inplace=True) # 'TEMP'\n"
   ]
  },
  {
   "cell_type": "code",
   "execution_count": 38,
   "metadata": {},
   "outputs": [
    {
     "data": {
      "text/plain": [
       "<Axes: xlabel='GRID_T', ylabel='CH4.DE.FLUX'>"
      ]
     },
     "execution_count": 38,
     "metadata": {},
     "output_type": "execute_result"
    },
    {
     "data": {
      "image/png": "[encoded data removed]",
      "text/plain": [
       "<Figure size 640x480 with 2 Axes>"
      ]
     },
     "metadata": {},
     "output_type": "display_data"
    }
   ],
   "source": [
    "## Plot\n",
    "_, ax = plt.subplots(1,2, sharey=True)\n",
    "# df1.plot.scatter(x='TEMP', y='GRID_T')\n",
    "dff.plot.scatter(x='TEMP', y='CH4.DE.FLUX', ax=ax[0])\n",
    "dff.plot.scatter(x='GRID_T', y='CH4.DE.FLUX', ax=ax[1])"
   ]
  },
  {
   "cell_type": "code",
   "execution_count": 39,
   "metadata": {},
   "outputs": [
    {
     "data": {
      "text/plain": [
       "35"
      ]
     },
     "execution_count": 39,
     "metadata": {},
     "output_type": "execute_result"
    }
   ],
   "source": [
    "## How many missing entries for temp and GRID_T?\n",
    "np.sum(np.isnan(dff.TEMP))\n",
    "np.sum(np.isin(dff.MONTH, ''))\n",
    "np.sum(np.isnan(dff.GRID_T))"
   ]
  },
  {
   "cell_type": "markdown",
   "metadata": {},
   "source": [
    "### Plot metadata"
   ]
  },
  {
   "cell_type": "code",
   "execution_count": 40,
   "metadata": {},
   "outputs": [
    {
     "data": {
      "text/plain": [
       "<Axes: ylabel='Frequency'>"
      ]
     },
     "execution_count": 40,
     "metadata": {},
     "output_type": "execute_result"
    },
    {
     "data": {
      "image/png": "[encoded data removed]",
      "text/plain": [
       "<Figure size 640x480 with 1 Axes>"
      ]
     },
     "metadata": {},
     "output_type": "display_data"
    }
   ],
   "source": [
    "## How long were most studies?\n",
    "dff.LENGTH.plot.hist()"
   ]
  },
  {
   "cell_type": "markdown",
   "metadata": {},
   "source": [
    ".: Most studies lasted < 150 days with <= 3 measurements. So modeled monthly air temp would be hard to compute, unless I take the middle month or average of months."
   ]
  },
  {
   "cell_type": "code",
   "execution_count": 41,
   "metadata": {},
   "outputs": [
    {
     "name": "stderr",
     "output_type": "stream",
     "text": [
      "/Users/ekyzivat/mambaforge/envs/geo/lib/python3.11/site-packages/seaborn/_oldcore.py:1498: FutureWarning: is_categorical_dtype is deprecated and will be removed in a future version. Use isinstance(dtype, CategoricalDtype) instead\n",
      "  if pd.api.types.is_categorical_dtype(vector):\n",
      "/Users/ekyzivat/mambaforge/envs/geo/lib/python3.11/site-packages/seaborn/_oldcore.py:1119: FutureWarning: use_inf_as_na option is deprecated and will be removed in a future version. Convert inf values to NaN before operating instead.\n",
      "  with pd.option_context('mode.use_inf_as_na', True):\n"
     ]
    },
    {
     "data": {
      "text/plain": [
       "<Axes: xlabel='D.DAYS', ylabel='Count'>"
      ]
     },
     "execution_count": 41,
     "metadata": {},
     "output_type": "execute_result"
    },
    {
     "data": {
      "image/png": "[encoded data removed]",
      "text/plain": [
       "<Figure size 640x480 with 1 Axes>"
      ]
     },
     "metadata": {},
     "output_type": "display_data"
    }
   ],
   "source": [
    "# dff['D.DAYS'].plot.hist()\n",
    "sns.histplot(dff, x='D.DAYS', log_scale=10)"
   ]
  },
  {
   "cell_type": "code",
   "execution_count": 50,
   "metadata": {},
   "outputs": [
    {
     "data": {
      "text/plain": [
       "array([1992, 1994, 1995, 1998, 1999, 2001, 2002, 2003, 2004, 2007, 2008,\n",
       "       2009, 2010, 2011, 2012, 2013, 2014, 2015, 2016, 2017, 2018, 2019,\n",
       "       2020])"
      ]
     },
     "execution_count": 50,
     "metadata": {},
     "output_type": "execute_result"
    }
   ],
   "source": [
    "## How many unique years and months in BAWLD?\n",
    "unq_yrs = np.unique(df[['YEAR']])\n",
    "unq_yrs"
   ]
  },
  {
   "cell_type": "code",
   "execution_count": 42,
   "metadata": {},
   "outputs": [
    {
     "data": {
      "text/html": [
       "<div>\n",
       "<style scoped>\n",
       "    .dataframe tbody tr th:only-of-type {\n",
       "        vertical-align: middle;\n",
       "    }\n",
       "\n",
       "    .dataframe tbody tr th {\n",
       "        vertical-align: top;\n",
       "    }\n",
       "\n",
       "    .dataframe thead th {\n",
       "        text-align: right;\n",
       "    }\n",
       "</style>\n",
       "<table border=\"1\" class=\"dataframe\">\n",
       "  <thead>\n",
       "    <tr style=\"text-align: right;\">\n",
       "      <th></th>\n",
       "      <th>YEAR</th>\n",
       "      <th>MONTH</th>\n",
       "    </tr>\n",
       "  </thead>\n",
       "  <tbody>\n",
       "    <tr>\n",
       "      <th>0</th>\n",
       "      <td>1992</td>\n",
       "      <td>July-August</td>\n",
       "    </tr>\n",
       "    <tr>\n",
       "      <th>1</th>\n",
       "      <td>1992</td>\n",
       "      <td>July-August</td>\n",
       "    </tr>\n",
       "    <tr>\n",
       "      <th>2</th>\n",
       "      <td>1992</td>\n",
       "      <td>July-August</td>\n",
       "    </tr>\n",
       "    <tr>\n",
       "      <th>4</th>\n",
       "      <td>2004</td>\n",
       "      <td>July</td>\n",
       "    </tr>\n",
       "    <tr>\n",
       "      <th>5</th>\n",
       "      <td>2004</td>\n",
       "      <td>July</td>\n",
       "    </tr>\n",
       "    <tr>\n",
       "      <th>...</th>\n",
       "      <td>...</td>\n",
       "      <td>...</td>\n",
       "    </tr>\n",
       "    <tr>\n",
       "      <th>546</th>\n",
       "      <td>2017</td>\n",
       "      <td>July-August</td>\n",
       "    </tr>\n",
       "    <tr>\n",
       "      <th>549</th>\n",
       "      <td>2019</td>\n",
       "      <td>October-May</td>\n",
       "    </tr>\n",
       "    <tr>\n",
       "      <th>550</th>\n",
       "      <td>2019</td>\n",
       "      <td>October-May</td>\n",
       "    </tr>\n",
       "    <tr>\n",
       "      <th>551</th>\n",
       "      <td>2019</td>\n",
       "      <td>October-May</td>\n",
       "    </tr>\n",
       "    <tr>\n",
       "      <th>552</th>\n",
       "      <td>1992</td>\n",
       "      <td>July</td>\n",
       "    </tr>\n",
       "  </tbody>\n",
       "</table>\n",
       "<p>472 rows × 2 columns</p>\n",
       "</div>"
      ],
      "text/plain": [
       "     YEAR        MONTH\n",
       "0    1992  July-August\n",
       "1    1992  July-August\n",
       "2    1992  July-August\n",
       "4    2004         July\n",
       "5    2004         July\n",
       "..    ...          ...\n",
       "546  2017  July-August\n",
       "549  2019  October-May\n",
       "550  2019  October-May\n",
       "551  2019  October-May\n",
       "552  1992         July\n",
       "\n",
       "[472 rows x 2 columns]"
      ]
     },
     "execution_count": 42,
     "metadata": {},
     "output_type": "execute_result"
    }
   ],
   "source": [
    "df[['LAT','LONG']]\n",
    "df[['YEAR','MONTH']]"
   ]
  },
  {
   "cell_type": "markdown",
   "metadata": {},
   "source": [
    "## Regression"
   ]
  },
  {
   "cell_type": "code",
   "execution_count": 43,
   "metadata": {},
   "outputs": [
    {
     "data": {
      "text/html": [
       "<table class=\"simpletable\">\n",
       "<caption>OLS Regression Results</caption>\n",
       "<tr>\n",
       "  <th>Dep. Variable:</th>    <td>np.log10(Q('CH4.DE.FLUX') + 0.01)</td> <th>  R-squared:         </th> <td>   0.106</td>\n",
       "</tr>\n",
       "<tr>\n",
       "  <th>Model:</th>                           <td>OLS</td>                <th>  Adj. R-squared:    </th> <td>   0.099</td>\n",
       "</tr>\n",
       "<tr>\n",
       "  <th>Method:</th>                     <td>Least Squares</td>           <th>  F-statistic:       </th> <td>   14.35</td>\n",
       "</tr>\n",
       "<tr>\n",
       "  <th>Date:</th>                     <td>Wed, 13 Sep 2023</td>          <th>  Prob (F-statistic):</th> <td>1.30e-06</td>\n",
       "</tr>\n",
       "<tr>\n",
       "  <th>Time:</th>                         <td>10:58:46</td>              <th>  Log-Likelihood:    </th> <td> -256.18</td>\n",
       "</tr>\n",
       "<tr>\n",
       "  <th>No. Observations:</th>              <td>   244</td>               <th>  AIC:               </th> <td>   518.4</td>\n",
       "</tr>\n",
       "<tr>\n",
       "  <th>Df Residuals:</th>                  <td>   241</td>               <th>  BIC:               </th> <td>   528.9</td>\n",
       "</tr>\n",
       "<tr>\n",
       "  <th>Df Model:</th>                      <td>     2</td>               <th>                     </th>     <td> </td>   \n",
       "</tr>\n",
       "<tr>\n",
       "  <th>Covariance Type:</th>              <td>nonrobust</td>             <th>                     </th>     <td> </td>   \n",
       "</tr>\n",
       "</table>\n",
       "<table class=\"simpletable\">\n",
       "<tr>\n",
       "        <td></td>          <th>coef</th>     <th>std err</th>      <th>t</th>      <th>P>|t|</th>  <th>[0.025</th>    <th>0.975]</th>  \n",
       "</tr>\n",
       "<tr>\n",
       "  <th>Intercept</th>    <td>    0.5402</td> <td>    0.161</td> <td>    3.345</td> <td> 0.001</td> <td>    0.222</td> <td>    0.858</td>\n",
       "</tr>\n",
       "<tr>\n",
       "  <th>np.log10(SA)</th> <td>   -0.0887</td> <td>    0.037</td> <td>   -2.378</td> <td> 0.018</td> <td>   -0.162</td> <td>   -0.015</td>\n",
       "</tr>\n",
       "<tr>\n",
       "  <th>TEMP</th>         <td>    0.0507</td> <td>    0.011</td> <td>    4.506</td> <td> 0.000</td> <td>    0.029</td> <td>    0.073</td>\n",
       "</tr>\n",
       "</table>\n",
       "<table class=\"simpletable\">\n",
       "<tr>\n",
       "  <th>Omnibus:</th>       <td>77.880</td> <th>  Durbin-Watson:     </th> <td>   1.625</td>\n",
       "</tr>\n",
       "<tr>\n",
       "  <th>Prob(Omnibus):</th> <td> 0.000</td> <th>  Jarque-Bera (JB):  </th> <td> 407.419</td>\n",
       "</tr>\n",
       "<tr>\n",
       "  <th>Skew:</th>          <td>-1.156</td> <th>  Prob(JB):          </th> <td>3.39e-89</td>\n",
       "</tr>\n",
       "<tr>\n",
       "  <th>Kurtosis:</th>      <td> 8.893</td> <th>  Cond. No.          </th> <td>    51.1</td>\n",
       "</tr>\n",
       "</table><br/><br/>Notes:<br/>[1] Standard Errors assume that the covariance matrix of the errors is correctly specified."
      ],
      "text/latex": [
       "\\begin{center}\n",
       "\\begin{tabular}{lclc}\n",
       "\\toprule\n",
       "\\textbf{Dep. Variable:}    & np.log10(Q('CH4.DE.FLUX') + 0.01) & \\textbf{  R-squared:         } &     0.106   \\\\\n",
       "\\textbf{Model:}            &                OLS                & \\textbf{  Adj. R-squared:    } &     0.099   \\\\\n",
       "\\textbf{Method:}           &           Least Squares           & \\textbf{  F-statistic:       } &     14.35   \\\\\n",
       "\\textbf{Date:}             &          Wed, 13 Sep 2023         & \\textbf{  Prob (F-statistic):} &  1.30e-06   \\\\\n",
       "\\textbf{Time:}             &              10:58:46             & \\textbf{  Log-Likelihood:    } &   -256.18   \\\\\n",
       "\\textbf{No. Observations:} &                  244              & \\textbf{  AIC:               } &     518.4   \\\\\n",
       "\\textbf{Df Residuals:}     &                  241              & \\textbf{  BIC:               } &     528.9   \\\\\n",
       "\\textbf{Df Model:}         &                    2              & \\textbf{                     } &             \\\\\n",
       "\\textbf{Covariance Type:}  &             nonrobust             & \\textbf{                     } &             \\\\\n",
       "\\bottomrule\n",
       "\\end{tabular}\n",
       "\\begin{tabular}{lcccccc}\n",
       "                      & \\textbf{coef} & \\textbf{std err} & \\textbf{t} & \\textbf{P$> |$t$|$} & \\textbf{[0.025} & \\textbf{0.975]}  \\\\\n",
       "\\midrule\n",
       "\\textbf{Intercept}    &       0.5402  &        0.161     &     3.345  &         0.001        &        0.222    &        0.858     \\\\\n",
       "\\textbf{np.log10(SA)} &      -0.0887  &        0.037     &    -2.378  &         0.018        &       -0.162    &       -0.015     \\\\\n",
       "\\textbf{TEMP}         &       0.0507  &        0.011     &     4.506  &         0.000        &        0.029    &        0.073     \\\\\n",
       "\\bottomrule\n",
       "\\end{tabular}\n",
       "\\begin{tabular}{lclc}\n",
       "\\textbf{Omnibus:}       & 77.880 & \\textbf{  Durbin-Watson:     } &    1.625  \\\\\n",
       "\\textbf{Prob(Omnibus):} &  0.000 & \\textbf{  Jarque-Bera (JB):  } &  407.419  \\\\\n",
       "\\textbf{Skew:}          & -1.156 & \\textbf{  Prob(JB):          } & 3.39e-89  \\\\\n",
       "\\textbf{Kurtosis:}      &  8.893 & \\textbf{  Cond. No.          } &     51.1  \\\\\n",
       "\\bottomrule\n",
       "\\end{tabular}\n",
       "%\\caption{OLS Regression Results}\n",
       "\\end{center}\n",
       "\n",
       "Notes: \\newline\n",
       " [1] Standard Errors assume that the covariance matrix of the errors is correctly specified."
      ],
      "text/plain": [
       "<class 'statsmodels.iolib.summary.Summary'>\n",
       "\"\"\"\n",
       "                                    OLS Regression Results                                   \n",
       "=============================================================================================\n",
       "Dep. Variable:     np.log10(Q('CH4.DE.FLUX') + 0.01)   R-squared:                       0.106\n",
       "Model:                                           OLS   Adj. R-squared:                  0.099\n",
       "Method:                                Least Squares   F-statistic:                     14.35\n",
       "Date:                               Wed, 13 Sep 2023   Prob (F-statistic):           1.30e-06\n",
       "Time:                                       10:58:46   Log-Likelihood:                -256.18\n",
       "No. Observations:                                244   AIC:                             518.4\n",
       "Df Residuals:                                    241   BIC:                             528.9\n",
       "Df Model:                                          2                                         \n",
       "Covariance Type:                           nonrobust                                         \n",
       "================================================================================\n",
       "                   coef    std err          t      P>|t|      [0.025      0.975]\n",
       "--------------------------------------------------------------------------------\n",
       "Intercept        0.5402      0.161      3.345      0.001       0.222       0.858\n",
       "np.log10(SA)    -0.0887      0.037     -2.378      0.018      -0.162      -0.015\n",
       "TEMP             0.0507      0.011      4.506      0.000       0.029       0.073\n",
       "==============================================================================\n",
       "Omnibus:                       77.880   Durbin-Watson:                   1.625\n",
       "Prob(Omnibus):                  0.000   Jarque-Bera (JB):              407.419\n",
       "Skew:                          -1.156   Prob(JB):                     3.39e-89\n",
       "Kurtosis:                       8.893   Cond. No.                         51.1\n",
       "==============================================================================\n",
       "\n",
       "Notes:\n",
       "[1] Standard Errors assume that the covariance matrix of the errors is correctly specified.\n",
       "\"\"\""
      ]
     },
     "execution_count": 43,
     "metadata": {},
     "output_type": "execute_result"
    }
   ],
   "source": [
    "## Linear models (regression) v0\n",
    "formula1 = \"np.log10(Q('CH4.DE.FLUX') + 0.01) ~ np.log10(SA) + TEMP\" # 'Seasonal.Diff.Flux' 'CH4.D.FLUX'\n",
    "model1 = ols(formula=formula1, data=dff).fit() # uses water temp\n",
    "formula2 = \"np.log10(Q('CH4.DE.FLUX') + 0.01) ~ np.log10(SA) + GRID_T\" # 'Seasonal.Diff.Flux' 'CH4.D.FLUX'\n",
    "model2 = ols(formula=formula2, data=dff).fit() # uses MAAT\n",
    "formula3 = \"np.log10(Q('CH4.DE.FLUX') + 0.01) ~ np.log10(SA) + np.power(TEMP, 2)\" # 'Seasonal.Diff.Flux' 'CH4.D.FLUX'\n",
    "model3 = ols(formula=formula3, data=dff).fit() # uses MAAT\n",
    "\n",
    "# print(f'R2: {model1.rsquared:0.3}')\n",
    "model1.summary() # Their model uses 149 data points with adj r2 = 0.36"
   ]
  },
  {
   "cell_type": "code",
   "execution_count": 49,
   "metadata": {},
   "outputs": [
    {
     "data": {
      "text/plain": [
       "0.10640152655941582"
      ]
     },
     "execution_count": 49,
     "metadata": {},
     "output_type": "execute_result"
    }
   ],
   "source": [
    "## Compare model using water temp vs MAAT. First column is after filtering by TEMP and ice-free. Second column is without and shows less difference bw variable.\n",
    "model1.rsquared # 0.115 # 0.106 # water temp\n",
    "model2.rsquared # 0.046 # 0.109 # MAAT\n",
    "model3.rsquared # 0.116 # 0.108 # water temp squared - hardly an improvement! Justification for linear.\n",
    "# TODO: model that uses monthly or daily air temp!"
   ]
  },
  {
   "cell_type": "code",
   "execution_count": 6,
   "metadata": {},
   "outputs": [
    {
     "data": {
      "text/html": [
       "<div>\n",
       "<style scoped>\n",
       "    .dataframe tbody tr th:only-of-type {\n",
       "        vertical-align: middle;\n",
       "    }\n",
       "\n",
       "    .dataframe tbody tr th {\n",
       "        vertical-align: top;\n",
       "    }\n",
       "\n",
       "    .dataframe thead th {\n",
       "        text-align: right;\n",
       "    }\n",
       "</style>\n",
       "<table border=\"1\" class=\"dataframe\">\n",
       "  <thead>\n",
       "    <tr style=\"text-align: right;\">\n",
       "      <th></th>\n",
       "      <th>Weighted</th>\n",
       "      <th>Unweighted</th>\n",
       "    </tr>\n",
       "    <tr>\n",
       "      <th>labels</th>\n",
       "      <th></th>\n",
       "      <th></th>\n",
       "    </tr>\n",
       "  </thead>\n",
       "  <tbody>\n",
       "    <tr>\n",
       "      <th>[0.0, 0.001)</th>\n",
       "      <td>83.153513</td>\n",
       "      <td>81.345516</td>\n",
       "    </tr>\n",
       "    <tr>\n",
       "      <th>[0.001, 0.01)</th>\n",
       "      <td>48.764551</td>\n",
       "      <td>57.821621</td>\n",
       "    </tr>\n",
       "    <tr>\n",
       "      <th>[0.01, 0.1)</th>\n",
       "      <td>15.291354</td>\n",
       "      <td>21.735805</td>\n",
       "    </tr>\n",
       "    <tr>\n",
       "      <th>[0.1, 1.0)</th>\n",
       "      <td>12.296279</td>\n",
       "      <td>22.443092</td>\n",
       "    </tr>\n",
       "    <tr>\n",
       "      <th>[1.0, 10.0)</th>\n",
       "      <td>9.622905</td>\n",
       "      <td>11.667766</td>\n",
       "    </tr>\n",
       "    <tr>\n",
       "      <th>[10.0, 100.0)</th>\n",
       "      <td>8.584530</td>\n",
       "      <td>9.420000</td>\n",
       "    </tr>\n",
       "    <tr>\n",
       "      <th>[100.0, inf)</th>\n",
       "      <td>5.019685</td>\n",
       "      <td>4.675000</td>\n",
       "    </tr>\n",
       "  </tbody>\n",
       "</table>\n",
       "</div>"
      ],
      "text/plain": [
       "                Weighted  Unweighted\n",
       "labels                              \n",
       "[0.0, 0.001)   83.153513   81.345516\n",
       "[0.001, 0.01)  48.764551   57.821621\n",
       "[0.01, 0.1)    15.291354   21.735805\n",
       "[0.1, 1.0)     12.296279   22.443092\n",
       "[1.0, 10.0)     9.622905   11.667766\n",
       "[10.0, 100.0)   8.584530    9.420000\n",
       "[100.0, inf)    5.019685    4.675000"
      ]
     },
     "execution_count": 6,
     "metadata": {},
     "output_type": "execute_result"
    }
   ],
   "source": [
    "## compare to HR16\n",
    "bin_edges = [0, 0.001, 0.01, 0.1, 1, 10, 100, np.inf]\n",
    "area_bins = pd.IntervalIndex.from_breaks(bin_edges, closed='left')\n",
    "df['labels'] = pd.cut(df.SA, area_bins, right=False)\n",
    "\n",
    "## Bin\n",
    "group_means_d = df.groupby(['labels'])['CH4.D.FLUX'].mean() # \n",
    "group_means_e = df.groupby(['labels'])['CH4.E.FLUX'].mean() # \n",
    "group_sem_e = df.groupby(['labels'])['CH4.E.FLUX'].sem() # \n",
    "\n",
    "wAvg = lambda x: (np.nansum(x['CH4.D.FLUX'] * x['SA'])) / np.nansum(x['SA'])  # lambda to apply weighted mean\n",
    "group_means_d_weighted = df.groupby(['labels']).apply(wAvg) # units mg CH4m−2d−1\n",
    "group_sem_d = df.groupby(['labels'])['CH4.D.FLUX'].sem()\n",
    "\n",
    "## Test if weighting fluxes within bin by lake area matters (it doesn't really)\n",
    "pd.DataFrame({'Weighted': group_means_d_weighted, 'Unweighted': group_means_d})"
   ]
  },
  {
   "cell_type": "code",
   "execution_count": 7,
   "metadata": {},
   "outputs": [
    {
     "name": "stderr",
     "output_type": "stream",
     "text": [
      "/tmp/ipykernel_23237/3690919346.py:22: UserWarning: FixedFormatter should only be used together with FixedLocator\n",
      "  plt.gca().set_xticklabels(labels) # =hr16_means_d.index\n"
     ]
    },
    {
     "data": {
      "image/png": "[encoded data removed]",
      "text/plain": [
       "<Figure size 640x480 with 1 Axes>"
      ]
     },
     "metadata": {},
     "output_type": "display_data"
    }
   ],
   "source": [
    "## Plot to view size bins ratios\n",
    "## HR16\n",
    "hr16_means_d = pd.Series([36.6, 10.4, 4.5, 2.6, 1.92, 1.60, 0.962], index=group_means_d.index)  # Units = mmol C /m2 /day converted to mg CH4/ m2/day\n",
    "hr16_sem_d = pd.Series([8.18, 2.57, 0.80, 0.64, 0.96, 0.80, 0.64], index=group_means_d.index)\n",
    "\n",
    "## Rosentreter et al. 2021\n",
    "# r21_means_d = pd.Series([54.5, 31.1, 22.4, 9.9, 33.0, np.nan, np.nan], index=group_means_d.index)  # Units = mg CH4/ m2/day\n",
    "r21_means_de = pd.Series([407.6, 228.8, 98.3, 62.5, 144.8, np.nan, np.nan], index=group_means_d.index)  # Units = mg CH4/ m2/day\n",
    "r21_sem_de = pd.Series([238.0, 114.6, 39.3, 37.8, 191.6, np.nan, np.nan], index=group_means_d.index) # actually 95% CI\n",
    "\n",
    "## Note: not lakes in BAWLD > 100 km2. df.query('SA > 100') --> empty df\n",
    "\n",
    "## Plots\n",
    "barWidth = 0.40\n",
    "offset = 0.20\n",
    "labels = ['dummy', '<0.001', '0.001-0.01', '0.01-0.1','0.1-1','1-10', '10-100', '>100']\n",
    "plt.bar(x=np.arange(len(group_means_d))+offset, width=barWidth, height=group_means_d, alpha=1, label='BAWLD-CH4', yerr=group_sem_d)\n",
    "plt.bar(x=np.arange(len(hr16_means_d))-offset, width=barWidth, height=hr16_means_d, alpha=1, label='HR16', yerr=hr16_sem_d)\n",
    "plt.legend()\n",
    "plt.ylabel('Diffusive fluxes (mgCH4/m2/day)')\n",
    "plt.xlabel('Lake area (km2)')\n",
    "plt.gca().set_xticklabels(labels) # =hr16_means_d.index\n",
    "plt.show()\n"
   ]
  },
  {
   "cell_type": "code",
   "execution_count": 8,
   "metadata": {},
   "outputs": [
    {
     "name": "stderr",
     "output_type": "stream",
     "text": [
      "/tmp/ipykernel_23237/1649094610.py:4: UserWarning: FixedFormatter should only be used together with FixedLocator\n",
      "  plt.gca().set_xticklabels(labels[:-3]+['>10']) # =hr16_means_d.index\n"
     ]
    },
    {
     "data": {
      "text/plain": [
       "Text(0, 0.5, 'D+ E fluxes (mgCH4/m2/day)')"
      ]
     },
     "execution_count": 8,
     "metadata": {},
     "output_type": "execute_result"
    },
    {
     "data": {
      "image/png": "[encoded data removed]",
      "text/plain": [
       "<Figure size 640x480 with 1 Axes>"
      ]
     },
     "metadata": {},
     "output_type": "display_data"
    }
   ],
   "source": [
    "## Repeat for R21 (much higher values)\n",
    "plt.bar(x=np.arange(len(r21_means_de))-offset, width=barWidth, height=r21_means_de, alpha=1, label='R21', yerr=r21_sem_de)\n",
    "plt.legend()\n",
    "plt.gca().set_xticklabels(labels[:-3]+['>10']) # =hr16_means_d.index\n",
    "plt.ylabel('D+ E fluxes (mgCH4/m2/day)')\n"
   ]
  },
  {
   "cell_type": "code",
   "execution_count": 9,
   "metadata": {},
   "outputs": [
    {
     "name": "stdout",
     "output_type": "stream",
     "text": [
      "BAWLD ratio: 3.3\n",
      "HR16 ratio: 8.7\n",
      "R21 ratio: 3.1\n"
     ]
    }
   ],
   "source": [
    "## Figure out ratio of first bin avg to rest\n",
    "\n",
    "# drop upper bin to be consistent (since none in BAWLD after filtering)\n",
    "group_means_d_drop = group_means_d[:-1]\n",
    "b_ratio = group_means_d_drop[0] / group_means_d_drop[1:].mean() # bin ratio # try filtering [1:]\n",
    "\n",
    "hr16_means_d_drop = hr16_means_d[:-1]\n",
    "hr16_ratio = hr16_means_d_drop[0] / hr16_means_d_drop[1:].mean()\n",
    "\n",
    "hr16_ratio_rep = hr16_means_d[0] / hr16_means_d[1:].mean()\n",
    "\n",
    "r21_ratio = r21_means_de[0] / r21_means_de[1:].mean() # Note, they use fewer bins than others and include E, which tends to make the curve flatter\n",
    "\n",
    "print(f'BAWLD ratio: {b_ratio:0.2}\\nHR16 ratio: {hr16_ratio:0.2}\\nR21 ratio: {r21_ratio:0.2}')\n",
    "# print(f'Replicate HR16 stat: {hr16_ratio_rep:0.2%}')\n"
   ]
  },
  {
   "cell_type": "code",
   "execution_count": 10,
   "metadata": {},
   "outputs": [
    {
     "name": "stdout",
     "output_type": "stream",
     "text": [
      "BAWLD fluxrate ratio using HR16 areas: 24.35%\n",
      "BAWLD fluxrate ratio using est areas: 3.17%\n",
      "HR16 ratio presented: 40.6%\n",
      "\n",
      "HR16 v small pond area ratio: 5.76%\n",
      "My est v small pond area ratio: 0.53%\n"
     ]
    }
   ],
   "source": [
    "## V2: Figure out very small pond contrib to total flux for direct comparison w HR16\n",
    "\n",
    "HR16_areas = np.array([334366, 406576, 675234, 984651, 782074, 597789, 2024016]) # for first bin: lower bound = 147763, upper = 861578\n",
    "est_areas = np.array([7258, 34886, 117171, 264898, 296301, 210167, 440971])# my area estimates\n",
    "group_rate_means_d = group_means_d * HR16_areas # units mg ch4 / day\n",
    "group_rate_means_d_v2 = group_means_d * est_areas # units mg ch4 / day\n",
    "\n",
    "b_ratio_fluxrate = group_rate_means_d[0] / group_rate_means_d.sum() # bin ratio of flux rates\n",
    "b_ratio_fluxrate_v2 = group_rate_means_d_v2[0] / group_rate_means_d_v2.sum() # bin ratio of flux rates\n",
    "\n",
    "print(f'BAWLD fluxrate ratio using HR16 areas: {b_ratio_fluxrate:0.2%}')\n",
    "print(f'BAWLD fluxrate ratio using est areas: {b_ratio_fluxrate_v2:0.2%}\\nHR16 ratio presented: 40.6%')\n",
    "\n",
    "print(f'\\nHR16 v small pond area ratio: {HR16_areas[0] / HR16_areas.sum():0.2%}')\n",
    "print(f'My est v small pond area ratio: {est_areas[0] / est_areas.sum():0.2%}')"
   ]
  },
  {
   "cell_type": "code",
   "execution_count": 11,
   "metadata": {},
   "outputs": [
    {
     "name": "stderr",
     "output_type": "stream",
     "text": [
      "/tmp/ipykernel_23237/333129865.py:14: UserWarning: FixedFormatter should only be used together with FixedLocator\n",
      "  plt.gca().set_xticklabels(labels) # =hr16_means_d.index\n"
     ]
    },
    {
     "data": {
      "image/png": "[encoded data removed]",
      "text/plain": [
       "<Figure size 640x480 with 1 Axes>"
      ]
     },
     "metadata": {},
     "output_type": "display_data"
    }
   ],
   "source": [
    "## Plots: compare BAWLD D vs E\n",
    "barWidth = 0.40\n",
    "offset = 0.20\n",
    "labels = ['dummy', '<0.001', '0.001-0.01', '0.01-0.1','0.1-1','1-10', '10-100', '>100']\n",
    "\n",
    "\n",
    "plt.bar(x=np.arange(len(group_means_d))+offset, height=group_means_d, width=barWidth, alpha=1, color='orange', label='Diffusion', yerr=group_sem_d)\n",
    "plt.bar(x=np.arange(len(group_means_d))-offset, height=group_means_e, width=barWidth, alpha=1, color='purple', label='Ebullition', yerr=group_sem_e)\n",
    "\n",
    "plt.legend()\n",
    "plt.title('BAWLD-CH4')\n",
    "plt.ylabel('Fluxes (mgCH4/m2/day)')\n",
    "plt.xlabel('Lake area (km2)')\n",
    "plt.gca().set_xticklabels(labels) # =hr16_means_d.index\n",
    "plt.show()"
   ]
  },
  {
   "attachments": {},
   "cell_type": "markdown",
   "metadata": {},
   "source": [
    "## Lakes vs wl flux"
   ]
  },
  {
   "cell_type": "code",
   "execution_count": 7,
   "metadata": {},
   "outputs": [
    {
     "name": "stdout",
     "output_type": "stream",
     "text": [
      "Filtered out 72 values (481 remaining).\n",
      "Variables: Index(['ï»¿ID', 'NUM', 'STUDY', 'DATASET', 'YEAR', 'COUNTRY', 'SITE',\n",
      "       'NUMBER.LAKES', 'LAT', 'LONG', 'ECOREGION', 'PERMA.ZONE', 'LAKE.TYPE',\n",
      "       'BOTTOM', 'TALIK', 'SA', 'DEPTH', 'SEASON', 'YEAR.S', 'MONTH',\n",
      "       'PATHWAY', 'D.METHOD', 'K600_EQ', 'K_REF', 'E.METHOD', 'E.LOCATION',\n",
      "       'S.METHOD', 'D.DAYS', 'E.DAYS', 'LENGTH', 'CH4.D.FLUX', 'CH4.E.FLUX',\n",
      "       'Seasonal.Diff.Flux', 'Seasonal.Ebul', 'Seasonal.Storage', 'IBS',\n",
      "       'TEMP', 'DOC', 'PH', 'ICEFREE.DAYS', 'CLASS', 'SIZE', 'TYPE',\n",
      "       'CD_Pcp_An', 'BIOME', 'GRID_T', 'NOTES', 'DOI'],\n",
      "      dtype='object')\n"
     ]
    }
   ],
   "source": [
    "## Re-load lakes, this time, don't filter by SA\n",
    "df = pd.read_csv('/Volumes/thebe/Other/Kuhn-olefeldt-BAWLD/BAWLD-CH4/data/ek_out/archive/BAWLD_CH4_Aquatic.csv', \n",
    "    encoding = \"ISO-8859-1\", dtype={'CH4.E.FLUX ':'float'}, na_values='-')\n",
    "len0 = len(df)\n",
    "\n",
    "## Filter and pre-process\n",
    "df.query(\"SEASON == 'Icefree' \", inplace=True) # and `D.METHOD` == 'CH'\n",
    "\n",
    "## print filtering\n",
    "len1 = len(df)\n",
    "print(f'Filtered out {len0-len1} values ({len1} remaining).')\n",
    "print(f'Variables: {df.columns}')"
   ]
  },
  {
   "cell_type": "code",
   "execution_count": 8,
   "metadata": {},
   "outputs": [
    {
     "data": {
      "text/html": [
       "<div>\n",
       "<style scoped>\n",
       "    .dataframe tbody tr th:only-of-type {\n",
       "        vertical-align: middle;\n",
       "    }\n",
       "\n",
       "    .dataframe tbody tr th {\n",
       "        vertical-align: top;\n",
       "    }\n",
       "\n",
       "    .dataframe thead th {\n",
       "        text-align: right;\n",
       "    }\n",
       "</style>\n",
       "<table border=\"1\" class=\"dataframe\">\n",
       "  <thead>\n",
       "    <tr style=\"text-align: right;\">\n",
       "      <th></th>\n",
       "      <th>RefID</th>\n",
       "      <th>Dataset</th>\n",
       "      <th>Reference</th>\n",
       "      <th>LatDec</th>\n",
       "      <th>LongDec</th>\n",
       "      <th>Site</th>\n",
       "      <th>SiteID</th>\n",
       "      <th>Country</th>\n",
       "      <th>ID</th>\n",
       "      <th>Ecosystem</th>\n",
       "      <th>...</th>\n",
       "      <th>Sedge</th>\n",
       "      <th>Sphag</th>\n",
       "      <th>Moss</th>\n",
       "      <th>Trees</th>\n",
       "      <th>Shrubs</th>\n",
       "      <th>Annual.Temp</th>\n",
       "      <th>TotalID</th>\n",
       "      <th>CD_Pcp_An</th>\n",
       "      <th>BIOME</th>\n",
       "      <th>DOI</th>\n",
       "    </tr>\n",
       "  </thead>\n",
       "  <tbody>\n",
       "    <tr>\n",
       "      <th>0</th>\n",
       "      <td>1</td>\n",
       "      <td>Olefeldt</td>\n",
       "      <td>Adamsen and King, 1993, Applied and Environmen...</td>\n",
       "      <td>54.72</td>\n",
       "      <td>-66.7</td>\n",
       "      <td>Schefferville, Quebec, Canada</td>\n",
       "      <td>Schefferville</td>\n",
       "      <td>Canada</td>\n",
       "      <td>NaN</td>\n",
       "      <td>Subarctic Tundra</td>\n",
       "      <td>...</td>\n",
       "      <td>NaN</td>\n",
       "      <td>NaN</td>\n",
       "      <td>NaN</td>\n",
       "      <td>NaN</td>\n",
       "      <td>NaN</td>\n",
       "      <td>-4.6</td>\n",
       "      <td>ScheffervilleUpTundra</td>\n",
       "      <td>787.338</td>\n",
       "      <td>6.0</td>\n",
       "      <td>https://doi.org/10.1128/aem.59.2.485-490.1993</td>\n",
       "    </tr>\n",
       "    <tr>\n",
       "      <th>1</th>\n",
       "      <td>1</td>\n",
       "      <td>Olefeldt</td>\n",
       "      <td>Adamsen and King, 1993, Applied and Environmen...</td>\n",
       "      <td>54.72</td>\n",
       "      <td>-66.7</td>\n",
       "      <td>Schefferville, Quebec, Canada</td>\n",
       "      <td>Schefferville</td>\n",
       "      <td>Canada</td>\n",
       "      <td>NaN</td>\n",
       "      <td>Forest</td>\n",
       "      <td>...</td>\n",
       "      <td>A</td>\n",
       "      <td>A</td>\n",
       "      <td>A</td>\n",
       "      <td>D</td>\n",
       "      <td>D</td>\n",
       "      <td>-4.6</td>\n",
       "      <td>ScheffervilleBoreal</td>\n",
       "      <td>787.338</td>\n",
       "      <td>6.0</td>\n",
       "      <td>https://doi.org/10.1128/aem.59.2.485-490.1993</td>\n",
       "    </tr>\n",
       "  </tbody>\n",
       "</table>\n",
       "<p>2 rows × 63 columns</p>\n",
       "</div>"
      ],
      "text/plain": [
       "   RefID   Dataset                                          Reference  LatDec  \\\n",
       "0      1  Olefeldt  Adamsen and King, 1993, Applied and Environmen...   54.72   \n",
       "1      1  Olefeldt  Adamsen and King, 1993, Applied and Environmen...   54.72   \n",
       "\n",
       "   LongDec                          Site          SiteID Country   ID  \\\n",
       "0    -66.7  Schefferville, Quebec, Canada  Schefferville  Canada  NaN   \n",
       "1    -66.7  Schefferville, Quebec, Canada  Schefferville  Canada  NaN   \n",
       "\n",
       "          Ecosystem  ... Sedge Sphag Moss Trees  Shrubs Annual.Temp  \\\n",
       "0  Subarctic Tundra  ...   NaN   NaN  NaN   NaN     NaN        -4.6   \n",
       "1            Forest  ...     A     A    A     D       D        -4.6   \n",
       "\n",
       "                 TotalID  CD_Pcp_An BIOME  \\\n",
       "0  ScheffervilleUpTundra    787.338   6.0   \n",
       "1    ScheffervilleBoreal    787.338   6.0   \n",
       "\n",
       "                                              DOI  \n",
       "0  https://doi.org/10.1128/aem.59.2.485-490.1993   \n",
       "1  https://doi.org/10.1128/aem.59.2.485-490.1993   \n",
       "\n",
       "[2 rows x 63 columns]"
      ]
     },
     "execution_count": 8,
     "metadata": {},
     "output_type": "execute_result"
    }
   ],
   "source": [
    "## Load wl\n",
    "df_terr = pd.read_csv('/Volumes/thebe/Other/Kuhn-olefeldt-BAWLD/BAWLD-CH4/data/ek_out/BAWLD_CH4_Terrestrial.csv', \n",
    "    encoding = \"ISO-8859-1\", dtype={'CH4.E.FLUX ':'float'}, na_values='-')\n",
    "len0 = len(df_terr)\n",
    "\n",
    "## View\n",
    "df_terr.head(2)"
   ]
  },
  {
   "cell_type": "code",
   "execution_count": 9,
   "metadata": {},
   "outputs": [
    {
     "name": "stdout",
     "output_type": "stream",
     "text": [
      "Means\n",
      "Aquatic: mean D: 42.2\n",
      "Aquatic: mean E: 73.5\n",
      "Terrestrial: mean: 53.3\n",
      "\n",
      "Medians\n",
      "Aquatic: median D: 12.6\n",
      "Aquatic: median E: 21.5\n",
      "Terrestrial: median: 22.8\n"
     ]
    }
   ],
   "source": [
    "print('Means')\n",
    "print(f\"Aquatic: mean D: {df['CH4.D.FLUX'].mean():0.3}\")\n",
    "print(f\"Aquatic: mean E: {df['CH4.E.FLUX'].mean():0.3}\")\n",
    "print(f\"Terrestrial: mean: {df_terr['CH4Av'].mean():0.3}\")\n",
    "print('\\nMedians')\n",
    "print(f\"Aquatic: median D: {df['CH4.D.FLUX'].median():0.3}\")\n",
    "print(f\"Aquatic: median E: {df['CH4.E.FLUX'].median():0.3}\")\n",
    "print(f\"Terrestrial: median: {df_terr['CH4Av'].median():0.3}\")"
   ]
  },
  {
   "cell_type": "code",
   "execution_count": 10,
   "metadata": {},
   "outputs": [
    {
     "name": "stdout",
     "output_type": "stream",
     "text": [
      "62 aquatic studies *some from syntheses\n",
      "123 terrestrial studies\n"
     ]
    }
   ],
   "source": [
    "## number of studies\n",
    "print(f'{len(np.unique(df.STUDY))} aquatic studies *some from syntheses')\n",
    "print(f'{len(np.unique(df_terr.Reference))} terrestrial studies')"
   ]
  },
  {
   "cell_type": "code",
   "execution_count": 11,
   "metadata": {},
   "outputs": [
    {
     "name": "stdout",
     "output_type": "stream",
     "text": [
      "33 marsh studies.\n",
      "Marshes: mean: 171.6\n",
      "Marshes: median: 106.0\n",
      "Flux ratio (Marsh:OW, method 1): 3.1\n"
     ]
    }
   ],
   "source": [
    "## Means from marshes\n",
    "marshes = df_terr.query('Class == \"Marshes\"')\n",
    "print(f'{len(marshes)} marsh studies.')\n",
    "print(f\"Marshes: mean: {marshes['CH4Av'].mean():0.4}\")\n",
    "print(f\"Marshes: median: {marshes['CH4Av'].median():0.4}\")\n",
    "print(f\"Flux ratio (Marsh:OW, method 1): {marshes['CH4Av'].median()/(df['CH4.D.FLUX'].median() + df['CH4.E.FLUX'].median()):0.3}\") # uses, D,E +/or combined DEP chamber flux"
   ]
  },
  {
   "cell_type": "code",
   "execution_count": 12,
   "metadata": {},
   "outputs": [
    {
     "name": "stdout",
     "output_type": "stream",
     "text": [
      "Ebullition accounts for 40.888% of total.\n"
     ]
    }
   ],
   "source": [
    "# Replicate Wik stat that DE = E*2.2\n",
    "dff0 = df.dropna(subset=['CH4.E.FLUX', 'CH4.E.FLUX']) # hadn't filtered E earlier\n",
    "dff0.shape\n",
    "print(f\"Ebullition accounts for {dff0['CH4.E.FLUX'].median() / (dff0['CH4.D.FLUX'] + dff0['CH4.E.FLUX']).median():0.3%} of total.\")\n"
   ]
  },
  {
   "cell_type": "markdown",
   "metadata": {},
   "source": [
    "< Here, I created CH4.DE.Flux>"
   ]
  },
  {
   "cell_type": "code",
   "execution_count": null,
   "metadata": {},
   "outputs": [],
   "source": [
    "\n",
    "## Plot by wl type\n",
    "fig, ax = plt.subplots(1,2, sharey=True, figsize=(10, 4))\n",
    "sns.boxplot(df_terr, x='Class', y='CH4Av', ax=ax[0], color='grey')\n",
    "sns.boxplot(dff, x='LAKE.TYPE', y='CH4.DE.FLUX', ax=ax[1], color='grey') # x='labels'\n",
    "\n",
    "## ylim\n",
    "ax[0].set_ylim([-20, 800])\n",
    "\n",
    "## labels\n",
    "ax[0].set_ylabel('Methane flux ($mg\\ CH_4\\ /\\ day$)')\n",
    "ax[1].set_ylabel('')\n",
    "# ax[1].set_xticklabels(['Glacial\\npostglacial', 'Thermokarst', 'Peatland\\nPond', 'Beaver\\nPond', 'Unspecified'])\n",
    "ax[1].set_xticklabels(['Thermokarst', 'Glacial\\npostglacial', 'Beaver\\nPond', 'Peatland\\nPond', 'Unspecified'])\n",
    "fig.set_tight_layout(tight=True)"
   ]
  },
  {
   "cell_type": "code",
   "execution_count": 102,
   "metadata": {},
   "outputs": [
    {
     "name": "stderr",
     "output_type": "stream",
     "text": [
      "/home/ekyzivat/mambaforge/envs/geospatial/lib/python3.10/site-packages/seaborn/categorical.py:1680: UserWarning: You passed a edgecolor/edgecolors ([(0.8, 1.0, 0.796078431372549), (0.8, 1.0, 0.796078431372549), (0.8, 1.0, 0.796078431372549), (0.8, 1.0, 0.796078431372549), (0.8, 1.0, 0.796078431372549), (0.8, 1.0, 0.796078431372549), (0.8, 1.0, 0.796078431372549)]) for an unfilled marker ('_').  Matplotlib is ignoring the edgecolor in favor of the facecolor.  This behavior may change in the future.\n",
      "  ax.scatter(x, y,\n",
      "/home/ekyzivat/mambaforge/envs/geospatial/lib/python3.10/site-packages/seaborn/categorical.py:1680: UserWarning: You passed a edgecolor/edgecolors ([(0.8, 1.0, 0.796078431372549), (0.8, 1.0, 0.796078431372549), (0.8, 1.0, 0.796078431372549), (0.8, 1.0, 0.796078431372549), (0.8, 1.0, 0.796078431372549)]) for an unfilled marker ('_').  Matplotlib is ignoring the edgecolor in favor of the facecolor.  This behavior may change in the future.\n",
      "  ax.scatter(x, y,\n"
     ]
    },
    {
     "data": {
      "image/png": "[encoded data removed]",
      "text/plain": [
       "<Figure size 1000x400 with 4 Axes>"
      ]
     },
     "metadata": {},
     "output_type": "display_data"
    }
   ],
   "source": [
    "## Plot by wl type, but use violin plot and log y axis\n",
    "fig, ax = plt.subplots(1,2, sharey=True, figsize=(10, 4))\n",
    "sns.violinplot(df_terr, x='Class', y='CH4Av', ax=ax[0], color='grey', scale='width', showmeans=False)\n",
    "sns.violinplot(dff, x='LAKE.TYPE', y='CH4.DE.FLUX', ax=ax[1], color='grey', scale='width', showmeans=False, zorder=0) # x='labels'\n",
    "\n",
    "## ADd means, since showmeans arg not working\n",
    "ax0 = ax[0].twinx()\n",
    "sns.pointplot(df_terr, x='Class', y='CH4Av', ax=ax0, linestyles='', errorbar=None, markers='_', color='#CCFFCB')\n",
    "ax1 = ax[1].twinx()\n",
    "sns.pointplot(dff, x='LAKE.TYPE', y='CH4.DE.FLUX', ax=ax1, linestyles='', errorbar=None, markers='_', color='#CCFFCB') # x='labels'\n",
    "\n",
    "## ylim\n",
    "ax[0].set_ylim([-20, 1200])\n",
    "ax0.set_ylim(ax[0].get_ylim())\n",
    "ax1.set_ylim(ax[1].get_ylim())\n",
    "\n",
    "## hid ticks\n",
    "for axis in [ax0, ax1]:\n",
    "    axis.set_yticklabels([])\n",
    "    axis.set_yticks([])\n",
    "    axis.set_ylabel('')\n",
    "## labels\n",
    "ax[0].set_ylabel('Methane flux ($mg\\ CH_4\\ /\\ day$)')\n",
    "ax[1].set_ylabel('')\n",
    "# ax[1].set_xticklabels(['Glacial\\npostglacial', 'Thermokarst', 'Peatland\\nPond', 'Beaver\\nPond', 'Unspecified'])\n",
    "ax[1].set_xticklabels(['Thermokarst', 'Glacial\\npostglacial', 'Beaver\\nPond', 'Peatland\\nPond', 'Unspecified'])\n",
    "fig.set_tight_layout(tight=True)\n",
    "\n",
    "# [axis.set_yscale('log') for axis in ax]"
   ]
  },
  {
   "cell_type": "code",
   "execution_count": 24,
   "metadata": {},
   "outputs": [
    {
     "data": {
      "image/png": "[encoded data removed]",
      "text/plain": [
       "<Figure size 1400x400 with 2 Axes>"
      ]
     },
     "metadata": {},
     "output_type": "display_data"
    }
   ],
   "source": [
    "## Plot by size bin, instead of lake type\n",
    "df['size_bin'] = pd.cut(df['SA'], [0, 0.001, 0.01, 0.1, 1, 10, 100, np.inf], right=False)\n",
    "fig, ax = plt.subplots(1,2, sharey=True, figsize=(14, 4))\n",
    "sns.boxplot(df_terr, x='Class', y='CH4Av', ax=ax[0], color='grey', showmeans=True)\n",
    "sns.boxplot(dff, x='size_bin', y='CH4.DE.FLUX', ax=ax[1], color='grey', showmeans=True) # x='labels'\n",
    "\n",
    "## ylim\n",
    "ax[0].set_ylim([-20, 800])\n",
    "\n",
    "## labels\n",
    "ax[0].set_ylabel('Methane flux ($mg\\ CH_4\\ /\\ day$)')\n",
    "ax[1].set_ylabel('')\n",
    "# ax[1].set_xticklabels(['Glacial\\npostglacial', 'Thermokarst', 'Peatland\\nPond', 'Beaver\\nPond', 'Unspecified'])\n",
    "# ax[1].set_xticklabels(['Thermokarst', 'Glacial\\npostglacial', 'Beaver\\nPond', 'Peatland\\nPond', 'Unspecified'])\n",
    "fig.set_tight_layout(tight=True)"
   ]
  },
  {
   "cell_type": "code",
   "execution_count": 46,
   "metadata": {},
   "outputs": [
    {
     "name": "stdout",
     "output_type": "stream",
     "text": [
      "Median flux from lakes < 0.001 km2: 90.6\n",
      "Mean flux from lakes < 0.001 km2: 185.8\n",
      "\n",
      "Median flux from lakes ~ 1 km2: 23.7\n",
      "Mean flux from lakes ~ 1 km2: 51.02\n"
     ]
    }
   ],
   "source": [
    "## Smallest lakes\n",
    "print(f\"Median flux from lakes < 0.001 km2: {dff[dff.size_bin == pd.Interval(0, 0.001, closed='left')]['CH4.DE.FLUX'].median():0.3}\")\n",
    "print(f\"Mean flux from lakes < 0.001 km2: {dff[dff.size_bin == pd.Interval(0, 0.001, closed='left')]['CH4.DE.FLUX'].mean():0.4}\")\n",
    "\n",
    "## Lakes near HL cutoff\n",
    "print('')\n",
    "print(f\"Median flux from lakes ~ 1 km2: {dff[dff.size_bin == pd.Interval(0.1, 1, closed='left')]['CH4.DE.FLUX'].median():0.3}\")\n",
    "print(f\"Mean flux from lakes ~ 1 km2: {dff[dff.size_bin == pd.Interval(0.1, 1, closed='left')]['CH4.DE.FLUX'].mean():0.4}\")"
   ]
  },
  {
   "cell_type": "code",
   "execution_count": 60,
   "metadata": {},
   "outputs": [
    {
     "name": "stdout",
     "output_type": "stream",
     "text": [
      "Flux ratio (Marsh:OW, method 2): 3.67\n",
      "Median ow: 28.9\n",
      "Mean ow: 100.9\n",
      "Median marsh: 106.0\n",
      "Mean marsh: 171.6\n"
     ]
    }
   ],
   "source": [
    "## Method 2 for marsh:ow ratio\n",
    "print(f\"Flux ratio (Marsh:OW, method 2): {marshes['CH4Av'].median()/(dff['CH4.DE.FLUX'].median()):0.3}\") # uses, D,E +/or combined DEP chamber flux\n",
    "print(f\"Median ow: {dff['CH4.DE.FLUX'].median():0.3}\")\n",
    "print(f\"Mean ow: {dff['CH4.DE.FLUX'].mean():0.4}\")\n",
    "print(f\"Median marsh: {marshes['CH4Av'].median():0.4}\")\n",
    "print(f\"Mean marsh: {marshes['CH4Av'].mean():0.4}\")"
   ]
  },
  {
   "attachments": {},
   "cell_type": "markdown",
   "metadata": {},
   "source": [
    "## Rosentreter data\n",
    "https://figshare.com/articles/dataset/Aquatic_methane_flux_database/13611296"
   ]
  },
  {
   "cell_type": "code",
   "execution_count": 79,
   "metadata": {},
   "outputs": [
    {
     "data": {
      "text/html": [
       "<div>\n",
       "<style scoped>\n",
       "    .dataframe tbody tr th:only-of-type {\n",
       "        vertical-align: middle;\n",
       "    }\n",
       "\n",
       "    .dataframe tbody tr th {\n",
       "        vertical-align: top;\n",
       "    }\n",
       "\n",
       "    .dataframe thead th {\n",
       "        text-align: right;\n",
       "    }\n",
       "</style>\n",
       "<table border=\"1\" class=\"dataframe\">\n",
       "  <thead>\n",
       "    <tr style=\"text-align: right;\">\n",
       "      <th></th>\n",
       "      <th>reference_number</th>\n",
       "      <th>site_name</th>\n",
       "      <th>country</th>\n",
       "      <th>type</th>\n",
       "      <th>lat</th>\n",
       "      <th>long</th>\n",
       "      <th>elevation_m</th>\n",
       "      <th>surface_area_km2</th>\n",
       "      <th>depth_max_m</th>\n",
       "      <th>depth_mean_m</th>\n",
       "      <th>...</th>\n",
       "      <th>TP_mgl</th>\n",
       "      <th>trophic_status</th>\n",
       "      <th>CH4_umoll</th>\n",
       "      <th>fch4_mgCH4m2d</th>\n",
       "      <th>dfch4_mgCH4m2d</th>\n",
       "      <th>efch4_mgCH4m2d</th>\n",
       "      <th>References for Chlorophyll Source</th>\n",
       "      <th>Ebullition method(s)</th>\n",
       "      <th>Diffusion method(s)</th>\n",
       "      <th>Reference</th>\n",
       "    </tr>\n",
       "  </thead>\n",
       "  <tbody>\n",
       "    <tr>\n",
       "      <th>0</th>\n",
       "      <td>1</td>\n",
       "      <td>1</td>\n",
       "      <td>Sweden</td>\n",
       "      <td>Lake</td>\n",
       "      <td>68.346625</td>\n",
       "      <td>18.969453</td>\n",
       "      <td>NaN</td>\n",
       "      <td>0.000029</td>\n",
       "      <td>0.21</td>\n",
       "      <td>NaN</td>\n",
       "      <td>...</td>\n",
       "      <td>NaN</td>\n",
       "      <td>NaN</td>\n",
       "      <td>9.506569</td>\n",
       "      <td>394.409113</td>\n",
       "      <td>55.701011</td>\n",
       "      <td>338.708102</td>\n",
       "      <td>NaN</td>\n",
       "      <td>static chambers</td>\n",
       "      <td>static chambers</td>\n",
       "      <td>Kuhn et al. 2018</td>\n",
       "    </tr>\n",
       "    <tr>\n",
       "      <th>1</th>\n",
       "      <td>1</td>\n",
       "      <td>2</td>\n",
       "      <td>Sweden</td>\n",
       "      <td>Lake</td>\n",
       "      <td>68.346514</td>\n",
       "      <td>18.969567</td>\n",
       "      <td>NaN</td>\n",
       "      <td>0.000006</td>\n",
       "      <td>0.16</td>\n",
       "      <td>NaN</td>\n",
       "      <td>...</td>\n",
       "      <td>NaN</td>\n",
       "      <td>NaN</td>\n",
       "      <td>35.845913</td>\n",
       "      <td>200.442928</td>\n",
       "      <td>160.986803</td>\n",
       "      <td>39.456124</td>\n",
       "      <td>NaN</td>\n",
       "      <td>static chambers</td>\n",
       "      <td>static chambers</td>\n",
       "      <td>Kuhn et al. 2018</td>\n",
       "    </tr>\n",
       "    <tr>\n",
       "      <th>2</th>\n",
       "      <td>1</td>\n",
       "      <td>3</td>\n",
       "      <td>Sweden</td>\n",
       "      <td>Lake</td>\n",
       "      <td>68.346378</td>\n",
       "      <td>18.969494</td>\n",
       "      <td>NaN</td>\n",
       "      <td>0.000020</td>\n",
       "      <td>0.21</td>\n",
       "      <td>NaN</td>\n",
       "      <td>...</td>\n",
       "      <td>NaN</td>\n",
       "      <td>NaN</td>\n",
       "      <td>6.311748</td>\n",
       "      <td>147.983328</td>\n",
       "      <td>28.981024</td>\n",
       "      <td>119.002303</td>\n",
       "      <td>NaN</td>\n",
       "      <td>static chambers</td>\n",
       "      <td>static chambers</td>\n",
       "      <td>Kuhn et al. 2018</td>\n",
       "    </tr>\n",
       "  </tbody>\n",
       "</table>\n",
       "<p>3 rows × 25 columns</p>\n",
       "</div>"
      ],
      "text/plain": [
       "  reference_number site_name country  type        lat       long  elevation_m  \\\n",
       "0                1         1  Sweden  Lake  68.346625  18.969453          NaN   \n",
       "1                1         2  Sweden  Lake  68.346514  18.969567          NaN   \n",
       "2                1         3  Sweden  Lake  68.346378  18.969494          NaN   \n",
       "\n",
       "   surface_area_km2  depth_max_m  depth_mean_m  ...  TP_mgl  trophic_status  \\\n",
       "0          0.000029         0.21           NaN  ...     NaN             NaN   \n",
       "1          0.000006         0.16           NaN  ...     NaN             NaN   \n",
       "2          0.000020         0.21           NaN  ...     NaN             NaN   \n",
       "\n",
       "   CH4_umoll  fch4_mgCH4m2d  dfch4_mgCH4m2d  efch4_mgCH4m2d  \\\n",
       "0   9.506569     394.409113       55.701011      338.708102   \n",
       "1  35.845913     200.442928      160.986803       39.456124   \n",
       "2   6.311748     147.983328       28.981024      119.002303   \n",
       "\n",
       "  References for Chlorophyll Source  Ebullition method(s)  \\\n",
       "0                               NaN       static chambers   \n",
       "1                               NaN       static chambers   \n",
       "2                               NaN       static chambers   \n",
       "\n",
       "   Diffusion method(s)         Reference  \n",
       "0      static chambers  Kuhn et al. 2018  \n",
       "1      static chambers  Kuhn et al. 2018  \n",
       "2      static chambers  Kuhn et al. 2018  \n",
       "\n",
       "[3 rows x 25 columns]"
      ]
     },
     "execution_count": 79,
     "metadata": {},
     "output_type": "execute_result"
    }
   ],
   "source": [
    "df = pd.read_excel('/Volumes/thebe/Other/Rosentreter2021/Rosentreter_aquatic_ecosystems_database.xlsx', sheet_name='lakes, ponds and reservoirs', skiprows=29, nrows=314)\n",
    "df.head(3)"
   ]
  },
  {
   "attachments": {},
   "cell_type": "markdown",
   "metadata": {},
   "source": [
    "First, try to replicate summary stats from Rosentreter et al. 2021: \\\n",
    "All lakes\n",
    "```\n",
    "Median: 55.8 (23.3–142.3)\n",
    "Mean: 150.9 ± 73.0\n",
    "```\n",
    "\n",
    "My values are close enough... \\\n",
    "My CI roughly matches bottom, but is too low on top."
   ]
  },
  {
   "cell_type": "code",
   "execution_count": 127,
   "metadata": {},
   "outputs": [
    {
     "data": {
      "text/plain": [
       "35.05404727625348"
      ]
     },
     "execution_count": 127,
     "metadata": {},
     "output_type": "execute_result"
    }
   ],
   "source": [
    "## Replicate means and medians from paper\n",
    "# df.columns\n",
    "data_summary = df.fch4_mgCH4m2d.describe(percentiles=[0.05, 0.95]) # mgCH4 /m2 /day\n",
    "data_summary = pd.concat((data_summary, pd.Series(df.fch4_mgCH4m2d.sem(), index=['sem'])))\n",
    "data_summary\n",
    "\n",
    "## SEM\n",
    "# data_summary['std'] / np.sqrt(data_summary['count']) # double-check SEM\n",
    "\n",
    "## CI\n",
    "from scipy import stats\n",
    "data_summary['sem'] * stats.t.ppf((1 + 0.95) / 2, data_summary['count'] - 1)"
   ]
  },
  {
   "cell_type": "code",
   "execution_count": 126,
   "metadata": {},
   "outputs": [
    {
     "data": {
      "text/plain": [
       "<AxesSubplot:xlabel='fch4_mgCH4m2d', ylabel='Count'>"
      ]
     },
     "execution_count": 126,
     "metadata": {},
     "output_type": "execute_result"
    },
    {
     "data": {
      "image/png": "[encoded data removed]",
      "text/plain": [
       "<Figure size 640x480 with 1 Axes>"
      ]
     },
     "metadata": {},
     "output_type": "display_data"
    }
   ],
   "source": [
    "## Plot\n",
    "# df.fch4_mgCH4m2d.plot.hist()\n",
    "# sns.histplot(df, x='surface_area_km2',y='fch4_mgCH4m2d')\n",
    "sns.histplot(df, x='fch4_mgCH4m2d')"
   ]
  },
  {
   "attachments": {},
   "cell_type": "markdown",
   "metadata": {},
   "source": [
    "## Apply models"
   ]
  },
  {
   "cell_type": "code",
   "execution_count": 6,
   "metadata": {},
   "outputs": [],
   "source": [
    "## I/O This file is the output of QGIS join nearest and when there are multiple nearest BAWLD grid cells (didst 0) to a large lake, multiple rows are created.\n",
    "## Loading is actually quicker w/o using a bounding box or mask!\n",
    "# gdf = read_dataframe(gdf_pth, columns=['OBJECTID', 'Shape_Area', 'BAWLDCell_', 'BAWLDLong', 'BAWLDLat'], read_geometry=False, use_arrow=True) # pyogrio.read_dataframe(path_or_buffer, /, layer=None, encoding=None, columns=None, read_geometry=True, force_2d=False, skip_features=0, max_features=None, where=None, bbox=None, fids=None, sql=None, sql_dialect=None, fid_as_index=False, use_arrow=False)\n",
    "if isinstance(gdf_pth, str): # if loading from single file\n",
    "    dgdf = dgpd.read_file(gdf_pth, columns=list(variables.values())+['geometry'], chunksize=10000) # add geometry if doing spatial join\n",
    "elif isinstance(gdf_pth, list): # list of files\n",
    "    dgdf = dgpd.read_file(gdf_pth[0], columns=list(variables.values())+['geometry'], chunksize=10000)\\\n",
    "        .append(dgpd.read_file(gdf_pth[1], columns=list(variables.values())+['geometry'], chunksize=10000))\\\n",
    "        .append(dgpd.read_file(gdf_pth[2], columns=list(variables.values())+['geometry'], chunksize=10000)) # add geometry if doing spatial join    \n",
    "else:\n",
    "    raise ValueError(\"gdf_pth must be a str or list\")\n"
   ]
  },
  {
   "cell_type": "code",
   "execution_count": 7,
   "metadata": {},
   "outputs": [],
   "source": [
    "## Load ROI\n",
    "if useROI:\n",
    "    roi = gpd.read_file(roi_pth)\n",
    "    if 'PAD2019' in roi_pth: # PAD ROIs have multiple features in layer\n",
    "        roi.query('Region == @roi_region', inplace=True)\n",
    "        roi.crs = 'ESRI:102001' # only needed if loading UAVSAR \n",
    "    # if roi.crs.to_epsg() != 4326:\n",
    "    #     roi = roi.to_crs('EPSG:4326')\n",
    "    if not roi.crs.is_exact_same(dgdf.crs):\n",
    "        roi =roi.to_crs(dgdf.crs)\n",
    "else:\n",
    "    roi = None"
   ]
  },
  {
   "cell_type": "markdown",
   "metadata": {},
   "source": [
    "## Continue"
   ]
  },
  {
   "cell_type": "code",
   "execution_count": 8,
   "metadata": {},
   "outputs": [],
   "source": [
    "## Clip to ROI (note clip function actually clips the geometries)\n",
    "# dgdf = dgpd.sjoin(dgdf, roi) # calling function from dask_geopandas doesn't work because it uses sjoin from dask, not from geopandas...\n",
    "if roi is not None:\n",
    "    cols = dgdf.columns\n",
    "    dgdf = dgdf.sjoin(roi, how='inner')[np.unique(list(cols) + list(variables.values()))].drop_duplicates(variables['id_']) # only keep orig columns, note that sjoin can produce extra features if one-to-many\n",
    "# gdfHL.plot()\n",
    "\n",
    "## view (slow if I have to merge or drop duplicates first)\n",
    "# gdf.head()\n",
    "# dgdf.head()"
   ]
  },
  {
   "cell_type": "markdown",
   "metadata": {},
   "source": [
    "### Side Workflow: Testing with parquet speed"
   ]
  },
  {
   "cell_type": "code",
   "execution_count": 9,
   "metadata": {},
   "outputs": [],
   "source": [
    "## Save as parquet\n",
    "gdfHL = dgpd.read_file('/Volumes/thebe/Ch4/GSW_zonal_stats/HL/v3/HL_zStats_Oc_binned_jnBAWLD.shp', columns=['Hylak_id', 'Shp_Area', 'BAWLDCell_', 'geometry'],\n",
    "    chunksize=5000)"
   ]
  },
  {
   "cell_type": "code",
   "execution_count": 10,
   "metadata": {},
   "outputs": [],
   "source": [
    "# gdfHL.clip(roi)\n",
    "type(gdfHL)\n",
    "# gdfHL.clip?\n",
    "gdfHL.calculate_spatial_partitions()"
   ]
  },
  {
   "cell_type": "code",
   "execution_count": null,
   "metadata": {},
   "outputs": [
    {
     "name": "stderr",
     "output_type": "stream",
     "text": [
      "/home/ekyzivat/mambaforge/envs/geospatial/lib/python3.10/site-packages/geopandas/tools/clip.py:67: FutureWarning: In a future version, `df.iloc[:, i] = newvals` will attempt to set the values inplace instead of always setting a new array. To retain the old behavior, use either `df[df.columns[i]] = newvals` or, if columns are non-unique, `df.isetitem(i, newvals)`\n",
      "  clipped.loc[\n",
      "/home/ekyzivat/mambaforge/envs/geospatial/lib/python3.10/site-packages/geopandas/tools/clip.py:67: FutureWarning: In a future version, `df.iloc[:, i] = newvals` will attempt to set the values inplace instead of always setting a new array. To retain the old behavior, use either `df[df.columns[i]] = newvals` or, if columns are non-unique, `df.isetitem(i, newvals)`\n",
      "  clipped.loc[\n",
      "/home/ekyzivat/mambaforge/envs/geospatial/lib/python3.10/site-packages/geopandas/tools/clip.py:67: FutureWarning: In a future version, `df.iloc[:, i] = newvals` will attempt to set the values inplace instead of always setting a new array. To retain the old behavior, use either `df[df.columns[i]] = newvals` or, if columns are non-unique, `df.isetitem(i, newvals)`\n",
      "  clipped.loc[\n",
      "/home/ekyzivat/mambaforge/envs/geospatial/lib/python3.10/site-packages/geopandas/tools/clip.py:67: FutureWarning: In a future version, `df.iloc[:, i] = newvals` will attempt to set the values inplace instead of always setting a new array. To retain the old behavior, use either `df[df.columns[i]] = newvals` or, if columns are non-unique, `df.isetitem(i, newvals)`\n",
      "  clipped.loc[\n"
     ]
    },
    {
     "data": {
      "text/html": [
       "<div>\n",
       "<style scoped>\n",
       "    .dataframe tbody tr th:only-of-type {\n",
       "        vertical-align: middle;\n",
       "    }\n",
       "\n",
       "    .dataframe tbody tr th {\n",
       "        vertical-align: top;\n",
       "    }\n",
       "\n",
       "    .dataframe thead th {\n",
       "        text-align: right;\n",
       "    }\n",
       "</style>\n",
       "<table border=\"1\" class=\"dataframe\">\n",
       "  <thead>\n",
       "    <tr style=\"text-align: right;\">\n",
       "      <th></th>\n",
       "      <th>BAWLDCell_</th>\n",
       "      <th>Hylak_id</th>\n",
       "      <th>Shp_Area</th>\n",
       "      <th>geometry</th>\n",
       "    </tr>\n",
       "  </thead>\n",
       "  <tbody>\n",
       "    <tr>\n",
       "      <th>6383</th>\n",
       "      <td>8442</td>\n",
       "      <td>3948</td>\n",
       "      <td>38.66</td>\n",
       "      <td>POLYGON ((-114.06058 62.58021, -114.06557 62.5...</td>\n",
       "    </tr>\n",
       "    <tr>\n",
       "      <th>6384</th>\n",
       "      <td>8443</td>\n",
       "      <td>3948</td>\n",
       "      <td>38.66</td>\n",
       "      <td>POLYGON ((-114.06058 62.58021, -114.06557 62.5...</td>\n",
       "    </tr>\n",
       "    <tr>\n",
       "      <th>6394</th>\n",
       "      <td>8442</td>\n",
       "      <td>3956</td>\n",
       "      <td>36.52</td>\n",
       "      <td>POLYGON ((-114.25825 62.66982, -114.25536 62.6...</td>\n",
       "    </tr>\n",
       "    <tr>\n",
       "      <th>6338</th>\n",
       "      <td>8442</td>\n",
       "      <td>3917</td>\n",
       "      <td>24.75</td>\n",
       "      <td>MULTIPOLYGON (((-114.20183 62.76192, -114.2011...</td>\n",
       "    </tr>\n",
       "    <tr>\n",
       "      <th>546423</th>\n",
       "      <td>7907</td>\n",
       "      <td>558888</td>\n",
       "      <td>0.78</td>\n",
       "      <td>POLYGON ((-114.13635 62.33231, -114.13660 62.3...</td>\n",
       "    </tr>\n",
       "    <tr>\n",
       "      <th>...</th>\n",
       "      <td>...</td>\n",
       "      <td>...</td>\n",
       "      <td>...</td>\n",
       "      <td>...</td>\n",
       "    </tr>\n",
       "    <tr>\n",
       "      <th>57</th>\n",
       "      <td>7387</td>\n",
       "      <td>3</td>\n",
       "      <td>26734.29</td>\n",
       "      <td>MULTIPOLYGON (((-114.34862 62.42650, -114.3476...</td>\n",
       "    </tr>\n",
       "    <tr>\n",
       "      <th>104</th>\n",
       "      <td>7912</td>\n",
       "      <td>3</td>\n",
       "      <td>26734.29</td>\n",
       "      <td>MULTIPOLYGON (((-114.34862 62.42650, -114.3476...</td>\n",
       "    </tr>\n",
       "    <tr>\n",
       "      <th>102</th>\n",
       "      <td>7911</td>\n",
       "      <td>3</td>\n",
       "      <td>26734.29</td>\n",
       "      <td>MULTIPOLYGON (((-114.34862 62.42650, -114.3476...</td>\n",
       "    </tr>\n",
       "    <tr>\n",
       "      <th>97</th>\n",
       "      <td>8440</td>\n",
       "      <td>3</td>\n",
       "      <td>26734.29</td>\n",
       "      <td>MULTIPOLYGON (((-114.34862 62.42650, -114.3476...</td>\n",
       "    </tr>\n",
       "    <tr>\n",
       "      <th>75</th>\n",
       "      <td>8449</td>\n",
       "      <td>3</td>\n",
       "      <td>26734.29</td>\n",
       "      <td>MULTIPOLYGON (((-114.34862 62.42650, -114.3476...</td>\n",
       "    </tr>\n",
       "  </tbody>\n",
       "</table>\n",
       "<p>401 rows × 4 columns</p>\n",
       "</div>"
      ],
      "text/plain": [
       "        BAWLDCell_  Hylak_id  Shp_Area  \\\n",
       "6383          8442      3948     38.66   \n",
       "6384          8443      3948     38.66   \n",
       "6394          8442      3956     36.52   \n",
       "6338          8442      3917     24.75   \n",
       "546423        7907    558888      0.78   \n",
       "...            ...       ...       ...   \n",
       "57            7387         3  26734.29   \n",
       "104           7912         3  26734.29   \n",
       "102           7911         3  26734.29   \n",
       "97            8440         3  26734.29   \n",
       "75            8449         3  26734.29   \n",
       "\n",
       "                                                 geometry  \n",
       "6383    POLYGON ((-114.06058 62.58021, -114.06557 62.5...  \n",
       "6384    POLYGON ((-114.06058 62.58021, -114.06557 62.5...  \n",
       "6394    POLYGON ((-114.25825 62.66982, -114.25536 62.6...  \n",
       "6338    MULTIPOLYGON (((-114.20183 62.76192, -114.2011...  \n",
       "546423  POLYGON ((-114.13635 62.33231, -114.13660 62.3...  \n",
       "...                                                   ...  \n",
       "57      MULTIPOLYGON (((-114.34862 62.42650, -114.3476...  \n",
       "104     MULTIPOLYGON (((-114.34862 62.42650, -114.3476...  \n",
       "102     MULTIPOLYGON (((-114.34862 62.42650, -114.3476...  \n",
       "97      MULTIPOLYGON (((-114.34862 62.42650, -114.3476...  \n",
       "75      MULTIPOLYGON (((-114.34862 62.42650, -114.3476...  \n",
       "\n",
       "[401 rows x 4 columns]"
      ]
     },
     "metadata": {},
     "output_type": "display_data"
    }
   ],
   "source": [
    "\n",
    "dgpd_clip = dgpd.clip(gdfHL, roi)\n",
    "dgpd_clip.compute()"
   ]
  },
  {
   "cell_type": "code",
   "execution_count": null,
   "metadata": {},
   "outputs": [
    {
     "data": {
      "text/html": [
       "<div><strong>Dask-GeoPandas GeoDataFrame Structure:</strong></div>\n",
       "<div>\n",
       "<style scoped>\n",
       "    .dataframe tbody tr th:only-of-type {\n",
       "        vertical-align: middle;\n",
       "    }\n",
       "\n",
       "    .dataframe tbody tr th {\n",
       "        vertical-align: top;\n",
       "    }\n",
       "\n",
       "    .dataframe thead th {\n",
       "        text-align: right;\n",
       "    }\n",
       "</style>\n",
       "<table border=\"1\" class=\"dataframe\">\n",
       "  <thead>\n",
       "    <tr style=\"text-align: right;\">\n",
       "      <th></th>\n",
       "      <th>BAWLDCell_</th>\n",
       "      <th>Hylak_id</th>\n",
       "      <th>Shp_Area</th>\n",
       "      <th>geometry</th>\n",
       "    </tr>\n",
       "    <tr>\n",
       "      <th>npartitions=8</th>\n",
       "      <th></th>\n",
       "      <th></th>\n",
       "      <th></th>\n",
       "      <th></th>\n",
       "    </tr>\n",
       "  </thead>\n",
       "  <tbody>\n",
       "    <tr>\n",
       "      <th></th>\n",
       "      <td>int64</td>\n",
       "      <td>int64</td>\n",
       "      <td>float64</td>\n",
       "      <td>geometry</td>\n",
       "    </tr>\n",
       "    <tr>\n",
       "      <th></th>\n",
       "      <td>...</td>\n",
       "      <td>...</td>\n",
       "      <td>...</td>\n",
       "      <td>...</td>\n",
       "    </tr>\n",
       "    <tr>\n",
       "      <th>...</th>\n",
       "      <td>...</td>\n",
       "      <td>...</td>\n",
       "      <td>...</td>\n",
       "      <td>...</td>\n",
       "    </tr>\n",
       "    <tr>\n",
       "      <th></th>\n",
       "      <td>...</td>\n",
       "      <td>...</td>\n",
       "      <td>...</td>\n",
       "      <td>...</td>\n",
       "    </tr>\n",
       "    <tr>\n",
       "      <th></th>\n",
       "      <td>...</td>\n",
       "      <td>...</td>\n",
       "      <td>...</td>\n",
       "      <td>...</td>\n",
       "    </tr>\n",
       "  </tbody>\n",
       "</table>\n",
       "</div>\n",
       "<div>Dask Name: clip, 2 graph layers</div>"
      ],
      "text/plain": [
       "Dask GeoDataFrame Structure:\n",
       "              BAWLDCell_ Hylak_id Shp_Area  geometry\n",
       "npartitions=8                                       \n",
       "                   int64    int64  float64  geometry\n",
       "                     ...      ...      ...       ...\n",
       "...                  ...      ...      ...       ...\n",
       "                     ...      ...      ...       ...\n",
       "                     ...      ...      ...       ...\n",
       "Dask Name: clip, 2 graph layers"
      ]
     },
     "metadata": {},
     "output_type": "display_data"
    }
   ],
   "source": [
    "dgpd_clip"
   ]
  },
  {
   "cell_type": "code",
   "execution_count": null,
   "metadata": {},
   "outputs": [
    {
     "name": "stderr",
     "output_type": "stream",
     "text": [
      "/home/ekyzivat/mambaforge/envs/geospatial/lib/python3.10/site-packages/geopandas/tools/clip.py:67: FutureWarning: In a future version, `df.iloc[:, i] = newvals` will attempt to set the values inplace instead of always setting a new array. To retain the old behavior, use either `df[df.columns[i]] = newvals` or, if columns are non-unique, `df.isetitem(i, newvals)`\n",
      "  clipped.loc[\n",
      "/home/ekyzivat/mambaforge/envs/geospatial/lib/python3.10/site-packages/geopandas/tools/clip.py:67: FutureWarning: In a future version, `df.iloc[:, i] = newvals` will attempt to set the values inplace instead of always setting a new array. To retain the old behavior, use either `df[df.columns[i]] = newvals` or, if columns are non-unique, `df.isetitem(i, newvals)`\n",
      "  clipped.loc[\n",
      "/home/ekyzivat/mambaforge/envs/geospatial/lib/python3.10/site-packages/geopandas/tools/clip.py:67: FutureWarning: In a future version, `df.iloc[:, i] = newvals` will attempt to set the values inplace instead of always setting a new array. To retain the old behavior, use either `df[df.columns[i]] = newvals` or, if columns are non-unique, `df.isetitem(i, newvals)`\n",
      "  clipped.loc[\n",
      "/home/ekyzivat/mambaforge/envs/geospatial/lib/python3.10/site-packages/geopandas/tools/clip.py:67: FutureWarning: In a future version, `df.iloc[:, i] = newvals` will attempt to set the values inplace instead of always setting a new array. To retain the old behavior, use either `df[df.columns[i]] = newvals` or, if columns are non-unique, `df.isetitem(i, newvals)`\n",
      "  clipped.loc[\n",
      "/home/ekyzivat/mambaforge/envs/geospatial/lib/python3.10/site-packages/geopandas/tools/clip.py:67: FutureWarning: In a future version, `df.iloc[:, i] = newvals` will attempt to set the values inplace instead of always setting a new array. To retain the old behavior, use either `df[df.columns[i]] = newvals` or, if columns are non-unique, `df.isetitem(i, newvals)`\n",
      "  clipped.loc[\n",
      "/home/ekyzivat/mambaforge/envs/geospatial/lib/python3.10/site-packages/geopandas/tools/clip.py:67: FutureWarning: In a future version, `df.iloc[:, i] = newvals` will attempt to set the values inplace instead of always setting a new array. To retain the old behavior, use either `df[df.columns[i]] = newvals` or, if columns are non-unique, `df.isetitem(i, newvals)`\n",
      "  clipped.loc[\n",
      "/home/ekyzivat/mambaforge/envs/geospatial/lib/python3.10/site-packages/geopandas/tools/clip.py:67: FutureWarning: In a future version, `df.iloc[:, i] = newvals` will attempt to set the values inplace instead of always setting a new array. To retain the old behavior, use either `df[df.columns[i]] = newvals` or, if columns are non-unique, `df.isetitem(i, newvals)`\n",
      "  clipped.loc[\n"
     ]
    }
   ],
   "source": [
    "## Test write to parquet\n",
    "parquet_out_pth = '/Volumes/thebe/Ch4/GSW_zonal_stats/HL/v3/test/HL_zStats_Oc_binned_jnBAWLD_Baker_clip_parquet'\n",
    "dgpd_clip.to_parquet(parquet_out_pth)\n",
    "# dgpd_clip.to_parquet?"
   ]
  },
  {
   "cell_type": "code",
   "execution_count": null,
   "metadata": {},
   "outputs": [
    {
     "ename": "TypeError",
     "evalue": "An error occurred while calling the read_parquet method registered to the pandas backend.\nOriginal Message: GeoArrowEngine._create_dd_meta() takes 2 positional arguments but 3 were given",
     "output_type": "error",
     "traceback": [
      "\u001b[0;31m---------------------------------------------------------------------------\u001b[0m\n",
      "\u001b[0;31mTypeError\u001b[0m                                 Traceback (most recent call last)\n",
      "File \u001b[0;32m~/mambaforge/envs/geospatial/lib/python3.10/site-packages/dask/backends.py:125\u001b[0m, in \u001b[0;36mCreationDispatch.register_inplace.<locals>.decorator.<locals>.wrapper\u001b[0;34m(*args, **kwargs)\u001b[0m\n",
      "\u001b[1;32m    124\u001b[0m \u001b[39mtry\u001b[39;00m:\n",
      "\u001b[0;32m--> 125\u001b[0m     \u001b[39mreturn\u001b[39;00m func(\u001b[39m*\u001b[39;49margs, \u001b[39m*\u001b[39;49m\u001b[39m*\u001b[39;49mkwargs)\n",
      "\u001b[1;32m    126\u001b[0m \u001b[39mexcept\u001b[39;00m \u001b[39mException\u001b[39;00m \u001b[39mas\u001b[39;00m e:\n",
      "\n",
      "File \u001b[0;32m~/mambaforge/envs/geospatial/lib/python3.10/site-packages/dask/dataframe/io/parquet/core.py:530\u001b[0m, in \u001b[0;36mread_parquet\u001b[0;34m(path, columns, filters, categories, index, storage_options, engine, use_nullable_dtypes, calculate_divisions, ignore_metadata_file, metadata_task_size, split_row_groups, chunksize, aggregate_files, parquet_file_extension, filesystem, **kwargs)\u001b[0m\n",
      "\u001b[1;32m    528\u001b[0m     index \u001b[39m=\u001b[39m [index]\n",
      "\u001b[0;32m--> 530\u001b[0m read_metadata_result \u001b[39m=\u001b[39m engine\u001b[39m.\u001b[39;49mread_metadata(\n",
      "\u001b[1;32m    531\u001b[0m     fs,\n",
      "\u001b[1;32m    532\u001b[0m     paths,\n",
      "\u001b[1;32m    533\u001b[0m     categories\u001b[39m=\u001b[39;49mcategories,\n",
      "\u001b[1;32m    534\u001b[0m     index\u001b[39m=\u001b[39;49mindex,\n",
      "\u001b[1;32m    535\u001b[0m     use_nullable_dtypes\u001b[39m=\u001b[39;49muse_nullable_dtypes,\n",
      "\u001b[1;32m    536\u001b[0m     gather_statistics\u001b[39m=\u001b[39;49mcalculate_divisions,\n",
      "\u001b[1;32m    537\u001b[0m     filters\u001b[39m=\u001b[39;49mfilters,\n",
      "\u001b[1;32m    538\u001b[0m     split_row_groups\u001b[39m=\u001b[39;49msplit_row_groups,\n",
      "\u001b[1;32m    539\u001b[0m     chunksize\u001b[39m=\u001b[39;49mchunksize,\n",
      "\u001b[1;32m    540\u001b[0m     aggregate_files\u001b[39m=\u001b[39;49maggregate_files,\n",
      "\u001b[1;32m    541\u001b[0m     ignore_metadata_file\u001b[39m=\u001b[39;49mignore_metadata_file,\n",
      "\u001b[1;32m    542\u001b[0m     metadata_task_size\u001b[39m=\u001b[39;49mmetadata_task_size,\n",
      "\u001b[1;32m    543\u001b[0m     parquet_file_extension\u001b[39m=\u001b[39;49mparquet_file_extension,\n",
      "\u001b[1;32m    544\u001b[0m     dataset\u001b[39m=\u001b[39;49mdataset_options,\n",
      "\u001b[1;32m    545\u001b[0m     read\u001b[39m=\u001b[39;49mread_options,\n",
      "\u001b[1;32m    546\u001b[0m     \u001b[39m*\u001b[39;49m\u001b[39m*\u001b[39;49mother_options,\n",
      "\u001b[1;32m    547\u001b[0m )\n",
      "\u001b[1;32m    549\u001b[0m \u001b[39m# In the future, we may want to give the engine the\u001b[39;00m\n",
      "\u001b[1;32m    550\u001b[0m \u001b[39m# option to return a dedicated element for `common_kwargs`.\u001b[39;00m\n",
      "\u001b[1;32m    551\u001b[0m \u001b[39m# However, to avoid breaking the API, we just embed this\u001b[39;00m\n",
      "\u001b[1;32m    552\u001b[0m \u001b[39m# data in the first element of `parts` for now.\u001b[39;00m\n",
      "\u001b[1;32m    553\u001b[0m \u001b[39m# The logic below is inteded to handle backward and forward\u001b[39;00m\n",
      "\u001b[1;32m    554\u001b[0m \u001b[39m# compatibility with a user-defined engine.\u001b[39;00m\n",
      "\n",
      "File \u001b[0;32m~/mambaforge/envs/geospatial/lib/python3.10/site-packages/dask_geopandas/io/parquet.py:51\u001b[0m, in \u001b[0;36mGeoArrowEngine.read_metadata\u001b[0;34m(cls, fs, paths, **kwargs)\u001b[0m\n",
      "\u001b[1;32m     49\u001b[0m \u001b[39m@classmethod\u001b[39m\n",
      "\u001b[1;32m     50\u001b[0m \u001b[39mdef\u001b[39;00m \u001b[39mread_metadata\u001b[39m(\u001b[39mcls\u001b[39m, fs, paths, \u001b[39m*\u001b[39m\u001b[39m*\u001b[39mkwargs):\n",
      "\u001b[0;32m---> 51\u001b[0m     meta, stats, parts, index \u001b[39m=\u001b[39m \u001b[39msuper\u001b[39;49m()\u001b[39m.\u001b[39;49mread_metadata(fs, paths, \u001b[39m*\u001b[39;49m\u001b[39m*\u001b[39;49mkwargs)\n",
      "\u001b[1;32m     53\u001b[0m     gather_spatial_partitions \u001b[39m=\u001b[39m kwargs\u001b[39m.\u001b[39mpop(\u001b[39m\"\u001b[39m\u001b[39mgather_spatial_partitions\u001b[39m\u001b[39m\"\u001b[39m, \u001b[39mTrue\u001b[39;00m)\n",
      "\n",
      "File \u001b[0;32m~/mambaforge/envs/geospatial/lib/python3.10/site-packages/dask/dataframe/io/parquet/arrow.py:440\u001b[0m, in \u001b[0;36mArrowDatasetEngine.read_metadata\u001b[0;34m(cls, fs, paths, categories, index, use_nullable_dtypes, gather_statistics, filters, split_row_groups, chunksize, aggregate_files, ignore_metadata_file, metadata_task_size, parquet_file_extension, **kwargs)\u001b[0m\n",
      "\u001b[1;32m    439\u001b[0m \u001b[39m# Stage 2: Generate output `meta`\u001b[39;00m\n",
      "\u001b[0;32m--> 440\u001b[0m meta \u001b[39m=\u001b[39m \u001b[39mcls\u001b[39;49m\u001b[39m.\u001b[39;49m_create_dd_meta(dataset_info, use_nullable_dtypes)\n",
      "\u001b[1;32m    442\u001b[0m \u001b[39m# Stage 3: Generate parts and stats\u001b[39;00m\n",
      "\n",
      "\u001b[0;31mTypeError\u001b[0m: GeoArrowEngine._create_dd_meta() takes 2 positional arguments but 3 were given\n",
      "\n",
      "The above exception was the direct cause of the following exception:\n",
      "\n",
      "\u001b[0;31mTypeError\u001b[0m                                 Traceback (most recent call last)\n",
      "Cell \u001b[0;32mIn[405], line 2\u001b[0m\n",
      "\u001b[1;32m      1\u001b[0m \u001b[39m## Test read parquet file\u001b[39;00m\n",
      "\u001b[0;32m----> 2\u001b[0m foo2 \u001b[39m=\u001b[39m dgpd\u001b[39m.\u001b[39;49mread_parquet([\u001b[39mf\u001b[39;49m\u001b[39m'\u001b[39;49m\u001b[39m{\u001b[39;49;00mparquet_out_pth\u001b[39m}\u001b[39;49;00m\u001b[39m/part.\u001b[39;49m\u001b[39m{\u001b[39;49;00mi\u001b[39m}\u001b[39;49;00m\u001b[39m.parquet\u001b[39;49m\u001b[39m'\u001b[39;49m \u001b[39mfor\u001b[39;49;00m i \u001b[39min\u001b[39;49;00m \u001b[39mrange\u001b[39;49m(\u001b[39m8\u001b[39;49m)])\n",
      "\u001b[1;32m      3\u001b[0m foo2\n",
      "\n",
      "File \u001b[0;32m~/mambaforge/envs/geospatial/lib/python3.10/site-packages/dask_geopandas/io/parquet.py:102\u001b[0m, in \u001b[0;36mread_parquet\u001b[0;34m(*args, **kwargs)\u001b[0m\n",
      "\u001b[1;32m    101\u001b[0m \u001b[39mdef\u001b[39;00m \u001b[39mread_parquet\u001b[39m(\u001b[39m*\u001b[39margs, \u001b[39m*\u001b[39m\u001b[39m*\u001b[39mkwargs):\n",
      "\u001b[0;32m--> 102\u001b[0m     result \u001b[39m=\u001b[39m dd\u001b[39m.\u001b[39;49mread_parquet(\u001b[39m*\u001b[39;49margs, engine\u001b[39m=\u001b[39;49mGeoArrowEngine, \u001b[39m*\u001b[39;49m\u001b[39m*\u001b[39;49mkwargs)\n",
      "\u001b[1;32m    103\u001b[0m     \u001b[39m# check if spatial partitioning information was stored\u001b[39;00m\n",
      "\u001b[1;32m    104\u001b[0m     spatial_partitions \u001b[39m=\u001b[39m result\u001b[39m.\u001b[39m_meta\u001b[39m.\u001b[39mattrs\u001b[39m.\u001b[39mget(\u001b[39m\"\u001b[39m\u001b[39mspatial_partitions\u001b[39m\u001b[39m\"\u001b[39m, \u001b[39mNone\u001b[39;00m)\n",
      "\n",
      "File \u001b[0;32m~/mambaforge/envs/geospatial/lib/python3.10/site-packages/dask/backends.py:127\u001b[0m, in \u001b[0;36mCreationDispatch.register_inplace.<locals>.decorator.<locals>.wrapper\u001b[0;34m(*args, **kwargs)\u001b[0m\n",
      "\u001b[1;32m    125\u001b[0m     \u001b[39mreturn\u001b[39;00m func(\u001b[39m*\u001b[39margs, \u001b[39m*\u001b[39m\u001b[39m*\u001b[39mkwargs)\n",
      "\u001b[1;32m    126\u001b[0m \u001b[39mexcept\u001b[39;00m \u001b[39mException\u001b[39;00m \u001b[39mas\u001b[39;00m e:\n",
      "\u001b[0;32m--> 127\u001b[0m     \u001b[39mraise\u001b[39;00m \u001b[39mtype\u001b[39m(e)(\n",
      "\u001b[1;32m    128\u001b[0m         \u001b[39mf\u001b[39m\u001b[39m\"\u001b[39m\u001b[39mAn error occurred while calling the \u001b[39m\u001b[39m{\u001b[39;00mfuncname(func)\u001b[39m}\u001b[39;00m\u001b[39m \u001b[39m\u001b[39m\"\u001b[39m\n",
      "\u001b[1;32m    129\u001b[0m         \u001b[39mf\u001b[39m\u001b[39m\"\u001b[39m\u001b[39mmethod registered to the \u001b[39m\u001b[39m{\u001b[39;00m\u001b[39mself\u001b[39m\u001b[39m.\u001b[39mbackend\u001b[39m}\u001b[39;00m\u001b[39m backend.\u001b[39m\u001b[39m\\n\u001b[39;00m\u001b[39m\"\u001b[39m\n",
      "\u001b[1;32m    130\u001b[0m         \u001b[39mf\u001b[39m\u001b[39m\"\u001b[39m\u001b[39mOriginal Message: \u001b[39m\u001b[39m{\u001b[39;00me\u001b[39m}\u001b[39;00m\u001b[39m\"\u001b[39m\n",
      "\u001b[1;32m    131\u001b[0m     ) \u001b[39mfrom\u001b[39;00m \u001b[39me\u001b[39;00m\n",
      "\n",
      "\u001b[0;31mTypeError\u001b[0m: An error occurred while calling the read_parquet method registered to the pandas backend.\n",
      "Original Message: GeoArrowEngine._create_dd_meta() takes 2 positional arguments but 3 were given"
     ]
    }
   ],
   "source": [
    "## Test read parquet file\n",
    "foo2 = dgpd.read_parquet([f'{parquet_out_pth}/part.{i}.parquet' for i in range(8)])\n",
    "foo2\n"
   ]
  },
  {
   "cell_type": "markdown",
   "metadata": {},
   "source": [
    "### Test: Join in climate data from WorldClim using pypi package latlon_utils \n",
    "(netcdf is in ~/.local/share/latlon_utils/)"
   ]
  },
  {
   "cell_type": "code",
   "execution_count": null,
   "metadata": {},
   "outputs": [
    {
     "data": {
      "text/html": [
       "<div>\n",
       "<style scoped>\n",
       "    .dataframe tbody tr th:only-of-type {\n",
       "        vertical-align: middle;\n",
       "    }\n",
       "\n",
       "    .dataframe tbody tr th {\n",
       "        vertical-align: top;\n",
       "    }\n",
       "\n",
       "    .dataframe thead th {\n",
       "        text-align: right;\n",
       "    }\n",
       "</style>\n",
       "<table border=\"1\" class=\"dataframe\">\n",
       "  <thead>\n",
       "    <tr style=\"text-align: right;\">\n",
       "      <th></th>\n",
       "      <th>0-5</th>\n",
       "      <th>5-50</th>\n",
       "      <th>50-95</th>\n",
       "      <th>95-100</th>\n",
       "      <th>Class_sum</th>\n",
       "      <th>Shp_Area</th>\n",
       "      <th>BAWLDCell_</th>\n",
       "      <th>n</th>\n",
       "      <th>distance</th>\n",
       "      <th>feature_x</th>\n",
       "      <th>...</th>\n",
       "      <th>nearest_x</th>\n",
       "      <th>nearest_y</th>\n",
       "      <th>geometry</th>\n",
       "      <th>index_right</th>\n",
       "      <th>id</th>\n",
       "      <th>Region</th>\n",
       "      <th>Note</th>\n",
       "      <th>Cell_ID</th>\n",
       "      <th>Long</th>\n",
       "      <th>Lat</th>\n",
       "    </tr>\n",
       "  </thead>\n",
       "  <tbody>\n",
       "    <tr>\n",
       "      <th>0</th>\n",
       "      <td>0.232737</td>\n",
       "      <td>0.198573</td>\n",
       "      <td>4.089538</td>\n",
       "      <td>95.479152</td>\n",
       "      <td>26893.426</td>\n",
       "      <td>26734.29</td>\n",
       "      <td>7387</td>\n",
       "      <td>1</td>\n",
       "      <td>0.0</td>\n",
       "      <td>-113.000000</td>\n",
       "      <td>...</td>\n",
       "      <td>-113.000000</td>\n",
       "      <td>61.500000</td>\n",
       "      <td>POLYGON ((-109.93976 62.95851, -109.93831 62.9...</td>\n",
       "      <td>2</td>\n",
       "      <td>1</td>\n",
       "      <td>Baker</td>\n",
       "      <td>Baker - outermost</td>\n",
       "      <td>7387</td>\n",
       "      <td>-113.25</td>\n",
       "      <td>61.75</td>\n",
       "    </tr>\n",
       "    <tr>\n",
       "      <th>1</th>\n",
       "      <td>4.258225</td>\n",
       "      <td>4.744306</td>\n",
       "      <td>86.522316</td>\n",
       "      <td>4.475154</td>\n",
       "      <td>24.893</td>\n",
       "      <td>24.75</td>\n",
       "      <td>8442</td>\n",
       "      <td>1</td>\n",
       "      <td>0.0</td>\n",
       "      <td>-114.134654</td>\n",
       "      <td>...</td>\n",
       "      <td>-114.134654</td>\n",
       "      <td>62.852126</td>\n",
       "      <td>POLYGON ((-114.13465 62.85213, -114.13516 62.8...</td>\n",
       "      <td>2</td>\n",
       "      <td>1</td>\n",
       "      <td>Baker</td>\n",
       "      <td>Baker - outermost</td>\n",
       "      <td>8442</td>\n",
       "      <td>-114.25</td>\n",
       "      <td>62.75</td>\n",
       "    </tr>\n",
       "    <tr>\n",
       "      <th>2</th>\n",
       "      <td>2.601877</td>\n",
       "      <td>2.470755</td>\n",
       "      <td>34.824528</td>\n",
       "      <td>60.102841</td>\n",
       "      <td>38.895</td>\n",
       "      <td>38.66</td>\n",
       "      <td>8442</td>\n",
       "      <td>1</td>\n",
       "      <td>0.0</td>\n",
       "      <td>-114.000000</td>\n",
       "      <td>...</td>\n",
       "      <td>-114.000000</td>\n",
       "      <td>62.576271</td>\n",
       "      <td>POLYGON ((-113.95252 62.61332, -113.95139 62.6...</td>\n",
       "      <td>2</td>\n",
       "      <td>1</td>\n",
       "      <td>Baker</td>\n",
       "      <td>Baker - outermost</td>\n",
       "      <td>8442</td>\n",
       "      <td>-114.25</td>\n",
       "      <td>62.75</td>\n",
       "    </tr>\n",
       "  </tbody>\n",
       "</table>\n",
       "<p>3 rows × 21 columns</p>\n",
       "</div>"
      ],
      "text/plain": [
       "        0-5      5-50      50-95     95-100  Class_sum  Shp_Area  BAWLDCell_  \\\n",
       "0  0.232737  0.198573   4.089538  95.479152  26893.426  26734.29        7387   \n",
       "1  4.258225  4.744306  86.522316   4.475154     24.893     24.75        8442   \n",
       "2  2.601877  2.470755  34.824528  60.102841     38.895     38.66        8442   \n",
       "\n",
       "   n  distance   feature_x  ...   nearest_x  nearest_y  \\\n",
       "0  1       0.0 -113.000000  ... -113.000000  61.500000   \n",
       "1  1       0.0 -114.134654  ... -114.134654  62.852126   \n",
       "2  1       0.0 -114.000000  ... -114.000000  62.576271   \n",
       "\n",
       "                                            geometry index_right  id  Region  \\\n",
       "0  POLYGON ((-109.93976 62.95851, -109.93831 62.9...           2   1   Baker   \n",
       "1  POLYGON ((-114.13465 62.85213, -114.13516 62.8...           2   1   Baker   \n",
       "2  POLYGON ((-113.95252 62.61332, -113.95139 62.6...           2   1   Baker   \n",
       "\n",
       "                Note Cell_ID    Long    Lat  \n",
       "0  Baker - outermost    7387 -113.25  61.75  \n",
       "1  Baker - outermost    8442 -114.25  62.75  \n",
       "2  Baker - outermost    8442 -114.25  62.75  \n",
       "\n",
       "[3 rows x 21 columns]"
      ]
     },
     "metadata": {},
     "output_type": "display_data"
    }
   ],
   "source": [
    "## Join in BAWLD attributes\n",
    "gdfBAWLD = gpd.read_file('/Volumes/thebe/Other/Kuhn-olefeldt-BAWLD/BAWLD/BAWLD_V1___Shapefile.zip')\n",
    "gdfHL = gdfHL.merge(gdfBAWLD[['Cell_ID', 'Long', 'Lat']], left_on='BAWLDCell_', right_on='Cell_ID')\n",
    "\n",
    "gdfHL.head(3)"
   ]
  },
  {
   "cell_type": "markdown",
   "metadata": {},
   "source": [
    "### Side workflow: Apply to BAWLD lakes to use as lookup table (don't need for main workflow)\n"
   ]
  },
  {
   "cell_type": "markdown",
   "metadata": {},
   "source": [
    "#### Side workflow for gap-filling worldclim Temp netcdf so ocean cells take nearest land value"
   ]
  },
  {
   "cell_type": "code",
   "execution_count": 28,
   "metadata": {},
   "outputs": [
    {
     "name": "stdout",
     "output_type": "stream",
     "text": [
      "  % Total    % Received % Xferd  Average Speed   Time    Time     Time  Current\n",
      "                                 Dload  Upload   Total   Spent    Left  Speed\n",
      "100 35.6M  100 35.6M    0     0  2809k      0  0:00:12  0:00:12 --:--:-- 6406k16  0:00:11  0:00:05 4260k\n"
     ]
    }
   ],
   "source": [
    "## Fall 2023 fix for worldclim xarray error: download manually:\n",
    "!curl -o {latlong_utils_data_dir}/wc2.1_10m_tavg.zip https://data.biogeo.ucdavis.edu/data/worldclim/v2.1/base/wc2.1_10m_tavg.zip"
   ]
  },
  {
   "cell_type": "code",
   "execution_count": 29,
   "metadata": {},
   "outputs": [
    {
     "name": "stdout",
     "output_type": "stream",
     "text": [
      "Downloading http://biogeo.ucdavis.edu/data/worldclim/v2.1/base/wc2.1_10m_tavg.zip\n",
      "Extracting /var/folders/rv/sn0kln2103b9fs4xl56n3w7w0000gn/T/worldclim_3g9bvgnm/wc2.1_10m_tavg.zip\n"
     ]
    },
    {
     "ename": "AttributeError",
     "evalue": "module 'xarray' has no attribute 'open_rasterio'",
     "output_type": "error",
     "traceback": [
      "\u001b[0;31m---------------------------------------------------------------------------\u001b[0m",
      "\u001b[0;31mAttributeError\u001b[0m                            Traceback (most recent call last)",
      "Cell \u001b[0;32mIn[29], line 2\u001b[0m\n\u001b[1;32m      1\u001b[0m \u001b[39m## Verify NaNs in worldclim over oceans\u001b[39;00m\n\u001b[0;32m----> 2\u001b[0m get_climate(\u001b[39m80.25\u001b[39;49m, \u001b[39m16.25\u001b[39;49m)\n",
      "File \u001b[0;32m~/mambaforge/envs/geo/lib/python3.11/site-packages/latlon_utils/__init__.py:382\u001b[0m, in \u001b[0;36mget_climate\u001b[0;34m(lat, lon, variables, res, load_data, data_files, radius, valid)\u001b[0m\n\u001b[1;32m    379\u001b[0m     radius \u001b[39m+\u001b[39m\u001b[39m=\u001b[39m \u001b[39m1\u001b[39m\n\u001b[1;32m    381\u001b[0m \u001b[39mif\u001b[39;00m data_files \u001b[39mis\u001b[39;00m \u001b[39mNone\u001b[39;00m:\n\u001b[0;32m--> 382\u001b[0m     data_files \u001b[39m=\u001b[39m [get_data_file(v \u001b[39m+\u001b[39;49m \u001b[39m'\u001b[39;49m\u001b[39m_\u001b[39;49m\u001b[39m'\u001b[39;49m \u001b[39m+\u001b[39;49m res \u001b[39m+\u001b[39;49m \u001b[39m'\u001b[39;49m\u001b[39m.nc\u001b[39;49m\u001b[39m'\u001b[39;49m) \u001b[39mfor\u001b[39;49;00m v \u001b[39min\u001b[39;49;00m variables]\n\u001b[1;32m    384\u001b[0m \u001b[39mfor\u001b[39;00m v, fname \u001b[39min\u001b[39;00m \u001b[39mzip\u001b[39m(variables, data_files):\n\u001b[1;32m    385\u001b[0m     \u001b[39mwith\u001b[39;00m nc\u001b[39m.\u001b[39mDataset(fname) \u001b[39mas\u001b[39;00m nco:\n",
      "File \u001b[0;32m~/mambaforge/envs/geo/lib/python3.11/site-packages/latlon_utils/__init__.py:382\u001b[0m, in \u001b[0;36m<listcomp>\u001b[0;34m(.0)\u001b[0m\n\u001b[1;32m    379\u001b[0m     radius \u001b[39m+\u001b[39m\u001b[39m=\u001b[39m \u001b[39m1\u001b[39m\n\u001b[1;32m    381\u001b[0m \u001b[39mif\u001b[39;00m data_files \u001b[39mis\u001b[39;00m \u001b[39mNone\u001b[39;00m:\n\u001b[0;32m--> 382\u001b[0m     data_files \u001b[39m=\u001b[39m [get_data_file(v \u001b[39m+\u001b[39;49m \u001b[39m'\u001b[39;49m\u001b[39m_\u001b[39;49m\u001b[39m'\u001b[39;49m \u001b[39m+\u001b[39;49m res \u001b[39m+\u001b[39;49m \u001b[39m'\u001b[39;49m\u001b[39m.nc\u001b[39;49m\u001b[39m'\u001b[39;49m) \u001b[39mfor\u001b[39;00m v \u001b[39min\u001b[39;00m variables]\n\u001b[1;32m    384\u001b[0m \u001b[39mfor\u001b[39;00m v, fname \u001b[39min\u001b[39;00m \u001b[39mzip\u001b[39m(variables, data_files):\n\u001b[1;32m    385\u001b[0m     \u001b[39mwith\u001b[39;00m nc\u001b[39m.\u001b[39mDataset(fname) \u001b[39mas\u001b[39;00m nco:\n",
      "File \u001b[0;32m~/mambaforge/envs/geo/lib/python3.11/site-packages/latlon_utils/__init__.py:83\u001b[0m, in \u001b[0;36mget_data_file\u001b[0;34m(fname, download)\u001b[0m\n\u001b[1;32m     81\u001b[0m     \u001b[39mfrom\u001b[39;00m \u001b[39mlatlon_utils\u001b[39;00m\u001b[39m.\u001b[39;00m\u001b[39mdownload\u001b[39;00m \u001b[39mimport\u001b[39;00m download_wc_variable\n\u001b[1;32m     82\u001b[0m     var, res \u001b[39m=\u001b[39m osp\u001b[39m.\u001b[39msplitext(fname)[\u001b[39m0\u001b[39m]\u001b[39m.\u001b[39msplit(\u001b[39m'\u001b[39m\u001b[39m_\u001b[39m\u001b[39m'\u001b[39m)\n\u001b[0;32m---> 83\u001b[0m     download_wc_variable(var, res\u001b[39m=\u001b[39;49mres)\n\u001b[1;32m     84\u001b[0m \u001b[39melif\u001b[39;00m fname \u001b[39m==\u001b[39m \u001b[39m'\u001b[39m\u001b[39mne_10m_admin_0_countries.shp\u001b[39m\u001b[39m'\u001b[39m:\n\u001b[1;32m     85\u001b[0m     \u001b[39mfrom\u001b[39;00m \u001b[39mlatlon_utils\u001b[39;00m\u001b[39m.\u001b[39;00m\u001b[39mdownload\u001b[39;00m \u001b[39mimport\u001b[39;00m download_natural_earth_countries\n",
      "File \u001b[0;32m~/mambaforge/envs/geo/lib/python3.11/site-packages/latlon_utils/download.py:87\u001b[0m, in \u001b[0;36mdownload_wc_variable\u001b[0;34m(name, outdir, res, lat, lon)\u001b[0m\n\u001b[1;32m     83\u001b[0m     f\u001b[39m.\u001b[39mextractall(download_dir)\n\u001b[1;32m     85\u001b[0m tiffs \u001b[39m=\u001b[39m \u001b[39msorted\u001b[39m(glob\u001b[39m.\u001b[39mglob(osp\u001b[39m.\u001b[39mjoin(download_dir,\n\u001b[1;32m     86\u001b[0m                                   \u001b[39m'\u001b[39m\u001b[39mwc2.1_\u001b[39m\u001b[39m%s\u001b[39;00m\u001b[39m_\u001b[39m\u001b[39m%s\u001b[39;00m\u001b[39m_??.tif\u001b[39m\u001b[39m'\u001b[39m \u001b[39m%\u001b[39m (res, name))))\n\u001b[0;32m---> 87\u001b[0m da \u001b[39m=\u001b[39m xr\u001b[39m.\u001b[39mconcat(\u001b[39mlist\u001b[39m(\u001b[39mmap\u001b[39m(xr\u001b[39m.\u001b[39;49mopen_rasterio, tiffs)),\n\u001b[1;32m     88\u001b[0m                dim\u001b[39m=\u001b[39mxr\u001b[39m.\u001b[39mVariable((\u001b[39m'\u001b[39m\u001b[39mmonth\u001b[39m\u001b[39m'\u001b[39m, ), np\u001b[39m.\u001b[39marange(\u001b[39m1\u001b[39m, \u001b[39m13\u001b[39m)))\n\u001b[1;32m     89\u001b[0m da\u001b[39m.\u001b[39mencoding \u001b[39m=\u001b[39m \u001b[39mdict\u001b[39m(zlib\u001b[39m=\u001b[39m\u001b[39mTrue\u001b[39;00m, complevel\u001b[39m=\u001b[39m\u001b[39m4\u001b[39m, least_significant_digit\u001b[39m=\u001b[39m\u001b[39m4\u001b[39m)\n\u001b[1;32m     90\u001b[0m da\u001b[39m.\u001b[39mname \u001b[39m=\u001b[39m name\n",
      "\u001b[0;31mAttributeError\u001b[0m: module 'xarray' has no attribute 'open_rasterio'"
     ]
    }
   ],
   "source": [
    "## Verify NaNs in worldclim over oceans\n",
    "get_climate(80.25, 16.25)"
   ]
  },
  {
   "cell_type": "code",
   "execution_count": 25,
   "metadata": {},
   "outputs": [
    {
     "data": {
      "text/plain": [
       "'/Users/ekyzivat/.local/share/latlon_utils'"
      ]
     },
     "execution_count": 25,
     "metadata": {},
     "output_type": "execute_result"
    }
   ],
   "source": [
    "import latlon_utils\n",
    "latlon_utils.get_data_file\n",
    "get_data_dir\n",
    "latlong_utils_data_dir"
   ]
  },
  {
   "cell_type": "code",
   "execution_count": 2,
   "metadata": {},
   "outputs": [
    {
     "ename": "FileNotFoundError",
     "evalue": "[Errno 2] No such file or directory: '/Users/ekyzivat/.local/share/latlon_utils/tavg_10m.nc'",
     "output_type": "error",
     "traceback": [
      "\u001b[0;31m---------------------------------------------------------------------------\u001b[0m",
      "\u001b[0;31mKeyError\u001b[0m                                  Traceback (most recent call last)",
      "File \u001b[0;32m~/mambaforge/envs/geo/lib/python3.11/site-packages/xarray/backends/file_manager.py:211\u001b[0m, in \u001b[0;36mCachingFileManager._acquire_with_cache_info\u001b[0;34m(self, needs_lock)\u001b[0m\n\u001b[1;32m    210\u001b[0m \u001b[39mtry\u001b[39;00m:\n\u001b[0;32m--> 211\u001b[0m     file \u001b[39m=\u001b[39m \u001b[39mself\u001b[39;49m\u001b[39m.\u001b[39;49m_cache[\u001b[39mself\u001b[39;49m\u001b[39m.\u001b[39;49m_key]\n\u001b[1;32m    212\u001b[0m \u001b[39mexcept\u001b[39;00m \u001b[39mKeyError\u001b[39;00m:\n",
      "File \u001b[0;32m~/mambaforge/envs/geo/lib/python3.11/site-packages/xarray/backends/lru_cache.py:56\u001b[0m, in \u001b[0;36mLRUCache.__getitem__\u001b[0;34m(self, key)\u001b[0m\n\u001b[1;32m     55\u001b[0m \u001b[39mwith\u001b[39;00m \u001b[39mself\u001b[39m\u001b[39m.\u001b[39m_lock:\n\u001b[0;32m---> 56\u001b[0m     value \u001b[39m=\u001b[39m \u001b[39mself\u001b[39;49m\u001b[39m.\u001b[39;49m_cache[key]\n\u001b[1;32m     57\u001b[0m     \u001b[39mself\u001b[39m\u001b[39m.\u001b[39m_cache\u001b[39m.\u001b[39mmove_to_end(key)\n",
      "\u001b[0;31mKeyError\u001b[0m: [<class 'netCDF4._netCDF4.Dataset'>, ('/Users/ekyzivat/.local/share/latlon_utils/tavg_10m.nc',), 'r', (('clobber', True), ('diskless', False), ('format', 'NETCDF4'), ('persist', False)), 'c3ae418f-52cf-48c3-9314-61009c7b0773']",
      "\nDuring handling of the above exception, another exception occurred:\n",
      "\u001b[0;31mFileNotFoundError\u001b[0m                         Traceback (most recent call last)",
      "Cell \u001b[0;32mIn[2], line 3\u001b[0m\n\u001b[1;32m      1\u001b[0m \u001b[39m## Load worldclim data\u001b[39;00m\n\u001b[1;32m      2\u001b[0m latlong_utils_data_dir \u001b[39m=\u001b[39m get_data_dir()\n\u001b[0;32m----> 3\u001b[0m da \u001b[39m=\u001b[39m xr\u001b[39m.\u001b[39;49mload_dataset(os\u001b[39m.\u001b[39;49mpath\u001b[39m.\u001b[39;49mjoin(latlong_utils_data_dir, \u001b[39m'\u001b[39;49m\u001b[39mtavg_10m.nc\u001b[39;49m\u001b[39m'\u001b[39;49m))\n\u001b[1;32m      5\u001b[0m \u001b[39m## View\u001b[39;00m\n\u001b[1;32m      6\u001b[0m da\n",
      "File \u001b[0;32m~/mambaforge/envs/geo/lib/python3.11/site-packages/xarray/backends/api.py:278\u001b[0m, in \u001b[0;36mload_dataset\u001b[0;34m(filename_or_obj, **kwargs)\u001b[0m\n\u001b[1;32m    275\u001b[0m \u001b[39mif\u001b[39;00m \u001b[39m\"\u001b[39m\u001b[39mcache\u001b[39m\u001b[39m\"\u001b[39m \u001b[39min\u001b[39;00m kwargs:\n\u001b[1;32m    276\u001b[0m     \u001b[39mraise\u001b[39;00m \u001b[39mTypeError\u001b[39;00m(\u001b[39m\"\u001b[39m\u001b[39mcache has no effect in this context\u001b[39m\u001b[39m\"\u001b[39m)\n\u001b[0;32m--> 278\u001b[0m \u001b[39mwith\u001b[39;00m open_dataset(filename_or_obj, \u001b[39m*\u001b[39;49m\u001b[39m*\u001b[39;49mkwargs) \u001b[39mas\u001b[39;00m ds:\n\u001b[1;32m    279\u001b[0m     \u001b[39mreturn\u001b[39;00m ds\u001b[39m.\u001b[39mload()\n",
      "File \u001b[0;32m~/mambaforge/envs/geo/lib/python3.11/site-packages/xarray/backends/api.py:570\u001b[0m, in \u001b[0;36mopen_dataset\u001b[0;34m(filename_or_obj, engine, chunks, cache, decode_cf, mask_and_scale, decode_times, decode_timedelta, use_cftime, concat_characters, decode_coords, drop_variables, inline_array, chunked_array_type, from_array_kwargs, backend_kwargs, **kwargs)\u001b[0m\n\u001b[1;32m    558\u001b[0m decoders \u001b[39m=\u001b[39m _resolve_decoders_kwargs(\n\u001b[1;32m    559\u001b[0m     decode_cf,\n\u001b[1;32m    560\u001b[0m     open_backend_dataset_parameters\u001b[39m=\u001b[39mbackend\u001b[39m.\u001b[39mopen_dataset_parameters,\n\u001b[0;32m   (...)\u001b[0m\n\u001b[1;32m    566\u001b[0m     decode_coords\u001b[39m=\u001b[39mdecode_coords,\n\u001b[1;32m    567\u001b[0m )\n\u001b[1;32m    569\u001b[0m overwrite_encoded_chunks \u001b[39m=\u001b[39m kwargs\u001b[39m.\u001b[39mpop(\u001b[39m\"\u001b[39m\u001b[39moverwrite_encoded_chunks\u001b[39m\u001b[39m\"\u001b[39m, \u001b[39mNone\u001b[39;00m)\n\u001b[0;32m--> 570\u001b[0m backend_ds \u001b[39m=\u001b[39m backend\u001b[39m.\u001b[39;49mopen_dataset(\n\u001b[1;32m    571\u001b[0m     filename_or_obj,\n\u001b[1;32m    572\u001b[0m     drop_variables\u001b[39m=\u001b[39;49mdrop_variables,\n\u001b[1;32m    573\u001b[0m     \u001b[39m*\u001b[39;49m\u001b[39m*\u001b[39;49mdecoders,\n\u001b[1;32m    574\u001b[0m     \u001b[39m*\u001b[39;49m\u001b[39m*\u001b[39;49mkwargs,\n\u001b[1;32m    575\u001b[0m )\n\u001b[1;32m    576\u001b[0m ds \u001b[39m=\u001b[39m _dataset_from_backend_dataset(\n\u001b[1;32m    577\u001b[0m     backend_ds,\n\u001b[1;32m    578\u001b[0m     filename_or_obj,\n\u001b[0;32m   (...)\u001b[0m\n\u001b[1;32m    588\u001b[0m     \u001b[39m*\u001b[39m\u001b[39m*\u001b[39mkwargs,\n\u001b[1;32m    589\u001b[0m )\n\u001b[1;32m    590\u001b[0m \u001b[39mreturn\u001b[39;00m ds\n",
      "File \u001b[0;32m~/mambaforge/envs/geo/lib/python3.11/site-packages/xarray/backends/netCDF4_.py:602\u001b[0m, in \u001b[0;36mNetCDF4BackendEntrypoint.open_dataset\u001b[0;34m(self, filename_or_obj, mask_and_scale, decode_times, concat_characters, decode_coords, drop_variables, use_cftime, decode_timedelta, group, mode, format, clobber, diskless, persist, lock, autoclose)\u001b[0m\n\u001b[1;32m    581\u001b[0m \u001b[39mdef\u001b[39;00m \u001b[39mopen_dataset\u001b[39m(  \u001b[39m# type: ignore[override]  # allow LSP violation, not supporting **kwargs\u001b[39;00m\n\u001b[1;32m    582\u001b[0m     \u001b[39mself\u001b[39m,\n\u001b[1;32m    583\u001b[0m     filename_or_obj: \u001b[39mstr\u001b[39m \u001b[39m|\u001b[39m os\u001b[39m.\u001b[39mPathLike[Any] \u001b[39m|\u001b[39m BufferedIOBase \u001b[39m|\u001b[39m AbstractDataStore,\n\u001b[0;32m   (...)\u001b[0m\n\u001b[1;32m    599\u001b[0m     autoclose\u001b[39m=\u001b[39m\u001b[39mFalse\u001b[39;00m,\n\u001b[1;32m    600\u001b[0m ) \u001b[39m-\u001b[39m\u001b[39m>\u001b[39m Dataset:\n\u001b[1;32m    601\u001b[0m     filename_or_obj \u001b[39m=\u001b[39m _normalize_path(filename_or_obj)\n\u001b[0;32m--> 602\u001b[0m     store \u001b[39m=\u001b[39m NetCDF4DataStore\u001b[39m.\u001b[39;49mopen(\n\u001b[1;32m    603\u001b[0m         filename_or_obj,\n\u001b[1;32m    604\u001b[0m         mode\u001b[39m=\u001b[39;49mmode,\n\u001b[1;32m    605\u001b[0m         \u001b[39mformat\u001b[39;49m\u001b[39m=\u001b[39;49m\u001b[39mformat\u001b[39;49m,\n\u001b[1;32m    606\u001b[0m         group\u001b[39m=\u001b[39;49mgroup,\n\u001b[1;32m    607\u001b[0m         clobber\u001b[39m=\u001b[39;49mclobber,\n\u001b[1;32m    608\u001b[0m         diskless\u001b[39m=\u001b[39;49mdiskless,\n\u001b[1;32m    609\u001b[0m         persist\u001b[39m=\u001b[39;49mpersist,\n\u001b[1;32m    610\u001b[0m         lock\u001b[39m=\u001b[39;49mlock,\n\u001b[1;32m    611\u001b[0m         autoclose\u001b[39m=\u001b[39;49mautoclose,\n\u001b[1;32m    612\u001b[0m     )\n\u001b[1;32m    614\u001b[0m     store_entrypoint \u001b[39m=\u001b[39m StoreBackendEntrypoint()\n\u001b[1;32m    615\u001b[0m     \u001b[39mwith\u001b[39;00m close_on_error(store):\n",
      "File \u001b[0;32m~/mambaforge/envs/geo/lib/python3.11/site-packages/xarray/backends/netCDF4_.py:400\u001b[0m, in \u001b[0;36mNetCDF4DataStore.open\u001b[0;34m(cls, filename, mode, format, group, clobber, diskless, persist, lock, lock_maker, autoclose)\u001b[0m\n\u001b[1;32m    394\u001b[0m kwargs \u001b[39m=\u001b[39m \u001b[39mdict\u001b[39m(\n\u001b[1;32m    395\u001b[0m     clobber\u001b[39m=\u001b[39mclobber, diskless\u001b[39m=\u001b[39mdiskless, persist\u001b[39m=\u001b[39mpersist, \u001b[39mformat\u001b[39m\u001b[39m=\u001b[39m\u001b[39mformat\u001b[39m\n\u001b[1;32m    396\u001b[0m )\n\u001b[1;32m    397\u001b[0m manager \u001b[39m=\u001b[39m CachingFileManager(\n\u001b[1;32m    398\u001b[0m     netCDF4\u001b[39m.\u001b[39mDataset, filename, mode\u001b[39m=\u001b[39mmode, kwargs\u001b[39m=\u001b[39mkwargs\n\u001b[1;32m    399\u001b[0m )\n\u001b[0;32m--> 400\u001b[0m \u001b[39mreturn\u001b[39;00m \u001b[39mcls\u001b[39;49m(manager, group\u001b[39m=\u001b[39;49mgroup, mode\u001b[39m=\u001b[39;49mmode, lock\u001b[39m=\u001b[39;49mlock, autoclose\u001b[39m=\u001b[39;49mautoclose)\n",
      "File \u001b[0;32m~/mambaforge/envs/geo/lib/python3.11/site-packages/xarray/backends/netCDF4_.py:347\u001b[0m, in \u001b[0;36mNetCDF4DataStore.__init__\u001b[0;34m(self, manager, group, mode, lock, autoclose)\u001b[0m\n\u001b[1;32m    345\u001b[0m \u001b[39mself\u001b[39m\u001b[39m.\u001b[39m_group \u001b[39m=\u001b[39m group\n\u001b[1;32m    346\u001b[0m \u001b[39mself\u001b[39m\u001b[39m.\u001b[39m_mode \u001b[39m=\u001b[39m mode\n\u001b[0;32m--> 347\u001b[0m \u001b[39mself\u001b[39m\u001b[39m.\u001b[39mformat \u001b[39m=\u001b[39m \u001b[39mself\u001b[39;49m\u001b[39m.\u001b[39;49mds\u001b[39m.\u001b[39mdata_model\n\u001b[1;32m    348\u001b[0m \u001b[39mself\u001b[39m\u001b[39m.\u001b[39m_filename \u001b[39m=\u001b[39m \u001b[39mself\u001b[39m\u001b[39m.\u001b[39mds\u001b[39m.\u001b[39mfilepath()\n\u001b[1;32m    349\u001b[0m \u001b[39mself\u001b[39m\u001b[39m.\u001b[39mis_remote \u001b[39m=\u001b[39m is_remote_uri(\u001b[39mself\u001b[39m\u001b[39m.\u001b[39m_filename)\n",
      "File \u001b[0;32m~/mambaforge/envs/geo/lib/python3.11/site-packages/xarray/backends/netCDF4_.py:409\u001b[0m, in \u001b[0;36mNetCDF4DataStore.ds\u001b[0;34m(self)\u001b[0m\n\u001b[1;32m    407\u001b[0m \u001b[39m@property\u001b[39m\n\u001b[1;32m    408\u001b[0m \u001b[39mdef\u001b[39;00m \u001b[39mds\u001b[39m(\u001b[39mself\u001b[39m):\n\u001b[0;32m--> 409\u001b[0m     \u001b[39mreturn\u001b[39;00m \u001b[39mself\u001b[39;49m\u001b[39m.\u001b[39;49m_acquire()\n",
      "File \u001b[0;32m~/mambaforge/envs/geo/lib/python3.11/site-packages/xarray/backends/netCDF4_.py:403\u001b[0m, in \u001b[0;36mNetCDF4DataStore._acquire\u001b[0;34m(self, needs_lock)\u001b[0m\n\u001b[1;32m    402\u001b[0m \u001b[39mdef\u001b[39;00m \u001b[39m_acquire\u001b[39m(\u001b[39mself\u001b[39m, needs_lock\u001b[39m=\u001b[39m\u001b[39mTrue\u001b[39;00m):\n\u001b[0;32m--> 403\u001b[0m     \u001b[39mwith\u001b[39;49;00m \u001b[39mself\u001b[39;49m\u001b[39m.\u001b[39;49m_manager\u001b[39m.\u001b[39;49macquire_context(needs_lock) \u001b[39mas\u001b[39;49;00m root:\n\u001b[1;32m    404\u001b[0m         ds \u001b[39m=\u001b[39;49m _nc4_require_group(root, \u001b[39mself\u001b[39;49m\u001b[39m.\u001b[39;49m_group, \u001b[39mself\u001b[39;49m\u001b[39m.\u001b[39;49m_mode)\n\u001b[1;32m    405\u001b[0m     \u001b[39mreturn\u001b[39;00m ds\n",
      "File \u001b[0;32m~/mambaforge/envs/geo/lib/python3.11/contextlib.py:137\u001b[0m, in \u001b[0;36m_GeneratorContextManager.__enter__\u001b[0;34m(self)\u001b[0m\n\u001b[1;32m    135\u001b[0m \u001b[39mdel\u001b[39;00m \u001b[39mself\u001b[39m\u001b[39m.\u001b[39margs, \u001b[39mself\u001b[39m\u001b[39m.\u001b[39mkwds, \u001b[39mself\u001b[39m\u001b[39m.\u001b[39mfunc\n\u001b[1;32m    136\u001b[0m \u001b[39mtry\u001b[39;00m:\n\u001b[0;32m--> 137\u001b[0m     \u001b[39mreturn\u001b[39;00m \u001b[39mnext\u001b[39m(\u001b[39mself\u001b[39m\u001b[39m.\u001b[39mgen)\n\u001b[1;32m    138\u001b[0m \u001b[39mexcept\u001b[39;00m \u001b[39mStopIteration\u001b[39;00m:\n\u001b[1;32m    139\u001b[0m     \u001b[39mraise\u001b[39;00m \u001b[39mRuntimeError\u001b[39;00m(\u001b[39m\"\u001b[39m\u001b[39mgenerator didn\u001b[39m\u001b[39m'\u001b[39m\u001b[39mt yield\u001b[39m\u001b[39m\"\u001b[39m) \u001b[39mfrom\u001b[39;00m \u001b[39mNone\u001b[39;00m\n",
      "File \u001b[0;32m~/mambaforge/envs/geo/lib/python3.11/site-packages/xarray/backends/file_manager.py:199\u001b[0m, in \u001b[0;36mCachingFileManager.acquire_context\u001b[0;34m(self, needs_lock)\u001b[0m\n\u001b[1;32m    196\u001b[0m \u001b[39m@contextlib\u001b[39m\u001b[39m.\u001b[39mcontextmanager\n\u001b[1;32m    197\u001b[0m \u001b[39mdef\u001b[39;00m \u001b[39macquire_context\u001b[39m(\u001b[39mself\u001b[39m, needs_lock\u001b[39m=\u001b[39m\u001b[39mTrue\u001b[39;00m):\n\u001b[1;32m    198\u001b[0m \u001b[39m    \u001b[39m\u001b[39m\"\"\"Context manager for acquiring a file.\"\"\"\u001b[39;00m\n\u001b[0;32m--> 199\u001b[0m     file, cached \u001b[39m=\u001b[39m \u001b[39mself\u001b[39;49m\u001b[39m.\u001b[39;49m_acquire_with_cache_info(needs_lock)\n\u001b[1;32m    200\u001b[0m     \u001b[39mtry\u001b[39;00m:\n\u001b[1;32m    201\u001b[0m         \u001b[39myield\u001b[39;00m file\n",
      "File \u001b[0;32m~/mambaforge/envs/geo/lib/python3.11/site-packages/xarray/backends/file_manager.py:217\u001b[0m, in \u001b[0;36mCachingFileManager._acquire_with_cache_info\u001b[0;34m(self, needs_lock)\u001b[0m\n\u001b[1;32m    215\u001b[0m     kwargs \u001b[39m=\u001b[39m kwargs\u001b[39m.\u001b[39mcopy()\n\u001b[1;32m    216\u001b[0m     kwargs[\u001b[39m\"\u001b[39m\u001b[39mmode\u001b[39m\u001b[39m\"\u001b[39m] \u001b[39m=\u001b[39m \u001b[39mself\u001b[39m\u001b[39m.\u001b[39m_mode\n\u001b[0;32m--> 217\u001b[0m file \u001b[39m=\u001b[39m \u001b[39mself\u001b[39;49m\u001b[39m.\u001b[39;49m_opener(\u001b[39m*\u001b[39;49m\u001b[39mself\u001b[39;49m\u001b[39m.\u001b[39;49m_args, \u001b[39m*\u001b[39;49m\u001b[39m*\u001b[39;49mkwargs)\n\u001b[1;32m    218\u001b[0m \u001b[39mif\u001b[39;00m \u001b[39mself\u001b[39m\u001b[39m.\u001b[39m_mode \u001b[39m==\u001b[39m \u001b[39m\"\u001b[39m\u001b[39mw\u001b[39m\u001b[39m\"\u001b[39m:\n\u001b[1;32m    219\u001b[0m     \u001b[39m# ensure file doesn't get overridden when opened again\u001b[39;00m\n\u001b[1;32m    220\u001b[0m     \u001b[39mself\u001b[39m\u001b[39m.\u001b[39m_mode \u001b[39m=\u001b[39m \u001b[39m\"\u001b[39m\u001b[39ma\u001b[39m\u001b[39m\"\u001b[39m\n",
      "File \u001b[0;32msrc/netCDF4/_netCDF4.pyx:2464\u001b[0m, in \u001b[0;36mnetCDF4._netCDF4.Dataset.__init__\u001b[0;34m()\u001b[0m\n",
      "File \u001b[0;32msrc/netCDF4/_netCDF4.pyx:2027\u001b[0m, in \u001b[0;36mnetCDF4._netCDF4._ensure_nc_success\u001b[0;34m()\u001b[0m\n",
      "\u001b[0;31mFileNotFoundError\u001b[0m: [Errno 2] No such file or directory: '/Users/ekyzivat/.local/share/latlon_utils/tavg_10m.nc'"
     ]
    }
   ],
   "source": [
    "## Load worldclim data\n",
    "latlong_utils_data_dir = get_data_dir()\n",
    "da = xr.load_dataset(os.path.join(latlong_utils_data_dir, 'tavg_10m.nc'))\n",
    "\n",
    "## View\n",
    "da"
   ]
  },
  {
   "cell_type": "code",
   "execution_count": null,
   "metadata": {},
   "outputs": [
    {
     "data": {
      "text/html": [
       "<div><svg style=\"position: absolute; width: 0; height: 0; overflow: hidden\">\n",
       "<defs>\n",
       "<symbol id=\"icon-database\" viewBox=\"0 0 32 32\">\n",
       "<path d=\"M16 0c-8.837 0-16 2.239-16 5v4c0 2.761 7.163 5 16 5s16-2.239 16-5v-4c0-2.761-7.163-5-16-5z\"></path>\n",
       "<path d=\"M16 17c-8.837 0-16-2.239-16-5v6c0 2.761 7.163 5 16 5s16-2.239 16-5v-6c0 2.761-7.163 5-16 5z\"></path>\n",
       "<path d=\"M16 26c-8.837 0-16-2.239-16-5v6c0 2.761 7.163 5 16 5s16-2.239 16-5v-6c0 2.761-7.163 5-16 5z\"></path>\n",
       "</symbol>\n",
       "<symbol id=\"icon-file-text2\" viewBox=\"0 0 32 32\">\n",
       "<path d=\"M28.681 7.159c-0.694-0.947-1.662-2.053-2.724-3.116s-2.169-2.030-3.116-2.724c-1.612-1.182-2.393-1.319-2.841-1.319h-15.5c-1.378 0-2.5 1.121-2.5 2.5v27c0 1.378 1.122 2.5 2.5 2.5h23c1.378 0 2.5-1.122 2.5-2.5v-19.5c0-0.448-0.137-1.23-1.319-2.841zM24.543 5.457c0.959 0.959 1.712 1.825 2.268 2.543h-4.811v-4.811c0.718 0.556 1.584 1.309 2.543 2.268zM28 29.5c0 0.271-0.229 0.5-0.5 0.5h-23c-0.271 0-0.5-0.229-0.5-0.5v-27c0-0.271 0.229-0.5 0.5-0.5 0 0 15.499-0 15.5 0v7c0 0.552 0.448 1 1 1h7v19.5z\"></path>\n",
       "<path d=\"M23 26h-14c-0.552 0-1-0.448-1-1s0.448-1 1-1h14c0.552 0 1 0.448 1 1s-0.448 1-1 1z\"></path>\n",
       "<path d=\"M23 22h-14c-0.552 0-1-0.448-1-1s0.448-1 1-1h14c0.552 0 1 0.448 1 1s-0.448 1-1 1z\"></path>\n",
       "<path d=\"M23 18h-14c-0.552 0-1-0.448-1-1s0.448-1 1-1h14c0.552 0 1 0.448 1 1s-0.448 1-1 1z\"></path>\n",
       "</symbol>\n",
       "</defs>\n",
       "</svg>\n",
       "<style>/* CSS stylesheet for displaying xarray objects in jupyterlab.\n",
       " *\n",
       " */\n",
       "\n",
       ":root {\n",
       "  --xr-font-color0: var(--jp-content-font-color0, rgba(0, 0, 0, 1));\n",
       "  --xr-font-color2: var(--jp-content-font-color2, rgba(0, 0, 0, 0.54));\n",
       "  --xr-font-color3: var(--jp-content-font-color3, rgba(0, 0, 0, 0.38));\n",
       "  --xr-border-color: var(--jp-border-color2, #e0e0e0);\n",
       "  --xr-disabled-color: var(--jp-layout-color3, #bdbdbd);\n",
       "  --xr-background-color: var(--jp-layout-color0, white);\n",
       "  --xr-background-color-row-even: var(--jp-layout-color1, white);\n",
       "  --xr-background-color-row-odd: var(--jp-layout-color2, #eeeeee);\n",
       "}\n",
       "\n",
       "html[theme=dark],\n",
       "body[data-theme=dark],\n",
       "body.vscode-dark {\n",
       "  --xr-font-color0: rgba(255, 255, 255, 1);\n",
       "  --xr-font-color2: rgba(255, 255, 255, 0.54);\n",
       "  --xr-font-color3: rgba(255, 255, 255, 0.38);\n",
       "  --xr-border-color: #1F1F1F;\n",
       "  --xr-disabled-color: #515151;\n",
       "  --xr-background-color: #111111;\n",
       "  --xr-background-color-row-even: #111111;\n",
       "  --xr-background-color-row-odd: #313131;\n",
       "}\n",
       "\n",
       ".xr-wrap {\n",
       "  display: block !important;\n",
       "  min-width: 300px;\n",
       "  max-width: 700px;\n",
       "}\n",
       "\n",
       ".xr-text-repr-fallback {\n",
       "  /* fallback to plain text repr when CSS is not injected (untrusted notebook) */\n",
       "  display: none;\n",
       "}\n",
       "\n",
       ".xr-header {\n",
       "  padding-top: 6px;\n",
       "  padding-bottom: 6px;\n",
       "  margin-bottom: 4px;\n",
       "  border-bottom: solid 1px var(--xr-border-color);\n",
       "}\n",
       "\n",
       ".xr-header > div,\n",
       ".xr-header > ul {\n",
       "  display: inline;\n",
       "  margin-top: 0;\n",
       "  margin-bottom: 0;\n",
       "}\n",
       "\n",
       ".xr-obj-type,\n",
       ".xr-array-name {\n",
       "  margin-left: 2px;\n",
       "  margin-right: 10px;\n",
       "}\n",
       "\n",
       ".xr-obj-type {\n",
       "  color: var(--xr-font-color2);\n",
       "}\n",
       "\n",
       ".xr-sections {\n",
       "  padding-left: 0 !important;\n",
       "  display: grid;\n",
       "  grid-template-columns: 150px auto auto 1fr 20px 20px;\n",
       "}\n",
       "\n",
       ".xr-section-item {\n",
       "  display: contents;\n",
       "}\n",
       "\n",
       ".xr-section-item input {\n",
       "  display: none;\n",
       "}\n",
       "\n",
       ".xr-section-item input + label {\n",
       "  color: var(--xr-disabled-color);\n",
       "}\n",
       "\n",
       ".xr-section-item input:enabled + label {\n",
       "  cursor: pointer;\n",
       "  color: var(--xr-font-color2);\n",
       "}\n",
       "\n",
       ".xr-section-item input:enabled + label:hover {\n",
       "  color: var(--xr-font-color0);\n",
       "}\n",
       "\n",
       ".xr-section-summary {\n",
       "  grid-column: 1;\n",
       "  color: var(--xr-font-color2);\n",
       "  font-weight: 500;\n",
       "}\n",
       "\n",
       ".xr-section-summary > span {\n",
       "  display: inline-block;\n",
       "  padding-left: 0.5em;\n",
       "}\n",
       "\n",
       ".xr-section-summary-in:disabled + label {\n",
       "  color: var(--xr-font-color2);\n",
       "}\n",
       "\n",
       ".xr-section-summary-in + label:before {\n",
       "  display: inline-block;\n",
       "  content: '►';\n",
       "  font-size: 11px;\n",
       "  width: 15px;\n",
       "  text-align: center;\n",
       "}\n",
       "\n",
       ".xr-section-summary-in:disabled + label:before {\n",
       "  color: var(--xr-disabled-color);\n",
       "}\n",
       "\n",
       ".xr-section-summary-in:checked + label:before {\n",
       "  content: '▼';\n",
       "}\n",
       "\n",
       ".xr-section-summary-in:checked + label > span {\n",
       "  display: none;\n",
       "}\n",
       "\n",
       ".xr-section-summary,\n",
       ".xr-section-inline-details {\n",
       "  padding-top: 4px;\n",
       "  padding-bottom: 4px;\n",
       "}\n",
       "\n",
       ".xr-section-inline-details {\n",
       "  grid-column: 2 / -1;\n",
       "}\n",
       "\n",
       ".xr-section-details {\n",
       "  display: none;\n",
       "  grid-column: 1 / -1;\n",
       "  margin-bottom: 5px;\n",
       "}\n",
       "\n",
       ".xr-section-summary-in:checked ~ .xr-section-details {\n",
       "  display: contents;\n",
       "}\n",
       "\n",
       ".xr-array-wrap {\n",
       "  grid-column: 1 / -1;\n",
       "  display: grid;\n",
       "  grid-template-columns: 20px auto;\n",
       "}\n",
       "\n",
       ".xr-array-wrap > label {\n",
       "  grid-column: 1;\n",
       "  vertical-align: top;\n",
       "}\n",
       "\n",
       ".xr-preview {\n",
       "  color: var(--xr-font-color3);\n",
       "}\n",
       "\n",
       ".xr-array-preview,\n",
       ".xr-array-data {\n",
       "  padding: 0 5px !important;\n",
       "  grid-column: 2;\n",
       "}\n",
       "\n",
       ".xr-array-data,\n",
       ".xr-array-in:checked ~ .xr-array-preview {\n",
       "  display: none;\n",
       "}\n",
       "\n",
       ".xr-array-in:checked ~ .xr-array-data,\n",
       ".xr-array-preview {\n",
       "  display: inline-block;\n",
       "}\n",
       "\n",
       ".xr-dim-list {\n",
       "  display: inline-block !important;\n",
       "  list-style: none;\n",
       "  padding: 0 !important;\n",
       "  margin: 0;\n",
       "}\n",
       "\n",
       ".xr-dim-list li {\n",
       "  display: inline-block;\n",
       "  padding: 0;\n",
       "  margin: 0;\n",
       "}\n",
       "\n",
       ".xr-dim-list:before {\n",
       "  content: '(';\n",
       "}\n",
       "\n",
       ".xr-dim-list:after {\n",
       "  content: ')';\n",
       "}\n",
       "\n",
       ".xr-dim-list li:not(:last-child):after {\n",
       "  content: ',';\n",
       "  padding-right: 5px;\n",
       "}\n",
       "\n",
       ".xr-has-index {\n",
       "  font-weight: bold;\n",
       "}\n",
       "\n",
       ".xr-var-list,\n",
       ".xr-var-item {\n",
       "  display: contents;\n",
       "}\n",
       "\n",
       ".xr-var-item > div,\n",
       ".xr-var-item label,\n",
       ".xr-var-item > .xr-var-name span {\n",
       "  background-color: var(--xr-background-color-row-even);\n",
       "  margin-bottom: 0;\n",
       "}\n",
       "\n",
       ".xr-var-item > .xr-var-name:hover span {\n",
       "  padding-right: 5px;\n",
       "}\n",
       "\n",
       ".xr-var-list > li:nth-child(odd) > div,\n",
       ".xr-var-list > li:nth-child(odd) > label,\n",
       ".xr-var-list > li:nth-child(odd) > .xr-var-name span {\n",
       "  background-color: var(--xr-background-color-row-odd);\n",
       "}\n",
       "\n",
       ".xr-var-name {\n",
       "  grid-column: 1;\n",
       "}\n",
       "\n",
       ".xr-var-dims {\n",
       "  grid-column: 2;\n",
       "}\n",
       "\n",
       ".xr-var-dtype {\n",
       "  grid-column: 3;\n",
       "  text-align: right;\n",
       "  color: var(--xr-font-color2);\n",
       "}\n",
       "\n",
       ".xr-var-preview {\n",
       "  grid-column: 4;\n",
       "}\n",
       "\n",
       ".xr-index-preview {\n",
       "  grid-column: 2 / 5;\n",
       "  color: var(--xr-font-color2);\n",
       "}\n",
       "\n",
       ".xr-var-name,\n",
       ".xr-var-dims,\n",
       ".xr-var-dtype,\n",
       ".xr-preview,\n",
       ".xr-attrs dt {\n",
       "  white-space: nowrap;\n",
       "  overflow: hidden;\n",
       "  text-overflow: ellipsis;\n",
       "  padding-right: 10px;\n",
       "}\n",
       "\n",
       ".xr-var-name:hover,\n",
       ".xr-var-dims:hover,\n",
       ".xr-var-dtype:hover,\n",
       ".xr-attrs dt:hover {\n",
       "  overflow: visible;\n",
       "  width: auto;\n",
       "  z-index: 1;\n",
       "}\n",
       "\n",
       ".xr-var-attrs,\n",
       ".xr-var-data,\n",
       ".xr-index-data {\n",
       "  display: none;\n",
       "  background-color: var(--xr-background-color) !important;\n",
       "  padding-bottom: 5px !important;\n",
       "}\n",
       "\n",
       ".xr-var-attrs-in:checked ~ .xr-var-attrs,\n",
       ".xr-var-data-in:checked ~ .xr-var-data,\n",
       ".xr-index-data-in:checked ~ .xr-index-data {\n",
       "  display: block;\n",
       "}\n",
       "\n",
       ".xr-var-data > table {\n",
       "  float: right;\n",
       "}\n",
       "\n",
       ".xr-var-name span,\n",
       ".xr-var-data,\n",
       ".xr-index-name div,\n",
       ".xr-index-data,\n",
       ".xr-attrs {\n",
       "  padding-left: 25px !important;\n",
       "}\n",
       "\n",
       ".xr-attrs,\n",
       ".xr-var-attrs,\n",
       ".xr-var-data,\n",
       ".xr-index-data {\n",
       "  grid-column: 1 / -1;\n",
       "}\n",
       "\n",
       "dl.xr-attrs {\n",
       "  padding: 0;\n",
       "  margin: 0;\n",
       "  display: grid;\n",
       "  grid-template-columns: 125px auto;\n",
       "}\n",
       "\n",
       ".xr-attrs dt,\n",
       ".xr-attrs dd {\n",
       "  padding: 0;\n",
       "  margin: 0;\n",
       "  float: left;\n",
       "  padding-right: 10px;\n",
       "  width: auto;\n",
       "}\n",
       "\n",
       ".xr-attrs dt {\n",
       "  font-weight: normal;\n",
       "  grid-column: 1;\n",
       "}\n",
       "\n",
       ".xr-attrs dt:hover span {\n",
       "  display: inline-block;\n",
       "  background: var(--xr-background-color);\n",
       "  padding-right: 10px;\n",
       "}\n",
       "\n",
       ".xr-attrs dd {\n",
       "  grid-column: 2;\n",
       "  white-space: pre-wrap;\n",
       "  word-break: break-all;\n",
       "}\n",
       "\n",
       ".xr-icon-database,\n",
       ".xr-icon-file-text2,\n",
       ".xr-no-icon {\n",
       "  display: inline-block;\n",
       "  vertical-align: middle;\n",
       "  width: 1em;\n",
       "  height: 1.5em !important;\n",
       "  stroke-width: 0;\n",
       "  stroke: currentColor;\n",
       "  fill: currentColor;\n",
       "}\n",
       "</style><pre class='xr-text-repr-fallback'>&lt;xarray.DataArray &#x27;tavg&#x27; (lat: 2, lon: 2)&gt;\n",
       "array([[-inf, -inf],\n",
       "       [-inf, -inf]], dtype=float32)\n",
       "Coordinates:\n",
       "    band     int64 1\n",
       "  * lat      (lat) float64 89.92 89.75\n",
       "  * lon      (lon) float64 -179.9 -179.8\n",
       "    month    int64 1\n",
       "Attributes:\n",
       "    transform:      [ 1.66666667e-01  0.00000000e+00 -1.80000000e+02  0.00000...\n",
       "    crs:            +init=epsg:4326\n",
       "    res:            [0.16666667 0.16666667]\n",
       "    is_tiled:       0\n",
       "    nodatavals:     -3.3999999521443642e+38\n",
       "    scales:         1.0\n",
       "    offsets:        0.0\n",
       "    AREA_OR_POINT:  Area\n",
       "    long_name:      maximum temperature\n",
       "    units:          degC\n",
       "    history:        2023-02-03T17:04:07.722449: Downloaded tavg data with lat...\n",
       "    reference:      Fick, S.E. and R.J. Hijmans, 2017. Worldclim 2: New 1-km ...</pre><div class='xr-wrap' style='display:none'><div class='xr-header'><div class='xr-obj-type'>xarray.DataArray</div><div class='xr-array-name'>'tavg'</div><ul class='xr-dim-list'><li><span class='xr-has-index'>lat</span>: 2</li><li><span class='xr-has-index'>lon</span>: 2</li></ul></div><ul class='xr-sections'><li class='xr-section-item'><div class='xr-array-wrap'><input id='section-e45cfac1-c087-430f-afd9-a28c7f0c8370' class='xr-array-in' type='checkbox' checked><label for='section-e45cfac1-c087-430f-afd9-a28c7f0c8370' title='Show/hide data repr'><svg class='icon xr-icon-database'><use xlink:href='#icon-database'></use></svg></label><div class='xr-array-preview xr-preview'><span>-inf -inf -inf -inf</span></div><div class='xr-array-data'><pre>array([[-inf, -inf],\n",
       "       [-inf, -inf]], dtype=float32)</pre></div></div></li><li class='xr-section-item'><input id='section-1847998b-12be-4874-b080-41d7f1675aa1' class='xr-section-summary-in' type='checkbox'  checked><label for='section-1847998b-12be-4874-b080-41d7f1675aa1' class='xr-section-summary' >Coordinates: <span>(4)</span></label><div class='xr-section-inline-details'></div><div class='xr-section-details'><ul class='xr-var-list'><li class='xr-var-item'><div class='xr-var-name'><span>band</span></div><div class='xr-var-dims'>()</div><div class='xr-var-dtype'>int64</div><div class='xr-var-preview xr-preview'>1</div><input id='attrs-7b1c9b56-87e0-4e54-ab66-0de48eaaa4ed' class='xr-var-attrs-in' type='checkbox' disabled><label for='attrs-7b1c9b56-87e0-4e54-ab66-0de48eaaa4ed' title='Show/Hide attributes'><svg class='icon xr-icon-file-text2'><use xlink:href='#icon-file-text2'></use></svg></label><input id='data-0c066289-3cfe-42d5-8a59-af5ad7ca55bd' class='xr-var-data-in' type='checkbox'><label for='data-0c066289-3cfe-42d5-8a59-af5ad7ca55bd' title='Show/Hide data repr'><svg class='icon xr-icon-database'><use xlink:href='#icon-database'></use></svg></label><div class='xr-var-attrs'><dl class='xr-attrs'></dl></div><div class='xr-var-data'><pre>array(1)</pre></div></li><li class='xr-var-item'><div class='xr-var-name'><span class='xr-has-index'>lat</span></div><div class='xr-var-dims'>(lat)</div><div class='xr-var-dtype'>float64</div><div class='xr-var-preview xr-preview'>89.92 89.75</div><input id='attrs-e6fe7fc2-db1b-4a75-a5e9-8a4ca4cfc564' class='xr-var-attrs-in' type='checkbox' disabled><label for='attrs-e6fe7fc2-db1b-4a75-a5e9-8a4ca4cfc564' title='Show/Hide attributes'><svg class='icon xr-icon-file-text2'><use xlink:href='#icon-file-text2'></use></svg></label><input id='data-28ba323f-b09b-4eb0-a0f5-c39779121621' class='xr-var-data-in' type='checkbox'><label for='data-28ba323f-b09b-4eb0-a0f5-c39779121621' title='Show/Hide data repr'><svg class='icon xr-icon-database'><use xlink:href='#icon-database'></use></svg></label><div class='xr-var-attrs'><dl class='xr-attrs'></dl></div><div class='xr-var-data'><pre>array([89.916667, 89.75    ])</pre></div></li><li class='xr-var-item'><div class='xr-var-name'><span class='xr-has-index'>lon</span></div><div class='xr-var-dims'>(lon)</div><div class='xr-var-dtype'>float64</div><div class='xr-var-preview xr-preview'>-179.9 -179.8</div><input id='attrs-5d7d2065-89b9-4870-af08-2ed499703521' class='xr-var-attrs-in' type='checkbox' disabled><label for='attrs-5d7d2065-89b9-4870-af08-2ed499703521' title='Show/Hide attributes'><svg class='icon xr-icon-file-text2'><use xlink:href='#icon-file-text2'></use></svg></label><input id='data-f71de968-0cc9-401c-b66f-88e2777b2bac' class='xr-var-data-in' type='checkbox'><label for='data-f71de968-0cc9-401c-b66f-88e2777b2bac' title='Show/Hide data repr'><svg class='icon xr-icon-database'><use xlink:href='#icon-database'></use></svg></label><div class='xr-var-attrs'><dl class='xr-attrs'></dl></div><div class='xr-var-data'><pre>array([-179.916667, -179.75    ])</pre></div></li><li class='xr-var-item'><div class='xr-var-name'><span>month</span></div><div class='xr-var-dims'>()</div><div class='xr-var-dtype'>int64</div><div class='xr-var-preview xr-preview'>1</div><input id='attrs-479dd595-867e-469e-b229-5d756b411bdc' class='xr-var-attrs-in' type='checkbox' disabled><label for='attrs-479dd595-867e-469e-b229-5d756b411bdc' title='Show/Hide attributes'><svg class='icon xr-icon-file-text2'><use xlink:href='#icon-file-text2'></use></svg></label><input id='data-bfd52d75-ce29-4deb-b83f-a67ca38ae406' class='xr-var-data-in' type='checkbox'><label for='data-bfd52d75-ce29-4deb-b83f-a67ca38ae406' title='Show/Hide data repr'><svg class='icon xr-icon-database'><use xlink:href='#icon-database'></use></svg></label><div class='xr-var-attrs'><dl class='xr-attrs'></dl></div><div class='xr-var-data'><pre>array(1)</pre></div></li></ul></div></li><li class='xr-section-item'><input id='section-486652f2-b8ca-43f2-815c-6a7d74d4555b' class='xr-section-summary-in' type='checkbox'  ><label for='section-486652f2-b8ca-43f2-815c-6a7d74d4555b' class='xr-section-summary' >Indexes: <span>(2)</span></label><div class='xr-section-inline-details'></div><div class='xr-section-details'><ul class='xr-var-list'><li class='xr-var-item'><div class='xr-index-name'><div>lat</div></div><div class='xr-index-preview'>PandasIndex</div><div></div><input id='index-60636fa1-3455-4b16-bfb3-0eb80bfcf6a8' class='xr-index-data-in' type='checkbox'/><label for='index-60636fa1-3455-4b16-bfb3-0eb80bfcf6a8' title='Show/Hide index repr'><svg class='icon xr-icon-database'><use xlink:href='#icon-database'></use></svg></label><div class='xr-index-data'><pre>PandasIndex(Float64Index([89.91666666666667, 89.75], dtype=&#x27;float64&#x27;, name=&#x27;lat&#x27;))</pre></div></li><li class='xr-var-item'><div class='xr-index-name'><div>lon</div></div><div class='xr-index-preview'>PandasIndex</div><div></div><input id='index-12f81ec0-2c8f-4d76-8d2a-859c74b37751' class='xr-index-data-in' type='checkbox'/><label for='index-12f81ec0-2c8f-4d76-8d2a-859c74b37751' title='Show/Hide index repr'><svg class='icon xr-icon-database'><use xlink:href='#icon-database'></use></svg></label><div class='xr-index-data'><pre>PandasIndex(Float64Index([-179.91666666666666, -179.75], dtype=&#x27;float64&#x27;, name=&#x27;lon&#x27;))</pre></div></li></ul></div></li><li class='xr-section-item'><input id='section-80193260-40ed-4d99-b890-e29d175aad56' class='xr-section-summary-in' type='checkbox'  ><label for='section-80193260-40ed-4d99-b890-e29d175aad56' class='xr-section-summary' >Attributes: <span>(12)</span></label><div class='xr-section-inline-details'></div><div class='xr-section-details'><dl class='xr-attrs'><dt><span>transform :</span></dt><dd>[ 1.66666667e-01  0.00000000e+00 -1.80000000e+02  0.00000000e+00\n",
       " -1.66666667e-01  9.00000000e+01]</dd><dt><span>crs :</span></dt><dd>+init=epsg:4326</dd><dt><span>res :</span></dt><dd>[0.16666667 0.16666667]</dd><dt><span>is_tiled :</span></dt><dd>0</dd><dt><span>nodatavals :</span></dt><dd>-3.3999999521443642e+38</dd><dt><span>scales :</span></dt><dd>1.0</dd><dt><span>offsets :</span></dt><dd>0.0</dd><dt><span>AREA_OR_POINT :</span></dt><dd>Area</dd><dt><span>long_name :</span></dt><dd>maximum temperature</dd><dt><span>units :</span></dt><dd>degC</dd><dt><span>history :</span></dt><dd>2023-02-03T17:04:07.722449: Downloaded tavg data with latlon-utils (0.0.7) from http://biogeo.ucdavis.edu/data/worldclim/v2.1/base/wc2.1_10m_tavg.zip</dd><dt><span>reference :</span></dt><dd>Fick, S.E. and R.J. Hijmans, 2017. Worldclim 2: New 1-km spatial resolution climate surfaces for global land areas. International Journal of Climatology.</dd></dl></div></li></ul></div></div>"
      ],
      "text/plain": [
       "<xarray.DataArray 'tavg' (lat: 2, lon: 2)>\n",
       "array([[-inf, -inf],\n",
       "       [-inf, -inf]], dtype=float32)\n",
       "Coordinates:\n",
       "    band     int64 1\n",
       "  * lat      (lat) float64 89.92 89.75\n",
       "  * lon      (lon) float64 -179.9 -179.8\n",
       "    month    int64 1\n",
       "Attributes:\n",
       "    transform:      [ 1.66666667e-01  0.00000000e+00 -1.80000000e+02  0.00000...\n",
       "    crs:            +init=epsg:4326\n",
       "    res:            [0.16666667 0.16666667]\n",
       "    is_tiled:       0\n",
       "    nodatavals:     -3.3999999521443642e+38\n",
       "    scales:         1.0\n",
       "    offsets:        0.0\n",
       "    AREA_OR_POINT:  Area\n",
       "    long_name:      maximum temperature\n",
       "    units:          degC\n",
       "    history:        2023-02-03T17:04:07.722449: Downloaded tavg data with lat...\n",
       "    reference:      Fick, S.E. and R.J. Hijmans, 2017. Worldclim 2: New 1-km ..."
      ]
     },
     "metadata": {},
     "output_type": "display_data"
    }
   ],
   "source": [
    "## Practice selecting with dask\n",
    "da\n",
    "# da.tavg[89.92, -179.9, 2]\n",
    "# daa = xr.DataArray(da)\n",
    "# da.tavg[3,0,0]\n",
    "da.tavg.sel(lat=[89.92, 89.75], lon=[-179.9, -179.8], month=1, method='nearest')\n",
    "# da.tavg.loc[0, 89.92, -179.9]"
   ]
  },
  {
   "cell_type": "markdown",
   "metadata": {},
   "source": [
    "I tried using xarray.DataSet.interpolate_na, but it only works in one dim... from scipy.interpolate import NearestNDInterpolator was too complicated"
   ]
  },
  {
   "cell_type": "code",
   "execution_count": null,
   "metadata": {},
   "outputs": [
    {
     "data": {
      "text/html": [
       "<div><svg style=\"position: absolute; width: 0; height: 0; overflow: hidden\">\n",
       "<defs>\n",
       "<symbol id=\"icon-database\" viewBox=\"0 0 32 32\">\n",
       "<path d=\"M16 0c-8.837 0-16 2.239-16 5v4c0 2.761 7.163 5 16 5s16-2.239 16-5v-4c0-2.761-7.163-5-16-5z\"></path>\n",
       "<path d=\"M16 17c-8.837 0-16-2.239-16-5v6c0 2.761 7.163 5 16 5s16-2.239 16-5v-6c0 2.761-7.163 5-16 5z\"></path>\n",
       "<path d=\"M16 26c-8.837 0-16-2.239-16-5v6c0 2.761 7.163 5 16 5s16-2.239 16-5v-6c0 2.761-7.163 5-16 5z\"></path>\n",
       "</symbol>\n",
       "<symbol id=\"icon-file-text2\" viewBox=\"0 0 32 32\">\n",
       "<path d=\"M28.681 7.159c-0.694-0.947-1.662-2.053-2.724-3.116s-2.169-2.030-3.116-2.724c-1.612-1.182-2.393-1.319-2.841-1.319h-15.5c-1.378 0-2.5 1.121-2.5 2.5v27c0 1.378 1.122 2.5 2.5 2.5h23c1.378 0 2.5-1.122 2.5-2.5v-19.5c0-0.448-0.137-1.23-1.319-2.841zM24.543 5.457c0.959 0.959 1.712 1.825 2.268 2.543h-4.811v-4.811c0.718 0.556 1.584 1.309 2.543 2.268zM28 29.5c0 0.271-0.229 0.5-0.5 0.5h-23c-0.271 0-0.5-0.229-0.5-0.5v-27c0-0.271 0.229-0.5 0.5-0.5 0 0 15.499-0 15.5 0v7c0 0.552 0.448 1 1 1h7v19.5z\"></path>\n",
       "<path d=\"M23 26h-14c-0.552 0-1-0.448-1-1s0.448-1 1-1h14c0.552 0 1 0.448 1 1s-0.448 1-1 1z\"></path>\n",
       "<path d=\"M23 22h-14c-0.552 0-1-0.448-1-1s0.448-1 1-1h14c0.552 0 1 0.448 1 1s-0.448 1-1 1z\"></path>\n",
       "<path d=\"M23 18h-14c-0.552 0-1-0.448-1-1s0.448-1 1-1h14c0.552 0 1 0.448 1 1s-0.448 1-1 1z\"></path>\n",
       "</symbol>\n",
       "</defs>\n",
       "</svg>\n",
       "<style>/* CSS stylesheet for displaying xarray objects in jupyterlab.\n",
       " *\n",
       " */\n",
       "\n",
       ":root {\n",
       "  --xr-font-color0: var(--jp-content-font-color0, rgba(0, 0, 0, 1));\n",
       "  --xr-font-color2: var(--jp-content-font-color2, rgba(0, 0, 0, 0.54));\n",
       "  --xr-font-color3: var(--jp-content-font-color3, rgba(0, 0, 0, 0.38));\n",
       "  --xr-border-color: var(--jp-border-color2, #e0e0e0);\n",
       "  --xr-disabled-color: var(--jp-layout-color3, #bdbdbd);\n",
       "  --xr-background-color: var(--jp-layout-color0, white);\n",
       "  --xr-background-color-row-even: var(--jp-layout-color1, white);\n",
       "  --xr-background-color-row-odd: var(--jp-layout-color2, #eeeeee);\n",
       "}\n",
       "\n",
       "html[theme=dark],\n",
       "body[data-theme=dark],\n",
       "body.vscode-dark {\n",
       "  --xr-font-color0: rgba(255, 255, 255, 1);\n",
       "  --xr-font-color2: rgba(255, 255, 255, 0.54);\n",
       "  --xr-font-color3: rgba(255, 255, 255, 0.38);\n",
       "  --xr-border-color: #1F1F1F;\n",
       "  --xr-disabled-color: #515151;\n",
       "  --xr-background-color: #111111;\n",
       "  --xr-background-color-row-even: #111111;\n",
       "  --xr-background-color-row-odd: #313131;\n",
       "}\n",
       "\n",
       ".xr-wrap {\n",
       "  display: block !important;\n",
       "  min-width: 300px;\n",
       "  max-width: 700px;\n",
       "}\n",
       "\n",
       ".xr-text-repr-fallback {\n",
       "  /* fallback to plain text repr when CSS is not injected (untrusted notebook) */\n",
       "  display: none;\n",
       "}\n",
       "\n",
       ".xr-header {\n",
       "  padding-top: 6px;\n",
       "  padding-bottom: 6px;\n",
       "  margin-bottom: 4px;\n",
       "  border-bottom: solid 1px var(--xr-border-color);\n",
       "}\n",
       "\n",
       ".xr-header > div,\n",
       ".xr-header > ul {\n",
       "  display: inline;\n",
       "  margin-top: 0;\n",
       "  margin-bottom: 0;\n",
       "}\n",
       "\n",
       ".xr-obj-type,\n",
       ".xr-array-name {\n",
       "  margin-left: 2px;\n",
       "  margin-right: 10px;\n",
       "}\n",
       "\n",
       ".xr-obj-type {\n",
       "  color: var(--xr-font-color2);\n",
       "}\n",
       "\n",
       ".xr-sections {\n",
       "  padding-left: 0 !important;\n",
       "  display: grid;\n",
       "  grid-template-columns: 150px auto auto 1fr 20px 20px;\n",
       "}\n",
       "\n",
       ".xr-section-item {\n",
       "  display: contents;\n",
       "}\n",
       "\n",
       ".xr-section-item input {\n",
       "  display: none;\n",
       "}\n",
       "\n",
       ".xr-section-item input + label {\n",
       "  color: var(--xr-disabled-color);\n",
       "}\n",
       "\n",
       ".xr-section-item input:enabled + label {\n",
       "  cursor: pointer;\n",
       "  color: var(--xr-font-color2);\n",
       "}\n",
       "\n",
       ".xr-section-item input:enabled + label:hover {\n",
       "  color: var(--xr-font-color0);\n",
       "}\n",
       "\n",
       ".xr-section-summary {\n",
       "  grid-column: 1;\n",
       "  color: var(--xr-font-color2);\n",
       "  font-weight: 500;\n",
       "}\n",
       "\n",
       ".xr-section-summary > span {\n",
       "  display: inline-block;\n",
       "  padding-left: 0.5em;\n",
       "}\n",
       "\n",
       ".xr-section-summary-in:disabled + label {\n",
       "  color: var(--xr-font-color2);\n",
       "}\n",
       "\n",
       ".xr-section-summary-in + label:before {\n",
       "  display: inline-block;\n",
       "  content: '►';\n",
       "  font-size: 11px;\n",
       "  width: 15px;\n",
       "  text-align: center;\n",
       "}\n",
       "\n",
       ".xr-section-summary-in:disabled + label:before {\n",
       "  color: var(--xr-disabled-color);\n",
       "}\n",
       "\n",
       ".xr-section-summary-in:checked + label:before {\n",
       "  content: '▼';\n",
       "}\n",
       "\n",
       ".xr-section-summary-in:checked + label > span {\n",
       "  display: none;\n",
       "}\n",
       "\n",
       ".xr-section-summary,\n",
       ".xr-section-inline-details {\n",
       "  padding-top: 4px;\n",
       "  padding-bottom: 4px;\n",
       "}\n",
       "\n",
       ".xr-section-inline-details {\n",
       "  grid-column: 2 / -1;\n",
       "}\n",
       "\n",
       ".xr-section-details {\n",
       "  display: none;\n",
       "  grid-column: 1 / -1;\n",
       "  margin-bottom: 5px;\n",
       "}\n",
       "\n",
       ".xr-section-summary-in:checked ~ .xr-section-details {\n",
       "  display: contents;\n",
       "}\n",
       "\n",
       ".xr-array-wrap {\n",
       "  grid-column: 1 / -1;\n",
       "  display: grid;\n",
       "  grid-template-columns: 20px auto;\n",
       "}\n",
       "\n",
       ".xr-array-wrap > label {\n",
       "  grid-column: 1;\n",
       "  vertical-align: top;\n",
       "}\n",
       "\n",
       ".xr-preview {\n",
       "  color: var(--xr-font-color3);\n",
       "}\n",
       "\n",
       ".xr-array-preview,\n",
       ".xr-array-data {\n",
       "  padding: 0 5px !important;\n",
       "  grid-column: 2;\n",
       "}\n",
       "\n",
       ".xr-array-data,\n",
       ".xr-array-in:checked ~ .xr-array-preview {\n",
       "  display: none;\n",
       "}\n",
       "\n",
       ".xr-array-in:checked ~ .xr-array-data,\n",
       ".xr-array-preview {\n",
       "  display: inline-block;\n",
       "}\n",
       "\n",
       ".xr-dim-list {\n",
       "  display: inline-block !important;\n",
       "  list-style: none;\n",
       "  padding: 0 !important;\n",
       "  margin: 0;\n",
       "}\n",
       "\n",
       ".xr-dim-list li {\n",
       "  display: inline-block;\n",
       "  padding: 0;\n",
       "  margin: 0;\n",
       "}\n",
       "\n",
       ".xr-dim-list:before {\n",
       "  content: '(';\n",
       "}\n",
       "\n",
       ".xr-dim-list:after {\n",
       "  content: ')';\n",
       "}\n",
       "\n",
       ".xr-dim-list li:not(:last-child):after {\n",
       "  content: ',';\n",
       "  padding-right: 5px;\n",
       "}\n",
       "\n",
       ".xr-has-index {\n",
       "  font-weight: bold;\n",
       "}\n",
       "\n",
       ".xr-var-list,\n",
       ".xr-var-item {\n",
       "  display: contents;\n",
       "}\n",
       "\n",
       ".xr-var-item > div,\n",
       ".xr-var-item label,\n",
       ".xr-var-item > .xr-var-name span {\n",
       "  background-color: var(--xr-background-color-row-even);\n",
       "  margin-bottom: 0;\n",
       "}\n",
       "\n",
       ".xr-var-item > .xr-var-name:hover span {\n",
       "  padding-right: 5px;\n",
       "}\n",
       "\n",
       ".xr-var-list > li:nth-child(odd) > div,\n",
       ".xr-var-list > li:nth-child(odd) > label,\n",
       ".xr-var-list > li:nth-child(odd) > .xr-var-name span {\n",
       "  background-color: var(--xr-background-color-row-odd);\n",
       "}\n",
       "\n",
       ".xr-var-name {\n",
       "  grid-column: 1;\n",
       "}\n",
       "\n",
       ".xr-var-dims {\n",
       "  grid-column: 2;\n",
       "}\n",
       "\n",
       ".xr-var-dtype {\n",
       "  grid-column: 3;\n",
       "  text-align: right;\n",
       "  color: var(--xr-font-color2);\n",
       "}\n",
       "\n",
       ".xr-var-preview {\n",
       "  grid-column: 4;\n",
       "}\n",
       "\n",
       ".xr-index-preview {\n",
       "  grid-column: 2 / 5;\n",
       "  color: var(--xr-font-color2);\n",
       "}\n",
       "\n",
       ".xr-var-name,\n",
       ".xr-var-dims,\n",
       ".xr-var-dtype,\n",
       ".xr-preview,\n",
       ".xr-attrs dt {\n",
       "  white-space: nowrap;\n",
       "  overflow: hidden;\n",
       "  text-overflow: ellipsis;\n",
       "  padding-right: 10px;\n",
       "}\n",
       "\n",
       ".xr-var-name:hover,\n",
       ".xr-var-dims:hover,\n",
       ".xr-var-dtype:hover,\n",
       ".xr-attrs dt:hover {\n",
       "  overflow: visible;\n",
       "  width: auto;\n",
       "  z-index: 1;\n",
       "}\n",
       "\n",
       ".xr-var-attrs,\n",
       ".xr-var-data,\n",
       ".xr-index-data {\n",
       "  display: none;\n",
       "  background-color: var(--xr-background-color) !important;\n",
       "  padding-bottom: 5px !important;\n",
       "}\n",
       "\n",
       ".xr-var-attrs-in:checked ~ .xr-var-attrs,\n",
       ".xr-var-data-in:checked ~ .xr-var-data,\n",
       ".xr-index-data-in:checked ~ .xr-index-data {\n",
       "  display: block;\n",
       "}\n",
       "\n",
       ".xr-var-data > table {\n",
       "  float: right;\n",
       "}\n",
       "\n",
       ".xr-var-name span,\n",
       ".xr-var-data,\n",
       ".xr-index-name div,\n",
       ".xr-index-data,\n",
       ".xr-attrs {\n",
       "  padding-left: 25px !important;\n",
       "}\n",
       "\n",
       ".xr-attrs,\n",
       ".xr-var-attrs,\n",
       ".xr-var-data,\n",
       ".xr-index-data {\n",
       "  grid-column: 1 / -1;\n",
       "}\n",
       "\n",
       "dl.xr-attrs {\n",
       "  padding: 0;\n",
       "  margin: 0;\n",
       "  display: grid;\n",
       "  grid-template-columns: 125px auto;\n",
       "}\n",
       "\n",
       ".xr-attrs dt,\n",
       ".xr-attrs dd {\n",
       "  padding: 0;\n",
       "  margin: 0;\n",
       "  float: left;\n",
       "  padding-right: 10px;\n",
       "  width: auto;\n",
       "}\n",
       "\n",
       ".xr-attrs dt {\n",
       "  font-weight: normal;\n",
       "  grid-column: 1;\n",
       "}\n",
       "\n",
       ".xr-attrs dt:hover span {\n",
       "  display: inline-block;\n",
       "  background: var(--xr-background-color);\n",
       "  padding-right: 10px;\n",
       "}\n",
       "\n",
       ".xr-attrs dd {\n",
       "  grid-column: 2;\n",
       "  white-space: pre-wrap;\n",
       "  word-break: break-all;\n",
       "}\n",
       "\n",
       ".xr-icon-database,\n",
       ".xr-icon-file-text2,\n",
       ".xr-no-icon {\n",
       "  display: inline-block;\n",
       "  vertical-align: middle;\n",
       "  width: 1em;\n",
       "  height: 1.5em !important;\n",
       "  stroke-width: 0;\n",
       "  stroke: currentColor;\n",
       "  fill: currentColor;\n",
       "}\n",
       "</style><pre class='xr-text-repr-fallback'>&lt;xarray.DataArray &#x27;tavg&#x27; (month: 12, lat: 1080, lon: 2160)&gt;\n",
       "array([[[       nan,        nan,        nan, ...,        nan,\n",
       "                nan,        nan],\n",
       "        [       nan,        nan,        nan, ...,        nan,\n",
       "                nan,        nan],\n",
       "        [       nan,        nan,        nan, ...,        nan,\n",
       "                nan,        nan],\n",
       "        ...,\n",
       "        [-18.87976 , -19.53003 , -19.530762, ..., -21.501526,\n",
       "         -21.49524 , -20.174744],\n",
       "        [-16.98999 , -17.919983, -17.919983, ..., -19.73999 ,\n",
       "         -19.732727, -18.200256],\n",
       "        [-17.273499, -17.862488, -17.880005, ..., -19.684753,\n",
       "         -19.672241, -18.494019]],\n",
       "\n",
       "       [[       nan,        nan,        nan, ...,        nan,\n",
       "                nan,        nan],\n",
       "        [       nan,        nan,        nan, ...,        nan,\n",
       "                nan,        nan],\n",
       "        [       nan,        nan,        nan, ...,        nan,\n",
       "                nan,        nan],\n",
       "...\n",
       "        [-24.55603 , -25.22998 , -25.231262, ..., -27.825012,\n",
       "         -27.812988, -26.461243],\n",
       "        [-22.179016, -23.252502, -23.26001 , ..., -25.646729,\n",
       "         -25.63324 , -23.947754],\n",
       "        [-22.613281, -23.225525, -23.22998 , ..., -25.619995,\n",
       "         -25.609741, -24.393982]],\n",
       "\n",
       "       [[       nan,        nan,        nan, ...,        nan,\n",
       "                nan,        nan],\n",
       "        [       nan,        nan,        nan, ...,        nan,\n",
       "                nan,        nan],\n",
       "        [       nan,        nan,        nan, ...,        nan,\n",
       "                nan,        nan],\n",
       "        ...,\n",
       "        [-18.36023 , -19.015015, -19.015259, ..., -21.083496,\n",
       "         -21.067505, -19.755249],\n",
       "        [-16.507263, -17.432007, -17.437256, ..., -19.330017,\n",
       "         -19.327515, -17.807983],\n",
       "        [-16.775513, -17.360779, -17.37378 , ..., -19.295471,\n",
       "         -19.279724, -18.091003]]], dtype=float32)\n",
       "Coordinates:\n",
       "    band     int64 1\n",
       "  * lat      (lat) float64 89.92 89.75 89.58 89.42 ... -89.58 -89.75 -89.92\n",
       "  * lon      (lon) float64 -179.9 -179.8 -179.6 -179.4 ... 179.6 179.8 179.9\n",
       "  * month    (month) int64 1 2 3 4 5 6 7 8 9 10 11 12\n",
       "Attributes:\n",
       "    transform:      [ 1.66666667e-01  0.00000000e+00 -1.80000000e+02  0.00000...\n",
       "    crs:            +init=epsg:4326\n",
       "    res:            [0.16666667 0.16666667]\n",
       "    is_tiled:       0\n",
       "    nodatavals:     -3.3999999521443642e+38\n",
       "    scales:         1.0\n",
       "    offsets:        0.0\n",
       "    AREA_OR_POINT:  Area\n",
       "    long_name:      maximum temperature\n",
       "    units:          degC\n",
       "    history:        2023-02-03T17:04:07.722449: Downloaded tavg data with lat...\n",
       "    reference:      Fick, S.E. and R.J. Hijmans, 2017. Worldclim 2: New 1-km ...</pre><div class='xr-wrap' style='display:none'><div class='xr-header'><div class='xr-obj-type'>xarray.DataArray</div><div class='xr-array-name'>'tavg'</div><ul class='xr-dim-list'><li><span class='xr-has-index'>month</span>: 12</li><li><span class='xr-has-index'>lat</span>: 1080</li><li><span class='xr-has-index'>lon</span>: 2160</li></ul></div><ul class='xr-sections'><li class='xr-section-item'><div class='xr-array-wrap'><input id='section-18f45880-3364-43c2-9235-abd1bc7650ec' class='xr-array-in' type='checkbox' checked><label for='section-18f45880-3364-43c2-9235-abd1bc7650ec' title='Show/hide data repr'><svg class='icon xr-icon-database'><use xlink:href='#icon-database'></use></svg></label><div class='xr-array-preview xr-preview'><span>nan nan nan nan nan nan ... -19.32 -19.32 -19.31 -19.3 -19.28 -18.09</span></div><div class='xr-array-data'><pre>array([[[       nan,        nan,        nan, ...,        nan,\n",
       "                nan,        nan],\n",
       "        [       nan,        nan,        nan, ...,        nan,\n",
       "                nan,        nan],\n",
       "        [       nan,        nan,        nan, ...,        nan,\n",
       "                nan,        nan],\n",
       "        ...,\n",
       "        [-18.87976 , -19.53003 , -19.530762, ..., -21.501526,\n",
       "         -21.49524 , -20.174744],\n",
       "        [-16.98999 , -17.919983, -17.919983, ..., -19.73999 ,\n",
       "         -19.732727, -18.200256],\n",
       "        [-17.273499, -17.862488, -17.880005, ..., -19.684753,\n",
       "         -19.672241, -18.494019]],\n",
       "\n",
       "       [[       nan,        nan,        nan, ...,        nan,\n",
       "                nan,        nan],\n",
       "        [       nan,        nan,        nan, ...,        nan,\n",
       "                nan,        nan],\n",
       "        [       nan,        nan,        nan, ...,        nan,\n",
       "                nan,        nan],\n",
       "...\n",
       "        [-24.55603 , -25.22998 , -25.231262, ..., -27.825012,\n",
       "         -27.812988, -26.461243],\n",
       "        [-22.179016, -23.252502, -23.26001 , ..., -25.646729,\n",
       "         -25.63324 , -23.947754],\n",
       "        [-22.613281, -23.225525, -23.22998 , ..., -25.619995,\n",
       "         -25.609741, -24.393982]],\n",
       "\n",
       "       [[       nan,        nan,        nan, ...,        nan,\n",
       "                nan,        nan],\n",
       "        [       nan,        nan,        nan, ...,        nan,\n",
       "                nan,        nan],\n",
       "        [       nan,        nan,        nan, ...,        nan,\n",
       "                nan,        nan],\n",
       "        ...,\n",
       "        [-18.36023 , -19.015015, -19.015259, ..., -21.083496,\n",
       "         -21.067505, -19.755249],\n",
       "        [-16.507263, -17.432007, -17.437256, ..., -19.330017,\n",
       "         -19.327515, -17.807983],\n",
       "        [-16.775513, -17.360779, -17.37378 , ..., -19.295471,\n",
       "         -19.279724, -18.091003]]], dtype=float32)</pre></div></div></li><li class='xr-section-item'><input id='section-4c700e09-e442-4b73-866e-f38664cb88bb' class='xr-section-summary-in' type='checkbox'  checked><label for='section-4c700e09-e442-4b73-866e-f38664cb88bb' class='xr-section-summary' >Coordinates: <span>(4)</span></label><div class='xr-section-inline-details'></div><div class='xr-section-details'><ul class='xr-var-list'><li class='xr-var-item'><div class='xr-var-name'><span>band</span></div><div class='xr-var-dims'>()</div><div class='xr-var-dtype'>int64</div><div class='xr-var-preview xr-preview'>1</div><input id='attrs-a95baf99-a2e8-43e9-b1da-cb605406ed85' class='xr-var-attrs-in' type='checkbox' disabled><label for='attrs-a95baf99-a2e8-43e9-b1da-cb605406ed85' title='Show/Hide attributes'><svg class='icon xr-icon-file-text2'><use xlink:href='#icon-file-text2'></use></svg></label><input id='data-477a0cfa-8a4f-40e2-ab14-57e5b454cde3' class='xr-var-data-in' type='checkbox'><label for='data-477a0cfa-8a4f-40e2-ab14-57e5b454cde3' title='Show/Hide data repr'><svg class='icon xr-icon-database'><use xlink:href='#icon-database'></use></svg></label><div class='xr-var-attrs'><dl class='xr-attrs'></dl></div><div class='xr-var-data'><pre>array(1)</pre></div></li><li class='xr-var-item'><div class='xr-var-name'><span class='xr-has-index'>lat</span></div><div class='xr-var-dims'>(lat)</div><div class='xr-var-dtype'>float64</div><div class='xr-var-preview xr-preview'>89.92 89.75 89.58 ... -89.75 -89.92</div><input id='attrs-6e4f5e24-0e01-4bd2-8573-1069e4648f75' class='xr-var-attrs-in' type='checkbox' disabled><label for='attrs-6e4f5e24-0e01-4bd2-8573-1069e4648f75' title='Show/Hide attributes'><svg class='icon xr-icon-file-text2'><use xlink:href='#icon-file-text2'></use></svg></label><input id='data-844334c7-f9c0-4c5c-86a0-4fa2511de75f' class='xr-var-data-in' type='checkbox'><label for='data-844334c7-f9c0-4c5c-86a0-4fa2511de75f' title='Show/Hide data repr'><svg class='icon xr-icon-database'><use xlink:href='#icon-database'></use></svg></label><div class='xr-var-attrs'><dl class='xr-attrs'></dl></div><div class='xr-var-data'><pre>array([ 89.916667,  89.75    ,  89.583333, ..., -89.583333, -89.75    ,\n",
       "       -89.916667])</pre></div></li><li class='xr-var-item'><div class='xr-var-name'><span class='xr-has-index'>lon</span></div><div class='xr-var-dims'>(lon)</div><div class='xr-var-dtype'>float64</div><div class='xr-var-preview xr-preview'>-179.9 -179.8 ... 179.8 179.9</div><input id='attrs-c1b2eb4f-1314-426f-aa64-f9e23d909f33' class='xr-var-attrs-in' type='checkbox' disabled><label for='attrs-c1b2eb4f-1314-426f-aa64-f9e23d909f33' title='Show/Hide attributes'><svg class='icon xr-icon-file-text2'><use xlink:href='#icon-file-text2'></use></svg></label><input id='data-086b52f8-5f48-4942-8375-87c755baadad' class='xr-var-data-in' type='checkbox'><label for='data-086b52f8-5f48-4942-8375-87c755baadad' title='Show/Hide data repr'><svg class='icon xr-icon-database'><use xlink:href='#icon-database'></use></svg></label><div class='xr-var-attrs'><dl class='xr-attrs'></dl></div><div class='xr-var-data'><pre>array([-179.916667, -179.75    , -179.583333, ...,  179.583333,  179.75    ,\n",
       "        179.916667])</pre></div></li><li class='xr-var-item'><div class='xr-var-name'><span class='xr-has-index'>month</span></div><div class='xr-var-dims'>(month)</div><div class='xr-var-dtype'>int64</div><div class='xr-var-preview xr-preview'>1 2 3 4 5 6 7 8 9 10 11 12</div><input id='attrs-6ba9425d-eba1-4aff-914a-b56ad405d427' class='xr-var-attrs-in' type='checkbox' disabled><label for='attrs-6ba9425d-eba1-4aff-914a-b56ad405d427' title='Show/Hide attributes'><svg class='icon xr-icon-file-text2'><use xlink:href='#icon-file-text2'></use></svg></label><input id='data-0c21e594-5ecb-4945-918b-d8da4bd6dea3' class='xr-var-data-in' type='checkbox'><label for='data-0c21e594-5ecb-4945-918b-d8da4bd6dea3' title='Show/Hide data repr'><svg class='icon xr-icon-database'><use xlink:href='#icon-database'></use></svg></label><div class='xr-var-attrs'><dl class='xr-attrs'></dl></div><div class='xr-var-data'><pre>array([ 1,  2,  3,  4,  5,  6,  7,  8,  9, 10, 11, 12])</pre></div></li></ul></div></li><li class='xr-section-item'><input id='section-6269e556-7ecf-46bd-ba9e-68e907f8d38d' class='xr-section-summary-in' type='checkbox'  ><label for='section-6269e556-7ecf-46bd-ba9e-68e907f8d38d' class='xr-section-summary' >Indexes: <span>(3)</span></label><div class='xr-section-inline-details'></div><div class='xr-section-details'><ul class='xr-var-list'><li class='xr-var-item'><div class='xr-index-name'><div>lat</div></div><div class='xr-index-preview'>PandasIndex</div><div></div><input id='index-d6867dfe-fb1b-4ee3-8938-d1e592d47c41' class='xr-index-data-in' type='checkbox'/><label for='index-d6867dfe-fb1b-4ee3-8938-d1e592d47c41' title='Show/Hide index repr'><svg class='icon xr-icon-database'><use xlink:href='#icon-database'></use></svg></label><div class='xr-index-data'><pre>PandasIndex(Float64Index([ 89.91666666666667,              89.75,  89.58333333333333,\n",
       "               89.41666666666667,              89.25,  89.08333333333333,\n",
       "               88.91666666666667,              88.75,  88.58333333333333,\n",
       "               88.41666666666667,\n",
       "              ...\n",
       "              -88.41666666666666, -88.58333333333331,             -88.75,\n",
       "              -88.91666666666666, -89.08333333333331,             -89.25,\n",
       "              -89.41666666666666, -89.58333333333331,             -89.75,\n",
       "              -89.91666666666666],\n",
       "             dtype=&#x27;float64&#x27;, name=&#x27;lat&#x27;, length=1080))</pre></div></li><li class='xr-var-item'><div class='xr-index-name'><div>lon</div></div><div class='xr-index-preview'>PandasIndex</div><div></div><input id='index-d181f1b4-8bb2-4276-a82d-82e188349f3f' class='xr-index-data-in' type='checkbox'/><label for='index-d181f1b4-8bb2-4276-a82d-82e188349f3f' title='Show/Hide index repr'><svg class='icon xr-icon-database'><use xlink:href='#icon-database'></use></svg></label><div class='xr-index-data'><pre>PandasIndex(Float64Index([-179.91666666666666,             -179.75, -179.58333333333334,\n",
       "              -179.41666666666666,             -179.25, -179.08333333333334,\n",
       "              -178.91666666666666,             -178.75, -178.58333333333334,\n",
       "              -178.41666666666666,\n",
       "              ...\n",
       "               178.41666666666663,  178.58333333333331,              178.75,\n",
       "               178.91666666666663,  179.08333333333331,              179.25,\n",
       "               179.41666666666663,  179.58333333333331,              179.75,\n",
       "               179.91666666666663],\n",
       "             dtype=&#x27;float64&#x27;, name=&#x27;lon&#x27;, length=2160))</pre></div></li><li class='xr-var-item'><div class='xr-index-name'><div>month</div></div><div class='xr-index-preview'>PandasIndex</div><div></div><input id='index-b922d5f2-8147-43e3-b9bd-6b04d6f855d4' class='xr-index-data-in' type='checkbox'/><label for='index-b922d5f2-8147-43e3-b9bd-6b04d6f855d4' title='Show/Hide index repr'><svg class='icon xr-icon-database'><use xlink:href='#icon-database'></use></svg></label><div class='xr-index-data'><pre>PandasIndex(Int64Index([1, 2, 3, 4, 5, 6, 7, 8, 9, 10, 11, 12], dtype=&#x27;int64&#x27;, name=&#x27;month&#x27;))</pre></div></li></ul></div></li><li class='xr-section-item'><input id='section-2b39248b-2172-44b9-8b3b-b06302c54232' class='xr-section-summary-in' type='checkbox'  ><label for='section-2b39248b-2172-44b9-8b3b-b06302c54232' class='xr-section-summary' >Attributes: <span>(12)</span></label><div class='xr-section-inline-details'></div><div class='xr-section-details'><dl class='xr-attrs'><dt><span>transform :</span></dt><dd>[ 1.66666667e-01  0.00000000e+00 -1.80000000e+02  0.00000000e+00\n",
       " -1.66666667e-01  9.00000000e+01]</dd><dt><span>crs :</span></dt><dd>+init=epsg:4326</dd><dt><span>res :</span></dt><dd>[0.16666667 0.16666667]</dd><dt><span>is_tiled :</span></dt><dd>0</dd><dt><span>nodatavals :</span></dt><dd>-3.3999999521443642e+38</dd><dt><span>scales :</span></dt><dd>1.0</dd><dt><span>offsets :</span></dt><dd>0.0</dd><dt><span>AREA_OR_POINT :</span></dt><dd>Area</dd><dt><span>long_name :</span></dt><dd>maximum temperature</dd><dt><span>units :</span></dt><dd>degC</dd><dt><span>history :</span></dt><dd>2023-02-03T17:04:07.722449: Downloaded tavg data with latlon-utils (0.0.7) from http://biogeo.ucdavis.edu/data/worldclim/v2.1/base/wc2.1_10m_tavg.zip</dd><dt><span>reference :</span></dt><dd>Fick, S.E. and R.J. Hijmans, 2017. Worldclim 2: New 1-km spatial resolution climate surfaces for global land areas. International Journal of Climatology.</dd></dl></div></li></ul></div></div>"
      ],
      "text/plain": [
       "<xarray.DataArray 'tavg' (month: 12, lat: 1080, lon: 2160)>\n",
       "array([[[       nan,        nan,        nan, ...,        nan,\n",
       "                nan,        nan],\n",
       "        [       nan,        nan,        nan, ...,        nan,\n",
       "                nan,        nan],\n",
       "        [       nan,        nan,        nan, ...,        nan,\n",
       "                nan,        nan],\n",
       "        ...,\n",
       "        [-18.87976 , -19.53003 , -19.530762, ..., -21.501526,\n",
       "         -21.49524 , -20.174744],\n",
       "        [-16.98999 , -17.919983, -17.919983, ..., -19.73999 ,\n",
       "         -19.732727, -18.200256],\n",
       "        [-17.273499, -17.862488, -17.880005, ..., -19.684753,\n",
       "         -19.672241, -18.494019]],\n",
       "\n",
       "       [[       nan,        nan,        nan, ...,        nan,\n",
       "                nan,        nan],\n",
       "        [       nan,        nan,        nan, ...,        nan,\n",
       "                nan,        nan],\n",
       "        [       nan,        nan,        nan, ...,        nan,\n",
       "                nan,        nan],\n",
       "...\n",
       "        [-24.55603 , -25.22998 , -25.231262, ..., -27.825012,\n",
       "         -27.812988, -26.461243],\n",
       "        [-22.179016, -23.252502, -23.26001 , ..., -25.646729,\n",
       "         -25.63324 , -23.947754],\n",
       "        [-22.613281, -23.225525, -23.22998 , ..., -25.619995,\n",
       "         -25.609741, -24.393982]],\n",
       "\n",
       "       [[       nan,        nan,        nan, ...,        nan,\n",
       "                nan,        nan],\n",
       "        [       nan,        nan,        nan, ...,        nan,\n",
       "                nan,        nan],\n",
       "        [       nan,        nan,        nan, ...,        nan,\n",
       "                nan,        nan],\n",
       "        ...,\n",
       "        [-18.36023 , -19.015015, -19.015259, ..., -21.083496,\n",
       "         -21.067505, -19.755249],\n",
       "        [-16.507263, -17.432007, -17.437256, ..., -19.330017,\n",
       "         -19.327515, -17.807983],\n",
       "        [-16.775513, -17.360779, -17.37378 , ..., -19.295471,\n",
       "         -19.279724, -18.091003]]], dtype=float32)\n",
       "Coordinates:\n",
       "    band     int64 1\n",
       "  * lat      (lat) float64 89.92 89.75 89.58 89.42 ... -89.58 -89.75 -89.92\n",
       "  * lon      (lon) float64 -179.9 -179.8 -179.6 -179.4 ... 179.6 179.8 179.9\n",
       "  * month    (month) int64 1 2 3 4 5 6 7 8 9 10 11 12\n",
       "Attributes:\n",
       "    transform:      [ 1.66666667e-01  0.00000000e+00 -1.80000000e+02  0.00000...\n",
       "    crs:            +init=epsg:4326\n",
       "    res:            [0.16666667 0.16666667]\n",
       "    is_tiled:       0\n",
       "    nodatavals:     -3.3999999521443642e+38\n",
       "    scales:         1.0\n",
       "    offsets:        0.0\n",
       "    AREA_OR_POINT:  Area\n",
       "    long_name:      maximum temperature\n",
       "    units:          degC\n",
       "    history:        2023-02-03T17:04:07.722449: Downloaded tavg data with lat...\n",
       "    reference:      Fick, S.E. and R.J. Hijmans, 2017. Worldclim 2: New 1-km ..."
      ]
     },
     "metadata": {},
     "output_type": "display_data"
    }
   ],
   "source": [
    "## Convert -inf to nan to enable filling\n",
    "ds_masked = da.where(da['tavg'] != -np.inf)\n",
    "\n",
    "## Verify\n",
    "ds_masked.tavg"
   ]
  },
  {
   "cell_type": "code",
   "execution_count": null,
   "metadata": {},
   "outputs": [],
   "source": [
    "## Fill nans using rio\n",
    "ds_masked2 = ds_masked.tavg.rio.set_spatial_dims('lon','lat', inplace=False) # inplace doesn't work\n",
    "ds_masked2.rio.write_nodata(np.nan, inplace=True)\n",
    "filled = ds_masked2.rio.interpolate_na()"
   ]
  },
  {
   "cell_type": "code",
   "execution_count": null,
   "metadata": {},
   "outputs": [
    {
     "data": {
      "text/plain": [
       "<matplotlib.image.AxesImage at 0x7f535acca140>"
      ]
     },
     "metadata": {},
     "output_type": "display_data"
    },
    {
     "data": {
      "image/png": "[encoded data removed]",
      "text/plain": [
       "<Figure size 640x480 with 2 Axes>"
      ]
     },
     "metadata": {},
     "output_type": "display_data"
    }
   ],
   "source": [
    "## Save back to array\n",
    "da['tavg'] = filled\n",
    "\n",
    "## Plot\n",
    "da.tavg.sel(month=6).plot.imshow()\n",
    "\n",
    "## save\n",
    "da.to_netcdf(os.path.join(latlong_utils_data_dir, 'tavg_10m_filled.nc'))"
   ]
  },
  {
   "cell_type": "markdown",
   "metadata": {},
   "source": [
    "#### Apply to BAWLD lakes to use as lookup table (don't need for this workflow)\n"
   ]
  },
  {
   "cell_type": "code",
   "execution_count": null,
   "metadata": {},
   "outputs": [],
   "source": [
    "## Load\n",
    "dgdfBAWLD = dgpd.read_file('/Volumes/thebe/Other/Kuhn-olefeldt-BAWLD/BAWLD/BAWLD_V1___Shapefile.zip', chunksize=1000)\n"
   ]
  },
  {
   "cell_type": "code",
   "execution_count": null,
   "metadata": {},
   "outputs": [],
   "source": [
    "## partitions\n",
    "dgdfBAWLD.calculate_spatial_partitions()"
   ]
  },
  {
   "cell_type": "code",
   "execution_count": null,
   "metadata": {},
   "outputs": [],
   "source": [
    "## Map function\n",
    "BAWLD_clim = dgdfBAWLD.map_partitions(applyGet_climate).compute()\n"
   ]
  },
  {
   "cell_type": "code",
   "execution_count": null,
   "metadata": {},
   "outputs": [],
   "source": [
    "## Join in BAWLD ID\n",
    "BAWLD_clim_jn = pd.concat((BAWLD_clim.reset_index(), dgdfBAWLD['Cell_ID'].compute()), axis=1) # for some reason, just re-assigning column doesn't work\n"
   ]
  },
  {
   "cell_type": "code",
   "execution_count": null,
   "metadata": {},
   "outputs": [
    {
     "name": "stdout",
     "output_type": "stream",
     "text": [
      "Files written.\n"
     ]
    }
   ],
   "source": [
    "## Write out\n",
    "# BAWLD_clim_jn.to_file('/Volumes/thebe/Other/Kuhn-olefeldt-BAWLD/BAWLD/edk_out/BAWLD_V1___Shapefile_jn_clim.shp')\n",
    "BAWLD_clim_jn.to_csv('/Volumes/thebe/Other/Kuhn-olefeldt-BAWLD/BAWLD/edk_out/BAWLD_V1___Shapefile_jn_clim.csv')\n",
    "print('Files written.')"
   ]
  },
  {
   "cell_type": "markdown",
   "metadata": {},
   "source": [
    "### Computing temperature means for each lake"
   ]
  },
  {
   "cell_type": "code",
   "execution_count": null,
   "metadata": {},
   "outputs": [],
   "source": [
    "## Again dask-ify and chunk (I had to compute earlier to return groupby results to speed up future computations)\n",
    "# ddf_HL = dd.from_pandas(gdfHL, chunksize=10000) \n",
    "# dgdf = dgpd.from_geopandas(gdf, chunksize=10000) # assume default sorting provides geosptial partitions, not that it shold matter"
   ]
  },
  {
   "cell_type": "code",
   "execution_count": null,
   "metadata": {},
   "outputs": [],
   "source": [
    "## Def functions\n",
    "def applyGet_climate(ddf):\n",
    "    '''ddf needs to have 'Lat' and 'Long' attributes'''\n",
    "    return get_climate(ddf.loc[:, [variables['lat_']]].to_numpy().T.tolist()[0], ddf.loc[:, [variables['long_']]].to_numpy().T.tolist()[0],\n",
    "        variables = ['tavg'], data_files=['/home/ekyzivat/.local/share/latlon_utils/tavg_10m_filled.nc'], load_data=True)['tavg'] # data_files='/home/ekyzivat/.local/share/latlon_utils/tavg_10m.nc' _filled \n",
    "\n",
    "## Test\n",
    "# applyGet_climate(dgdf[:100].compute())\n",
    "# applyGet_climate(dgdf.partitions[0]).compute()"
   ]
  },
  {
   "cell_type": "code",
   "execution_count": null,
   "metadata": {},
   "outputs": [],
   "source": [
    "## Quicker lookup function\n",
    "clim_cols = ['djf','mam','jja','son','ann', 'lat', 'lon']\n",
    "def lookup_climate(ddf):\n",
    "    '''ddf and loaded LUT needs to have 'Lat' and 'Long' attributes'''\n",
    "    lut = pd.read_csv('/Volumes/thebe/Other/Kuhn-olefeldt-BAWLD/BAWLD/edk_out/BAWLD_V1___Shapefile_jn_clim.csv', usecols=clim_cols) # lookup table\n",
    "    \n",
    "    ## Join on lat/long\n",
    "    joined = ddf.merge(lut, 'left', left_on=[variables['lat_'], variables['long_']], right_on=['lat', 'lon']) # for some reason, output retains both lat/long index pairs...\n",
    "    # validate = 'one_to_one')\n",
    "    return joined.drop(columns=[variables['lat_'], variables['long_']]) # return joined[climate cols]\n",
    "\n",
    "## Test\n",
    "# res = lookup_climate(dgdf.partitions[0]).compute() # lookup_climate(dgdf[:100].compute())\n",
    "# res"
   ]
  },
  {
   "cell_type": "code",
   "execution_count": null,
   "metadata": {},
   "outputs": [
    {
     "data": {
      "text/html": [
       "<div>\n",
       "<style scoped>\n",
       "    .dataframe tbody tr th:only-of-type {\n",
       "        vertical-align: middle;\n",
       "    }\n",
       "\n",
       "    .dataframe tbody tr th {\n",
       "        vertical-align: top;\n",
       "    }\n",
       "\n",
       "    .dataframe thead th {\n",
       "        text-align: right;\n",
       "    }\n",
       "</style>\n",
       "<table border=\"1\" class=\"dataframe\">\n",
       "  <thead>\n",
       "    <tr style=\"text-align: right;\">\n",
       "      <th></th>\n",
       "      <th>Cell_ID</th>\n",
       "      <th>SID</th>\n",
       "      <th>area</th>\n",
       "      <th>geometry</th>\n",
       "      <th>lat</th>\n",
       "      <th>lon</th>\n",
       "      <th>djf</th>\n",
       "      <th>mam</th>\n",
       "      <th>jja</th>\n",
       "      <th>son</th>\n",
       "      <th>ann</th>\n",
       "    </tr>\n",
       "  </thead>\n",
       "  <tbody>\n",
       "    <tr>\n",
       "      <th>0</th>\n",
       "      <td>477</td>\n",
       "      <td>NA1</td>\n",
       "      <td>1.531095e+04</td>\n",
       "      <td>POLYGON ((4366588.138 291203.365, 4366616.274 ...</td>\n",
       "      <td>49.75</td>\n",
       "      <td>-86.25</td>\n",
       "      <td>-16.347249</td>\n",
       "      <td>-0.547831</td>\n",
       "      <td>14.784729</td>\n",
       "      <td>2.883158</td>\n",
       "      <td>0.193202</td>\n",
       "    </tr>\n",
       "    <tr>\n",
       "      <th>1</th>\n",
       "      <td>477</td>\n",
       "      <td>NA2</td>\n",
       "      <td>4.693504e+06</td>\n",
       "      <td>POLYGON ((4358818.390 267211.173, 4358874.680 ...</td>\n",
       "      <td>49.75</td>\n",
       "      <td>-86.25</td>\n",
       "      <td>-16.347249</td>\n",
       "      <td>-0.547831</td>\n",
       "      <td>14.784729</td>\n",
       "      <td>2.883158</td>\n",
       "      <td>0.193202</td>\n",
       "    </tr>\n",
       "    <tr>\n",
       "      <th>2</th>\n",
       "      <td>477</td>\n",
       "      <td>NA3</td>\n",
       "      <td>1.711258e+04</td>\n",
       "      <td>POLYGON ((4368785.517 283314.697, 4368813.653 ...</td>\n",
       "      <td>49.75</td>\n",
       "      <td>-86.25</td>\n",
       "      <td>-16.347249</td>\n",
       "      <td>-0.547831</td>\n",
       "      <td>14.784729</td>\n",
       "      <td>2.883158</td>\n",
       "      <td>0.193202</td>\n",
       "    </tr>\n",
       "  </tbody>\n",
       "</table>\n",
       "</div>"
      ],
      "text/plain": [
       "   Cell_ID  SID          area  \\\n",
       "0      477  NA1  1.531095e+04   \n",
       "1      477  NA2  4.693504e+06   \n",
       "2      477  NA3  1.711258e+04   \n",
       "\n",
       "                                            geometry    lat    lon        djf  \\\n",
       "0  POLYGON ((4366588.138 291203.365, 4366616.274 ...  49.75 -86.25 -16.347249   \n",
       "1  POLYGON ((4358818.390 267211.173, 4358874.680 ...  49.75 -86.25 -16.347249   \n",
       "2  POLYGON ((4368785.517 283314.697, 4368813.653 ...  49.75 -86.25 -16.347249   \n",
       "\n",
       "        mam        jja       son       ann  \n",
       "0 -0.547831  14.784729  2.883158  0.193202  \n",
       "1 -0.547831  14.784729  2.883158  0.193202  \n",
       "2 -0.547831  14.784729  2.883158  0.193202  "
      ]
     },
     "execution_count": 11,
     "metadata": {},
     "output_type": "execute_result"
    }
   ],
   "source": [
    "## Apply\n",
    "# df_HL_clim = ddf_HL.apply(applyGet_climate, axis=1)\n",
    "# HL_clim = ddf_HL.map_partitions(applyGet_climate).compute()\n",
    "meta = dict(zip([variables['id_'], variables['gridcell_'], variables['area_'], variables['long_'], variables['lat_']] + clim_cols, [float] + [int] + [float]*11)) # metadata for dask mapping # list(variables.values())\n",
    "dgdf_clim = dgdf.map_partitions(lookup_climate, meta=meta, enforce_metadata=False).compute()\n",
    "\n",
    "## View\n",
    "dgdf_clim.head(3)"
   ]
  },
  {
   "cell_type": "markdown",
   "metadata": {},
   "source": [
    "## Verify, join"
   ]
  },
  {
   "cell_type": "code",
   "execution_count": null,
   "metadata": {},
   "outputs": [],
   "source": [
    "## Shortcut: load saved data!\n",
    "if not 'dgdf_clim' in locals():\n",
    "    dgdf_clim = pd.read_csv(summ_file_pth)\n",
    "    print(f'Loading dgdf_clim from path: {summ_file_pth}')"
   ]
  },
  {
   "cell_type": "code",
   "execution_count": null,
   "metadata": {},
   "outputs": [],
   "source": [
    "## Check that order is preserved in HL_clim (slow if using dask)\n",
    "# np.all(dgdf_clim.reset_index()[['lat','lon']].to_numpy() == dgdf[[variables['lat_'], variables['long_']]].compute().to_numpy()) # "
   ]
  },
  {
   "cell_type": "code",
   "execution_count": null,
   "metadata": {},
   "outputs": [],
   "source": [
    "## Check for duplicates # this was only possible when I had forgotten to groupby id and take first to drop duplicates in early step\n",
    "dups = len(dgdf_clim[variables['id_']]) - len(dgdf_clim[variables['id_']].drop_duplicates())\n",
    "if dups >0:\n",
    "    print(f\"Warning: {dups} duplicate {variables['id_']} found!\")\n",
    "    \n",
    "    ## Drop duplicates! (Why were these there?...)\n",
    "    dgdf_clim.drop_duplicates(subset=variables['id_'], inplace=True)"
   ]
  },
  {
   "cell_type": "code",
   "execution_count": null,
   "metadata": {},
   "outputs": [
    {
     "data": {
      "text/plain": [
       "Text(0.5, 1.0, 'Sheng grid temperatures in BAWLD_WBD-NAHL domain')"
      ]
     },
     "execution_count": 14,
     "metadata": {},
     "output_type": "execute_result"
    },
    {
     "data": {
      "image/png": "[encoded data removed]",
      "text/plain": [
       "<Figure size 640x480 with 1 Axes>"
      ]
     },
     "metadata": {},
     "output_type": "display_data"
    }
   ],
   "source": [
    "## Verify temp scale\n",
    "dgdf_clim.jja.plot.hist()\n",
    "plt.xlabel('T (C)')\n",
    "plt.title(f'{dataset} grid temperatures in {roi_region} domain')"
   ]
  },
  {
   "cell_type": "code",
   "execution_count": null,
   "metadata": {},
   "outputs": [
    {
     "data": {
      "text/plain": [
       "Text(0.5, 1.0, 'Sheng lakes in BAWLD_WBD-NAHL domain')"
      ]
     },
     "execution_count": 15,
     "metadata": {},
     "output_type": "execute_result"
    },
    {
     "data": {
      "image/png": "[encoded data removed]",
      "text/plain": [
       "<Figure size 640x480 with 1 Axes>"
      ]
     },
     "metadata": {},
     "output_type": "display_data"
    }
   ],
   "source": [
    "## View distrib of lake areas indataset\n",
    "# HL_clim_jn.Shp_Area.plot.hist()\n",
    "sns.histplot(data=dgdf_clim, x=variables['area_'], element=\"bars\", log_scale=True, bins=30, palette=None, stat='probability', cumulative=False, common_norm=False, fill=True, alpha=0.5) # \n",
    "plt.title(f'{dataset} lakes in {roi_region} domain')"
   ]
  },
  {
   "cell_type": "markdown",
   "metadata": {},
   "source": [
    "# Archived"
   ]
  },
  {
   "cell_type": "markdown",
   "metadata": {},
   "source": [
    "## Apply methane prediction and write out"
   ]
  },
  {
   "cell_type": "code",
   "execution_count": 6,
   "metadata": {},
   "outputs": [],
   "source": [
    "## Todo: convert these to class and methods!\n",
    "def predictFlux(df, model, area_var, season, areaConversionFactor=areaConversionFactor):\n",
    "    '''\n",
    "    Uses pre-existing variable names from 'model' and existing 'areaConversionFactor'.\n",
    "    Note that areaConversionFactor doesn't rescale area units (for now)\n",
    "    '''\n",
    "    ## Flux (areal, gCH4/m2/day)\n",
    "    df['Est_mg_m2_day'] = 10**(model1.params.Intercept +\n",
    "    model1.params['np.log10(SA)'] * np.log10(df[area_var] / areaConversionFactor) \n",
    "    + model1.params['TEMP'] * df[season]) # jja, ann, son, mam\n",
    "\n",
    "    ## Flux (flux rate, gCH4/day)\n",
    "    df['Est_g_day'] = df.Est_mg_m2_day * df[area_var] * 1e3  / areaConversionFactor# (convert km2 -> m2 and mg -> g)\n",
    "\n",
    "    ## Rescale area units (not backwards compatible, so careeful)\n",
    "    # df[area_var] = df[area_var] / areaConversionFactor\n",
    "    return df\n",
    "\n",
    "def sumFluxesAreas(df, area_var, areaConversionFactor=areaConversionFactor, maxArea=maxArea, minArea=0):\n",
    "    '''\n",
    "    Uses existing var areaConversionFactor and maxArea\n",
    "    Returned lake_area_used is in km2\n",
    "    '''\n",
    "    ## Sum! (Tg /yr)\n",
    "    estSum = df.query(f\"(@minArea * @areaConversionFactor) <= {area_var} < (@maxArea * @areaConversionFactor)\")['Est_g_day'].sum() * 365.25 / 1e12\n",
    "    lake_area_used = df.query(f\"(@minArea * @areaConversionFactor) <= {area_var} < (@maxArea * @areaConversionFactor)\")[area_var].sum() / areaConversionFactor\n",
    "    return estSum, lake_area_used\n",
    "\n",
    "## Test\n",
    "# foo = predictFlux(dgdf_clim, model1, variables['area_'], season)\n",
    "# estSum1, lake_area_used1 = sumFluxesAreas(foo, variables['area_'])\n",
    "# print(f'Emissions in BAWLD domain: {estSum1:.3} Tg/yr')\n",
    "# print(f\"Lake area used: {lake_area_used1:.4} km2\")"
   ]
  },
  {
   "cell_type": "code",
   "execution_count": null,
   "metadata": {},
   "outputs": [],
   "source": [
    "def predictIfNeeded(df):\n",
    "    ''' Runs 'predictFlux to create a Est_g_day' column, if not already present.'''\n",
    "    if not 'Est_g_day' in df.columns:\n",
    "        print('Creating estimate...')\n",
    "        df = predictFlux(df, model1, 'Shp_Area', season, areaConversionFactor=1)\n",
    "    return df"
   ]
  },
  {
   "cell_type": "code",
   "execution_count": null,
   "metadata": {},
   "outputs": [
    {
     "name": "stdout",
     "output_type": "stream",
     "text": [
      "Run number: 8\n",
      "Dataset: Sheng\n",
      "ROI: BAWLD_WBD-NAHL\n",
      "Season: jja\n",
      "Max lake area used: 5,000\n",
      "Number of lakes: 2,288,595\n",
      "NOTES: HL in BAWLD-WBD domain for comparison\n",
      "\n",
      "Emissions in BAWLD domain: 0.805 Tg/yr\n",
      "Lake area used: 5.072e+05 km2\n",
      "\n"
     ]
    }
   ],
   "source": [
    "## Apply function\n",
    "dgdf_clim = predictFlux(dgdf_clim, model1, variables['area_'], season)\n",
    "\n",
    "## View\n",
    "# HL_clim_jn['Est_mg_m2_day'].head()\n",
    "# HL_clim_jn['Est_g_day'].head()\n",
    "\n",
    "\n",
    "## Sum fluxes and areas\n",
    "estSum, lake_area_used = sumFluxesAreas(dgdf_clim, variables['area_'])\n",
    "with open(logFile_pth, 'w') as f:\n",
    "    print(f'Run number: {run}\\nDataset: {dataset}\\nROI: {roi_region}\\nSeason: {season}\\nMax lake area used: {maxArea:,}', file=f)\n",
    "    print(f'Number of lakes: {len(dgdf_clim):,}', file=f)\n",
    "    print(f'NOTES: {runNote}\\n', file=f)\n",
    "    print(f'Emissions in BAWLD domain: {estSum:.3} Tg/yr', file=f)\n",
    "    print(f\"Lake area used: {lake_area_used:.4} km2\", file=f)\n",
    "with open(logFile_pth, 'r') as f:\n",
    "    lines = f.read()\n",
    "    print(lines)"
   ]
  },
  {
   "cell_type": "code",
   "execution_count": null,
   "metadata": {},
   "outputs": [
    {
     "name": "stdout",
     "output_type": "stream",
     "text": [
      "Wrote file: /mnt/g/Ch4/GSW_zonal_stats/HL/v3/joined_climate/run08/Sheng_subBAWLD_WBD-NAHL_clim_summ.csv\n"
     ]
    }
   ],
   "source": [
    "## Write out dataframe\n",
    "# dgdf_clim.to_csv(os.path.join(joined_clim_dir, f'{dataset}_sub{roi_region}_clim_full.csv')) # not needed / too big!\n",
    "dgdf_clim[[variables['id_'], variables['area_'], 'lat', 'lon', 'djf', 'mam','jja','son','ann', 'Est_mg_m2_day', 'Est_g_day']].to_csv(summ_file_pth)\n",
    "print(f'Wrote file: {summ_file_pth}')"
   ]
  },
  {
   "cell_type": "code",
   "execution_count": null,
   "metadata": {},
   "outputs": [
    {
     "name": "stdout",
     "output_type": "stream",
     "text": [
      ",SID,area,lat,lon,djf,mam,jja,son,ann,Est_mg_m2_day,Est_g_day\n",
      "0,NA1,15310.949462890625,49.75,-86.25,-16.347249348958332,-0.5478312174479166,14.78472900390625,2.8831583658854165,0.1932017008463541,14.21716068066549,217.67822868746498\n",
      "1,NA2,4693503.744628906,49.75,-86.25,-16.347249348958332,-0.5478312174479166,14.78472900390625,2.8831583658854165,0.1932017008463541,5.771006774173016,27086.241904859835\n",
      "2,NA3,17112.577880859375,49.75,-86.25,-16.347249348958332,-0.5478312174479166,14.78472900390625,2.8831583658854165,0.1932017008463541,13.970267540285215,239.06729129957247\n",
      "3,NA4,15311.253662109375,49.75,-86.25,-16.347249348958332,-0.5478312174479166,14.78472900390625,2.8831583658854165,0.1932017008463541,14.217116199516258,217.6818724744778\n",
      "4,NA5,617858.4929199219,49.75,-86.25,-16.347249348958332,-0.5478312174479166,14.78472900390625,2.8831583658854165,0.1932017008463541,7.941920261092514,4906.982883408814\n",
      "5,NA6,167525.95397949216,49.75,-86.25,-16.347249348958332,-0.5478312174479166,14.78472900390625,2.8831583658854165,0.1932017008463541,9.754017977899867,1634.0511668807922\n",
      "6,NA7,18013.399047851562,49.75,-86.25,-16.347249348958332,-0.5478312174479166,14.78472900390625,2.8831583658854165,0.1932017008463541,13.85785903684182,249.6271447795076\n",
      "7,NA8,126994.58142089844,49.75,-86.25,-16.347249348958332,-0.5478312174479166,14.78472900390625,2.8831583658854165,0.1932017008463541,10.18890072326228,1293.9351824897826\n",
      "8,NA12,31523.569458007812,49.75,-86.25,-16.347249348958332,-0.5478312174479166,14.78472900390625,2.8831583658854165,0.1932017008463541,12.688883583715905,399.9989029958434\n"
     ]
    }
   ],
   "source": [
    "## Preview file\n",
    "!head {summ_file_pth}"
   ]
  },
  {
   "attachments": {},
   "cell_type": "markdown",
   "metadata": {},
   "source": [
    "## Hybrid estimate for NAHL domain"
   ]
  },
  {
   "cell_type": "code",
   "execution_count": 2,
   "metadata": {},
   "outputs": [],
   "source": [
    "## load three estimates\n",
    "df_hl = pd.read_csv('/Volumes/thebe/Ch4/GSW_zonal_stats/HL/v3/joined_climate/run03/HL_subWBD_clim_jja.csv')\n",
    "df_sheng = pd.read_csv('/Volumes/thebe/Ch4/GSW_zonal_stats/HL/v3/joined_climate/run08/Sheng_subWBD_BAWLD_clim_summ.csv')\n",
    "df_wbd = pd.read_csv('/Volumes/thebe/Ch4/GSW_zonal_stats/HL/v3/joined_climate/run04/WBD_subWBD_BAWLD_clim_summ.csv')"
   ]
  },
  {
   "cell_type": "code",
   "execution_count": 3,
   "metadata": {},
   "outputs": [
    {
     "data": {
      "text/html": [
       "<div>\n",
       "<style scoped>\n",
       "    .dataframe tbody tr th:only-of-type {\n",
       "        vertical-align: middle;\n",
       "    }\n",
       "\n",
       "    .dataframe tbody tr th {\n",
       "        vertical-align: top;\n",
       "    }\n",
       "\n",
       "    .dataframe thead th {\n",
       "        text-align: right;\n",
       "    }\n",
       "</style>\n",
       "<table border=\"1\" class=\"dataframe\">\n",
       "  <thead>\n",
       "    <tr style=\"text-align: right;\">\n",
       "      <th></th>\n",
       "      <th>Unnamed: 0</th>\n",
       "      <th>Hylak_id</th>\n",
       "      <th>jja</th>\n",
       "      <th>Shp_Area</th>\n",
       "    </tr>\n",
       "  </thead>\n",
       "  <tbody>\n",
       "    <tr>\n",
       "      <th>0</th>\n",
       "      <td>0</td>\n",
       "      <td>2</td>\n",
       "      <td>11.148844</td>\n",
       "      <td>30450.64</td>\n",
       "    </tr>\n",
       "    <tr>\n",
       "      <th>1</th>\n",
       "      <td>1</td>\n",
       "      <td>3</td>\n",
       "      <td>12.582336</td>\n",
       "      <td>26734.29</td>\n",
       "    </tr>\n",
       "    <tr>\n",
       "      <th>2</th>\n",
       "      <td>2</td>\n",
       "      <td>4</td>\n",
       "      <td>16.863505</td>\n",
       "      <td>23923.04</td>\n",
       "    </tr>\n",
       "  </tbody>\n",
       "</table>\n",
       "</div>"
      ],
      "text/plain": [
       "   Unnamed: 0  Hylak_id        jja  Shp_Area\n",
       "0           0         2  11.148844  30450.64\n",
       "1           1         3  12.582336  26734.29\n",
       "2           2         4  16.863505  23923.04"
      ]
     },
     "execution_count": 3,
     "metadata": {},
     "output_type": "execute_result"
    }
   ],
   "source": [
    "df_hl.head(3)\n",
    "# df_sheng.head(3)\n",
    "# df_wbd.head(3)\n",
    "# areaConversionFactor"
   ]
  },
  {
   "cell_type": "code",
   "execution_count": 13,
   "metadata": {},
   "outputs": [
    {
     "name": "stdout",
     "output_type": "stream",
     "text": [
      "Creating estimate...\n"
     ]
    }
   ],
   "source": [
    "## Predict, if needed: Update df_hl (the only one who needs it)\n",
    "df_hl, df_sheng, df_wbd = list(map(predictIfNeeded, (df_hl, df_sheng, df_wbd)))"
   ]
  },
  {
   "cell_type": "code",
   "execution_count": 14,
   "metadata": {},
   "outputs": [],
   "source": [
    "## Predict x3\n",
    "estSum_hl, lake_area_used_hl = sumFluxesAreas(df_hl, 'Shp_Area', areaConversionFactor=1, maxArea=np.inf, minArea=0.1)\n",
    "estSum_sheng, lake_area_used_sheng = sumFluxesAreas(df_sheng, 'area', areaConversionFactor=1e6, maxArea=0.1, minArea=0.01)\n",
    "estSum_wbd, lake_area_used_wbd = sumFluxesAreas(df_wbd, 'Area', areaConversionFactor=1, maxArea=0.01, minArea=0)"
   ]
  },
  {
   "cell_type": "code",
   "execution_count": 27,
   "metadata": {},
   "outputs": [
    {
     "name": "stdout",
     "output_type": "stream",
     "text": [
      "[746137.7599999998, 805675.0937146356, 819091.9657548245]\n"
     ]
    },
    {
     "data": {
      "image/png": "[encoded data removed]",
      "text/plain": [
       "<Figure size 640x480 with 1 Axes>"
      ]
     },
     "metadata": {},
     "output_type": "display_data"
    }
   ],
   "source": [
    "## Plot\n",
    "bin0sum = lake_area_used_hl\n",
    "bin1sum = lake_area_used_sheng + lake_area_used_hl\n",
    "bin2sum = lake_area_used_sheng + lake_area_used_hl + lake_area_used_wbd\n",
    "\n",
    "## print vars for easy copying\n",
    "print(f'{[bin0sum, bin1sum, bin2sum]}')\n",
    "plt.plot([0.1, 0.01, 0.001], [bin0sum, bin1sum, bin2sum], '.-')\n",
    "plt.xscale('log')\n",
    "plt.xlabel('Minimum lake size ($km^2$)')\n",
    "plt.ylabel('Total lake area ($km^2$)')\n",
    "plt.title(roi_region)\n",
    "plt.show()"
   ]
  },
  {
   "attachments": {},
   "cell_type": "markdown",
   "metadata": {},
   "source": [
    "## Troubleshooting Sheng"
   ]
  },
  {
   "cell_type": "code",
   "execution_count": null,
   "metadata": {},
   "outputs": [
    {
     "data": {
      "text/plain": [
       "array([-4315529.9428    , -4216258.90743544,  4976675.09842979,\n",
       "        3369282.5988    ])"
      ]
     },
     "metadata": {},
     "output_type": "display_data"
    }
   ],
   "source": [
    "dgdf.total_bounds.compute() \n",
    "''' array([-4315529.9428    , -4216258.90743544,  4976675.09842979,\n",
    "        3369282.5988    ])'''\n",
    "\n",
    "# format = minx, miny, maxx, maxy\n",
    "# y, x min: -4216258.90743544, -4315529.9428    : GEOG: 33.47694881, 134.33336903\n",
    "# y, x max: 3369282.5988, 4976675.09842979 : GEOG: 33.71528489, -55.90141904 ??\n"
   ]
  },
  {
   "cell_type": "code",
   "execution_count": null,
   "metadata": {},
   "outputs": [
    {
     "name": "stderr",
     "output_type": "stream",
     "text": [
      "Warning 1: Value 31958511907.5820312 of field area of feature 566 not successfully written. Possibly due to too larger number with respect to field width\n",
      "Warning 1: Value 4619105503.34786987 of field area of feature 639 not successfully written. Possibly due to too larger number with respect to field width\n",
      "Warning 1: Value 650874317.066195607 of field area of feature 674 not successfully written. Possibly due to too larger number with respect to field width\n",
      "Warning 1: Value 114848457.08203125 of field area of feature 1287 not successfully written. Possibly due to too larger number with respect to field width\n",
      "Warning 1: Value 175108650.353637695 of field area of feature 1624 not successfully written. Possibly due to too larger number with respect to field width\n",
      "Warning 1: Value 242955459.452209473 of field area of feature 1633 not successfully written. Possibly due to too larger number with respect to field width\n",
      "Warning 1: Value 143140926.493382931 of field area of feature 1638 not successfully written. Possibly due to too larger number with respect to field width\n",
      "Warning 1: Value 238835088.649902344 of field area of feature 1639 not successfully written. Possibly due to too larger number with respect to field width\n",
      "Warning 1: Value 455595610.065551758 of field area of feature 1709 not successfully written. Possibly due to too larger number with respect to field width\n",
      "Warning 1: Value 109672476.594726562 of field area of feature 1711 not successfully written. Possibly due to too larger number with respect to field width\n",
      "Warning 1: Value 114125439.91633606 of field area of feature 1716 not successfully written. Possibly due to too larger number with respect to field width\n",
      "Warning 1: Value 131283013.83430481 of field area of feature 1717 not successfully written. Possibly due to too larger number with respect to field width\n",
      "Warning 1: Value 186739476.212890625 of field area of feature 1718 not successfully written. Possibly due to too larger number with respect to field width\n",
      "Warning 1: Value 103417472.581054688 of field area of feature 28867 not successfully written. Possibly due to too larger number with respect to field width\n",
      "Warning 1: Value 189595539.946777344 of field area of feature 52589 not successfully written. Possibly due to too larger number with respect to field width\n",
      "Warning 1: Value 110348737.926513672 of field area of feature 62037 not successfully written. Possibly due to too larger number with respect to field width\n",
      "Warning 1: Value 143512835.513793945 of field area of feature 90118 not successfully written. Possibly due to too larger number with respect to field width\n",
      "Warning 1: Value 115158811.482910156 of field area of feature 316566 not successfully written. Possibly due to too larger number with respect to field width\n",
      "Warning 1: Value 152817471.821655273 of field area of feature 357119 not successfully written. Possibly due to too larger number with respect to field width\n",
      "Warning 1: Value 241864651.658691406 of field area of feature 357144 not successfully written. Possibly due to too larger number with respect to field width\n",
      "Warning 1: Value 188648038.889526367 of field area of feature 357321 not successfully written. Possibly due to too larger number with respect to field width\n",
      "Warning 1: Value 168878892.699951172 of field area of feature 357322 not successfully written. Possibly due to too larger number with respect to field width\n",
      "Warning 1: Value 166799024.843994141 of field area of feature 383893 not successfully written. Possibly due to too larger number with respect to field width\n",
      "Warning 1: Value 105097041.754272461 of field area of feature 473365 not successfully written. Possibly due to too larger number with respect to field width\n",
      "Warning 1: Value 127667356.812988281 of field area of feature 474533 not successfully written. Possibly due to too larger number with respect to field width\n",
      "Warning 1: Value 4262729860.62915039 of field area of feature 477280 not successfully written. Possibly due to too larger number with respect to field width\n",
      "Warning 1: Value 1554592156.92333984 of field area of feature 477385 not successfully written. Possibly due to too larger number with respect to field width\n",
      "Warning 1: Value 115740126.105957031 of field area of feature 479019 not successfully written. Possibly due to too larger number with respect to field width\n",
      "Warning 1: Value 1967947720.60954285 of field area of feature 480608 not successfully written. Possibly due to too larger number with respect to field width\n",
      "Warning 1: Value 247787026.470977783 of field area of feature 530070 not successfully written. Possibly due to too larger number with respect to field width\n",
      "Warning 1: Value 945937260.48001492 of field area of feature 530173 not successfully written. Possibly due to too larger number with respect to field width\n",
      "Warning 1: Value 561040866.769570708 of field area of feature 530325 not successfully written. Possibly due to too larger number with respect to field width\n",
      "Warning 1: Value 203300961.725646973 of field area of feature 530334 not successfully written. Possibly due to too larger number with respect to field width\n",
      "Warning 1: Value 1966224018.96649551 of field area of feature 530466 not successfully written. Possibly due to too larger number with respect to field width\n",
      "Warning 1: Value 439895705.274848104 of field area of feature 619293 not successfully written. Possibly due to too larger number with respect to field width\n",
      "Warning 1: Value 377108444.799987793 of field area of feature 620931 not successfully written. Possibly due to too larger number with respect to field width\n",
      "Warning 1: Value 346541735.159973145 of field area of feature 621163 not successfully written. Possibly due to too larger number with respect to field width\n",
      "Warning 1: Value 105488287.25693512 of field area of feature 621501 not successfully written. Possibly due to too larger number with respect to field width\n",
      "Warning 1: Value 698782206.627090454 of field area of feature 621798 not successfully written. Possibly due to too larger number with respect to field width\n",
      "Warning 1: Value 136755922.429992676 of field area of feature 622026 not successfully written. Possibly due to too larger number with respect to field width\n",
      "Warning 1: Value 155834884.888366699 of field area of feature 663311 not successfully written. Possibly due to too larger number with respect to field width\n",
      "Warning 1: Value 549481508.869445801 of field area of feature 664132 not successfully written. Possibly due to too larger number with respect to field width\n",
      "Warning 1: Value 117299659.178955078 of field area of feature 772865 not successfully written. Possibly due to too larger number with respect to field width\n",
      "Warning 1: Value 326259865.176025391 of field area of feature 887646 not successfully written. Possibly due to too larger number with respect to field width\n",
      "Warning 1: Value 158425156.166259766 of field area of feature 887729 not successfully written. Possibly due to too larger number with respect to field width\n",
      "Warning 1: Value 266873719.704833984 of field area of feature 887888 not successfully written. Possibly due to too larger number with respect to field width\n",
      "Warning 1: Value 133175308.182617188 of field area of feature 889100 not successfully written. Possibly due to too larger number with respect to field width\n",
      "Warning 1: Value 423263104.016113281 of field area of feature 900452 not successfully written. Possibly due to too larger number with respect to field width\n",
      "Warning 1: Value 190660775.488769531 of field area of feature 915238 not successfully written. Possibly due to too larger number with respect to field width\n",
      "Warning 1: Value 223823862.047241211 of field area of feature 942565 not successfully written. Possibly due to too larger number with respect to field width\n",
      "Warning 1: Value 120681355.156005859 of field area of feature 975523 not successfully written. Possibly due to too larger number with respect to field width\n",
      "Warning 1: Value 156192962.860961914 of field area of feature 981453 not successfully written. Possibly due to too larger number with respect to field width\n",
      "Warning 1: Value 210668018.072998047 of field area of feature 981485 not successfully written. Possibly due to too larger number with respect to field width\n",
      "Warning 1: Value 247015110.473144531 of field area of feature 1023590 not successfully written. Possibly due to too larger number with respect to field width\n",
      "Warning 1: Value 119670121.795410156 of field area of feature 1028017 not successfully written. Possibly due to too larger number with respect to field width\n",
      "Warning 1: Value 412371934.498779297 of field area of feature 1065401 not successfully written. Possibly due to too larger number with respect to field width\n",
      "Warning 1: Value 1349688572.19555664 of field area of feature 1065583 not successfully written. Possibly due to too larger number with respect to field width\n",
      "Warning 1: Value 456997402.608520508 of field area of feature 1065783 not successfully written. Possibly due to too larger number with respect to field width\n",
      "Warning 1: Value 423857810.022857666 of field area of feature 1065803 not successfully written. Possibly due to too larger number with respect to field width\n",
      "Warning 1: Value 529370377.752441406 of field area of feature 1065894 not successfully written. Possibly due to too larger number with respect to field width\n",
      "Warning 1: Value 341190948.399902344 of field area of feature 1067503 not successfully written. Possibly due to too larger number with respect to field width\n",
      "Warning 1: Value 273869017.534667969 of field area of feature 1067952 not successfully written. Possibly due to too larger number with respect to field width\n",
      "Warning 1: Value 311438666.501953125 of field area of feature 1069825 not successfully written. Possibly due to too larger number with respect to field width\n",
      "Warning 1: Value 141567053.494140625 of field area of feature 1069826 not successfully written. Possibly due to too larger number with respect to field width\n",
      "Warning 1: Value 371652829.448730469 of field area of feature 1070782 not successfully written. Possibly due to too larger number with respect to field width\n",
      "Warning 1: Value 2489037302.33447266 of field area of feature 1070795 not successfully written. Possibly due to too larger number with respect to field width\n",
      "Warning 1: Value 163504348.760742188 of field area of feature 1070810 not successfully written. Possibly due to too larger number with respect to field width\n",
      "Warning 1: Value 174544678.959960938 of field area of feature 1074081 not successfully written. Possibly due to too larger number with respect to field width\n",
      "Warning 1: Value 418331000.868164062 of field area of feature 1074088 not successfully written. Possibly due to too larger number with respect to field width\n",
      "Warning 1: Value 135610517.006469727 of field area of feature 1074286 not successfully written. Possibly due to too larger number with respect to field width\n",
      "Warning 1: Value 2144847473.27319336 of field area of feature 1074392 not successfully written. Possibly due to too larger number with respect to field width\n",
      "Warning 1: Value 114405775.986328125 of field area of feature 1074518 not successfully written. Possibly due to too larger number with respect to field width\n",
      "Warning 1: Value 238788775.566894531 of field area of feature 1096048 not successfully written. Possibly due to too larger number with respect to field width\n",
      "Warning 1: Value 104045220.042480469 of field area of feature 1137305 not successfully written. Possibly due to too larger number with respect to field width\n",
      "Warning 1: Value 112470228.897949219 of field area of feature 1138888 not successfully written. Possibly due to too larger number with respect to field width\n",
      "Warning 1: Value 105270803.331787109 of field area of feature 1139882 not successfully written. Possibly due to too larger number with respect to field width\n",
      "Warning 1: Value 103332905.766113281 of field area of feature 1139883 not successfully written. Possibly due to too larger number with respect to field width\n",
      "Warning 1: Value 170496306.063720703 of field area of feature 1141309 not successfully written. Possibly due to too larger number with respect to field width\n",
      "Warning 1: Value 117906336.461181641 of field area of feature 1141830 not successfully written. Possibly due to too larger number with respect to field width\n",
      "Warning 1: Value 214876282.334472656 of field area of feature 1147380 not successfully written. Possibly due to too larger number with respect to field width\n",
      "Warning 1: Value 130426904.635253906 of field area of feature 1149171 not successfully written. Possibly due to too larger number with respect to field width\n",
      "Warning 1: Value 249177807.992675781 of field area of feature 1149528 not successfully written. Possibly due to too larger number with respect to field width\n",
      "Warning 1: Value 320344646.80859375 of field area of feature 1156383 not successfully written. Possibly due to too larger number with respect to field width\n",
      "Warning 1: Value 183826812.493164062 of field area of feature 1156421 not successfully written. Possibly due to too larger number with respect to field width\n",
      "Warning 1: Value 203177463.007324219 of field area of feature 1156471 not successfully written. Possibly due to too larger number with respect to field width\n",
      "Warning 1: Value 117549571.643066406 of field area of feature 1156589 not successfully written. Possibly due to too larger number with respect to field width\n",
      "Warning 1: Value 586644044.37890625 of field area of feature 1156619 not successfully written. Possibly due to too larger number with respect to field width\n",
      "Warning 1: Value 760701430.901855469 of field area of feature 1156674 not successfully written. Possibly due to too larger number with respect to field width\n",
      "Warning 1: Value 1068124419.8828125 of field area of feature 1156824 not successfully written. Possibly due to too larger number with respect to field width\n",
      "Warning 1: Value 202148970.186035156 of field area of feature 1156875 not successfully written. Possibly due to too larger number with respect to field width\n",
      "Warning 1: Value 201092920.297851562 of field area of feature 1156913 not successfully written. Possibly due to too larger number with respect to field width\n",
      "Warning 1: Value 143958114.258300781 of field area of feature 1156918 not successfully written. Possibly due to too larger number with respect to field width\n",
      "Warning 1: Value 318692294.386474609 of field area of feature 1156958 not successfully written. Possibly due to too larger number with respect to field width\n",
      "Warning 1: Value 224329088.655517578 of field area of feature 1159274 not successfully written. Possibly due to too larger number with respect to field width\n",
      "Warning 1: Value 659382418.916259766 of field area of feature 1159332 not successfully written. Possibly due to too larger number with respect to field width\n",
      "Warning 1: Value 2310618604.11547852 of field area of feature 1159377 not successfully written. Possibly due to too larger number with respect to field width\n",
      "Warning 1: Value 133055290.225341797 of field area of feature 1159381 not successfully written. Possibly due to too larger number with respect to field width\n",
      "Warning 1: Value 136040121.114990234 of field area of feature 1159385 not successfully written. Possibly due to too larger number with respect to field width\n",
      "Warning 1: Value 504824153.141113281 of field area of feature 1159387 not successfully written. Possibly due to too larger number with respect to field width\n",
      "Warning 1: Value 151647531.562255859 of field area of feature 1159390 not successfully written. Possibly due to too larger number with respect to field width\n",
      "Warning 1: Value 106913919.214599609 of field area of feature 1223323 not successfully written. Possibly due to too larger number with respect to field width\n",
      "Warning 1: Value 148162573.805664062 of field area of feature 1394422 not successfully written. Possibly due to too larger number with respect to field width\n",
      "Warning 1: Value 161565775.956542969 of field area of feature 1552958 not successfully written. Possibly due to too larger number with respect to field width\n",
      "Warning 1: Value 312124005.790283203 of field area of feature 1573405 not successfully written. Possibly due to too larger number with respect to field width\n",
      "Warning 1: Value 389253125.549804688 of field area of feature 1573623 not successfully written. Possibly due to too larger number with respect to field width\n",
      "Warning 1: Value 527534195.288330078 of field area of feature 1574456 not successfully written. Possibly due to too larger number with respect to field width\n",
      "Warning 1: Value 619665963.081298828 of field area of feature 1575561 not successfully written. Possibly due to too larger number with respect to field width\n",
      "Warning 1: Value 378118432.497558594 of field area of feature 1575723 not successfully written. Possibly due to too larger number with respect to field width\n",
      "Warning 1: Value 306861147.790527344 of field area of feature 1576966 not successfully written. Possibly due to too larger number with respect to field width\n",
      "Warning 1: Value 201331235.282714844 of field area of feature 1742973 not successfully written. Possibly due to too larger number with respect to field width\n",
      "Warning 1: Value 312949868.951171875 of field area of feature 1788728 not successfully written. Possibly due to too larger number with respect to field width\n",
      "Warning 1: Value 128117638.830078125 of field area of feature 1811173 not successfully written. Possibly due to too larger number with respect to field width\n",
      "Warning 1: Value 178646029.167480469 of field area of feature 1811946 not successfully written. Possibly due to too larger number with respect to field width\n",
      "Warning 1: Value 145768649.97265625 of field area of feature 1812100 not successfully written. Possibly due to too larger number with respect to field width\n",
      "Warning 1: Value 1723686947.68847656 of field area of feature 1812620 not successfully written. Possibly due to too larger number with respect to field width\n",
      "Warning 1: Value 180442914.998535156 of field area of feature 1812867 not successfully written. Possibly due to too larger number with respect to field width\n",
      "Warning 1: Value 468833477.266113281 of field area of feature 1812917 not successfully written. Possibly due to too larger number with respect to field width\n",
      "Warning 1: Value 190442746.614746094 of field area of feature 1813435 not successfully written. Possibly due to too larger number with respect to field width\n",
      "Warning 1: Value 109195028.053222656 of field area of feature 1813495 not successfully written. Possibly due to too larger number with respect to field width\n",
      "Warning 1: Value 105436398.928710938 of field area of feature 1813604 not successfully written. Possibly due to too larger number with respect to field width\n",
      "Warning 1: Value 104888432.971191406 of field area of feature 1813775 not successfully written. Possibly due to too larger number with respect to field width\n",
      "Warning 1: Value 127909789.269104004 of field area of feature 2109076 not successfully written. Possibly due to too larger number with respect to field width\n",
      "Warning 1: Value 316273556.829467773 of field area of feature 2109111 not successfully written. Possibly due to too larger number with respect to field width\n",
      "Warning 1: Value 313981245.689941406 of field area of feature 2109112 not successfully written. Possibly due to too larger number with respect to field width\n",
      "Warning 1: Value 160265296.96081543 of field area of feature 2109144 not successfully written. Possibly due to too larger number with respect to field width\n",
      "Warning 1: Value 105445338.307495117 of field area of feature 2109156 not successfully written. Possibly due to too larger number with respect to field width\n",
      "Warning 1: Value 3090692584.57849121 of field area of feature 2109160 not successfully written. Possibly due to too larger number with respect to field width\n",
      "Warning 1: Value 104976543.348266602 of field area of feature 2109170 not successfully written. Possibly due to too larger number with respect to field width\n",
      "Warning 1: Value 157442355.750854492 of field area of feature 2110481 not successfully written. Possibly due to too larger number with respect to field width\n",
      "Warning 1: Value 127628070.269287109 of field area of feature 2112471 not successfully written. Possibly due to too larger number with respect to field width\n",
      "Warning 1: Value 209611836.833557129 of field area of feature 2112995 not successfully written. Possibly due to too larger number with respect to field width\n",
      "Warning 1: Value 119033817.741943359 of field area of feature 2113079 not successfully written. Possibly due to too larger number with respect to field width\n",
      "Warning 1: Value 394358288.475036621 of field area of feature 2113082 not successfully written. Possibly due to too larger number with respect to field width\n",
      "Warning 1: Value 469482547.191894531 of field area of feature 2114668 not successfully written. Possibly due to too larger number with respect to field width\n",
      "Warning 1: Value 4034064793.84521484 of field area of feature 2115116 not successfully written. Possibly due to too larger number with respect to field width\n",
      "Warning 1: Value 285642553.113769531 of field area of feature 2115125 not successfully written. Possibly due to too larger number with respect to field width\n",
      "Warning 1: Value 266480457.517578125 of field area of feature 2115126 not successfully written. Possibly due to too larger number with respect to field width\n",
      "Warning 1: Value 1191865850.24511719 of field area of feature 2115138 not successfully written. Possibly due to too larger number with respect to field width\n",
      "Warning 1: Value 102417628.366455078 of field area of feature 2115139 not successfully written. Possibly due to too larger number with respect to field width\n",
      "Warning 1: Value 116538733.915527344 of field area of feature 2115152 not successfully written. Possibly due to too larger number with respect to field width\n",
      "Warning 1: Value 254932161.384521484 of field area of feature 2115153 not successfully written. Possibly due to too larger number with respect to field width\n",
      "Warning 1: Value 243884710.663574219 of field area of feature 2115155 not successfully written. Possibly due to too larger number with respect to field width\n",
      "Warning 1: Value 135431311.852539062 of field area of feature 2115157 not successfully written. Possibly due to too larger number with respect to field width\n",
      "Warning 1: Value 199201576.254394531 of field area of feature 2115162 not successfully written. Possibly due to too larger number with respect to field width\n",
      "Warning 1: Value 167082438.045898438 of field area of feature 2115175 not successfully written. Possibly due to too larger number with respect to field width\n",
      "Warning 1: Value 151638360.762207031 of field area of feature 2115176 not successfully written. Possibly due to too larger number with respect to field width\n",
      "Warning 1: Value 765863776.177246094 of field area of feature 2115183 not successfully written. Possibly due to too larger number with respect to field width\n",
      "Warning 1: Value 146609452.110595703 of field area of feature 2115209 not successfully written. Possibly due to too larger number with respect to field width\n",
      "Warning 1: Value 234787230.763427734 of field area of feature 2115210 not successfully written. Possibly due to too larger number with respect to field width\n",
      "Warning 1: Value 117930114.748779297 of field area of feature 2115213 not successfully written. Possibly due to too larger number with respect to field width\n",
      "Warning 1: Value 107706573.862304688 of field area of feature 2115231 not successfully written. Possibly due to too larger number with respect to field width\n",
      "Warning 1: Value 2132615617.12255859 of field area of feature 2115236 not successfully written. Possibly due to too larger number with respect to field width\n",
      "Warning 1: Value 169897359.785644531 of field area of feature 2115251 not successfully written. Possibly due to too larger number with respect to field width\n",
      "Warning 1: Value 182457423.278076172 of field area of feature 2115310 not successfully written. Possibly due to too larger number with respect to field width\n",
      "Warning 1: Value 2899012467.29833984 of field area of feature 2115346 not successfully written. Possibly due to too larger number with respect to field width\n",
      "Warning 1: Value 120018579.286865234 of field area of feature 2115361 not successfully written. Possibly due to too larger number with respect to field width\n",
      "Warning 1: Value 147997184.865478516 of field area of feature 2115362 not successfully written. Possibly due to too larger number with respect to field width\n",
      "Warning 1: Value 8582126033.59375 of field area of feature 2115389 not successfully written. Possibly due to too larger number with respect to field width\n",
      "Warning 1: Value 296023815.298828125 of field area of feature 2115538 not successfully written. Possibly due to too larger number with respect to field width\n",
      "Warning 1: Value 1201799663.46728516 of field area of feature 2115583 not successfully written. Possibly due to too larger number with respect to field width\n",
      "Warning 1: Value 271619740.891601562 of field area of feature 2115624 not successfully written. Possibly due to too larger number with respect to field width\n",
      "Warning 1: Value 284035938.235839844 of field area of feature 2115720 not successfully written. Possibly due to too larger number with respect to field width\n",
      "Warning 1: Value 500451506.557128906 of field area of feature 2115801 not successfully written. Possibly due to too larger number with respect to field width\n",
      "Warning 1: Value 241850502.25390625 of field area of feature 2115914 not successfully written. Possibly due to too larger number with respect to field width\n",
      "Warning 1: Value 225548159.791503906 of field area of feature 2115979 not successfully written. Possibly due to too larger number with respect to field width\n",
      "Warning 1: Value 109576921.119873047 of field area of feature 2116011 not successfully written. Possibly due to too larger number with respect to field width\n",
      "Warning 1: Value 4896851228.57263184 of field area of feature 2116016 not successfully written. Possibly due to too larger number with respect to field width\n",
      "Warning 1: Value 210112245.780273438 of field area of feature 2154218 not successfully written. Possibly due to too larger number with respect to field width\n",
      "Warning 1: Value 913391734.955566406 of field area of feature 2156633 not successfully written. Possibly due to too larger number with respect to field width\n",
      "Warning 1: Value 107764553.171875 of field area of feature 2157317 not successfully written. Possibly due to too larger number with respect to field width\n",
      "Warning 1: Value 115841468.160644531 of field area of feature 2162528 not successfully written. Possibly due to too larger number with respect to field width\n",
      "Warning 1: Value 143114853.477020264 of field area of feature 2171063 not successfully written. Possibly due to too larger number with respect to field width\n",
      "Warning 1: Value 82243355662.9454041 of field area of feature 2171064 not successfully written. Possibly due to too larger number with respect to field width\n",
      "Warning 1: Value 19584175477.6181641 of field area of feature 2171082 not successfully written. Possibly due to too larger number with respect to field width\n",
      "Warning 1: Value 357828371.788024902 of field area of feature 2194702 not successfully written. Possibly due to too larger number with respect to field width\n",
      "Warning 1: Value 133348376.241394043 of field area of feature 2194843 not successfully written. Possibly due to too larger number with respect to field width\n",
      "Warning 1: Value 152449628.883178711 of field area of feature 2374285 not successfully written. Possibly due to too larger number with respect to field width\n",
      "Warning 1: Value 160506638.189697266 of field area of feature 2375847 not successfully written. Possibly due to too larger number with respect to field width\n",
      "Warning 1: Value 131232485.303100586 of field area of feature 2376095 not successfully written. Possibly due to too larger number with respect to field width\n",
      "Warning 1: Value 245773794.42590332 of field area of feature 2376579 not successfully written. Possibly due to too larger number with respect to field width\n",
      "Warning 1: Value 189583766.258422852 of field area of feature 2377789 not successfully written. Possibly due to too larger number with respect to field width\n",
      "Warning 1: Value 122122619.660644531 of field area of feature 2378486 not successfully written. Possibly due to too larger number with respect to field width\n",
      "Warning 1: Value 139237431.80456543 of field area of feature 2380501 not successfully written. Possibly due to too larger number with respect to field width\n",
      "Warning 1: Value 117243037.8671875 of field area of feature 2381689 not successfully written. Possibly due to too larger number with respect to field width\n",
      "Warning 1: Value 560942159.447021484 of field area of feature 2381696 not successfully written. Possibly due to too larger number with respect to field width\n",
      "Warning 1: Value 115343389.660522461 of field area of feature 2381698 not successfully written. Possibly due to too larger number with respect to field width\n",
      "Warning 1: Value 150869404.516967773 of field area of feature 2381728 not successfully written. Possibly due to too larger number with respect to field width\n",
      "Warning 1: Value 295216893.392211914 of field area of feature 2381749 not successfully written. Possibly due to too larger number with respect to field width\n",
      "Warning 1: Value 134339308.858398438 of field area of feature 2381913 not successfully written. Possibly due to too larger number with respect to field width\n",
      "Warning 1: Value 101676070.031982422 of field area of feature 2381952 not successfully written. Possibly due to too larger number with respect to field width\n",
      "Warning 1: Value 145729602.377929688 of field area of feature 2382749 not successfully written. Possibly due to too larger number with respect to field width\n",
      "Warning 1: Value 2640172186.7434082 of field area of feature 2395015 not successfully written. Possibly due to too larger number with respect to field width\n",
      "Warning 1: Value 238638694.747558594 of field area of feature 2396499 not successfully written. Possibly due to too larger number with respect to field width\n",
      "Warning 1: Value 1171463171.04199219 of field area of feature 2396977 not successfully written. Possibly due to too larger number with respect to field width\n",
      "Warning 1: Value 296444764.299804688 of field area of feature 2397619 not successfully written. Possibly due to too larger number with respect to field width\n",
      "Warning 1: Value 185653134.127441406 of field area of feature 2398379 not successfully written. Possibly due to too larger number with respect to field width\n",
      "Warning 1: Value 213532963.682617188 of field area of feature 2400655 not successfully written. Possibly due to too larger number with respect to field width\n",
      "Warning 1: Value 131554992.572753906 of field area of feature 2405561 not successfully written. Possibly due to too larger number with respect to field width\n",
      "Warning 1: Value 172966173.889892578 of field area of feature 2405584 not successfully written. Possibly due to too larger number with respect to field width\n",
      "Warning 1: Value 571089765.358642578 of field area of feature 2428027 not successfully written. Possibly due to too larger number with respect to field width\n",
      "Warning 1: Value 158454206.112792969 of field area of feature 2428391 not successfully written. Possibly due to too larger number with respect to field width\n",
      "Warning 1: Value 199501988.621582031 of field area of feature 2428482 not successfully written. Possibly due to too larger number with respect to field width\n",
      "Warning 1: Value 166632334.398681641 of field area of feature 2467264 not successfully written. Possibly due to too larger number with respect to field width\n",
      "Warning 1: Value 361127327.636230469 of field area of feature 2537375 not successfully written. Possibly due to too larger number with respect to field width\n",
      "Warning 1: Value 594325752.833984375 of field area of feature 2537492 not successfully written. Possibly due to too larger number with respect to field width\n",
      "Warning 1: Value 132949893.582519531 of field area of feature 2542477 not successfully written. Possibly due to too larger number with respect to field width\n",
      "Warning 1: Value 387118473.279785156 of field area of feature 2542774 not successfully written. Possibly due to too larger number with respect to field width\n",
      "Warning 1: Value 134011902.331787109 of field area of feature 2542935 not successfully written. Possibly due to too larger number with respect to field width\n",
      "Warning 1: Value 484699579.93359375 of field area of feature 2544375 not successfully written. Possibly due to too larger number with respect to field width\n",
      "Warning 1: Value 113541969.765625 of field area of feature 2661934 not successfully written. Possibly due to too larger number with respect to field width\n",
      "Warning 1: Value 182845136.738525391 of field area of feature 2702115 not successfully written. Possibly due to too larger number with respect to field width\n",
      "Warning 1: Value 122680686.387695312 of field area of feature 2707965 not successfully written. Possibly due to too larger number with respect to field width\n",
      "Warning 1: Value 392080268.207519531 of field area of feature 2708198 not successfully written. Possibly due to too larger number with respect to field width\n",
      "Warning 1: Value 217011497.230957031 of field area of feature 2708687 not successfully written. Possibly due to too larger number with respect to field width\n",
      "Warning 1: Value 112508577.657714844 of field area of feature 2709822 not successfully written. Possibly due to too larger number with respect to field width\n",
      "Warning 1: Value 111251219.094482422 of field area of feature 2716710 not successfully written. Possibly due to too larger number with respect to field width\n",
      "Warning 1: Value 121065387.267333984 of field area of feature 2734627 not successfully written. Possibly due to too larger number with respect to field width\n",
      "Warning 1: Value 161296180.254638672 of field area of feature 2773103 not successfully written. Possibly due to too larger number with respect to field width\n",
      "Warning 1: Value 137294036.252685547 of field area of feature 2804859 not successfully written. Possibly due to too larger number with respect to field width\n",
      "Warning 1: Value 184820184.635498047 of field area of feature 2824685 not successfully written. Possibly due to too larger number with respect to field width\n",
      "Warning 1: Value 125505055.678955078 of field area of feature 2837541 not successfully written. Possibly due to too larger number with respect to field width\n",
      "Warning 1: Value 333816041.343261719 of field area of feature 2839633 not successfully written. Possibly due to too larger number with respect to field width\n",
      "Warning 1: Value 254035559.189941406 of field area of feature 2840292 not successfully written. Possibly due to too larger number with respect to field width\n",
      "Warning 1: Value 102949456.703857422 of field area of feature 2840639 not successfully written. Possibly due to too larger number with respect to field width\n",
      "Warning 1: Value 607267244.138916016 of field area of feature 2840910 not successfully written. Possibly due to too larger number with respect to field width\n",
      "Warning 1: Value 397757618.703125 of field area of feature 2841075 not successfully written. Possibly due to too larger number with respect to field width\n",
      "Warning 1: Value 499375721.87109375 of field area of feature 2841216 not successfully written. Possibly due to too larger number with respect to field width\n",
      "Warning 1: Value 115056518.688476562 of field area of feature 2841283 not successfully written. Possibly due to too larger number with respect to field width\n",
      "Warning 1: Value 288810017.94140625 of field area of feature 2849320 not successfully written. Possibly due to too larger number with respect to field width\n",
      "Warning 1: Value 1707625999.16210938 of field area of feature 2851273 not successfully written. Possibly due to too larger number with respect to field width\n",
      "Warning 1: Value 124900246.245117188 of field area of feature 2852203 not successfully written. Possibly due to too larger number with respect to field width\n",
      "Warning 1: Value 1212216765.58618164 of field area of feature 2852290 not successfully written. Possibly due to too larger number with respect to field width\n",
      "Warning 1: Value 137653695.524414062 of field area of feature 2852535 not successfully written. Possibly due to too larger number with respect to field width\n",
      "Warning 1: Value 291227647.792480469 of field area of feature 2859831 not successfully written. Possibly due to too larger number with respect to field width\n",
      "Warning 1: Value 457485964.139648438 of field area of feature 2889169 not successfully written. Possibly due to too larger number with respect to field width\n",
      "Warning 1: 2GB file size limit reached for /mnt/g/Other/Sheng-Arctic-lakes/edk_out/UCLA_ArcticLakes15_cmb.shp. Going on, but might cause compatibility issues with third party software\n",
      "Warning 1: Value 892230794.267089844 of field area of feature 2928851 not successfully written. Possibly due to too larger number with respect to field width\n",
      "Warning 1: Value 451295886.733154297 of field area of feature 2929691 not successfully written. Possibly due to too larger number with respect to field width\n",
      "Warning 1: Value 376728871.435058594 of field area of feature 2929882 not successfully written. Possibly due to too larger number with respect to field width\n",
      "Warning 1: Value 115754763.682373047 of field area of feature 2929898 not successfully written. Possibly due to too larger number with respect to field width\n",
      "Warning 1: Value 297397054.020263672 of field area of feature 2930063 not successfully written. Possibly due to too larger number with respect to field width\n",
      "Warning 1: Value 131493021.029785156 of field area of feature 2935776 not successfully written. Possibly due to too larger number with respect to field width\n",
      "Warning 1: Value 145286482.661621094 of field area of feature 2937715 not successfully written. Possibly due to too larger number with respect to field width\n",
      "Warning 1: Value 449750614.223632812 of field area of feature 2937890 not successfully written. Possibly due to too larger number with respect to field width\n",
      "Warning 1: Value 171893523.864746094 of field area of feature 2937913 not successfully written. Possibly due to too larger number with respect to field width\n",
      "Warning 1: Value 131964680.876953125 of field area of feature 2940575 not successfully written. Possibly due to too larger number with respect to field width\n",
      "Warning 1: Value 222193492.631103516 of field area of feature 2940737 not successfully written. Possibly due to too larger number with respect to field width\n",
      "Warning 1: Value 150290474.5703125 of field area of feature 2941260 not successfully written. Possibly due to too larger number with respect to field width\n",
      "Warning 1: Value 102463550.941162109 of field area of feature 2942139 not successfully written. Possibly due to too larger number with respect to field width\n",
      "Warning 1: Value 199673911.138916016 of field area of feature 3031051 not successfully written. Possibly due to too larger number with respect to field width\n",
      "Warning 1: Value 151357539.667724609 of field area of feature 3033917 not successfully written. Possibly due to too larger number with respect to field width\n",
      "Warning 1: Value 147211252.382568359 of field area of feature 3034176 not successfully written. Possibly due to too larger number with respect to field width\n",
      "Warning 1: Value 130402631.107910156 of field area of feature 3034771 not successfully written. Possibly due to too larger number with respect to field width\n",
      "Warning 1: Value 654599397.780517578 of field area of feature 3034865 not successfully written. Possibly due to too larger number with respect to field width\n",
      "Warning 1: Value 291346157.295166016 of field area of feature 3034882 not successfully written. Possibly due to too larger number with respect to field width\n",
      "Warning 1: Value 124244127.507568359 of field area of feature 3035345 not successfully written. Possibly due to too larger number with respect to field width\n",
      "Warning 1: Value 353655448.272460938 of field area of feature 3060644 not successfully written. Possibly due to too larger number with respect to field width\n",
      "Warning 1: Value 456849399.220703125 of field area of feature 3061460 not successfully written. Possibly due to too larger number with respect to field width\n",
      "Warning 1: Value 133645544.558105469 of field area of feature 3061999 not successfully written. Possibly due to too larger number with respect to field width\n",
      "Warning 1: Value 631455433.817138672 of field area of feature 3062389 not successfully written. Possibly due to too larger number with respect to field width\n",
      "Warning 1: Value 283252452.752929688 of field area of feature 3062416 not successfully written. Possibly due to too larger number with respect to field width\n",
      "Warning 1: Value 239076314.724365234 of field area of feature 3063081 not successfully written. Possibly due to too larger number with respect to field width\n",
      "Warning 1: Value 191518498.921142578 of field area of feature 3063425 not successfully written. Possibly due to too larger number with respect to field width\n",
      "Warning 1: Value 431528716.894042969 of field area of feature 3064218 not successfully written. Possibly due to too larger number with respect to field width\n",
      "Warning 1: Value 287623526.212402344 of field area of feature 3064315 not successfully written. Possibly due to too larger number with respect to field width\n",
      "Warning 1: Value 117331504.908569336 of field area of feature 3064318 not successfully written. Possibly due to too larger number with respect to field width\n",
      "Warning 1: Value 115087639.184570312 of field area of feature 3064383 not successfully written. Possibly due to too larger number with respect to field width\n",
      "Warning 1: Value 330259275.585449219 of field area of feature 3064407 not successfully written. Possibly due to too larger number with respect to field width\n",
      "Warning 1: Value 348087450.171386719 of field area of feature 3064445 not successfully written. Possibly due to too larger number with respect to field width\n",
      "Warning 1: Value 198955948.643554688 of field area of feature 3064448 not successfully written. Possibly due to too larger number with respect to field width\n",
      "Warning 1: Value 857226636.381103516 of field area of feature 3064519 not successfully written. Possibly due to too larger number with respect to field width\n",
      "Warning 1: Value 250018169.799926758 of field area of feature 3064522 not successfully written. Possibly due to too larger number with respect to field width\n",
      "Warning 1: Value 234331280.958129883 of field area of feature 3064549 not successfully written. Possibly due to too larger number with respect to field width\n",
      "Warning 1: Value 31983072658.2185059 of field area of feature 3064632 not successfully written. Possibly due to too larger number with respect to field width\n",
      "Warning 1: Value 363530815.614013672 of field area of feature 3064675 not successfully written. Possibly due to too larger number with respect to field width\n",
      "Warning 1: Value 176380039.14453125 of field area of feature 3064690 not successfully written. Possibly due to too larger number with respect to field width\n",
      "Warning 1: Value 1705702442.12646484 of field area of feature 3064699 not successfully written. Possibly due to too larger number with respect to field width\n",
      "Warning 1: Value 149386122.426513672 of field area of feature 3064701 not successfully written. Possibly due to too larger number with respect to field width\n",
      "Warning 1: Value 116081114.948486328 of field area of feature 3064709 not successfully written. Possibly due to too larger number with respect to field width\n",
      "Warning 1: Value 2631465135.92333984 of field area of feature 3064730 not successfully written. Possibly due to too larger number with respect to field width\n",
      "Warning 1: Value 568135225.556152344 of field area of feature 3065424 not successfully written. Possibly due to too larger number with respect to field width\n",
      "Warning 1: Value 410366497.587402344 of field area of feature 3065426 not successfully written. Possibly due to too larger number with respect to field width\n",
      "Warning 1: Value 147444830.792724609 of field area of feature 3065437 not successfully written. Possibly due to too larger number with respect to field width\n",
      "Warning 1: Value 27155509658.5505371 of field area of feature 3065442 not successfully written. Possibly due to too larger number with respect to field width\n",
      "Warning 1: Value 128022869.679931641 of field area of feature 3065454 not successfully written. Possibly due to too larger number with respect to field width\n",
      "Warning 1: Value 102478206.531982422 of field area of feature 3065756 not successfully written. Possibly due to too larger number with respect to field width\n",
      "Warning 1: Value 380656086.870361328 of field area of feature 3065791 not successfully written. Possibly due to too larger number with respect to field width\n",
      "Warning 1: Value 121859270.221923828 of field area of feature 3065793 not successfully written. Possibly due to too larger number with respect to field width\n",
      "Warning 1: Value 328760119.304931641 of field area of feature 3066179 not successfully written. Possibly due to too larger number with respect to field width\n",
      "Warning 1: Value 118698673.958740234 of field area of feature 3066242 not successfully written. Possibly due to too larger number with respect to field width\n",
      "Warning 1: Value 1029912163.4753418 of field area of feature 3066296 not successfully written. Possibly due to too larger number with respect to field width\n",
      "Warning 1: Value 1069564196.72436523 of field area of feature 3066335 not successfully written. Possibly due to too larger number with respect to field width\n",
      "Warning 1: Value 184195416.493408203 of field area of feature 3066734 not successfully written. Possibly due to too larger number with respect to field width\n",
      "Warning 1: Value 248889741.095703125 of field area of feature 3066759 not successfully written. Possibly due to too larger number with respect to field width\n",
      "Warning 1: Value 1745186978.82513428 of field area of feature 3072971 not successfully written. Possibly due to too larger number with respect to field width\n",
      "Warning 1: Value 734153177.052978516 of field area of feature 3073097 not successfully written. Possibly due to too larger number with respect to field width\n",
      "Warning 1: Value 120378542.366943359 of field area of feature 3073123 not successfully written. Possibly due to too larger number with respect to field width\n",
      "Warning 1: Value 305449322.160644531 of field area of feature 3074478 not successfully written. Possibly due to too larger number with respect to field width\n"
     ]
    }
   ],
   "source": [
    "import pyogrio\n",
    "gdf = dgdf.compute()\n",
    "pyogrio.write_dataframe(gdf, '/Volumes/thebe/Other/Sheng-Arctic-lakes/edk_out/UCLA_ArcticLakes15_cmb.shp')"
   ]
  },
  {
   "cell_type": "code",
   "execution_count": null,
   "metadata": {},
   "outputs": [
    {
     "data": {
      "text/html": [
       "<div>\n",
       "<style scoped>\n",
       "    .dataframe tbody tr th:only-of-type {\n",
       "        vertical-align: middle;\n",
       "    }\n",
       "\n",
       "    .dataframe tbody tr th {\n",
       "        vertical-align: top;\n",
       "    }\n",
       "\n",
       "    .dataframe thead th {\n",
       "        text-align: right;\n",
       "    }\n",
       "</style>\n",
       "<table border=\"1\" class=\"dataframe\">\n",
       "  <thead>\n",
       "    <tr style=\"text-align: right;\">\n",
       "      <th></th>\n",
       "      <th>Cell_ID</th>\n",
       "      <th>Lat</th>\n",
       "      <th>Long</th>\n",
       "      <th>OBJECTID</th>\n",
       "      <th>area</th>\n",
       "      <th>geometry</th>\n",
       "    </tr>\n",
       "  </thead>\n",
       "  <tbody>\n",
       "    <tr>\n",
       "      <th>110970</th>\n",
       "      <td>14989</td>\n",
       "      <td>68.25</td>\n",
       "      <td>17.25</td>\n",
       "      <td>110971.0</td>\n",
       "      <td>89150.39917</td>\n",
       "      <td>POLYGON ((-714447.596 2281213.055, -714330.171...</td>\n",
       "    </tr>\n",
       "  </tbody>\n",
       "</table>\n",
       "</div>"
      ],
      "text/plain": [
       "        Cell_ID    Lat   Long  OBJECTID         area  \\\n",
       "110970    14989  68.25  17.25  110971.0  89150.39917   \n",
       "\n",
       "                                                 geometry  \n",
       "110970  POLYGON ((-714447.596 2281213.055, -714330.171...  "
      ]
     },
     "metadata": {},
     "output_type": "display_data"
    }
   ],
   "source": [
    "## For example, this feature is not in the combined shapefile I wrote out...\n",
    "gdf.query('OBJECTID == 110971')"
   ]
  },
  {
   "attachments": {},
   "cell_type": "markdown",
   "metadata": {},
   "source": [
    "## TODO:\n",
    "* apply get_climate function over all hydrolakes using BAWLD cell lat/long X\n",
    "    * Or, if worldclim netcdf is fine-scale, use individual lake lat/long\n",
    "* Smart dask way is to define an entire processing chain that ends with writing out X\n",
    "* Apply upscaling calc using lake area (Shp_area) and summer temp X\n",
    "* If redo-ing, \n",
    "    * use lake centroid, and then no need to join to BAWLD (and slightly more nuanced, HR temp data)\n",
    "    * Apply 'meta' argument to map_partitions to increase speed....\n",
    "* C or K? X\n",
    "* Plot, sum, profit!\n",
    "* Don't need QGIS join, just use sjoin in gpd!"
   ]
  },
  {
   "cell_type": "code",
   "execution_count": 70,
   "metadata": {},
   "outputs": [
    {
     "ename": "ModuleNotFoundError",
     "evalue": "No module named 'dbfread'",
     "output_type": "error",
     "traceback": [
      "\u001b[0;31m---------------------------------------------------------------------------\u001b[0m",
      "\u001b[0;31mModuleNotFoundError\u001b[0m                       Traceback (most recent call last)",
      "Cell \u001b[0;32mIn[70], line 1\u001b[0m\n\u001b[0;32m----> 1\u001b[0m \u001b[39mimport\u001b[39;00m \u001b[39mdbfread\u001b[39;00m\n",
      "\u001b[0;31mModuleNotFoundError\u001b[0m: No module named 'dbfread'"
     ]
    }
   ],
   "source": [
    "import dbfread"
   ]
  },
  {
   "cell_type": "markdown",
   "metadata": {},
   "source": [
    "## Troubleshooting"
   ]
  },
  {
   "cell_type": "code",
   "execution_count": null,
   "metadata": {},
   "outputs": [],
   "source": [
    "from pyogrio import read_dataframe\n",
    "gdf = read_dataframe(gdf_pth, columns=['OBJECTID', 'Area', 'ID'], read_geometry=True, use_arrow=True) # pyogrio.read_dataframe(path_or_buffer, /, layer=None, encoding=None, columns=None, read_geometry=True, force_2d=False, skip_features=0, max_features=None, where=None, bbox=None, fids=None, sql=None, sql_dialect=None, fid_as_index=False, use_arrow=False)"
   ]
  },
  {
   "cell_type": "code",
   "execution_count": null,
   "metadata": {},
   "outputs": [
    {
     "data": {
      "text/plain": [
       "(6652015, 4)"
      ]
     },
     "metadata": {},
     "output_type": "display_data"
    }
   ],
   "source": [
    "gdf.shape"
   ]
  },
  {
   "cell_type": "code",
   "execution_count": null,
   "metadata": {},
   "outputs": [],
   "source": [
    "gdfJ = gdf.sjoin(roi, how='inner')"
   ]
  },
  {
   "cell_type": "code",
   "execution_count": null,
   "metadata": {},
   "outputs": [
    {
     "data": {
      "text/plain": [
       "(6692998, 77)"
      ]
     },
     "metadata": {},
     "output_type": "display_data"
    }
   ],
   "source": [
    "gdfJ.shape"
   ]
  },
  {
   "cell_type": "code",
   "execution_count": null,
   "metadata": {},
   "outputs": [
    {
     "data": {
      "text/plain": [
       "Index(['OBJECTID', 'ID', 'Shape_Area', 'geometry', 'index_right', 'Cell_ID',\n",
       "       'Long', 'Lat', 'Area_Pct', 'Shp_Area', 'GLA', 'ROC', 'TUN', 'BOR',\n",
       "       'WET', 'PEB', 'WTU', 'MAR', 'BOG', 'FEN', 'LAK', 'LAL', 'MPL', 'MYL',\n",
       "       'MGL', 'SPL', 'SYL', 'SGL', 'RIV', 'LAR', 'SRR', 'SRP', 'GLA_L',\n",
       "       'GLA_H', 'ROC_L', 'ROC_H', 'TUN_L', 'TUN_H', 'BOR_L', 'BOR_H', 'WET_L',\n",
       "       'WET_H', 'PEB_L', 'PEB_H', 'WTU_L', 'WTU_H', 'MAR_L', 'MAR_H', 'BOG_L',\n",
       "       'BOG_H', 'FEN_L', 'FEN_H', 'LAK_L', 'LAK_H', 'LAL_L', 'LAL_H', 'MPL_L',\n",
       "       'MPL_H', 'MYL_L', 'MYL_H', 'MGL_L', 'MGL_H', 'SPL_L', 'SPL_H', 'SYL_L',\n",
       "       'SYL_H', 'SGL_L', 'SGL_H', 'RIV_L', 'RIV_H', 'LAR_L', 'LAR_H', 'SRR_L',\n",
       "       'SRR_H', 'SRP_L', 'SRP_H', 'WETSCAPE'],\n",
       "      dtype='object')"
      ]
     },
     "metadata": {},
     "output_type": "display_data"
    }
   ],
   "source": [
    "gdfJ.columns"
   ]
  },
  {
   "cell_type": "code",
   "execution_count": null,
   "metadata": {},
   "outputs": [
    {
     "data": {
      "text/plain": [
       "88401"
      ]
     },
     "metadata": {},
     "output_type": "display_data"
    }
   ],
   "source": [
    "dups = len(gdfJ['OBJECTID']) - len(gdfJ['OBJECTID'].drop_duplicates())\n",
    "dups"
   ]
  },
  {
   "cell_type": "code",
   "execution_count": null,
   "metadata": {},
   "outputs": [
    {
     "data": {
      "text/plain": [
       "155            156.0\n",
       "168            169.0\n",
       "169            170.0\n",
       "189            190.0\n",
       "155            156.0\n",
       "             ...    \n",
       "6641997    6641999.0\n",
       "6652014    6652016.0\n",
       "6652014    6652016.0\n",
       "6652014    6652016.0\n",
       "6652014    6652016.0\n",
       "Name: OBJECTID, Length: 174219, dtype: float64"
      ]
     },
     "metadata": {},
     "output_type": "display_data"
    }
   ],
   "source": [
    "## Look at dups\n",
    "dupIdx = gdfJ[np.isin(gdfJ['OBJECTID'], gdfJ['OBJECTID'].drop_duplicates(keep=False), invert=True)].OBJECTID\n",
    "dupIdx"
   ]
  },
  {
   "cell_type": "code",
   "execution_count": null,
   "metadata": {},
   "outputs": [
    {
     "data": {
      "text/html": [
       "<div>\n",
       "<style scoped>\n",
       "    .dataframe tbody tr th:only-of-type {\n",
       "        vertical-align: middle;\n",
       "    }\n",
       "\n",
       "    .dataframe tbody tr th {\n",
       "        vertical-align: top;\n",
       "    }\n",
       "\n",
       "    .dataframe thead th {\n",
       "        text-align: right;\n",
       "    }\n",
       "</style>\n",
       "<table border=\"1\" class=\"dataframe\">\n",
       "  <thead>\n",
       "    <tr style=\"text-align: right;\">\n",
       "      <th></th>\n",
       "      <th>OBJECTID</th>\n",
       "      <th>ID</th>\n",
       "      <th>Shape_Area</th>\n",
       "      <th>geometry</th>\n",
       "      <th>index_right</th>\n",
       "      <th>Cell_ID</th>\n",
       "      <th>Long</th>\n",
       "      <th>Lat</th>\n",
       "      <th>Area_Pct</th>\n",
       "      <th>Shp_Area</th>\n",
       "      <th>...</th>\n",
       "      <th>SGL_H</th>\n",
       "      <th>RIV_L</th>\n",
       "      <th>RIV_H</th>\n",
       "      <th>LAR_L</th>\n",
       "      <th>LAR_H</th>\n",
       "      <th>SRR_L</th>\n",
       "      <th>SRR_H</th>\n",
       "      <th>SRP_L</th>\n",
       "      <th>SRP_H</th>\n",
       "      <th>WETSCAPE</th>\n",
       "    </tr>\n",
       "  </thead>\n",
       "  <tbody>\n",
       "    <tr>\n",
       "      <th>155</th>\n",
       "      <td>156.0</td>\n",
       "      <td>173662.0</td>\n",
       "      <td>3.185065e-07</td>\n",
       "      <td>POLYGON ((-165.99944 54.16296, -165.99950 54.1...</td>\n",
       "      <td>577</td>\n",
       "      <td>1932</td>\n",
       "      <td>-165.75</td>\n",
       "      <td>54.25</td>\n",
       "      <td>21.80</td>\n",
       "      <td>3.963772e+08</td>\n",
       "      <td>...</td>\n",
       "      <td>0.86</td>\n",
       "      <td>0.18</td>\n",
       "      <td>0.46</td>\n",
       "      <td>0.0</td>\n",
       "      <td>0.05</td>\n",
       "      <td>0.02</td>\n",
       "      <td>0.25</td>\n",
       "      <td>0.18</td>\n",
       "      <td>0.52</td>\n",
       "      <td>11</td>\n",
       "    </tr>\n",
       "    <tr>\n",
       "      <th>155</th>\n",
       "      <td>156.0</td>\n",
       "      <td>173662.0</td>\n",
       "      <td>3.185065e-07</td>\n",
       "      <td>POLYGON ((-165.99944 54.16296, -165.99950 54.1...</td>\n",
       "      <td>22530</td>\n",
       "      <td>1931</td>\n",
       "      <td>-166.25</td>\n",
       "      <td>54.25</td>\n",
       "      <td>4.57</td>\n",
       "      <td>8.314832e+07</td>\n",
       "      <td>...</td>\n",
       "      <td>0.63</td>\n",
       "      <td>0.15</td>\n",
       "      <td>0.42</td>\n",
       "      <td>0.0</td>\n",
       "      <td>0.05</td>\n",
       "      <td>0.00</td>\n",
       "      <td>0.35</td>\n",
       "      <td>0.16</td>\n",
       "      <td>0.63</td>\n",
       "      <td>11</td>\n",
       "    </tr>\n",
       "  </tbody>\n",
       "</table>\n",
       "<p>2 rows × 77 columns</p>\n",
       "</div>"
      ],
      "text/plain": [
       "     OBJECTID        ID    Shape_Area  \\\n",
       "155     156.0  173662.0  3.185065e-07   \n",
       "155     156.0  173662.0  3.185065e-07   \n",
       "\n",
       "                                              geometry  index_right  Cell_ID  \\\n",
       "155  POLYGON ((-165.99944 54.16296, -165.99950 54.1...          577     1932   \n",
       "155  POLYGON ((-165.99944 54.16296, -165.99950 54.1...        22530     1931   \n",
       "\n",
       "       Long    Lat  Area_Pct      Shp_Area  ...  SGL_H  RIV_L  RIV_H  LAR_L  \\\n",
       "155 -165.75  54.25     21.80  3.963772e+08  ...   0.86   0.18   0.46    0.0   \n",
       "155 -166.25  54.25      4.57  8.314832e+07  ...   0.63   0.15   0.42    0.0   \n",
       "\n",
       "     LAR_H  SRR_L  SRR_H  SRP_L  SRP_H  WETSCAPE  \n",
       "155   0.05   0.02   0.25   0.18   0.52        11  \n",
       "155   0.05   0.00   0.35   0.16   0.63        11  \n",
       "\n",
       "[2 rows x 77 columns]"
      ]
     },
     "metadata": {},
     "output_type": "display_data"
    }
   ],
   "source": [
    "gdfJ.query('OBJECTID == 156')"
   ]
  },
  {
   "cell_type": "code",
   "execution_count": null,
   "metadata": {},
   "outputs": [
    {
     "ename": "AttributeError",
     "evalue": "'GeoDataFrame' object has no attribute 'Area'",
     "output_type": "error",
     "traceback": [
      "\u001b[0;31m---------------------------------------------------------------------------\u001b[0m\n",
      "\n",
      "\u001b[0;31mAttributeError\u001b[0m                            Traceback (most recent call last)\n",
      "\n",
      "Cell \u001b[0;32mIn[10], line 1\u001b[0m\n",
      "\n",
      "\u001b[0;32m----> 1\u001b[0m gdf\u001b[39m.\u001b[39;49mArea\u001b[39m.\u001b[39msum()\n",
      "\n",
      "\u001b[1;32m      2\u001b[0m \u001b[39m# gdfJ.Area.sum()\u001b[39;00m\n",
      "\n",
      "\n",
      "\n",
      "File \u001b[0;32m~/mambaforge/envs/geospatial/lib/python3.10/site-packages/pandas/core/generic.py:5902\u001b[0m, in \u001b[0;36mNDFrame.__getattr__\u001b[0;34m(self, name)\u001b[0m\n",
      "\n",
      "\u001b[1;32m   5895\u001b[0m \u001b[39mif\u001b[39;00m (\n",
      "\n",
      "\u001b[1;32m   5896\u001b[0m     name \u001b[39mnot\u001b[39;00m \u001b[39min\u001b[39;00m \u001b[39mself\u001b[39m\u001b[39m.\u001b[39m_internal_names_set\n",
      "\n",
      "\u001b[1;32m   5897\u001b[0m     \u001b[39mand\u001b[39;00m name \u001b[39mnot\u001b[39;00m \u001b[39min\u001b[39;00m \u001b[39mself\u001b[39m\u001b[39m.\u001b[39m_metadata\n",
      "\n",
      "\u001b[1;32m   5898\u001b[0m     \u001b[39mand\u001b[39;00m name \u001b[39mnot\u001b[39;00m \u001b[39min\u001b[39;00m \u001b[39mself\u001b[39m\u001b[39m.\u001b[39m_accessors\n",
      "\n",
      "\u001b[1;32m   5899\u001b[0m     \u001b[39mand\u001b[39;00m \u001b[39mself\u001b[39m\u001b[39m.\u001b[39m_info_axis\u001b[39m.\u001b[39m_can_hold_identifiers_and_holds_name(name)\n",
      "\n",
      "\u001b[1;32m   5900\u001b[0m ):\n",
      "\n",
      "\u001b[1;32m   5901\u001b[0m     \u001b[39mreturn\u001b[39;00m \u001b[39mself\u001b[39m[name]\n",
      "\n",
      "\u001b[0;32m-> 5902\u001b[0m \u001b[39mreturn\u001b[39;00m \u001b[39mobject\u001b[39;49m\u001b[39m.\u001b[39;49m\u001b[39m__getattribute__\u001b[39;49m(\u001b[39mself\u001b[39;49m, name)\n",
      "\n",
      "\n",
      "\n",
      "\u001b[0;31mAttributeError\u001b[0m: 'GeoDataFrame' object has no attribute 'Area'"
     ]
    }
   ],
   "source": [
    "gdf.Area.sum()\n",
    "# gdfJ.Area.sum()"
   ]
  }
 ],
 "metadata": {
  "kernelspec": {
   "display_name": "geospatial",
   "language": "python",
   "name": "python3"
  },
  "language_info": {
   "codemirror_mode": {
    "name": "ipython",
    "version": 3
   },
   "file_extension": ".py",
   "mimetype": "text/x-python",
   "name": "python",
   "nbconvert_exporter": "python",
   "pygments_lexer": "ipython3",
   "version": "3.11.5"
  },
  "orig_nbformat": 4,
  "vscode": {
   "interpreter": {
    "hash": "7c2adcd04cb759f62ae312ee256557939cf64646c4c1feb81f383cf035bb7331"
   }
  }
 },
 "nbformat": 4,
 "nbformat_minor": 2
}
