{
 "cells": [
  {
   "cell_type": "code",
   "execution_count": 1,
   "metadata": {},
   "outputs": [
    {
     "name": "stderr",
     "output_type": "stream",
     "text": [
      "/var/folders/rv/sn0kln2103b9fs4xl56n3w7w0000gn/T/ipykernel_47048/1464915901.py:7: DeprecationWarning: Shapely 2.0 is installed, but because PyGEOS is also installed, GeoPandas still uses PyGEOS by default. However, starting with version 0.14, the default will switch to Shapely. To force to use Shapely 2.0 now, you can either uninstall PyGEOS or set the environment variable USE_PYGEOS=0. You can do this before starting the Python process, or in your code before importing geopandas:\n",
      "\n",
      "import os\n",
      "os.environ['USE_PYGEOS'] = '0'\n",
      "import geopandas\n",
      "\n",
      "In the next release, GeoPandas will switch to using Shapely by default, even if PyGEOS is installed. If you only have PyGEOS installed to get speed-ups, this switch should be smooth. However, if you are using PyGEOS directly (calling PyGEOS functions on geometries from GeoPandas), this will then stop working and you are encouraged to migrate from PyGEOS to Shapely 2.0 (https://shapely.readthedocs.io/en/latest/migration_pygeos.html).\n",
      "  import geopandas as gpd\n"
     ]
    }
   ],
   "source": [
    "## Imports\n",
    "import os, sys\n",
    "import numpy as np\n",
    "import matplotlib.pyplot as plt\n",
    "import seaborn as sns\n",
    "import pandas as pd\n",
    "import geopandas as gpd\n",
    "from statsmodels.formula.api import ols\n",
    "from latlon_utils import get_climate, get_data_dir\n",
    "from matplotlib.colors import ListedColormap\n",
    "\n",
    "sys.path.append('..')\n",
    "from LAD import LAD, BinnedLAD, confidence_interval_from_extreme_regions"
   ]
  },
  {
   "cell_type": "markdown",
   "metadata": {},
   "source": [
    "# Prep roi-WBD-NAHL\n",
    "Create subset version of main data file with only WBD-NAHL ROI lakes."
   ]
  },
  {
   "cell_type": "code",
   "execution_count": 2,
   "metadata": {},
   "outputs": [
    {
     "name": "stderr",
     "output_type": "stream",
     "text": [
      "/var/folders/rv/sn0kln2103b9fs4xl56n3w7w0000gn/T/ipykernel_47048/3394725772.py:7: DtypeWarning: Columns (120) have mixed types. Specify dtype option on import or set low_memory=False.\n",
      "  gdf_hl = pd.read_csv(df_HL_jn_full_pth, compression='gzip')\n"
     ]
    },
    {
     "ename": "KeyboardInterrupt",
     "evalue": "",
     "output_type": "error",
     "traceback": [
      "\u001b[0;31m---------------------------------------------------------------------------\u001b[0m",
      "\u001b[0;31mKeyboardInterrupt\u001b[0m                         Traceback (most recent call last)",
      "\u001b[1;32m/Users/ekyzivat/Library/CloudStorage/Dropbox/Python/Ch4/notebooks/global_plots.ipynb Cell 3\u001b[0m line \u001b[0;36m8\n\u001b[1;32m      <a href='vscode-notebook-cell:/Users/ekyzivat/Library/CloudStorage/Dropbox/Python/Ch4/notebooks/global_plots.ipynb#W2sZmlsZQ%3D%3D?line=5'>6</a>\u001b[0m \u001b[39m## Load, if needed\u001b[39;00m\n\u001b[1;32m      <a href='vscode-notebook-cell:/Users/ekyzivat/Library/CloudStorage/Dropbox/Python/Ch4/notebooks/global_plots.ipynb#W2sZmlsZQ%3D%3D?line=6'>7</a>\u001b[0m gdf_hl \u001b[39m=\u001b[39m pd\u001b[39m.\u001b[39mread_csv(df_HL_jn_full_pth, compression\u001b[39m=\u001b[39m\u001b[39m'\u001b[39m\u001b[39mgzip\u001b[39m\u001b[39m'\u001b[39m)\n\u001b[0;32m----> <a href='vscode-notebook-cell:/Users/ekyzivat/Library/CloudStorage/Dropbox/Python/Ch4/notebooks/global_plots.ipynb#W2sZmlsZQ%3D%3D?line=7'>8</a>\u001b[0m gdf_roi \u001b[39m=\u001b[39m gpd\u001b[39m.\u001b[39;49mread_file(gdf_HL_jn_pth) \u001b[39m# gives indexes of lakes in ROI\u001b[39;00m\n",
      "File \u001b[0;32m~/mambaforge/envs/geo/lib/python3.11/site-packages/geopandas/io/file.py:281\u001b[0m, in \u001b[0;36m_read_file\u001b[0;34m(filename, bbox, mask, rows, engine, **kwargs)\u001b[0m\n\u001b[1;32m    278\u001b[0m     \u001b[39melse\u001b[39;00m:\n\u001b[1;32m    279\u001b[0m         path_or_bytes \u001b[39m=\u001b[39m filename\n\u001b[0;32m--> 281\u001b[0m     \u001b[39mreturn\u001b[39;00m _read_file_fiona(\n\u001b[1;32m    282\u001b[0m         path_or_bytes, from_bytes, bbox\u001b[39m=\u001b[39;49mbbox, mask\u001b[39m=\u001b[39;49mmask, rows\u001b[39m=\u001b[39;49mrows, \u001b[39m*\u001b[39;49m\u001b[39m*\u001b[39;49mkwargs\n\u001b[1;32m    283\u001b[0m     )\n\u001b[1;32m    285\u001b[0m \u001b[39melse\u001b[39;00m:\n\u001b[1;32m    286\u001b[0m     \u001b[39mraise\u001b[39;00m \u001b[39mValueError\u001b[39;00m(\u001b[39mf\u001b[39m\u001b[39m\"\u001b[39m\u001b[39munknown engine \u001b[39m\u001b[39m'\u001b[39m\u001b[39m{\u001b[39;00mengine\u001b[39m}\u001b[39;00m\u001b[39m'\u001b[39m\u001b[39m\"\u001b[39m)\n",
      "File \u001b[0;32m~/mambaforge/envs/geo/lib/python3.11/site-packages/geopandas/io/file.py:379\u001b[0m, in \u001b[0;36m_read_file_fiona\u001b[0;34m(path_or_bytes, from_bytes, bbox, mask, rows, where, **kwargs)\u001b[0m\n\u001b[1;32m    375\u001b[0m     df \u001b[39m=\u001b[39m pd\u001b[39m.\u001b[39mDataFrame(\n\u001b[1;32m    376\u001b[0m         [record[\u001b[39m\"\u001b[39m\u001b[39mproperties\u001b[39m\u001b[39m\"\u001b[39m] \u001b[39mfor\u001b[39;00m record \u001b[39min\u001b[39;00m f_filt], columns\u001b[39m=\u001b[39mcolumns\n\u001b[1;32m    377\u001b[0m     )\n\u001b[1;32m    378\u001b[0m \u001b[39melse\u001b[39;00m:\n\u001b[0;32m--> 379\u001b[0m     df \u001b[39m=\u001b[39m GeoDataFrame\u001b[39m.\u001b[39;49mfrom_features(\n\u001b[1;32m    380\u001b[0m         f_filt, crs\u001b[39m=\u001b[39;49mcrs, columns\u001b[39m=\u001b[39;49mcolumns \u001b[39m+\u001b[39;49m [\u001b[39m\"\u001b[39;49m\u001b[39mgeometry\u001b[39;49m\u001b[39m\"\u001b[39;49m]\n\u001b[1;32m    381\u001b[0m     )\n\u001b[1;32m    382\u001b[0m \u001b[39mfor\u001b[39;00m k \u001b[39min\u001b[39;00m datetime_fields:\n\u001b[1;32m    383\u001b[0m     as_dt \u001b[39m=\u001b[39m pd\u001b[39m.\u001b[39mto_datetime(df[k], errors\u001b[39m=\u001b[39m\u001b[39m\"\u001b[39m\u001b[39mignore\u001b[39m\u001b[39m\"\u001b[39m)\n",
      "File \u001b[0;32m~/mambaforge/envs/geo/lib/python3.11/site-packages/geopandas/geodataframe.py:635\u001b[0m, in \u001b[0;36mGeoDataFrame.from_features\u001b[0;34m(cls, features, crs, columns)\u001b[0m\n\u001b[1;32m    632\u001b[0m     features_lst \u001b[39m=\u001b[39m features\n\u001b[1;32m    634\u001b[0m rows \u001b[39m=\u001b[39m []\n\u001b[0;32m--> 635\u001b[0m \u001b[39mfor\u001b[39;00m feature \u001b[39min\u001b[39;00m features_lst:\n\u001b[1;32m    636\u001b[0m     \u001b[39m# load geometry\u001b[39;00m\n\u001b[1;32m    637\u001b[0m     \u001b[39mif\u001b[39;00m \u001b[39mhasattr\u001b[39m(feature, \u001b[39m\"\u001b[39m\u001b[39m__geo_interface__\u001b[39m\u001b[39m\"\u001b[39m):\n\u001b[1;32m    638\u001b[0m         feature \u001b[39m=\u001b[39m feature\u001b[39m.\u001b[39m__geo_interface__\n",
      "File \u001b[0;32mfiona/ogrext.pyx:1743\u001b[0m, in \u001b[0;36mfiona.ogrext.Iterator.__next__\u001b[0;34m()\u001b[0m\n",
      "File \u001b[0;32m~/mambaforge/envs/geo/lib/python3.11/site-packages/fiona/collection.py:277\u001b[0m, in \u001b[0;36mCollection.driver\u001b[0;34m(self)\u001b[0m\n\u001b[1;32m    274\u001b[0m         \u001b[39mif\u001b[39;00m \u001b[39mself\u001b[39m\u001b[39m.\u001b[39mmode \u001b[39mnot\u001b[39;00m \u001b[39min\u001b[39;00m supported_drivers[driver]:\n\u001b[1;32m    275\u001b[0m             \u001b[39mraise\u001b[39;00m DriverError(\u001b[39m\"\u001b[39m\u001b[39munsupported mode: \u001b[39m\u001b[39m%r\u001b[39;00m\u001b[39m\"\u001b[39m \u001b[39m%\u001b[39m \u001b[39mself\u001b[39m\u001b[39m.\u001b[39mmode)\n\u001b[0;32m--> 277\u001b[0m \u001b[39m@property\u001b[39m\n\u001b[1;32m    278\u001b[0m \u001b[39mdef\u001b[39;00m \u001b[39mdriver\u001b[39m(\u001b[39mself\u001b[39m):\n\u001b[1;32m    279\u001b[0m \u001b[39m    \u001b[39m\u001b[39m\"\"\"Returns the name of the proper OGR driver.\"\"\"\u001b[39;00m\n\u001b[1;32m    280\u001b[0m     \u001b[39mif\u001b[39;00m \u001b[39mnot\u001b[39;00m \u001b[39mself\u001b[39m\u001b[39m.\u001b[39m_driver \u001b[39mand\u001b[39;00m \u001b[39mself\u001b[39m\u001b[39m.\u001b[39mmode \u001b[39min\u001b[39;00m (\u001b[39m\"\u001b[39m\u001b[39ma\u001b[39m\u001b[39m\"\u001b[39m, \u001b[39m\"\u001b[39m\u001b[39mr\u001b[39m\u001b[39m\"\u001b[39m) \u001b[39mand\u001b[39;00m \u001b[39mself\u001b[39m\u001b[39m.\u001b[39msession:\n",
      "\u001b[0;31mKeyboardInterrupt\u001b[0m: "
     ]
    }
   ],
   "source": [
    "df_HL_jn_full_pth = '/Volumes/thebe/Ch4/GSW_zonal_stats/HL/v4/HL_zStats_Oc_full.csv.gz'\n",
    "gdf_HL_jn_pth = '/Volumes/thebe/Ch4/GSW_zonal_stats/HL/v3/HL_zStats_Oc_binned_jnBAWLD_roiNAHL.shp' # gives ROI\n",
    "df_HL_BAWLD_NAHL_jn_full_pth = '/Volumes/thebe/Ch4/GSW_zonal_stats/HL/v4/HL_zStats_Oc_full_jnBAWLD_roiNAHL.csv.gz' # Output: main data source # HL clipped to BAWLD and WBD\n",
    "\n",
    "\n",
    "## Load, if needed\n",
    "gdf_hl = pd.read_csv(df_HL_jn_full_pth, compression='gzip')\n",
    "gdf_roi = gpd.read_file(gdf_HL_jn_pth) # gives indexes of lakes in ROI\n"
   ]
  },
  {
   "cell_type": "code",
   "execution_count": null,
   "metadata": {},
   "outputs": [
    {
     "name": "stdout",
     "output_type": "stream",
     "text": [
      "<class 'geopandas.geodataframe.GeoDataFrame'>\n",
      "RangeIndex: 754832 entries, 0 to 754831\n",
      "Data columns (total 17 columns):\n",
      " #   Column      Non-Null Count   Dtype   \n",
      "---  ------      --------------   -----   \n",
      " 0   Hylak_id    754832 non-null  int64   \n",
      " 1   0-5         754832 non-null  float64 \n",
      " 2   5-50        754832 non-null  float64 \n",
      " 3   50-95       754832 non-null  float64 \n",
      " 4   95-100      754832 non-null  float64 \n",
      " 5   Class_sum   754832 non-null  float64 \n",
      " 6   Shp_Area    754832 non-null  float64 \n",
      " 7   BAWLDCell_  754832 non-null  int64   \n",
      " 8   n           754832 non-null  int64   \n",
      " 9   distance    754832 non-null  float64 \n",
      " 10  feature_x   754832 non-null  float64 \n",
      " 11  feature_y   754832 non-null  float64 \n",
      " 12  nearest_x   754832 non-null  float64 \n",
      " 13  nearest_y   754832 non-null  float64 \n",
      " 14  BAWLDLong   754832 non-null  float64 \n",
      " 15  BAWLDLat    754832 non-null  float64 \n",
      " 16  geometry    754832 non-null  geometry\n",
      "dtypes: float64(13), geometry(1), int64(3)\n",
      "memory usage: 97.9 MB\n"
     ]
    }
   ],
   "source": [
    "gdf_roi.info()"
   ]
  },
  {
   "cell_type": "code",
   "execution_count": null,
   "metadata": {},
   "outputs": [],
   "source": [
    "gdf_hl = gdf_hl.drop(columns=['Unnamed: 0', 'system:index']).merge(gdf_roi['Hylak_id'], on='Hylak_id', how='inner')"
   ]
  },
  {
   "cell_type": "code",
   "execution_count": null,
   "metadata": {},
   "outputs": [
    {
     "data": {
      "text/html": [
       "<div>\n",
       "<style scoped>\n",
       "    .dataframe tbody tr th:only-of-type {\n",
       "        vertical-align: middle;\n",
       "    }\n",
       "\n",
       "    .dataframe tbody tr th {\n",
       "        vertical-align: top;\n",
       "    }\n",
       "\n",
       "    .dataframe thead th {\n",
       "        text-align: right;\n",
       "    }\n",
       "</style>\n",
       "<table border=\"1\" class=\"dataframe\">\n",
       "  <thead>\n",
       "    <tr style=\"text-align: right;\">\n",
       "      <th></th>\n",
       "      <th>Class_70</th>\n",
       "      <th>Class_71</th>\n",
       "      <th>Class_72</th>\n",
       "      <th>Class_73</th>\n",
       "      <th>Class_74</th>\n",
       "      <th>Class_75</th>\n",
       "      <th>Class_76</th>\n",
       "      <th>Class_77</th>\n",
       "      <th>Class_sum</th>\n",
       "      <th>Class_8</th>\n",
       "      <th>...</th>\n",
       "      <th>Elevation</th>\n",
       "      <th>Vol_res</th>\n",
       "      <th>Dis_avg</th>\n",
       "      <th>Pour_lat</th>\n",
       "      <th>Vol_src</th>\n",
       "      <th>Country</th>\n",
       "      <th>Lake_name</th>\n",
       "      <th>Class_98</th>\n",
       "      <th>Class_99</th>\n",
       "      <th>Class_100</th>\n",
       "    </tr>\n",
       "  </thead>\n",
       "  <tbody>\n",
       "    <tr>\n",
       "      <th>0</th>\n",
       "      <td>0.003</td>\n",
       "      <td>0.000</td>\n",
       "      <td>0.000</td>\n",
       "      <td>0.001</td>\n",
       "      <td>0.001</td>\n",
       "      <td>0.001</td>\n",
       "      <td>0.000</td>\n",
       "      <td>0.003</td>\n",
       "      <td>0.363</td>\n",
       "      <td>0.001</td>\n",
       "      <td>...</td>\n",
       "      <td>621.0</td>\n",
       "      <td>0.0</td>\n",
       "      <td>0.005</td>\n",
       "      <td>50.490288</td>\n",
       "      <td>3.0</td>\n",
       "      <td>Canada</td>\n",
       "      <td>NaN</td>\n",
       "      <td>NaN</td>\n",
       "      <td>NaN</td>\n",
       "      <td>NaN</td>\n",
       "    </tr>\n",
       "    <tr>\n",
       "      <th>1</th>\n",
       "      <td>0.000</td>\n",
       "      <td>0.000</td>\n",
       "      <td>0.000</td>\n",
       "      <td>0.000</td>\n",
       "      <td>0.001</td>\n",
       "      <td>0.001</td>\n",
       "      <td>0.000</td>\n",
       "      <td>0.002</td>\n",
       "      <td>0.109</td>\n",
       "      <td>0.001</td>\n",
       "      <td>...</td>\n",
       "      <td>630.0</td>\n",
       "      <td>0.0</td>\n",
       "      <td>0.001</td>\n",
       "      <td>50.485042</td>\n",
       "      <td>3.0</td>\n",
       "      <td>Canada</td>\n",
       "      <td>NaN</td>\n",
       "      <td>NaN</td>\n",
       "      <td>NaN</td>\n",
       "      <td>NaN</td>\n",
       "    </tr>\n",
       "    <tr>\n",
       "      <th>2</th>\n",
       "      <td>0.002</td>\n",
       "      <td>0.000</td>\n",
       "      <td>0.001</td>\n",
       "      <td>0.000</td>\n",
       "      <td>0.001</td>\n",
       "      <td>0.001</td>\n",
       "      <td>0.002</td>\n",
       "      <td>0.001</td>\n",
       "      <td>0.323</td>\n",
       "      <td>0.000</td>\n",
       "      <td>...</td>\n",
       "      <td>613.0</td>\n",
       "      <td>0.0</td>\n",
       "      <td>0.006</td>\n",
       "      <td>50.492419</td>\n",
       "      <td>3.0</td>\n",
       "      <td>Canada</td>\n",
       "      <td>NaN</td>\n",
       "      <td>NaN</td>\n",
       "      <td>NaN</td>\n",
       "      <td>NaN</td>\n",
       "    </tr>\n",
       "    <tr>\n",
       "      <th>3</th>\n",
       "      <td>0.005</td>\n",
       "      <td>0.002</td>\n",
       "      <td>0.002</td>\n",
       "      <td>0.001</td>\n",
       "      <td>0.003</td>\n",
       "      <td>0.002</td>\n",
       "      <td>0.000</td>\n",
       "      <td>0.005</td>\n",
       "      <td>0.198</td>\n",
       "      <td>0.002</td>\n",
       "      <td>...</td>\n",
       "      <td>612.0</td>\n",
       "      <td>0.0</td>\n",
       "      <td>0.004</td>\n",
       "      <td>50.498021</td>\n",
       "      <td>3.0</td>\n",
       "      <td>Canada</td>\n",
       "      <td>NaN</td>\n",
       "      <td>NaN</td>\n",
       "      <td>NaN</td>\n",
       "      <td>NaN</td>\n",
       "    </tr>\n",
       "    <tr>\n",
       "      <th>4</th>\n",
       "      <td>0.000</td>\n",
       "      <td>0.001</td>\n",
       "      <td>0.000</td>\n",
       "      <td>0.000</td>\n",
       "      <td>0.001</td>\n",
       "      <td>0.001</td>\n",
       "      <td>0.001</td>\n",
       "      <td>0.000</td>\n",
       "      <td>0.134</td>\n",
       "      <td>0.000</td>\n",
       "      <td>...</td>\n",
       "      <td>624.0</td>\n",
       "      <td>0.0</td>\n",
       "      <td>0.006</td>\n",
       "      <td>50.487126</td>\n",
       "      <td>3.0</td>\n",
       "      <td>Canada</td>\n",
       "      <td>NaN</td>\n",
       "      <td>NaN</td>\n",
       "      <td>NaN</td>\n",
       "      <td>NaN</td>\n",
       "    </tr>\n",
       "    <tr>\n",
       "      <th>...</th>\n",
       "      <td>...</td>\n",
       "      <td>...</td>\n",
       "      <td>...</td>\n",
       "      <td>...</td>\n",
       "      <td>...</td>\n",
       "      <td>...</td>\n",
       "      <td>...</td>\n",
       "      <td>...</td>\n",
       "      <td>...</td>\n",
       "      <td>...</td>\n",
       "      <td>...</td>\n",
       "      <td>...</td>\n",
       "      <td>...</td>\n",
       "      <td>...</td>\n",
       "      <td>...</td>\n",
       "      <td>...</td>\n",
       "      <td>...</td>\n",
       "      <td>...</td>\n",
       "      <td>...</td>\n",
       "      <td>...</td>\n",
       "      <td>...</td>\n",
       "    </tr>\n",
       "    <tr>\n",
       "      <th>754827</th>\n",
       "      <td>0.002</td>\n",
       "      <td>0.000</td>\n",
       "      <td>0.000</td>\n",
       "      <td>0.000</td>\n",
       "      <td>0.001</td>\n",
       "      <td>0.002</td>\n",
       "      <td>0.000</td>\n",
       "      <td>0.000</td>\n",
       "      <td>0.164</td>\n",
       "      <td>0.001</td>\n",
       "      <td>...</td>\n",
       "      <td>29.0</td>\n",
       "      <td>0.0</td>\n",
       "      <td>0.037</td>\n",
       "      <td>67.556734</td>\n",
       "      <td>3.0</td>\n",
       "      <td>Canada</td>\n",
       "      <td>NaN</td>\n",
       "      <td>0.000</td>\n",
       "      <td>0.0</td>\n",
       "      <td>0.0</td>\n",
       "    </tr>\n",
       "    <tr>\n",
       "      <th>754828</th>\n",
       "      <td>0.000</td>\n",
       "      <td>0.000</td>\n",
       "      <td>0.001</td>\n",
       "      <td>0.001</td>\n",
       "      <td>0.002</td>\n",
       "      <td>0.002</td>\n",
       "      <td>0.000</td>\n",
       "      <td>0.000</td>\n",
       "      <td>0.140</td>\n",
       "      <td>0.001</td>\n",
       "      <td>...</td>\n",
       "      <td>32.0</td>\n",
       "      <td>0.0</td>\n",
       "      <td>0.001</td>\n",
       "      <td>67.528185</td>\n",
       "      <td>3.0</td>\n",
       "      <td>Canada</td>\n",
       "      <td>NaN</td>\n",
       "      <td>0.000</td>\n",
       "      <td>0.0</td>\n",
       "      <td>0.0</td>\n",
       "    </tr>\n",
       "    <tr>\n",
       "      <th>754829</th>\n",
       "      <td>0.001</td>\n",
       "      <td>0.000</td>\n",
       "      <td>0.001</td>\n",
       "      <td>0.000</td>\n",
       "      <td>0.000</td>\n",
       "      <td>0.001</td>\n",
       "      <td>0.000</td>\n",
       "      <td>0.001</td>\n",
       "      <td>0.103</td>\n",
       "      <td>0.000</td>\n",
       "      <td>...</td>\n",
       "      <td>28.0</td>\n",
       "      <td>0.0</td>\n",
       "      <td>0.001</td>\n",
       "      <td>67.522809</td>\n",
       "      <td>3.0</td>\n",
       "      <td>Canada</td>\n",
       "      <td>NaN</td>\n",
       "      <td>0.000</td>\n",
       "      <td>0.0</td>\n",
       "      <td>0.0</td>\n",
       "    </tr>\n",
       "    <tr>\n",
       "      <th>754830</th>\n",
       "      <td>0.000</td>\n",
       "      <td>0.000</td>\n",
       "      <td>0.000</td>\n",
       "      <td>0.003</td>\n",
       "      <td>0.001</td>\n",
       "      <td>0.001</td>\n",
       "      <td>0.000</td>\n",
       "      <td>0.001</td>\n",
       "      <td>0.226</td>\n",
       "      <td>0.000</td>\n",
       "      <td>...</td>\n",
       "      <td>20.0</td>\n",
       "      <td>0.0</td>\n",
       "      <td>0.071</td>\n",
       "      <td>67.637566</td>\n",
       "      <td>3.0</td>\n",
       "      <td>Canada</td>\n",
       "      <td>NaN</td>\n",
       "      <td>0.000</td>\n",
       "      <td>0.0</td>\n",
       "      <td>0.0</td>\n",
       "    </tr>\n",
       "    <tr>\n",
       "      <th>754831</th>\n",
       "      <td>0.001</td>\n",
       "      <td>0.000</td>\n",
       "      <td>0.000</td>\n",
       "      <td>0.001</td>\n",
       "      <td>0.000</td>\n",
       "      <td>0.001</td>\n",
       "      <td>0.001</td>\n",
       "      <td>0.000</td>\n",
       "      <td>0.321</td>\n",
       "      <td>0.000</td>\n",
       "      <td>...</td>\n",
       "      <td>9.0</td>\n",
       "      <td>0.0</td>\n",
       "      <td>0.002</td>\n",
       "      <td>67.729364</td>\n",
       "      <td>3.0</td>\n",
       "      <td>Canada</td>\n",
       "      <td>NaN</td>\n",
       "      <td>0.023</td>\n",
       "      <td>0.0</td>\n",
       "      <td>0.0</td>\n",
       "    </tr>\n",
       "  </tbody>\n",
       "</table>\n",
       "<p>754832 rows × 123 columns</p>\n",
       "</div>"
      ],
      "text/plain": [
       "        Class_70  Class_71  Class_72  Class_73  Class_74  Class_75  Class_76  \\\n",
       "0          0.003     0.000     0.000     0.001     0.001     0.001     0.000   \n",
       "1          0.000     0.000     0.000     0.000     0.001     0.001     0.000   \n",
       "2          0.002     0.000     0.001     0.000     0.001     0.001     0.002   \n",
       "3          0.005     0.002     0.002     0.001     0.003     0.002     0.000   \n",
       "4          0.000     0.001     0.000     0.000     0.001     0.001     0.001   \n",
       "...          ...       ...       ...       ...       ...       ...       ...   \n",
       "754827     0.002     0.000     0.000     0.000     0.001     0.002     0.000   \n",
       "754828     0.000     0.000     0.001     0.001     0.002     0.002     0.000   \n",
       "754829     0.001     0.000     0.001     0.000     0.000     0.001     0.000   \n",
       "754830     0.000     0.000     0.000     0.003     0.001     0.001     0.000   \n",
       "754831     0.001     0.000     0.000     0.001     0.000     0.001     0.001   \n",
       "\n",
       "        Class_77  Class_sum  Class_8  ...  Elevation  Vol_res  Dis_avg  \\\n",
       "0          0.003      0.363    0.001  ...      621.0      0.0    0.005   \n",
       "1          0.002      0.109    0.001  ...      630.0      0.0    0.001   \n",
       "2          0.001      0.323    0.000  ...      613.0      0.0    0.006   \n",
       "3          0.005      0.198    0.002  ...      612.0      0.0    0.004   \n",
       "4          0.000      0.134    0.000  ...      624.0      0.0    0.006   \n",
       "...          ...        ...      ...  ...        ...      ...      ...   \n",
       "754827     0.000      0.164    0.001  ...       29.0      0.0    0.037   \n",
       "754828     0.000      0.140    0.001  ...       32.0      0.0    0.001   \n",
       "754829     0.001      0.103    0.000  ...       28.0      0.0    0.001   \n",
       "754830     0.001      0.226    0.000  ...       20.0      0.0    0.071   \n",
       "754831     0.000      0.321    0.000  ...        9.0      0.0    0.002   \n",
       "\n",
       "         Pour_lat  Vol_src  Country  Lake_name  Class_98  Class_99  Class_100  \n",
       "0       50.490288      3.0   Canada        NaN       NaN       NaN        NaN  \n",
       "1       50.485042      3.0   Canada        NaN       NaN       NaN        NaN  \n",
       "2       50.492419      3.0   Canada        NaN       NaN       NaN        NaN  \n",
       "3       50.498021      3.0   Canada        NaN       NaN       NaN        NaN  \n",
       "4       50.487126      3.0   Canada        NaN       NaN       NaN        NaN  \n",
       "...           ...      ...      ...        ...       ...       ...        ...  \n",
       "754827  67.556734      3.0   Canada        NaN     0.000       0.0        0.0  \n",
       "754828  67.528185      3.0   Canada        NaN     0.000       0.0        0.0  \n",
       "754829  67.522809      3.0   Canada        NaN     0.000       0.0        0.0  \n",
       "754830  67.637566      3.0   Canada        NaN     0.000       0.0        0.0  \n",
       "754831  67.729364      3.0   Canada        NaN     0.023       0.0        0.0  \n",
       "\n",
       "[754832 rows x 123 columns]"
      ]
     },
     "metadata": {},
     "output_type": "display_data"
    }
   ],
   "source": [
    "gdf_hl"
   ]
  },
  {
   "cell_type": "code",
   "execution_count": null,
   "metadata": {},
   "outputs": [],
   "source": [
    "## Write out large file\n",
    "gdf_hl.to_csv(df_HL_BAWLD_NAHL_jn_full_pth)"
   ]
  },
  {
   "cell_type": "markdown",
   "metadata": {},
   "source": [
    "# Downing plots"
   ]
  },
  {
   "cell_type": "code",
   "execution_count": 3,
   "metadata": {},
   "outputs": [
    {
     "data": {
      "image/png": "[encoded data removed]",
      "text/plain": [
       "<Figure size 640x480 with 1 Axes>"
      ]
     },
     "metadata": {},
     "output_type": "display_data"
    }
   ],
   "source": [
    "# Load the Excel file\n",
    "df = pd.read_excel('/Users/ekyzivat/Library/CloudStorage/GoogleDrive-ethan_kyzivat@alumni.brown.edu/My Drive/Writing/Ch4/Revision1/Tables/Size_bin_table_norm_v20_Downing_save.xlsx', sheet_name='comb_bins', index_col='size_bin')\n",
    "\n",
    "# Exclude the last row with index 'Sum'\n",
    "df = df.iloc[:-1]\n",
    "\n",
    "# Define custom colormap with black and orange\n",
    "colors = ['black', 'orange']\n",
    "custom_cmap = ListedColormap(colors)\n",
    "\n",
    "# Plot the 'Area_Mkm2' and 'Downing Area norm'\n",
    "fig, ax = plt.subplots()\n",
    "df[['Area_Mkm2', 'Downing Area norm']].plot(kind='bar', colormap=custom_cmap, ax=ax)\n",
    "\n",
    "# Set labels and title\n",
    "ax.set_xlabel('Size Bin')\n",
    "ax.set_ylabel('Area (as fraction of total)')\n",
    "plt.xticks(rotation=45)\n",
    "plt.title('Area Comparison')\n",
    "\n",
    "# plt.legend(['My Arctic estimate', 'Conventional global estimate'])\n",
    "plt.legend(['Extrapolation estimate', 'Downing et al., 2006'])\n",
    "\n",
    "# Show the plot\n",
    "plt.show()\n"
   ]
  },
  {
   "cell_type": "markdown",
   "metadata": {},
   "source": [
    "# Compare to PLD global data!"
   ]
  },
  {
   "cell_type": "code",
   "execution_count": 4,
   "metadata": {},
   "outputs": [
    {
     "data": {
      "text/plain": [
       "2.5265799615903792"
      ]
     },
     "execution_count": 4,
     "metadata": {},
     "output_type": "execute_result"
    }
   ],
   "source": [
    "lad = LAD.from_shapefile('/Volumes/thebe/Other/SWOT-PLD/v0.1/SWOT_PLD.gdb', name='PLD', area_var='ref_area', idx_var='lake_id', _areaConversionFactor=100, other_vars=['lon','lat'])\n",
    "lad.Area_km2.sum()/1e6\n",
    "# lad"
   ]
  },
  {
   "cell_type": "code",
   "execution_count": 5,
   "metadata": {},
   "outputs": [
    {
     "data": {
      "text/html": [
       "<div>\n",
       "<style scoped>\n",
       "    .dataframe tbody tr th:only-of-type {\n",
       "        vertical-align: middle;\n",
       "    }\n",
       "\n",
       "    .dataframe tbody tr th {\n",
       "        vertical-align: top;\n",
       "    }\n",
       "\n",
       "    .dataframe thead th {\n",
       "        text-align: right;\n",
       "    }\n",
       "</style>\n",
       "<table border=\"1\" class=\"dataframe\">\n",
       "  <thead>\n",
       "    <tr style=\"text-align: right;\">\n",
       "      <th></th>\n",
       "      <th>Area_km2</th>\n",
       "      <th>Name</th>\n",
       "      <th>Region</th>\n",
       "    </tr>\n",
       "  </thead>\n",
       "  <tbody>\n",
       "    <tr>\n",
       "      <th>0</th>\n",
       "      <td>0.0153</td>\n",
       "      <td>PLD</td>\n",
       "      <td>PLD</td>\n",
       "    </tr>\n",
       "    <tr>\n",
       "      <th>1</th>\n",
       "      <td>0.0207</td>\n",
       "      <td>PLD</td>\n",
       "      <td>PLD</td>\n",
       "    </tr>\n",
       "    <tr>\n",
       "      <th>2</th>\n",
       "      <td>0.0225</td>\n",
       "      <td>PLD</td>\n",
       "      <td>PLD</td>\n",
       "    </tr>\n",
       "    <tr>\n",
       "      <th>3</th>\n",
       "      <td>0.0468</td>\n",
       "      <td>PLD</td>\n",
       "      <td>PLD</td>\n",
       "    </tr>\n",
       "    <tr>\n",
       "      <th>4</th>\n",
       "      <td>0.2423</td>\n",
       "      <td>PLD</td>\n",
       "      <td>PLD</td>\n",
       "    </tr>\n",
       "    <tr>\n",
       "      <th>...</th>\n",
       "      <td>...</td>\n",
       "      <td>...</td>\n",
       "      <td>...</td>\n",
       "    </tr>\n",
       "    <tr>\n",
       "      <th>5988467</th>\n",
       "      <td>1.7672</td>\n",
       "      <td>PLD</td>\n",
       "      <td>PLD</td>\n",
       "    </tr>\n",
       "    <tr>\n",
       "      <th>5988468</th>\n",
       "      <td>1.2997</td>\n",
       "      <td>PLD</td>\n",
       "      <td>PLD</td>\n",
       "    </tr>\n",
       "    <tr>\n",
       "      <th>5988469</th>\n",
       "      <td>1.9816</td>\n",
       "      <td>PLD</td>\n",
       "      <td>PLD</td>\n",
       "    </tr>\n",
       "    <tr>\n",
       "      <th>5988470</th>\n",
       "      <td>2.5843</td>\n",
       "      <td>PLD</td>\n",
       "      <td>PLD</td>\n",
       "    </tr>\n",
       "    <tr>\n",
       "      <th>5988471</th>\n",
       "      <td>377001.9100</td>\n",
       "      <td>HL</td>\n",
       "      <td>HL</td>\n",
       "    </tr>\n",
       "  </tbody>\n",
       "</table>\n",
       "<p>5988472 rows × 3 columns</p>\n",
       "</div>"
      ],
      "text/plain": [
       "            Area_km2 Name Region\n",
       "0             0.0153  PLD    PLD\n",
       "1             0.0207  PLD    PLD\n",
       "2             0.0225  PLD    PLD\n",
       "3             0.0468  PLD    PLD\n",
       "4             0.2423  PLD    PLD\n",
       "...              ...  ...    ...\n",
       "5988467       1.7672  PLD    PLD\n",
       "5988468       1.2997  PLD    PLD\n",
       "5988469       1.9816  PLD    PLD\n",
       "5988470       2.5843  PLD    PLD\n",
       "5988471  377001.9100   HL     HL\n",
       "\n",
       "[5988472 rows x 3 columns]"
      ]
     },
     "execution_count": 5,
     "metadata": {},
     "output_type": "execute_result"
    }
   ],
   "source": [
    "## Add Caspian Sea\n",
    "caspian_shp = gpd.read_file(\n",
    "    '/Volumes/thebe/HydroLAKES_polys_v10_shp/HydroLAKES_polys_v10_shp/HydroLAKES_polys_v10.shp', rows=1, engine='pyogrio', read_geometry=False)\n",
    "caspian_shp\n",
    "lad_caspian = LAD(caspian_shp, name='HL', area_var='Lake_area', idx_var='Hylak_id')\n",
    "lad = LAD.concat((lad, lad_caspian),\n",
    "                     broadcast_name=True, ignore_index=True)\n",
    "lad"
   ]
  },
  {
   "cell_type": "code",
   "execution_count": 6,
   "metadata": {},
   "outputs": [
    {
     "data": {
      "text/plain": [
       "377001.91"
      ]
     },
     "execution_count": 6,
     "metadata": {},
     "output_type": "execute_result"
    }
   ],
   "source": [
    "## Verify min area\n",
    "lad.Area_km2.min()\n",
    "lad.Area_km2.max()"
   ]
  },
  {
   "cell_type": "code",
   "execution_count": 7,
   "metadata": {},
   "outputs": [
    {
     "name": "stdout",
     "output_type": "stream",
     "text": [
      "Load HR...\n"
     ]
    }
   ],
   "source": [
    "## Loading from CIR gdf\n",
    "print('Load HR...')\n",
    "regions = ['Sagavanirktok River', 'Yukon Flats Basin', 'Old Crow Flats', 'Mackenzie River Delta',\n",
    "            'Mackenzie River Valley', 'Canadian Shield Margin', 'Canadian Shield', 'Slave River',\n",
    "            'Peace-Athabasca Delta', 'Athabasca River', 'Prairie Potholes North',\n",
    "            'Prairie Potholes South', 'Tuktoyaktuk Peninsula', 'All']\n",
    "lad_cir = LAD.from_shapefile('/Volumes/thebe/Planet-SR-2/Classification/cir/dcs_fused_hydroLakes_buf_10_sum.shp',\n",
    "                                area_var='Area', name='CIR', region_var='Region4', regions=regions, idx_var='OID_')\n",
    "\n",
    "## Loading PeRL LAD\n",
    "perl_exclude = ['arg0022009xxxx', 'fir0022009xxxx', 'hbl00119540701', 'hbl00119740617',\n",
    "                'hbl00120060706', 'ice0032009xxxx', 'rog00219740726', 'rog00220070707',\n",
    "                'tav00119630831', 'tav00119750810', 'tav00120030702', 'yak0012009xxxx',\n",
    "                'bar00120080730_qb_nplaea.shp']\n",
    "lad_perl = LAD.from_paths('/Volumes/thebe/PeRL/PeRL_waterbodymaps/waterbodies/*.shp',\n",
    "                            area_var='AREA', name='perl', _areaConversionFactor=1000000, exclude=perl_exclude)\n",
    "\n",
    "## Loading from Mullen\n",
    "lad_mullen = LAD.from_paths('/Volumes/thebe/Other/Mullen_AK_lake_pond_maps/Alaska_Lake_Pond_Maps_2134_working/data/*_3Y_lakes-and-ponds.zip', _areaConversionFactor=1000000,\n",
    "                            name='Mullen', computeArea=True)  # '/Volumes/thebe/Other/Mullen_AK_lake_pond_maps/Alaska_Lake_Pond_Maps_2134_working/data/[A-Z][A-Z]_08*.zip'\n",
    "\n",
    "## Combine PeRL and CIR and Mullen\n",
    "lad_ref = LAD.concat((lad_cir, lad_perl, lad_mullen),\n",
    "                    broadcast_name=True, ignore_index=True)\n",
    "compute_ci_lad=True\n",
    "error_bars=True\n",
    "ref_ds = 'Arctic HR'"
   ]
  },
  {
   "cell_type": "code",
   "execution_count": 66,
   "metadata": {},
   "outputs": [
    {
     "name": "stdout",
     "output_type": "stream",
     "text": [
      "Load WBD...\n"
     ]
    }
   ],
   "source": [
    "## Alternatively, load WBD as ref\n",
    "print('Load WBD...')\n",
    "lad_ref = LAD.from_shapefile(\n",
    "    '/Volumes/thebe/Other/Feng-High-res-inland-surface-water-tundra-boreal-NA/edk_out/fixed_geoms/WBD.shp', area_var='Area', name='WBD', idx_var='OBJECTID')\n",
    "lad_ref.truncate(0.001, inplace=True)\n",
    "compute_ci_lad=False\n",
    "error_bars=False\n",
    "ref_ds = 'WBD'"
   ]
  },
  {
   "cell_type": "code",
   "execution_count": 8,
   "metadata": {},
   "outputs": [
    {
     "name": "stderr",
     "output_type": "stream",
     "text": [
      "<__array_function__ internals>:200: RuntimeWarning: invalid value encountered in cast\n"
     ]
    }
   ],
   "source": [
    "## Simple extrap from HR\n",
    "extreme_regions_lad = [\n",
    "    'Tuktoyaktuk Peninsula', 'sur00120130802_tsx_nplaea']\n",
    "\n",
    "# Truncation limits for ref LAD. tmax defines the right bound of the index region. tmin defines the leftmost bound to extrapolate to.\n",
    "tmin, tmax = (0.0001, 1)\n",
    "\n",
    "# Extrapolation limits. emax defines the left bound of the index region (and right bound of the extrapolation region).\n",
    "emax = 0.05\n",
    "binned_ref = BinnedLAD(lad_ref.truncate(tmin, tmax), tmin, emax, compute_ci_lad=compute_ci_lad,\n",
    "                        extreme_regions_lad=extreme_regions_lad)  # reference distrib (try 5, 0.5 as second args)\n",
    "# Beware chaining unless I return a new variable. # Try 0.1\n",
    "lad_trunc = lad.truncate(emax, np.inf)\n",
    "lad_trunc.extrapolate(binned_ref)\n",
    "# meas = lad_hl_lev.sumAreas(includeExtrap=False)\n",
    "# extrap = lad_hl_trunc.sumAreas()"
   ]
  },
  {
   "cell_type": "code",
   "execution_count": 16,
   "metadata": {},
   "outputs": [
    {
     "name": "stderr",
     "output_type": "stream",
     "text": [
      "<__array_function__ internals>:200: RuntimeWarning: invalid value encountered in cast\n"
     ]
    },
    {
     "data": {
      "text/plain": [
       "Text(0.5, 1.0, 'Extrapolated from Arctic HR')"
      ]
     },
     "execution_count": 16,
     "metadata": {},
     "output_type": "execute_result"
    },
    {
     "data": {
      "image/png": "[encoded data removed]",
      "text/plain": [
       "<Figure size 640x480 with 1 Axes>"
      ]
     },
     "metadata": {},
     "output_type": "display_data"
    }
   ],
   "source": [
    "## Put Downing number into my BinnedLAD data structure, just to verify plot\n",
    "btm = 0.001\n",
    "top = 100000\n",
    "nbins = 8\n",
    "bin_edges = np.concatenate((np.geomspace(btm, top, nbins+1), [380000])).round(6) # bins computed from nbins and edges\n",
    "area_bins = pd.IntervalIndex.from_breaks(bin_edges, closed='left')\n",
    "X = bin_edges[1:] # plot against right bin edge\n",
    "d06 = [692600, 602100, 523400, 455100, 392362, 329816, 257856, 607650, 378119]\n",
    "group_sums = pd.Series(d06, index=area_bins, name='Area_km2') # from Downing 2006 paper\n",
    "binnedAreas = confidence_interval_from_extreme_regions(group_sums, None, None, name='Area_km2') # # Why are lower/upper non NaN?? Ignore.\n",
    "lad_d06 = BinnedLAD(btm=btm, top=top, nbins=nbins, binned_areas=binnedAreas, compute_ci_lad=False) # give btm, top, nbins, compute_ci_lad and binnedAreas args\n",
    "# lad_d06_canon = BinnedLAD(btm=bin_edges[4], top=bin_edges[-2], nbins=4, binned_areas=confidence_interval_from_extreme_regions(group_sums[4:-1], None, None, name='Area_km2'), compute_ci_lad=False) # give btm, top, nbins, compute_ci_lad and binnedAreas args\n",
    "# lad_d06_extrap = BinnedLAD(btm=bin_edges[0], top=bin_edges[4], nbins=4, binned_areas=confidence_interval_from_extreme_regions(group_sums[:4], None, None, name='Area_km2'), compute_ci_lad=False) # give btm, top, nbins, compute_ci_lad and binnedAreas args\n",
    "\n",
    "fig, ax = plt.subplots()\n",
    "lad_trunc.plot_extrap_lad(ax=ax, label='Lake area', error_bars=error_bars, normalized=True, color='grey', plotLegend=False)\n",
    "\n",
    "lad_d06.plot(ax=ax, show_rightmost=False, as_lineplot=True, as_cumulative=True) # plot as binnedLAD, skipping top bin with Caspian Sea\n",
    "plt.xscale('log')\n",
    "plt.yscale('linear')\n",
    "plt.title(f'Extrapolated from {ref_ds}')\n"
   ]
  },
  {
   "cell_type": "code",
   "execution_count": 29,
   "metadata": {},
   "outputs": [
    {
     "data": {
      "text/plain": [
       "size_bin              stat \n",
       "[0.0001, 0.000106)    mean       68.661457\n",
       "                      lower       5.212669\n",
       "                      upper     107.251796\n",
       "[0.000106, 0.000113)  mean      112.194229\n",
       "                      lower       5.605317\n",
       "                                  ...     \n",
       "[0.044156, 0.046987)  lower    2909.119081\n",
       "                      upper    7823.163803\n",
       "[0.046987, 0.05)      mean     4786.852120\n",
       "                      lower    2064.378104\n",
       "                      upper    7071.675574\n",
       "Name: Area_km2, Length: 300, dtype: float64"
      ]
     },
     "execution_count": 29,
     "metadata": {},
     "output_type": "execute_result"
    }
   ],
   "source": [
    "lad_trunc.extrapLAD.binnedAreas"
   ]
  },
  {
   "cell_type": "code",
   "execution_count": 25,
   "metadata": {},
   "outputs": [
    {
     "data": {
      "image/png": "[encoded data removed]",
      "text/plain": [
       "<Figure size 640x480 with 1 Axes>"
      ]
     },
     "metadata": {},
     "output_type": "display_data"
    }
   ],
   "source": [
    "## Second way\n",
    "fig, ax = plt.subplots()\n",
    "\n",
    "# ## Put Downing number into my BinnedLAD data structure, just to verify plot\n",
    "# lad_d06 = BinnedLAD(btm=btm, top=top, nbins=nbins, binned_areas=binnedAreas, compute_ci_lad=False) # give btm, top, nbins, compute_ci_lad and binnedAreas args\n",
    "# # lad_d06_canon = BinnedLAD(btm=bin_edges[4], top=bin_edges[-2], nbins=4, binned_areas=confidence_interval_from_extreme_regions(group_sums[4:-1], None, None, name='Area_km2'), compute_ci_lad=False) # give btm, top, nbins, compute_ci_lad and binnedAreas args\n",
    "# # lad_d06_extrap = BinnedLAD(btm=bin_edges[0], top=bin_edges[4], nbins=4, binned_areas=confidence_interval_from_extreme_regions(group_sums[:4], None, None, name='Area_km2'), compute_ci_lad=False) # give btm, top, nbins, compute_ci_lad and binnedAreas args\n",
    "# lad_d06.plot(ax=ax, show_rightmost=False, as_lineplot=True, as_cumulative=True) # plot as binnedLAD, skipping top bin with Caspian Sea\n",
    "\n",
    "# ax.plot(X, np.cumsum(d06)/np.sum(d06)) # units Mkm2 /1e6\n",
    "d06_canonical = d06[4:]\n",
    "d06_extrap = d06[:4]\n",
    "ax.plot(X[:5], np.cumsum(d06[:5]) / 1e6, color='blue',\n",
    "        marker='.', linestyle='dashed')\n",
    "# ax.plot(X[:], np.cumsum(d06)/1e6, color='blue', marker='x',linestyle='dashed') # This time, exclude top bin to better compare with BAWLD domain # /np.sum(d06[:-1])\n",
    "ax.plot(X[4:], (np.cumsum(d06_canonical)+np.sum(d06_extrap))/1e6, color='blue', marker='.') # Plot canonical # /(np.sum(d06_canonical[:-1]) + np.sum(d06_extrap))\n",
    "# ax.plot(X[:4], np.cumsum(d06_extrap)/np.sum(d06[:-1]), color='orange', linestyle='dashed') # Plot extrap\n",
    "\n",
    "## Plot WBD\n",
    "lad_trunc.plot_extrap_lad(ax=ax, label='Lake area', error_bars=True, normalized=False, color='grey', plotLegend=False)\n",
    "\n",
    "\n",
    "ax.set_yscale('linear')\n",
    "ax.set_xscale('log')\n",
    "# ax.set_xticks(X)"
   ]
  },
  {
   "cell_type": "code",
   "execution_count": 49,
   "metadata": {},
   "outputs": [
    {
     "name": "stderr",
     "output_type": "stream",
     "text": [
      "<__array_function__ internals>:200: RuntimeWarning: invalid value encountered in cast\n",
      "/Users/ekyzivat/Library/CloudStorage/Dropbox/Python/Ch4/notebooks/../LAD.py:1754: UserWarning: The first bin has count zero. Did you set the lowest bin edge < the lower truncation limit of the dataset?\n",
      "  warn('The first bin has count zero. Did you set the lowest bin edge < the lower truncation limit of the dataset?')\n"
     ]
    }
   ],
   "source": [
    "## Bin\n",
    "log_bins_upper = [0.001, 0.01, 0.1, 1, 10, 100, 1000, 10000, 100000]\n",
    "# now, bin upper values for Table estimate, use regions as placeholder to get dummy CI\n",
    "lad_binned = BinnedLAD(lad, bins=log_bins_upper, compute_ci_lad=False,\n",
    "                                    compute_ci_lev=False, compute_ci_lev_existing=True, normalize=False)"
   ]
  },
  {
   "cell_type": "code",
   "execution_count": 56,
   "metadata": {},
   "outputs": [
    {
     "data": {
      "text/plain": [
       "141364.8005704814"
      ]
     },
     "execution_count": 56,
     "metadata": {},
     "output_type": "execute_result"
    }
   ],
   "source": []
  },
  {
   "cell_type": "code",
   "execution_count": 59,
   "metadata": {},
   "outputs": [
    {
     "data": {
      "text/html": [
       "<div>\n",
       "<style scoped>\n",
       "    .dataframe tbody tr th:only-of-type {\n",
       "        vertical-align: middle;\n",
       "    }\n",
       "\n",
       "    .dataframe tbody tr th {\n",
       "        vertical-align: top;\n",
       "    }\n",
       "\n",
       "    .dataframe thead th {\n",
       "        text-align: right;\n",
       "    }\n",
       "</style>\n",
       "<table border=\"1\" class=\"dataframe\">\n",
       "  <thead>\n",
       "    <tr style=\"text-align: right;\">\n",
       "      <th></th>\n",
       "      <th>Area_Mkm2</th>\n",
       "      <th>LEV_Mkm2</th>\n",
       "      <th>Tg_yr</th>\n",
       "      <th>DC_Mkm2</th>\n",
       "      <th>Count</th>\n",
       "      <th>Downing  Area</th>\n",
       "      <th>Downing Area norm</th>\n",
       "      <th>PLD_area</th>\n",
       "    </tr>\n",
       "    <tr>\n",
       "      <th>size_bin</th>\n",
       "      <th></th>\n",
       "      <th></th>\n",
       "      <th></th>\n",
       "      <th></th>\n",
       "      <th></th>\n",
       "      <th></th>\n",
       "      <th></th>\n",
       "      <th></th>\n",
       "    </tr>\n",
       "  </thead>\n",
       "  <tbody>\n",
       "    <tr>\n",
       "      <th>&lt; 0.01</th>\n",
       "      <td>0.030726</td>\n",
       "      <td>0.079164</td>\n",
       "      <td>0.115097</td>\n",
       "      <td>0.054039</td>\n",
       "      <td>NaN</td>\n",
       "      <td>692600</td>\n",
       "      <td>0.163387</td>\n",
       "      <td>141364.800570</td>\n",
       "    </tr>\n",
       "    <tr>\n",
       "      <th>[0.01, 0.1)</th>\n",
       "      <td>0.085423</td>\n",
       "      <td>0.225184</td>\n",
       "      <td>0.192057</td>\n",
       "      <td>0.153714</td>\n",
       "      <td>NaN</td>\n",
       "      <td>602100</td>\n",
       "      <td>0.142038</td>\n",
       "      <td>150575.290708</td>\n",
       "    </tr>\n",
       "    <tr>\n",
       "      <th>[0.1, 1.0)</th>\n",
       "      <td>0.193123</td>\n",
       "      <td>0.308796</td>\n",
       "      <td>0.275720</td>\n",
       "      <td>0.270802</td>\n",
       "      <td>0.509697</td>\n",
       "      <td>523400</td>\n",
       "      <td>0.123472</td>\n",
       "      <td>344374.712527</td>\n",
       "    </tr>\n",
       "    <tr>\n",
       "      <th>[1.0, 10.0)</th>\n",
       "      <td>0.216017</td>\n",
       "      <td>0.193088</td>\n",
       "      <td>0.199174</td>\n",
       "      <td>0.285146</td>\n",
       "      <td>0.454582</td>\n",
       "      <td>455100</td>\n",
       "      <td>0.107360</td>\n",
       "      <td>386206.939445</td>\n",
       "    </tr>\n",
       "    <tr>\n",
       "      <th>[10.0, 100.0)</th>\n",
       "      <td>0.153222</td>\n",
       "      <td>0.093624</td>\n",
       "      <td>0.100421</td>\n",
       "      <td>0.133285</td>\n",
       "      <td>0.032917</td>\n",
       "      <td>392362</td>\n",
       "      <td>0.092560</td>\n",
       "      <td>340607.411308</td>\n",
       "    </tr>\n",
       "    <tr>\n",
       "      <th>[100.0, 1000.0)</th>\n",
       "      <td>0.124829</td>\n",
       "      <td>0.058149</td>\n",
       "      <td>0.059065</td>\n",
       "      <td>0.074730</td>\n",
       "      <td>0.002571</td>\n",
       "      <td>329816</td>\n",
       "      <td>0.077805</td>\n",
       "      <td>369664.607003</td>\n",
       "    </tr>\n",
       "    <tr>\n",
       "      <th>[1000.0, 10000.0)</th>\n",
       "      <td>0.101504</td>\n",
       "      <td>0.030270</td>\n",
       "      <td>0.034596</td>\n",
       "      <td>0.025054</td>\n",
       "      <td>0.000215</td>\n",
       "      <td>257856</td>\n",
       "      <td>0.060829</td>\n",
       "      <td>409590.757900</td>\n",
       "    </tr>\n",
       "    <tr>\n",
       "      <th>[10000.0, 100000.0)</th>\n",
       "      <td>0.095155</td>\n",
       "      <td>0.011725</td>\n",
       "      <td>0.023870</td>\n",
       "      <td>0.003230</td>\n",
       "      <td>0.000019</td>\n",
       "      <td>607650</td>\n",
       "      <td>0.143347</td>\n",
       "      <td>525560.242700</td>\n",
       "    </tr>\n",
       "    <tr>\n",
       "      <th>[100000.0, inf)</th>\n",
       "      <td>0.000000</td>\n",
       "      <td>NaN</td>\n",
       "      <td>0.000000</td>\n",
       "      <td>NaN</td>\n",
       "      <td>0.000000</td>\n",
       "      <td>378119</td>\n",
       "      <td>0.089200</td>\n",
       "      <td>377001.910000</td>\n",
       "    </tr>\n",
       "  </tbody>\n",
       "</table>\n",
       "</div>"
      ],
      "text/plain": [
       "                     Area_Mkm2  LEV_Mkm2     Tg_yr   DC_Mkm2     Count  \\\n",
       "size_bin                                                                 \n",
       "< 0.01                0.030726  0.079164  0.115097  0.054039       NaN   \n",
       "[0.01, 0.1)           0.085423  0.225184  0.192057  0.153714       NaN   \n",
       "[0.1, 1.0)            0.193123  0.308796  0.275720  0.270802  0.509697   \n",
       "[1.0, 10.0)           0.216017  0.193088  0.199174  0.285146  0.454582   \n",
       "[10.0, 100.0)         0.153222  0.093624  0.100421  0.133285  0.032917   \n",
       "[100.0, 1000.0)       0.124829  0.058149  0.059065  0.074730  0.002571   \n",
       "[1000.0, 10000.0)     0.101504  0.030270  0.034596  0.025054  0.000215   \n",
       "[10000.0, 100000.0)   0.095155  0.011725  0.023870  0.003230  0.000019   \n",
       "[100000.0, inf)       0.000000       NaN  0.000000       NaN  0.000000   \n",
       "\n",
       "                     Downing  Area  Downing Area norm       PLD_area  \n",
       "size_bin                                                              \n",
       "< 0.01                      692600           0.163387  141364.800570  \n",
       "[0.01, 0.1)                 602100           0.142038  150575.290708  \n",
       "[0.1, 1.0)                  523400           0.123472  344374.712527  \n",
       "[1.0, 10.0)                 455100           0.107360  386206.939445  \n",
       "[10.0, 100.0)               392362           0.092560  340607.411308  \n",
       "[100.0, 1000.0)             329816           0.077805  369664.607003  \n",
       "[1000.0, 10000.0)           257856           0.060829  409590.757900  \n",
       "[10000.0, 100000.0)         607650           0.143347  525560.242700  \n",
       "[100000.0, inf)             378119           0.089200  377001.910000  "
      ]
     },
     "execution_count": 59,
     "metadata": {},
     "output_type": "execute_result"
    }
   ],
   "source": [
    "df['PLD_area'] = lad_binned.binnedAreas.loc[:, 'mean'].values\n",
    "df.loc['< 0.01', 'PLD_area'] = lad_trunc.extrapLAD.sumAreas()\n",
    "df"
   ]
  },
  {
   "cell_type": "code",
   "execution_count": 63,
   "metadata": {},
   "outputs": [
    {
     "data": {
      "text/plain": [
       "Index(['Area_Mkm2', 'LEV_Mkm2', 'Tg_yr', 'DC_Mkm2', 'Count', 'Downing  Area',\n",
       "       'Downing Area norm', 'PLD_area'],\n",
       "      dtype='object')"
      ]
     },
     "execution_count": 63,
     "metadata": {},
     "output_type": "execute_result"
    }
   ],
   "source": [
    "df.columns"
   ]
  },
  {
   "cell_type": "code",
   "execution_count": 65,
   "metadata": {},
   "outputs": [
    {
     "data": {
      "image/png": "[encoded data removed]",
      "text/plain": [
       "<Figure size 640x480 with 1 Axes>"
      ]
     },
     "metadata": {},
     "output_type": "display_data"
    }
   ],
   "source": [
    "## Update the bar plot\n",
    "\n",
    "# Define custom colormap with black and orange\n",
    "colors = ['grey', 'blue']\n",
    "custom_cmap = ListedColormap(colors)\n",
    "\n",
    "# Plot the 'Area_Mkm2' and 'Downing Area norm'\n",
    "fig, ax = plt.subplots()\n",
    "df[['PLD_area', 'Downing  Area']].plot(\n",
    "    kind='bar', colormap=custom_cmap, ax=ax)\n",
    "\n",
    "# Set labels and title\n",
    "ax.set_xlabel('Size Bin')\n",
    "ax.set_ylabel('Area (km2)')\n",
    "plt.xticks(rotation=45)\n",
    "plt.title('Area Comparison')\n",
    "\n",
    "# plt.legend(['My Arctic estimate', 'Conventional global estimate'])\n",
    "plt.legend(['Extrapolation estimate', 'Downing et al., 2006'])\n",
    "\n",
    "# Show the plot\n",
    "plt.show()"
   ]
  },
  {
   "cell_type": "code",
   "execution_count": 33,
   "metadata": {},
   "outputs": [
    {
     "data": {
      "text/plain": [
       "2.903581871590379"
      ]
     },
     "execution_count": 33,
     "metadata": {},
     "output_type": "execute_result"
    }
   ],
   "source": [
    "# Orig area (note I added Caspian Sea to PLD)\n",
    "lad.sumAreas(includeExtrap=False) / 1e6\n",
    "\n",
    "# Orig area (compare to HL size domain)\n",
    "# lad.truncate(0.1, np.inf).sumAreas(includeExtrap=False) / 1e6\n",
    "# lad.area_fraction(0.1)\n",
    "\n",
    "# Extrap area\n",
    "# lad_trunc.sumAreas() / 1e6\n",
    "\n"
   ]
  },
  {
   "cell_type": "markdown",
   "metadata": {},
   "source": [
    "# Compare to HL global dataset"
   ]
  },
  {
   "cell_type": "code",
   "execution_count": 34,
   "metadata": {},
   "outputs": [],
   "source": [
    "## Load HL\n",
    "lad_hl = LAD.from_shapefile('/Volumes/thebe/HydroLAKES_polys_v10_shp/HydroLAKES_polys_v10_shp/HydroLAKES_polys_v10.shp', name='HL', area_var='Lake_area', idx_var='Hylak_id', _areaConversionFactor=1)"
   ]
  },
  {
   "cell_type": "code",
   "execution_count": 35,
   "metadata": {},
   "outputs": [
    {
     "data": {
      "text/plain": [
       "2.92672277"
      ]
     },
     "execution_count": 35,
     "metadata": {},
     "output_type": "execute_result"
    }
   ],
   "source": [
    "## Compare to HL\n",
    "lad_hl.sumAreas(includeExtrap=False) / 1e6"
   ]
  },
  {
   "cell_type": "markdown",
   "metadata": {},
   "source": [
    "## Download global ERA5 Temps"
   ]
  },
  {
   "cell_type": "code",
   "execution_count": 14,
   "metadata": {},
   "outputs": [],
   "source": [
    "import cdsapi\n",
    "import numpy as np\n",
    "import os\n",
    "import shutil\n",
    "from zipfile import ZipFile\n",
    "from typing import Iterable\n",
    "\n",
    "def download_era5_data(years: Iterable[int], months: Iterable[str], grid: Iterable[float] = [0.25, 0.1],\n",
    "                        area: Iterable[float] = [85, -180, -80, 180], variables: Iterable[str] = ['lake_bottom_temperature', 'skin_temperature', 'soil_temperature_level_4', 'soil_temperature_level_1', '2m_temperature']):\n",
    "    cds = cdsapi.Client()\n",
    "    cds_dir = '/Volumes/thebe/Ch4/ERA5/cds'\n",
    "    cds_pth = os.path.join(cds_dir, \"download.netcdf.zip\")\n",
    "\n",
    "    dataset = 'reanalysis-era5-land-monthly-means'\n",
    "\n",
    "    # Convert years to string\n",
    "    years = list(map(str, years))\n",
    "\n",
    "    params = {\n",
    "        \"format\": \"netcdf\",\n",
    "        \"product_type\": \"monthly_averaged_reanalysis\",\n",
    "        \"variable\": variables,\n",
    "        'year': years,\n",
    "        'month': months,\n",
    "        \"time\": \"00:00\",\n",
    "        'format': 'netcdf.zip',\n",
    "        \"grid\": grid,\n",
    "        \"area\": area,\n",
    "    }\n",
    "\n",
    "    # cds.retrieve(dataset, params, cds_pth)\n",
    "\n",
    "    # load into memory\n",
    "    # with urlopen(fl.location) as f:\n",
    "    #     ds = xr.open_dataset(f.read())\n",
    "\n",
    "    # Unzip the file\n",
    "    with ZipFile(cds_pth, 'r') as zip_ref:\n",
    "        zip_ref.extractall(cds_dir)\n",
    "\n",
    "    # Rename the file\n",
    "    name = 'era5-land-monthly' + '_' + str(years[0]) + '_' + months[0] + '_' + str(grid[0]) + '_' + str(grid[1]) + '_' + str(area[0])+ '.nc'\n",
    "    shutil.move(os.path.join(cds_dir, 'data.nc'), os.path.join(cds_dir, 'temperatures.nc'))\n",
    "    print(name)"
   ]
  },
  {
   "cell_type": "code",
   "execution_count": 15,
   "metadata": {},
   "outputs": [
    {
     "name": "stdout",
     "output_type": "stream",
     "text": [
      "era5-land-monthly_2022_01_0.25_0.1_90.nc\n"
     ]
    }
   ],
   "source": [
    "download_era5_data([2022], [\"01\", \"02\"], area=[\n",
    "                   90, -180, 70, 180], variables=['soil_temperature_level_1'])"
   ]
  },
  {
   "cell_type": "markdown",
   "metadata": {},
   "source": [
    "TODO: finish testing and run to download global! (as fxn)"
   ]
  }
 ],
 "metadata": {
  "kernelspec": {
   "display_name": "geo",
   "language": "python",
   "name": "python3"
  },
  "language_info": {
   "codemirror_mode": {
    "name": "ipython",
    "version": 3
   },
   "file_extension": ".py",
   "mimetype": "text/x-python",
   "name": "python",
   "nbconvert_exporter": "python",
   "pygments_lexer": "ipython3",
   "version": "3.11.5"
  },
  "orig_nbformat": 4
 },
 "nbformat": 4,
 "nbformat_minor": 2
}
