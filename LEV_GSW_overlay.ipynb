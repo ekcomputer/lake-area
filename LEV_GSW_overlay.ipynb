{
 "cells": [
  {
   "attachments": {},
   "cell_type": "markdown",
   "metadata": {},
   "source": [
    "# LEV / GSW overlay\n",
    "\n",
    "Various methods for overlaying emergent lake vegetation rasters over Pekel/GSW inundation rasters. Occurrence seems to perform better than Seasonality."
   ]
  },
  {
   "cell_type": "code",
   "execution_count": 254,
   "metadata": {},
   "outputs": [],
   "source": [
    "## Imports\n",
    "import geopandas as gpd\n",
    "import numpy as np\n",
    "import pandas as pd\n",
    "from matplotlib import pyplot as plt\n",
    "from matplotlib.colors import LogNorm, PowerNorm\n",
    "from scipy.stats import binned_statistic\n",
    "import seaborn as sns\n",
    "from tqdm import tqdm\n",
    "import numpy as np\n",
    "import pandas as pd"
   ]
  },
  {
   "cell_type": "code",
   "execution_count": 255,
   "metadata": {},
   "outputs": [],
   "source": [
    "## Env vars\n",
    "reclass_vals_detailed = {\n",
    "    1:\t'dry land',\n",
    "    2:\t'water',\n",
    "    3:\t'wet graminoid',\n",
    "    4:\t'wet shrubs',\n",
    "    5:\t'wet forest',\n",
    "    25: 'river or bridge',\n",
    "    30: 'urban',\n",
    "    35: 'non-roi',\n",
    "    42:\t'water no lake',\n",
    "    43:\t'wet graminoid no lake',\n",
    "    44: 'wet shrubs no lake',\n",
    "    45: 'wet forest no lake',\n",
    "    52: 'water not valid'}\n",
    "\n",
    "reclass_vals_simple = {\n",
    "    1:\t'dry land',\n",
    "    2:\t'water',\n",
    "    3:\t'LEV',\n",
    "    4:\t'LEV',\n",
    "    5:\t'LEV',\n",
    "    25: 'invalid', \n",
    "    30: 'invalid', \n",
    "    35: 'non-roi', \n",
    "    42:\t'invalid', \n",
    "    43:\t'invalid', \n",
    "    44: 'invalid', \n",
    "    45: 'invalid', \n",
    "    52: 'invalid'}"
   ]
  },
  {
   "attachments": {},
   "cell_type": "markdown",
   "metadata": {},
   "source": [
    "## Method A: Load from GIS operations\n",
    "In QGIS:\n",
    "1. Polygonize burned UAVSAR raster\n",
    "2. Zonal histogram based on DN field\n",
    "\n",
    "In Python:\n",
    "1. Aggregate by class\n",
    "2. Compute confusion matrix and plot histograms"
   ]
  },
  {
   "cell_type": "code",
   "execution_count": 256,
   "metadata": {},
   "outputs": [
    {
     "data": {
      "text/html": [
       "<div>\n",
       "<style scoped>\n",
       "    .dataframe tbody tr th:only-of-type {\n",
       "        vertical-align: middle;\n",
       "    }\n",
       "\n",
       "    .dataframe tbody tr th {\n",
       "        vertical-align: top;\n",
       "    }\n",
       "\n",
       "    .dataframe thead th {\n",
       "        text-align: right;\n",
       "    }\n",
       "</style>\n",
       "<table border=\"1\" class=\"dataframe\">\n",
       "  <thead>\n",
       "    <tr style=\"text-align: right;\">\n",
       "      <th></th>\n",
       "      <th>DN</th>\n",
       "      <th>HISTO_0</th>\n",
       "      <th>HISTO_1</th>\n",
       "      <th>HISTO_2</th>\n",
       "      <th>HISTO_3</th>\n",
       "      <th>HISTO_4</th>\n",
       "      <th>HISTO_5</th>\n",
       "      <th>HISTO_6</th>\n",
       "      <th>HISTO_7</th>\n",
       "      <th>HISTO_8</th>\n",
       "      <th>...</th>\n",
       "      <th>HISTO_91</th>\n",
       "      <th>HISTO_92</th>\n",
       "      <th>HISTO_93</th>\n",
       "      <th>HISTO_94</th>\n",
       "      <th>HISTO_95</th>\n",
       "      <th>HISTO_96</th>\n",
       "      <th>HISTO_97</th>\n",
       "      <th>HISTO_98</th>\n",
       "      <th>HISTO_99</th>\n",
       "      <th>geometry</th>\n",
       "    </tr>\n",
       "  </thead>\n",
       "  <tbody>\n",
       "    <tr>\n",
       "      <th>0</th>\n",
       "      <td>44</td>\n",
       "      <td>3.0</td>\n",
       "      <td>0.0</td>\n",
       "      <td>0.0</td>\n",
       "      <td>0.0</td>\n",
       "      <td>0.0</td>\n",
       "      <td>0.0</td>\n",
       "      <td>0.0</td>\n",
       "      <td>0.0</td>\n",
       "      <td>0.0</td>\n",
       "      <td>...</td>\n",
       "      <td>0.0</td>\n",
       "      <td>0.0</td>\n",
       "      <td>0.0</td>\n",
       "      <td>0.0</td>\n",
       "      <td>0.0</td>\n",
       "      <td>0.0</td>\n",
       "      <td>0.0</td>\n",
       "      <td>0.0</td>\n",
       "      <td>0.0</td>\n",
       "      <td>POLYGON ((-905490.936 2666178.821, -905484.858...</td>\n",
       "    </tr>\n",
       "    <tr>\n",
       "      <th>1</th>\n",
       "      <td>4</td>\n",
       "      <td>3.0</td>\n",
       "      <td>0.0</td>\n",
       "      <td>0.0</td>\n",
       "      <td>0.0</td>\n",
       "      <td>0.0</td>\n",
       "      <td>0.0</td>\n",
       "      <td>0.0</td>\n",
       "      <td>0.0</td>\n",
       "      <td>0.0</td>\n",
       "      <td>...</td>\n",
       "      <td>0.0</td>\n",
       "      <td>0.0</td>\n",
       "      <td>0.0</td>\n",
       "      <td>0.0</td>\n",
       "      <td>0.0</td>\n",
       "      <td>0.0</td>\n",
       "      <td>0.0</td>\n",
       "      <td>0.0</td>\n",
       "      <td>0.0</td>\n",
       "      <td>POLYGON ((-905503.092 2666178.821, -905497.014...</td>\n",
       "    </tr>\n",
       "    <tr>\n",
       "      <th>2</th>\n",
       "      <td>1</td>\n",
       "      <td>1.0</td>\n",
       "      <td>0.0</td>\n",
       "      <td>0.0</td>\n",
       "      <td>0.0</td>\n",
       "      <td>0.0</td>\n",
       "      <td>0.0</td>\n",
       "      <td>0.0</td>\n",
       "      <td>0.0</td>\n",
       "      <td>0.0</td>\n",
       "      <td>...</td>\n",
       "      <td>0.0</td>\n",
       "      <td>0.0</td>\n",
       "      <td>0.0</td>\n",
       "      <td>0.0</td>\n",
       "      <td>0.0</td>\n",
       "      <td>0.0</td>\n",
       "      <td>0.0</td>\n",
       "      <td>0.0</td>\n",
       "      <td>0.0</td>\n",
       "      <td>POLYGON ((-905563.872 2666154.509, -905557.794...</td>\n",
       "    </tr>\n",
       "    <tr>\n",
       "      <th>3</th>\n",
       "      <td>1</td>\n",
       "      <td>3.0</td>\n",
       "      <td>0.0</td>\n",
       "      <td>0.0</td>\n",
       "      <td>0.0</td>\n",
       "      <td>0.0</td>\n",
       "      <td>0.0</td>\n",
       "      <td>0.0</td>\n",
       "      <td>0.0</td>\n",
       "      <td>0.0</td>\n",
       "      <td>...</td>\n",
       "      <td>0.0</td>\n",
       "      <td>0.0</td>\n",
       "      <td>0.0</td>\n",
       "      <td>0.0</td>\n",
       "      <td>0.0</td>\n",
       "      <td>0.0</td>\n",
       "      <td>0.0</td>\n",
       "      <td>0.0</td>\n",
       "      <td>0.0</td>\n",
       "      <td>POLYGON ((-905539.560 2666178.821, -905503.092...</td>\n",
       "    </tr>\n",
       "    <tr>\n",
       "      <th>4</th>\n",
       "      <td>3</td>\n",
       "      <td>3.0</td>\n",
       "      <td>0.0</td>\n",
       "      <td>0.0</td>\n",
       "      <td>0.0</td>\n",
       "      <td>0.0</td>\n",
       "      <td>0.0</td>\n",
       "      <td>0.0</td>\n",
       "      <td>0.0</td>\n",
       "      <td>0.0</td>\n",
       "      <td>...</td>\n",
       "      <td>0.0</td>\n",
       "      <td>0.0</td>\n",
       "      <td>0.0</td>\n",
       "      <td>0.0</td>\n",
       "      <td>0.0</td>\n",
       "      <td>0.0</td>\n",
       "      <td>0.0</td>\n",
       "      <td>0.0</td>\n",
       "      <td>0.0</td>\n",
       "      <td>POLYGON ((-905569.950 2666148.431, -905563.872...</td>\n",
       "    </tr>\n",
       "  </tbody>\n",
       "</table>\n",
       "<p>5 rows × 102 columns</p>\n",
       "</div>"
      ],
      "text/plain": [
       "   DN  HISTO_0  HISTO_1  HISTO_2  HISTO_3  HISTO_4  HISTO_5  HISTO_6  HISTO_7  \\\n",
       "0  44      3.0      0.0      0.0      0.0      0.0      0.0      0.0      0.0   \n",
       "1   4      3.0      0.0      0.0      0.0      0.0      0.0      0.0      0.0   \n",
       "2   1      1.0      0.0      0.0      0.0      0.0      0.0      0.0      0.0   \n",
       "3   1      3.0      0.0      0.0      0.0      0.0      0.0      0.0      0.0   \n",
       "4   3      3.0      0.0      0.0      0.0      0.0      0.0      0.0      0.0   \n",
       "\n",
       "   HISTO_8  ...  HISTO_91  HISTO_92  HISTO_93  HISTO_94  HISTO_95  HISTO_96  \\\n",
       "0      0.0  ...       0.0       0.0       0.0       0.0       0.0       0.0   \n",
       "1      0.0  ...       0.0       0.0       0.0       0.0       0.0       0.0   \n",
       "2      0.0  ...       0.0       0.0       0.0       0.0       0.0       0.0   \n",
       "3      0.0  ...       0.0       0.0       0.0       0.0       0.0       0.0   \n",
       "4      0.0  ...       0.0       0.0       0.0       0.0       0.0       0.0   \n",
       "\n",
       "   HISTO_97  HISTO_98  HISTO_99  \\\n",
       "0       0.0       0.0       0.0   \n",
       "1       0.0       0.0       0.0   \n",
       "2       0.0       0.0       0.0   \n",
       "3       0.0       0.0       0.0   \n",
       "4       0.0       0.0       0.0   \n",
       "\n",
       "                                            geometry  \n",
       "0  POLYGON ((-905490.936 2666178.821, -905484.858...  \n",
       "1  POLYGON ((-905503.092 2666178.821, -905497.014...  \n",
       "2  POLYGON ((-905563.872 2666154.509, -905557.794...  \n",
       "3  POLYGON ((-905539.560 2666178.821, -905503.092...  \n",
       "4  POLYGON ((-905569.950 2666148.431, -905563.872...  \n",
       "\n",
       "[5 rows x 102 columns]"
      ]
     },
     "execution_count": 256,
     "metadata": {},
     "output_type": "execute_result"
    }
   ],
   "source": [
    "## I/O\n",
    "# region = 'YF'\n",
    "# df_pth = '/mnt/g/Ch4/misc/UAVSAR_polygonized/sub_roi/zonal_hist/YFLATS_190914_mosaic_rcls_brn_zHist_Oc.shp' # this is zonal histogram of YF UAVSAR against GSW Occurrence\n",
    "region = 'CSB'\n",
    "df_pth = '/mnt/g/Ch4/misc/UAVSAR_polygonized/sub_roi/zonal_hist/bakerc_16008_19059_012_190904_L090_CX_01_Freeman-inc_rcls_brn_zHist_Oc.shp'\n",
    "# region = 'PAD'\n",
    "# df_pth = '/mnt/g/Ch4/misc/UAVSAR_polygonized/sub_roi/zonal_hist/padelE_36000_19059_003_190904_L090_CX_01_Freeman-inc_rcls_brn_zHist_Oc.shp'\n",
    "\n",
    "## Load\n",
    "df = gpd.read_file(df_pth) \n",
    "df.head()"
   ]
  },
  {
   "cell_type": "code",
   "execution_count": 257,
   "metadata": {},
   "outputs": [],
   "source": [
    "## Add actual class name\n",
    "df['Class'] = df['DN'].apply(lambda x: reclass_vals_detailed[x])\n",
    "df['Broad_class'] = df['DN'].apply(lambda x: reclass_vals_simple[x])"
   ]
  },
  {
   "cell_type": "code",
   "execution_count": 258,
   "metadata": {},
   "outputs": [
    {
     "data": {
      "text/html": [
       "<div>\n",
       "<style scoped>\n",
       "    .dataframe tbody tr th:only-of-type {\n",
       "        vertical-align: middle;\n",
       "    }\n",
       "\n",
       "    .dataframe tbody tr th {\n",
       "        vertical-align: top;\n",
       "    }\n",
       "\n",
       "    .dataframe thead th {\n",
       "        text-align: right;\n",
       "    }\n",
       "</style>\n",
       "<table border=\"1\" class=\"dataframe\">\n",
       "  <thead>\n",
       "    <tr style=\"text-align: right;\">\n",
       "      <th></th>\n",
       "      <th>HISTO_0</th>\n",
       "      <th>HISTO_1</th>\n",
       "      <th>HISTO_2</th>\n",
       "      <th>HISTO_3</th>\n",
       "      <th>HISTO_4</th>\n",
       "      <th>HISTO_5</th>\n",
       "      <th>HISTO_6</th>\n",
       "      <th>HISTO_7</th>\n",
       "      <th>HISTO_8</th>\n",
       "      <th>HISTO_9</th>\n",
       "      <th>...</th>\n",
       "      <th>HISTO_90</th>\n",
       "      <th>HISTO_91</th>\n",
       "      <th>HISTO_92</th>\n",
       "      <th>HISTO_93</th>\n",
       "      <th>HISTO_94</th>\n",
       "      <th>HISTO_95</th>\n",
       "      <th>HISTO_96</th>\n",
       "      <th>HISTO_97</th>\n",
       "      <th>HISTO_98</th>\n",
       "      <th>HISTO_99</th>\n",
       "    </tr>\n",
       "    <tr>\n",
       "      <th>Broad_class</th>\n",
       "      <th></th>\n",
       "      <th></th>\n",
       "      <th></th>\n",
       "      <th></th>\n",
       "      <th></th>\n",
       "      <th></th>\n",
       "      <th></th>\n",
       "      <th></th>\n",
       "      <th></th>\n",
       "      <th></th>\n",
       "      <th></th>\n",
       "      <th></th>\n",
       "      <th></th>\n",
       "      <th></th>\n",
       "      <th></th>\n",
       "      <th></th>\n",
       "      <th></th>\n",
       "      <th></th>\n",
       "      <th></th>\n",
       "      <th></th>\n",
       "      <th></th>\n",
       "    </tr>\n",
       "  </thead>\n",
       "  <tbody>\n",
       "    <tr>\n",
       "      <th>LEV</th>\n",
       "      <td>126925.0</td>\n",
       "      <td>1082.0</td>\n",
       "      <td>930.0</td>\n",
       "      <td>856.0</td>\n",
       "      <td>728.0</td>\n",
       "      <td>680.0</td>\n",
       "      <td>704.0</td>\n",
       "      <td>677.0</td>\n",
       "      <td>734.0</td>\n",
       "      <td>688.0</td>\n",
       "      <td>...</td>\n",
       "      <td>1255.0</td>\n",
       "      <td>1561.0</td>\n",
       "      <td>1873.0</td>\n",
       "      <td>1727.0</td>\n",
       "      <td>1717.0</td>\n",
       "      <td>1318.0</td>\n",
       "      <td>822.0</td>\n",
       "      <td>400.0</td>\n",
       "      <td>80.0</td>\n",
       "      <td>2.0</td>\n",
       "    </tr>\n",
       "    <tr>\n",
       "      <th>dry land</th>\n",
       "      <td>2251960.0</td>\n",
       "      <td>1428.0</td>\n",
       "      <td>1100.0</td>\n",
       "      <td>918.0</td>\n",
       "      <td>763.0</td>\n",
       "      <td>792.0</td>\n",
       "      <td>1061.0</td>\n",
       "      <td>1126.0</td>\n",
       "      <td>1290.0</td>\n",
       "      <td>1247.0</td>\n",
       "      <td>...</td>\n",
       "      <td>2906.0</td>\n",
       "      <td>3744.0</td>\n",
       "      <td>3841.0</td>\n",
       "      <td>3172.0</td>\n",
       "      <td>2818.0</td>\n",
       "      <td>2210.0</td>\n",
       "      <td>1326.0</td>\n",
       "      <td>860.0</td>\n",
       "      <td>184.0</td>\n",
       "      <td>5.0</td>\n",
       "    </tr>\n",
       "    <tr>\n",
       "      <th>invalid</th>\n",
       "      <td>127401.0</td>\n",
       "      <td>112.0</td>\n",
       "      <td>104.0</td>\n",
       "      <td>83.0</td>\n",
       "      <td>71.0</td>\n",
       "      <td>88.0</td>\n",
       "      <td>100.0</td>\n",
       "      <td>77.0</td>\n",
       "      <td>129.0</td>\n",
       "      <td>110.0</td>\n",
       "      <td>...</td>\n",
       "      <td>134.0</td>\n",
       "      <td>193.0</td>\n",
       "      <td>206.0</td>\n",
       "      <td>298.0</td>\n",
       "      <td>409.0</td>\n",
       "      <td>395.0</td>\n",
       "      <td>223.0</td>\n",
       "      <td>130.0</td>\n",
       "      <td>60.0</td>\n",
       "      <td>4.0</td>\n",
       "    </tr>\n",
       "    <tr>\n",
       "      <th>water</th>\n",
       "      <td>82204.0</td>\n",
       "      <td>1067.0</td>\n",
       "      <td>1118.0</td>\n",
       "      <td>1186.0</td>\n",
       "      <td>1005.0</td>\n",
       "      <td>995.0</td>\n",
       "      <td>820.0</td>\n",
       "      <td>665.0</td>\n",
       "      <td>801.0</td>\n",
       "      <td>773.0</td>\n",
       "      <td>...</td>\n",
       "      <td>39624.0</td>\n",
       "      <td>56859.0</td>\n",
       "      <td>75083.0</td>\n",
       "      <td>86912.0</td>\n",
       "      <td>83541.0</td>\n",
       "      <td>74616.0</td>\n",
       "      <td>59630.0</td>\n",
       "      <td>50380.0</td>\n",
       "      <td>17421.0</td>\n",
       "      <td>444.0</td>\n",
       "    </tr>\n",
       "    <tr>\n",
       "      <th>SUM</th>\n",
       "      <td>2588490.0</td>\n",
       "      <td>3689.0</td>\n",
       "      <td>3252.0</td>\n",
       "      <td>3043.0</td>\n",
       "      <td>2567.0</td>\n",
       "      <td>2555.0</td>\n",
       "      <td>2685.0</td>\n",
       "      <td>2545.0</td>\n",
       "      <td>2954.0</td>\n",
       "      <td>2818.0</td>\n",
       "      <td>...</td>\n",
       "      <td>43919.0</td>\n",
       "      <td>62357.0</td>\n",
       "      <td>81003.0</td>\n",
       "      <td>92109.0</td>\n",
       "      <td>88485.0</td>\n",
       "      <td>78539.0</td>\n",
       "      <td>62001.0</td>\n",
       "      <td>51770.0</td>\n",
       "      <td>17745.0</td>\n",
       "      <td>455.0</td>\n",
       "    </tr>\n",
       "  </tbody>\n",
       "</table>\n",
       "<p>5 rows × 100 columns</p>\n",
       "</div>"
      ],
      "text/plain": [
       "               HISTO_0  HISTO_1  HISTO_2  HISTO_3  HISTO_4  HISTO_5  HISTO_6  \\\n",
       "Broad_class                                                                    \n",
       "LEV           126925.0   1082.0    930.0    856.0    728.0    680.0    704.0   \n",
       "dry land     2251960.0   1428.0   1100.0    918.0    763.0    792.0   1061.0   \n",
       "invalid       127401.0    112.0    104.0     83.0     71.0     88.0    100.0   \n",
       "water          82204.0   1067.0   1118.0   1186.0   1005.0    995.0    820.0   \n",
       "SUM          2588490.0   3689.0   3252.0   3043.0   2567.0   2555.0   2685.0   \n",
       "\n",
       "             HISTO_7  HISTO_8  HISTO_9  ...  HISTO_90  HISTO_91  HISTO_92  \\\n",
       "Broad_class                             ...                                 \n",
       "LEV            677.0    734.0    688.0  ...    1255.0    1561.0    1873.0   \n",
       "dry land      1126.0   1290.0   1247.0  ...    2906.0    3744.0    3841.0   \n",
       "invalid         77.0    129.0    110.0  ...     134.0     193.0     206.0   \n",
       "water          665.0    801.0    773.0  ...   39624.0   56859.0   75083.0   \n",
       "SUM           2545.0   2954.0   2818.0  ...   43919.0   62357.0   81003.0   \n",
       "\n",
       "             HISTO_93  HISTO_94  HISTO_95  HISTO_96  HISTO_97  HISTO_98  \\\n",
       "Broad_class                                                               \n",
       "LEV            1727.0    1717.0    1318.0     822.0     400.0      80.0   \n",
       "dry land       3172.0    2818.0    2210.0    1326.0     860.0     184.0   \n",
       "invalid         298.0     409.0     395.0     223.0     130.0      60.0   \n",
       "water         86912.0   83541.0   74616.0   59630.0   50380.0   17421.0   \n",
       "SUM           92109.0   88485.0   78539.0   62001.0   51770.0   17745.0   \n",
       "\n",
       "             HISTO_99  \n",
       "Broad_class            \n",
       "LEV               2.0  \n",
       "dry land          5.0  \n",
       "invalid           4.0  \n",
       "water           444.0  \n",
       "SUM             455.0  \n",
       "\n",
       "[5 rows x 100 columns]"
      ]
     },
     "execution_count": 258,
     "metadata": {},
     "output_type": "execute_result"
    }
   ],
   "source": [
    "# Aggregate by class (detailed)\n",
    "dfg = df.groupby('Class')\n",
    "df_sums = dfg.sum(numeric_only=True)\n",
    "df_sums.drop(columns='DN', inplace=True) # drop meaningless columns\n",
    "df_sums.loc['SUM', :]=df_sums.sum()\n",
    "\n",
    "# Aggregate by class (simple)\n",
    "dfgs = df.groupby('Broad_class')\n",
    "df_sums_s = dfgs.sum(numeric_only=True)\n",
    "df_sums_s.drop(columns='DN', inplace=True)\n",
    "df_sums_s.drop(index='non-roi', inplace=True)\n",
    "df_sums_s.loc['SUM', :]=df_sums_s.sum() # don't include out of ROI samples, obviously\n",
    "\n",
    "df_sums_s"
   ]
  },
  {
   "cell_type": "code",
   "execution_count": 259,
   "metadata": {},
   "outputs": [
    {
     "data": {
      "image/png": "[encoded data removed]",
      "text/plain": [
       "<Figure size 640x480 with 1 Axes>"
      ]
     },
     "metadata": {},
     "output_type": "display_data"
    }
   ],
   "source": [
    "## Plot hist to show: \"Within all wet graminoid pixels, what was the distribution of occurrence values\"\n",
    "'''Almost all WG pixels have 0 occurrence...'''\n",
    "hist_wg = df_sums.loc['wet graminoid', 'HISTO_0':] # 'HISTO_100'\n",
    "sns.barplot(x=np.arange(df_sums.columns.size), y=hist_wg)\n",
    "plt.ylim([0, 5000])\n",
    "plt.xticks(ticks=plt.xticks()[0][::20])\n",
    "plt.xlabel('Occurrence (%)')\n",
    "plt.ylabel('Number of pixels')\n",
    "plt.title(f'{region}: Distribution of occurrence values within wet graminoid class')\n",
    "plt.show()"
   ]
  },
  {
   "cell_type": "code",
   "execution_count": 260,
   "metadata": {},
   "outputs": [
    {
     "data": {
      "image/png": "[encoded data removed]",
      "text/plain": [
       "<Figure size 640x480 with 1 Axes>"
      ]
     },
     "metadata": {},
     "output_type": "display_data"
    }
   ],
   "source": [
    "## Plot hist to show: \"Within all LEV, what was the distribution of occurrence values\"\n",
    "'''Almost all WG pixels have 0 occurrence...'''\n",
    "hist_wg = df_sums_s.loc['LEV', 'HISTO_0':]\n",
    "sns.barplot(x=np.arange(df_sums.columns.size), y=hist_wg)\n",
    "plt.ylim([0, 10000]) #5,000 for most sites, 10,000 for PAD\n",
    "plt.xticks(ticks=plt.xticks()[0][::20])\n",
    "plt.xlabel('Occurrence (%)')\n",
    "plt.ylabel('Number of pixels')\n",
    "plt.title(f'{region}: Distribution of occurrence values within LEV class')\n",
    "plt.show()"
   ]
  },
  {
   "attachments": {},
   "cell_type": "markdown",
   "metadata": {},
   "source": [
    "### Now, group occurrence and calculate confusion matrix"
   ]
  },
  {
   "cell_type": "code",
   "execution_count": 261,
   "metadata": {},
   "outputs": [
    {
     "data": {
      "text/plain": [
       "BinnedStatisticResult(statistic=array([[ 130521.,   28755.,   30424.,    2622.],\n",
       "       [2256169.,   36245.,   44265.,    4585.],\n",
       "       [  86580.,   54976.,  478024.,  202491.],\n",
       "       [2601041.,  123300.,  556091.,  210510.]]), bin_edges=array([  0.,   5.,  50.,  95., 100.]), binnumber=array([1, 1, 1, 1, 1, 2, 2, 2, 2, 2, 2, 2, 2, 2, 2, 2, 2, 2, 2, 2, 2, 2,\n",
       "       2, 2, 2, 2, 2, 2, 2, 2, 2, 2, 2, 2, 2, 2, 2, 2, 2, 2, 2, 2, 2, 2,\n",
       "       2, 2, 2, 2, 2, 2, 3, 3, 3, 3, 3, 3, 3, 3, 3, 3, 3, 3, 3, 3, 3, 3,\n",
       "       3, 3, 3, 3, 3, 3, 3, 3, 3, 3, 3, 3, 3, 3, 3, 3, 3, 3, 3, 3, 3, 3,\n",
       "       3, 3, 3, 3, 3, 3, 3, 4, 4, 4, 4, 4]))"
      ]
     },
     "execution_count": 261,
     "metadata": {},
     "output_type": "execute_result"
    }
   ],
   "source": [
    "## Compute binned statistic\n",
    "stats_classes = ['LEV', 'dry land', 'water', 'SUM'] # \n",
    "bStat = binned_statistic(np.arange(df_sums_s.columns.size), values=df_sums_s.loc[stats_classes, :], statistic='sum', bins=[0, 5, 50, 95, 100]) # \n",
    "df_sums_s\n",
    "bStat\n"
   ]
  },
  {
   "cell_type": "code",
   "execution_count": 262,
   "metadata": {},
   "outputs": [
    {
     "data": {
      "text/html": [
       "<div>\n",
       "<style scoped>\n",
       "    .dataframe tbody tr th:only-of-type {\n",
       "        vertical-align: middle;\n",
       "    }\n",
       "\n",
       "    .dataframe tbody tr th {\n",
       "        vertical-align: top;\n",
       "    }\n",
       "\n",
       "    .dataframe thead th {\n",
       "        text-align: right;\n",
       "    }\n",
       "</style>\n",
       "<table border=\"1\" class=\"dataframe\">\n",
       "  <thead>\n",
       "    <tr style=\"text-align: right;\">\n",
       "      <th></th>\n",
       "      <th>5.0</th>\n",
       "      <th>50.0</th>\n",
       "      <th>95.0</th>\n",
       "      <th>100.0</th>\n",
       "    </tr>\n",
       "  </thead>\n",
       "  <tbody>\n",
       "    <tr>\n",
       "      <th>LEV</th>\n",
       "      <td>130521.0</td>\n",
       "      <td>28755.0</td>\n",
       "      <td>30424.0</td>\n",
       "      <td>2622.0</td>\n",
       "    </tr>\n",
       "    <tr>\n",
       "      <th>dry land</th>\n",
       "      <td>2256169.0</td>\n",
       "      <td>36245.0</td>\n",
       "      <td>44265.0</td>\n",
       "      <td>4585.0</td>\n",
       "    </tr>\n",
       "    <tr>\n",
       "      <th>water</th>\n",
       "      <td>86580.0</td>\n",
       "      <td>54976.0</td>\n",
       "      <td>478024.0</td>\n",
       "      <td>202491.0</td>\n",
       "    </tr>\n",
       "    <tr>\n",
       "      <th>Other</th>\n",
       "      <td>127771.0</td>\n",
       "      <td>3324.0</td>\n",
       "      <td>3378.0</td>\n",
       "      <td>812.0</td>\n",
       "    </tr>\n",
       "    <tr>\n",
       "      <th>SUM</th>\n",
       "      <td>2601041.0</td>\n",
       "      <td>123300.0</td>\n",
       "      <td>556091.0</td>\n",
       "      <td>210510.0</td>\n",
       "    </tr>\n",
       "  </tbody>\n",
       "</table>\n",
       "</div>"
      ],
      "text/plain": [
       "              5.0       50.0      95.0      100.0\n",
       "LEV        130521.0   28755.0   30424.0    2622.0\n",
       "dry land  2256169.0   36245.0   44265.0    4585.0\n",
       "water       86580.0   54976.0  478024.0  202491.0\n",
       "Other      127771.0    3324.0    3378.0     812.0\n",
       "SUM       2601041.0  123300.0  556091.0  210510.0"
      ]
     },
     "execution_count": 262,
     "metadata": {},
     "output_type": "execute_result"
    }
   ],
   "source": [
    "## Construct Confusion Matrix\n",
    "\n",
    "cm = pd.DataFrame(bStat.statistic[[0, -1]], columns = bStat.bin_edges[1:], index = [stats_classes[0], stats_classes[-1]])\n",
    "cm.loc['Other', :] = cm.loc['SUM',:] - cm.loc['LEV', :] # this will return an error if the row order or names changes\n",
    "cm = cm.reindex(cm.index[[0,2,1]])\n",
    "cm\n",
    "\n",
    "## Construct Confusion Matrix with water\n",
    "cm_full = pd.DataFrame(bStat.statistic, columns = bStat.bin_edges[1:], index = stats_classes)\n",
    "cm_full.loc['Other', :] = cm_full.loc['SUM',:] - cm_full.loc[stats_classes[:3], :].sum()\n",
    "cm_full = cm_full.reindex(cm_full.index[[0,1,2,4,3]])\n",
    "cm_full"
   ]
  },
  {
   "cell_type": "code",
   "execution_count": 263,
   "metadata": {},
   "outputs": [
    {
     "data": {
      "image/png": "[encoded data removed]",
      "text/plain": [
       "<Figure size 640x480 with 1 Axes>"
      ]
     },
     "metadata": {},
     "output_type": "display_data"
    }
   ],
   "source": [
    "## Plot binned stat\n",
    "## Plot hist to show: \"Within all LEV, what was the binned distribution of occurrence values (normalized by total pixels in each LEV bin, so values don't sum to 100)?\"\n",
    "'''Almost all WG pixels have 0 occurrence...'''\n",
    "bin_labels = ['0-5', '5-50', '50-95', '95-100']\n",
    "sns.barplot(x=cm.columns, y=cm.loc['LEV', :] / cm.loc['SUM', :] * 100)\n",
    "\n",
    "# plt.ylim([0, 5000])\n",
    "plt.xticks(ticks=plt.xticks()[0][::20])\n",
    "plt.xlabel('Occurrence bin (%)')\n",
    "plt.xticks(ticks=np.arange(4), labels = bin_labels)\n",
    "plt.ylabel('Percent of total LEV pixels (%)')\n",
    "plt.title(f'{region}: Distribution of occurrence values within LEV class')\n",
    "plt.show()\n",
    "\n"
   ]
  },
  {
   "cell_type": "code",
   "execution_count": 264,
   "metadata": {},
   "outputs": [
    {
     "data": {
      "text/plain": [
       "<seaborn.axisgrid.FacetGrid at 0x7fa928a569b0>"
      ]
     },
     "execution_count": 264,
     "metadata": {},
     "output_type": "execute_result"
    },
    {
     "data": {
      "image/png": "[encoded data removed]",
      "text/plain": [
       "<Figure size 607.375x500 with 1 Axes>"
      ]
     },
     "metadata": {},
     "output_type": "display_data"
    }
   ],
   "source": [
    "## Plot binned stat for all main classes as percentage of total pixels in bin (reshape first with pd.melt). Normalization is same as above plot, so each group sums to 100.\n",
    "g = sns.catplot((cm_full.drop('SUM')/ cm_full.loc['SUM', :] * 100).reset_index().melt(id_vars='index', var_name='bin_R_edge'),\\\n",
    "     x = 'bin_R_edge', y='value', hue='index', kind='bar', palette=['#267300', '#6d3f0b', '#73b2ff', '#9a9a9a']) #\n",
    "g.legend.set_title('')\n",
    "g.set_axis_labels('', 'Pixels within bin (%)')\n",
    "g.set(title=f'{region}: Pixel breakdown within Occurrence bins', xticklabels=bin_labels)"
   ]
  },
  {
   "attachments": {},
   "cell_type": "markdown",
   "metadata": {},
   "source": [
    "### Bar plots grouped and normalized the opposite way"
   ]
  },
  {
   "cell_type": "code",
   "execution_count": 265,
   "metadata": {},
   "outputs": [
    {
     "data": {
      "text/html": [
       "<div>\n",
       "<style scoped>\n",
       "    .dataframe tbody tr th:only-of-type {\n",
       "        vertical-align: middle;\n",
       "    }\n",
       "\n",
       "    .dataframe tbody tr th {\n",
       "        vertical-align: top;\n",
       "    }\n",
       "\n",
       "    .dataframe thead th {\n",
       "        text-align: right;\n",
       "    }\n",
       "</style>\n",
       "<table border=\"1\" class=\"dataframe\">\n",
       "  <thead>\n",
       "    <tr style=\"text-align: right;\">\n",
       "      <th></th>\n",
       "      <th>0-5</th>\n",
       "      <th>5-50</th>\n",
       "      <th>50-95</th>\n",
       "      <th>95-100</th>\n",
       "      <th>ROWSUM</th>\n",
       "    </tr>\n",
       "  </thead>\n",
       "  <tbody>\n",
       "    <tr>\n",
       "      <th>LEV</th>\n",
       "      <td>67.865871</td>\n",
       "      <td>14.951488</td>\n",
       "      <td>15.819303</td>\n",
       "      <td>1.363339</td>\n",
       "      <td>100.0</td>\n",
       "    </tr>\n",
       "    <tr>\n",
       "      <th>dry land</th>\n",
       "      <td>96.365425</td>\n",
       "      <td>1.548095</td>\n",
       "      <td>1.890645</td>\n",
       "      <td>0.195834</td>\n",
       "      <td>100.0</td>\n",
       "    </tr>\n",
       "    <tr>\n",
       "      <th>water</th>\n",
       "      <td>10.531937</td>\n",
       "      <td>6.687500</td>\n",
       "      <td>58.148749</td>\n",
       "      <td>24.631814</td>\n",
       "      <td>100.0</td>\n",
       "    </tr>\n",
       "    <tr>\n",
       "      <th>Other</th>\n",
       "      <td>94.445800</td>\n",
       "      <td>2.457035</td>\n",
       "      <td>2.496951</td>\n",
       "      <td>0.600214</td>\n",
       "      <td>100.0</td>\n",
       "    </tr>\n",
       "    <tr>\n",
       "      <th>SUM</th>\n",
       "      <td>74.508285</td>\n",
       "      <td>3.531998</td>\n",
       "      <td>15.929540</td>\n",
       "      <td>6.030178</td>\n",
       "      <td>100.0</td>\n",
       "    </tr>\n",
       "  </tbody>\n",
       "</table>\n",
       "</div>"
      ],
      "text/plain": [
       "                0-5       5-50      50-95     95-100  ROWSUM\n",
       "LEV       67.865871  14.951488  15.819303   1.363339   100.0\n",
       "dry land  96.365425   1.548095   1.890645   0.195834   100.0\n",
       "water     10.531937   6.687500  58.148749  24.631814   100.0\n",
       "Other     94.445800   2.457035   2.496951   0.600214   100.0\n",
       "SUM       74.508285   3.531998  15.929540   6.030178   100.0"
      ]
     },
     "execution_count": 265,
     "metadata": {},
     "output_type": "execute_result"
    }
   ],
   "source": [
    "## Add sum column\n",
    "cm_full.columns = cm_full.columns.astype('str')\n",
    "cm_full['ROWSUM'] = cm_full.sum(axis='columns')\n",
    "\n",
    "# Rename labels\n",
    "cm_full.columns=bin_labels + ['ROWSUM']\n",
    "\n",
    "## Normalize by dividing row by sum\n",
    "cm_full_rowNorm = pd.DataFrame(cm_full.values / cm_full.loc[:,'ROWSUM':].values * 100, index=cm_full.index, columns=cm_full.columns)# .drop('SUM')\n",
    "cm_full_rowNorm"
   ]
  },
  {
   "cell_type": "code",
   "execution_count": 266,
   "metadata": {},
   "outputs": [
    {
     "data": {
      "text/plain": [
       "<seaborn.axisgrid.FacetGrid at 0x7fa8fc4d7df0>"
      ]
     },
     "execution_count": 266,
     "metadata": {},
     "output_type": "execute_result"
    },
    {
     "data": {
      "image/png": "[encoded data removed]",
      "text/plain": [
       "<Figure size 616.236x500 with 1 Axes>"
      ]
     },
     "metadata": {},
     "output_type": "display_data"
    }
   ],
   "source": [
    "## Reshape (melt) and plot as grouped bar plot\n",
    "\"Within all of one occurrence bin, what was the contribution of LEV values\"\n",
    "g = sns.catplot(cm_full_rowNorm.drop(columns='ROWSUM').reset_index().melt(id_vars='index', var_name='Occurrence bin'),\\\n",
    "     hue = 'Occurrence bin', y='value', x='index', kind='bar', palette='cividis_r')\n",
    "g.set_axis_labels('', 'Pixels within class (%)')\n",
    "g.set(title=f'{region}: Occurrence breakdown for each class')"
   ]
  },
  {
   "attachments": {},
   "cell_type": "markdown",
   "metadata": {},
   "source": [
    "### Try to visualize confusion matrix"
   ]
  },
  {
   "cell_type": "code",
   "execution_count": 2,
   "metadata": {},
   "outputs": [
    {
     "ename": "NameError",
     "evalue": "name 'cm' is not defined",
     "output_type": "error",
     "traceback": [
      "\u001b[0;31m---------------------------------------------------------------------------\u001b[0m",
      "\u001b[0;31mNameError\u001b[0m                                 Traceback (most recent call last)",
      "Cell \u001b[0;32mIn[2], line 1\u001b[0m\n\u001b[0;32m----> 1\u001b[0m cm\u001b[39m.\u001b[39miloc[:\u001b[39m2\u001b[39m, :\u001b[39m-\u001b[39m\u001b[39m1\u001b[39m]\n",
      "\u001b[0;31mNameError\u001b[0m: name 'cm' is not defined"
     ]
    }
   ],
   "source": [
    "cm.iloc[:2, :-1]"
   ]
  },
  {
   "cell_type": "code",
   "execution_count": 130,
   "metadata": {},
   "outputs": [
    {
     "ename": "KeyError",
     "evalue": "(0, 0)",
     "output_type": "error",
     "traceback": [
      "\u001b[0;31m---------------------------------------------------------------------------\u001b[0m",
      "\u001b[0;31mKeyError\u001b[0m                                  Traceback (most recent call last)",
      "File \u001b[0;32m~/mambaforge/envs/geospatial/lib/python3.10/site-packages/pandas/core/indexes/base.py:3803\u001b[0m, in \u001b[0;36mIndex.get_loc\u001b[0;34m(self, key, method, tolerance)\u001b[0m\n\u001b[1;32m   3802\u001b[0m \u001b[39mtry\u001b[39;00m:\n\u001b[0;32m-> 3803\u001b[0m     \u001b[39mreturn\u001b[39;00m \u001b[39mself\u001b[39;49m\u001b[39m.\u001b[39;49m_engine\u001b[39m.\u001b[39;49mget_loc(casted_key)\n\u001b[1;32m   3804\u001b[0m \u001b[39mexcept\u001b[39;00m \u001b[39mKeyError\u001b[39;00m \u001b[39mas\u001b[39;00m err:\n",
      "File \u001b[0;32m~/mambaforge/envs/geospatial/lib/python3.10/site-packages/pandas/_libs/index.pyx:138\u001b[0m, in \u001b[0;36mpandas._libs.index.IndexEngine.get_loc\u001b[0;34m()\u001b[0m\n",
      "File \u001b[0;32m~/mambaforge/envs/geospatial/lib/python3.10/site-packages/pandas/_libs/index.pyx:146\u001b[0m, in \u001b[0;36mpandas._libs.index.IndexEngine.get_loc\u001b[0;34m()\u001b[0m\n",
      "File \u001b[0;32mpandas/_libs/index_class_helper.pxi:20\u001b[0m, in \u001b[0;36mpandas._libs.index.Float64Engine._check_type\u001b[0;34m()\u001b[0m\n",
      "\u001b[0;31mKeyError\u001b[0m: (0, 0)",
      "\nThe above exception was the direct cause of the following exception:\n",
      "\u001b[0;31mKeyError\u001b[0m                                  Traceback (most recent call last)",
      "Cell \u001b[0;32mIn[130], line 5\u001b[0m\n\u001b[1;32m      3\u001b[0m cmD \u001b[39m=\u001b[39m ConfusionMatrixDisplay(cm\u001b[39m.\u001b[39miloc[:\u001b[39m2\u001b[39m, :])\n\u001b[1;32m      4\u001b[0m \u001b[39m# cmD.\u001b[39;00m\n\u001b[0;32m----> 5\u001b[0m cmD\u001b[39m.\u001b[39;49mplot()\n",
      "File \u001b[0;32m~/mambaforge/envs/geospatial/lib/python3.10/site-packages/sklearn/metrics/_plot/confusion_matrix.py:159\u001b[0m, in \u001b[0;36mConfusionMatrixDisplay.plot\u001b[0;34m(self, include_values, cmap, xticks_rotation, values_format, ax, colorbar, im_kw, text_kw)\u001b[0m\n\u001b[1;32m    156\u001b[0m thresh \u001b[39m=\u001b[39m (cm\u001b[39m.\u001b[39mmax() \u001b[39m+\u001b[39m cm\u001b[39m.\u001b[39mmin()) \u001b[39m/\u001b[39m \u001b[39m2.0\u001b[39m\n\u001b[1;32m    158\u001b[0m \u001b[39mfor\u001b[39;00m i, j \u001b[39min\u001b[39;00m product(\u001b[39mrange\u001b[39m(n_classes), \u001b[39mrange\u001b[39m(n_classes)):\n\u001b[0;32m--> 159\u001b[0m     color \u001b[39m=\u001b[39m cmap_max \u001b[39mif\u001b[39;00m cm[i, j] \u001b[39m<\u001b[39m thresh \u001b[39melse\u001b[39;00m cmap_min\n\u001b[1;32m    161\u001b[0m     \u001b[39mif\u001b[39;00m values_format \u001b[39mis\u001b[39;00m \u001b[39mNone\u001b[39;00m:\n\u001b[1;32m    162\u001b[0m         text_cm \u001b[39m=\u001b[39m \u001b[39mformat\u001b[39m(cm[i, j], \u001b[39m\"\u001b[39m\u001b[39m.2g\u001b[39m\u001b[39m\"\u001b[39m)\n",
      "File \u001b[0;32m~/mambaforge/envs/geospatial/lib/python3.10/site-packages/pandas/core/frame.py:3805\u001b[0m, in \u001b[0;36mDataFrame.__getitem__\u001b[0;34m(self, key)\u001b[0m\n\u001b[1;32m   3803\u001b[0m \u001b[39mif\u001b[39;00m \u001b[39mself\u001b[39m\u001b[39m.\u001b[39mcolumns\u001b[39m.\u001b[39mnlevels \u001b[39m>\u001b[39m \u001b[39m1\u001b[39m:\n\u001b[1;32m   3804\u001b[0m     \u001b[39mreturn\u001b[39;00m \u001b[39mself\u001b[39m\u001b[39m.\u001b[39m_getitem_multilevel(key)\n\u001b[0;32m-> 3805\u001b[0m indexer \u001b[39m=\u001b[39m \u001b[39mself\u001b[39;49m\u001b[39m.\u001b[39;49mcolumns\u001b[39m.\u001b[39;49mget_loc(key)\n\u001b[1;32m   3806\u001b[0m \u001b[39mif\u001b[39;00m is_integer(indexer):\n\u001b[1;32m   3807\u001b[0m     indexer \u001b[39m=\u001b[39m [indexer]\n",
      "File \u001b[0;32m~/mambaforge/envs/geospatial/lib/python3.10/site-packages/pandas/core/indexes/base.py:3805\u001b[0m, in \u001b[0;36mIndex.get_loc\u001b[0;34m(self, key, method, tolerance)\u001b[0m\n\u001b[1;32m   3803\u001b[0m     \u001b[39mreturn\u001b[39;00m \u001b[39mself\u001b[39m\u001b[39m.\u001b[39m_engine\u001b[39m.\u001b[39mget_loc(casted_key)\n\u001b[1;32m   3804\u001b[0m \u001b[39mexcept\u001b[39;00m \u001b[39mKeyError\u001b[39;00m \u001b[39mas\u001b[39;00m err:\n\u001b[0;32m-> 3805\u001b[0m     \u001b[39mraise\u001b[39;00m \u001b[39mKeyError\u001b[39;00m(key) \u001b[39mfrom\u001b[39;00m \u001b[39merr\u001b[39;00m\n\u001b[1;32m   3806\u001b[0m \u001b[39mexcept\u001b[39;00m \u001b[39mTypeError\u001b[39;00m:\n\u001b[1;32m   3807\u001b[0m     \u001b[39m# If we have a listlike key, _check_indexing_error will raise\u001b[39;00m\n\u001b[1;32m   3808\u001b[0m     \u001b[39m#  InvalidIndexError. Otherwise we fall through and re-raise\u001b[39;00m\n\u001b[1;32m   3809\u001b[0m     \u001b[39m#  the TypeError.\u001b[39;00m\n\u001b[1;32m   3810\u001b[0m     \u001b[39mself\u001b[39m\u001b[39m.\u001b[39m_check_indexing_error(key)\n",
      "\u001b[0;31mKeyError\u001b[0m: (0, 0)"
     ]
    },
    {
     "data": {
      "image/png": "[encoded data removed]",
      "text/plain": [
       "<Figure size 640x480 with 1 Axes>"
      ]
     },
     "metadata": {},
     "output_type": "display_data"
    }
   ],
   "source": [
    "## Visualize CM\n",
    "from sklearn.metrics import ConfusionMatrixDisplay\n",
    "cmD = ConfusionMatrixDisplay(cm.iloc[:2, :])\n",
    "# cmD.\n",
    "cmD.plot()"
   ]
  },
  {
   "attachments": {},
   "cell_type": "markdown",
   "metadata": {},
   "source": [
    "### CM viz V2"
   ]
  },
  {
   "cell_type": "code",
   "execution_count": 152,
   "metadata": {},
   "outputs": [
    {
     "data": {
      "text/html": [
       "<div>\n",
       "<style scoped>\n",
       "    .dataframe tbody tr th:only-of-type {\n",
       "        vertical-align: middle;\n",
       "    }\n",
       "\n",
       "    .dataframe tbody tr th {\n",
       "        vertical-align: top;\n",
       "    }\n",
       "\n",
       "    .dataframe thead th {\n",
       "        text-align: right;\n",
       "    }\n",
       "</style>\n",
       "<table border=\"1\" class=\"dataframe\">\n",
       "  <thead>\n",
       "    <tr style=\"text-align: right;\">\n",
       "      <th></th>\n",
       "      <th>0-5</th>\n",
       "      <th>5-50</th>\n",
       "      <th>50-95</th>\n",
       "      <th>95-100</th>\n",
       "      <th>SUM</th>\n",
       "    </tr>\n",
       "  </thead>\n",
       "  <tbody>\n",
       "    <tr>\n",
       "      <th>LEV</th>\n",
       "      <td>171108</td>\n",
       "      <td>57047</td>\n",
       "      <td>14811</td>\n",
       "      <td>223</td>\n",
       "      <td>243189</td>\n",
       "    </tr>\n",
       "    <tr>\n",
       "      <th>SUM</th>\n",
       "      <td>50507184</td>\n",
       "      <td>1657152</td>\n",
       "      <td>2227264</td>\n",
       "      <td>1062964</td>\n",
       "      <td>55454564</td>\n",
       "    </tr>\n",
       "    <tr>\n",
       "      <th>Other</th>\n",
       "      <td>50336076</td>\n",
       "      <td>1600105</td>\n",
       "      <td>2212453</td>\n",
       "      <td>1062741</td>\n",
       "      <td>55211375</td>\n",
       "    </tr>\n",
       "  </tbody>\n",
       "</table>\n",
       "</div>"
      ],
      "text/plain": [
       "            0-5     5-50    50-95   95-100       SUM\n",
       "LEV      171108    57047    14811      223    243189\n",
       "SUM    50507184  1657152  2227264  1062964  55454564\n",
       "Other  50336076  1600105  2212453  1062741  55211375"
      ]
     },
     "execution_count": 152,
     "metadata": {},
     "output_type": "execute_result"
    }
   ],
   "source": [
    "## Add row sum\n",
    "# cm.columns = ['0-5', '5-50', '50-95', '95-100'] # comment out if already run\n",
    "# cm['SUM'] = cm.sum(axis=1)\n",
    "cm.astype('int')"
   ]
  },
  {
   "cell_type": "code",
   "execution_count": 148,
   "metadata": {},
   "outputs": [
    {
     "ename": "KeyError",
     "evalue": "(0, 0)",
     "output_type": "error",
     "traceback": [
      "\u001b[0;31m---------------------------------------------------------------------------\u001b[0m",
      "\u001b[0;31mKeyError\u001b[0m                                  Traceback (most recent call last)",
      "File \u001b[0;32m~/mambaforge/envs/geospatial/lib/python3.10/site-packages/pandas/core/indexes/base.py:3803\u001b[0m, in \u001b[0;36mIndex.get_loc\u001b[0;34m(self, key, method, tolerance)\u001b[0m\n\u001b[1;32m   3802\u001b[0m \u001b[39mtry\u001b[39;00m:\n\u001b[0;32m-> 3803\u001b[0m     \u001b[39mreturn\u001b[39;00m \u001b[39mself\u001b[39;49m\u001b[39m.\u001b[39;49m_engine\u001b[39m.\u001b[39;49mget_loc(casted_key)\n\u001b[1;32m   3804\u001b[0m \u001b[39mexcept\u001b[39;00m \u001b[39mKeyError\u001b[39;00m \u001b[39mas\u001b[39;00m err:\n",
      "File \u001b[0;32m~/mambaforge/envs/geospatial/lib/python3.10/site-packages/pandas/_libs/index.pyx:138\u001b[0m, in \u001b[0;36mpandas._libs.index.IndexEngine.get_loc\u001b[0;34m()\u001b[0m\n",
      "File \u001b[0;32m~/mambaforge/envs/geospatial/lib/python3.10/site-packages/pandas/_libs/index.pyx:165\u001b[0m, in \u001b[0;36mpandas._libs.index.IndexEngine.get_loc\u001b[0;34m()\u001b[0m\n",
      "File \u001b[0;32mpandas/_libs/hashtable_class_helper.pxi:5745\u001b[0m, in \u001b[0;36mpandas._libs.hashtable.PyObjectHashTable.get_item\u001b[0;34m()\u001b[0m\n",
      "File \u001b[0;32mpandas/_libs/hashtable_class_helper.pxi:5753\u001b[0m, in \u001b[0;36mpandas._libs.hashtable.PyObjectHashTable.get_item\u001b[0;34m()\u001b[0m\n",
      "\u001b[0;31mKeyError\u001b[0m: (0, 0)",
      "\nThe above exception was the direct cause of the following exception:\n",
      "\u001b[0;31mKeyError\u001b[0m                                  Traceback (most recent call last)",
      "Cell \u001b[0;32mIn[148], line 4\u001b[0m\n\u001b[1;32m      1\u001b[0m cmD \u001b[39m=\u001b[39m ConfusionMatrixDisplay(cm)\n\u001b[1;32m      2\u001b[0m \u001b[39m# cmD = ConfusionMatrixDisplay(cm.iloc[:2, :4])\u001b[39;00m\n\u001b[1;32m      3\u001b[0m \u001b[39m# cmD.\u001b[39;00m\n\u001b[0;32m----> 4\u001b[0m cmD\u001b[39m.\u001b[39;49mplot()\n",
      "File \u001b[0;32m~/mambaforge/envs/geospatial/lib/python3.10/site-packages/sklearn/metrics/_plot/confusion_matrix.py:159\u001b[0m, in \u001b[0;36mConfusionMatrixDisplay.plot\u001b[0;34m(self, include_values, cmap, xticks_rotation, values_format, ax, colorbar, im_kw, text_kw)\u001b[0m\n\u001b[1;32m    156\u001b[0m thresh \u001b[39m=\u001b[39m (cm\u001b[39m.\u001b[39mmax() \u001b[39m+\u001b[39m cm\u001b[39m.\u001b[39mmin()) \u001b[39m/\u001b[39m \u001b[39m2.0\u001b[39m\n\u001b[1;32m    158\u001b[0m \u001b[39mfor\u001b[39;00m i, j \u001b[39min\u001b[39;00m product(\u001b[39mrange\u001b[39m(n_classes), \u001b[39mrange\u001b[39m(n_classes)):\n\u001b[0;32m--> 159\u001b[0m     color \u001b[39m=\u001b[39m cmap_max \u001b[39mif\u001b[39;00m cm[i, j] \u001b[39m<\u001b[39m thresh \u001b[39melse\u001b[39;00m cmap_min\n\u001b[1;32m    161\u001b[0m     \u001b[39mif\u001b[39;00m values_format \u001b[39mis\u001b[39;00m \u001b[39mNone\u001b[39;00m:\n\u001b[1;32m    162\u001b[0m         text_cm \u001b[39m=\u001b[39m \u001b[39mformat\u001b[39m(cm[i, j], \u001b[39m\"\u001b[39m\u001b[39m.2g\u001b[39m\u001b[39m\"\u001b[39m)\n",
      "File \u001b[0;32m~/mambaforge/envs/geospatial/lib/python3.10/site-packages/pandas/core/frame.py:3805\u001b[0m, in \u001b[0;36mDataFrame.__getitem__\u001b[0;34m(self, key)\u001b[0m\n\u001b[1;32m   3803\u001b[0m \u001b[39mif\u001b[39;00m \u001b[39mself\u001b[39m\u001b[39m.\u001b[39mcolumns\u001b[39m.\u001b[39mnlevels \u001b[39m>\u001b[39m \u001b[39m1\u001b[39m:\n\u001b[1;32m   3804\u001b[0m     \u001b[39mreturn\u001b[39;00m \u001b[39mself\u001b[39m\u001b[39m.\u001b[39m_getitem_multilevel(key)\n\u001b[0;32m-> 3805\u001b[0m indexer \u001b[39m=\u001b[39m \u001b[39mself\u001b[39;49m\u001b[39m.\u001b[39;49mcolumns\u001b[39m.\u001b[39;49mget_loc(key)\n\u001b[1;32m   3806\u001b[0m \u001b[39mif\u001b[39;00m is_integer(indexer):\n\u001b[1;32m   3807\u001b[0m     indexer \u001b[39m=\u001b[39m [indexer]\n",
      "File \u001b[0;32m~/mambaforge/envs/geospatial/lib/python3.10/site-packages/pandas/core/indexes/base.py:3805\u001b[0m, in \u001b[0;36mIndex.get_loc\u001b[0;34m(self, key, method, tolerance)\u001b[0m\n\u001b[1;32m   3803\u001b[0m     \u001b[39mreturn\u001b[39;00m \u001b[39mself\u001b[39m\u001b[39m.\u001b[39m_engine\u001b[39m.\u001b[39mget_loc(casted_key)\n\u001b[1;32m   3804\u001b[0m \u001b[39mexcept\u001b[39;00m \u001b[39mKeyError\u001b[39;00m \u001b[39mas\u001b[39;00m err:\n\u001b[0;32m-> 3805\u001b[0m     \u001b[39mraise\u001b[39;00m \u001b[39mKeyError\u001b[39;00m(key) \u001b[39mfrom\u001b[39;00m \u001b[39merr\u001b[39;00m\n\u001b[1;32m   3806\u001b[0m \u001b[39mexcept\u001b[39;00m \u001b[39mTypeError\u001b[39;00m:\n\u001b[1;32m   3807\u001b[0m     \u001b[39m# If we have a listlike key, _check_indexing_error will raise\u001b[39;00m\n\u001b[1;32m   3808\u001b[0m     \u001b[39m#  InvalidIndexError. Otherwise we fall through and re-raise\u001b[39;00m\n\u001b[1;32m   3809\u001b[0m     \u001b[39m#  the TypeError.\u001b[39;00m\n\u001b[1;32m   3810\u001b[0m     \u001b[39mself\u001b[39m\u001b[39m.\u001b[39m_check_indexing_error(key)\n",
      "\u001b[0;31mKeyError\u001b[0m: (0, 0)"
     ]
    },
    {
     "data": {
      "image/png": "[encoded data removed]",
      "text/plain": [
       "<Figure size 640x480 with 1 Axes>"
      ]
     },
     "metadata": {},
     "output_type": "display_data"
    }
   ],
   "source": [
    "cmD = ConfusionMatrixDisplay(cm)\n",
    "# cmD = ConfusionMatrixDisplay(cm.iloc[:2, :4])\n",
    "# cmD.\n",
    "cmD.plot()"
   ]
  },
  {
   "attachments": {},
   "cell_type": "markdown",
   "metadata": {},
   "source": [
    "## Method B: Load from lengthy GIS operations\n",
    "In QGIS:\n",
    "1. Polygonize burned UAVSAR raster\n",
    "2. Dissolve based on DN field to get only n entries corresponding to n classes\n",
    "2. Zonal histogram based on DN field"
   ]
  },
  {
   "cell_type": "code",
   "execution_count": 30,
   "metadata": {},
   "outputs": [
    {
     "data": {
      "text/html": [
       "<div>\n",
       "<style scoped>\n",
       "    .dataframe tbody tr th:only-of-type {\n",
       "        vertical-align: middle;\n",
       "    }\n",
       "\n",
       "    .dataframe tbody tr th {\n",
       "        vertical-align: top;\n",
       "    }\n",
       "\n",
       "    .dataframe thead th {\n",
       "        text-align: right;\n",
       "    }\n",
       "</style>\n",
       "<table border=\"1\" class=\"dataframe\">\n",
       "  <thead>\n",
       "    <tr style=\"text-align: right;\">\n",
       "      <th></th>\n",
       "      <th>DN</th>\n",
       "      <th>geometry</th>\n",
       "    </tr>\n",
       "  </thead>\n",
       "  <tbody>\n",
       "    <tr>\n",
       "      <th>0</th>\n",
       "      <td>35</td>\n",
       "      <td>MULTIPOLYGON (((-2017546.705 3712282.011, -201...</td>\n",
       "    </tr>\n",
       "    <tr>\n",
       "      <th>1</th>\n",
       "      <td>5</td>\n",
       "      <td>MULTIPOLYGON (((-2034859.024 3717013.819, -203...</td>\n",
       "    </tr>\n",
       "    <tr>\n",
       "      <th>2</th>\n",
       "      <td>4</td>\n",
       "      <td>MULTIPOLYGON (((-2057236.298 3723637.221, -205...</td>\n",
       "    </tr>\n",
       "    <tr>\n",
       "      <th>3</th>\n",
       "      <td>3</td>\n",
       "      <td>MULTIPOLYGON (((-2058766.512 3723947.781, -205...</td>\n",
       "    </tr>\n",
       "    <tr>\n",
       "      <th>4</th>\n",
       "      <td>2</td>\n",
       "      <td>MULTIPOLYGON (((-2059381.986 3723834.850, -205...</td>\n",
       "    </tr>\n",
       "  </tbody>\n",
       "</table>\n",
       "</div>"
      ],
      "text/plain": [
       "   DN                                           geometry\n",
       "0  35  MULTIPOLYGON (((-2017546.705 3712282.011, -201...\n",
       "1   5  MULTIPOLYGON (((-2034859.024 3717013.819, -203...\n",
       "2   4  MULTIPOLYGON (((-2057236.298 3723637.221, -205...\n",
       "3   3  MULTIPOLYGON (((-2058766.512 3723947.781, -205...\n",
       "4   2  MULTIPOLYGON (((-2059381.986 3723834.850, -205..."
      ]
     },
     "execution_count": 30,
     "metadata": {},
     "output_type": "execute_result"
    }
   ],
   "source": [
    "## Load file that has already been aggregated through verrry slow QGIS dissolve by DN\n",
    "df = gpd.read_file('/mnt/g/Ch4/misc/UAVSAR_polygonized/sub_roi/dissolved/zonal_hist/YFLATS_190914_mosaic_rcls_brn_ds_Occurrence.shp')\n",
    "df.head()"
   ]
  },
  {
   "cell_type": "code",
   "execution_count": null,
   "metadata": {},
   "outputs": [],
   "source": []
  }
 ],
 "metadata": {
  "kernelspec": {
   "display_name": "geospatial",
   "language": "python",
   "name": "python3"
  },
  "language_info": {
   "codemirror_mode": {
    "name": "ipython",
    "version": 3
   },
   "file_extension": ".py",
   "mimetype": "text/x-python",
   "name": "python",
   "nbconvert_exporter": "python",
   "pygments_lexer": "ipython3",
   "version": "3.10.8"
  },
  "orig_nbformat": 4,
  "vscode": {
   "interpreter": {
    "hash": "7c2adcd04cb759f62ae312ee256557939cf64646c4c1feb81f383cf035bb7331"
   }
  }
 },
 "nbformat": 4,
 "nbformat_minor": 2
}
