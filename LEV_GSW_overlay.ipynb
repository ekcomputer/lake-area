{
 "cells": [
  {
   "attachments": {},
   "cell_type": "markdown",
   "metadata": {},
   "source": [
    "# LEV / GSW overlay\n",
    "\n",
    "Various methods for overlaying emergent lake vegetation rasters over Pekel/GSW inundation rasters. Occurrence seems to perform better than Seasonality."
   ]
  },
  {
   "cell_type": "code",
   "execution_count": 88,
   "metadata": {},
   "outputs": [],
   "source": [
    "## Imports\n",
    "import geopandas as gpd\n",
    "import numpy as np\n",
    "import pandas as pd\n",
    "from matplotlib import pyplot as plt\n",
    "from matplotlib.colors import LogNorm, PowerNorm\n",
    "from scipy.stats import binned_statistic\n",
    "import seaborn as sns\n",
    "from tqdm import tqdm\n",
    "import numpy as np\n",
    "import pandas as pd"
   ]
  },
  {
   "cell_type": "code",
   "execution_count": 99,
   "metadata": {},
   "outputs": [],
   "source": [
    "## Env vars\n",
    "reclass_vals_detailed = {\n",
    "    1:\t'dry land',\n",
    "    2:\t'water',\n",
    "    3:\t'wet graminoid',\n",
    "    4:\t'wet shrubs',\n",
    "    5:\t'wet forest',\n",
    "    25: 'river or bridge',\n",
    "    30: 'urban',\n",
    "    35: 'non-roi',\n",
    "    42:\t'water no lake',\n",
    "    43:\t'wet graminoid no lake',\n",
    "    44: 'wet shrubs no lake',\n",
    "    45: 'wet forest no lake',\n",
    "    52: 'water not valid'}\n",
    "\n",
    "reclass_vals_simple = {\n",
    "    1:\t'dry land',\n",
    "    2:\t'water',\n",
    "    3:\t'LEV',\n",
    "    4:\t'LEV',\n",
    "    5:\t'LEV',\n",
    "    25: 'invalid', \n",
    "    30: 'invalid', \n",
    "    35: 'non-roi', \n",
    "    42:\t'invalid', \n",
    "    43:\t'invalid', \n",
    "    44: 'invalid', \n",
    "    45: 'invalid', \n",
    "    52: 'invalid'}"
   ]
  },
  {
   "attachments": {},
   "cell_type": "markdown",
   "metadata": {},
   "source": [
    "## Method A: Load from GIS operations\n",
    "In QGIS:\n",
    "1. Polygonize burned UAVSAR raster\n",
    "2. Zonal histogram based on DN field\n",
    "\n",
    "In Python:\n",
    "1. Aggregate by class\n",
    "2. Compute confusion matrix and plot histograms"
   ]
  },
  {
   "cell_type": "code",
   "execution_count": 90,
   "metadata": {},
   "outputs": [
    {
     "data": {
      "text/html": [
       "<div>\n",
       "<style scoped>\n",
       "    .dataframe tbody tr th:only-of-type {\n",
       "        vertical-align: middle;\n",
       "    }\n",
       "\n",
       "    .dataframe tbody tr th {\n",
       "        vertical-align: top;\n",
       "    }\n",
       "\n",
       "    .dataframe thead th {\n",
       "        text-align: right;\n",
       "    }\n",
       "</style>\n",
       "<table border=\"1\" class=\"dataframe\">\n",
       "  <thead>\n",
       "    <tr style=\"text-align: right;\">\n",
       "      <th></th>\n",
       "      <th>DN</th>\n",
       "      <th>HISTO_0</th>\n",
       "      <th>HISTO_1</th>\n",
       "      <th>HISTO_2</th>\n",
       "      <th>HISTO_3</th>\n",
       "      <th>HISTO_4</th>\n",
       "      <th>HISTO_5</th>\n",
       "      <th>HISTO_6</th>\n",
       "      <th>HISTO_7</th>\n",
       "      <th>HISTO_8</th>\n",
       "      <th>...</th>\n",
       "      <th>HISTO_92</th>\n",
       "      <th>HISTO_93</th>\n",
       "      <th>HISTO_94</th>\n",
       "      <th>HISTO_95</th>\n",
       "      <th>HISTO_96</th>\n",
       "      <th>HISTO_97</th>\n",
       "      <th>HISTO_98</th>\n",
       "      <th>HISTO_99</th>\n",
       "      <th>HISTO_100</th>\n",
       "      <th>geometry</th>\n",
       "    </tr>\n",
       "  </thead>\n",
       "  <tbody>\n",
       "    <tr>\n",
       "      <th>0</th>\n",
       "      <td>35</td>\n",
       "      <td>50.0</td>\n",
       "      <td>0.0</td>\n",
       "      <td>0.0</td>\n",
       "      <td>0.0</td>\n",
       "      <td>0.0</td>\n",
       "      <td>0.0</td>\n",
       "      <td>0.0</td>\n",
       "      <td>0.0</td>\n",
       "      <td>0.0</td>\n",
       "      <td>...</td>\n",
       "      <td>0.0</td>\n",
       "      <td>0.0</td>\n",
       "      <td>0.0</td>\n",
       "      <td>0.0</td>\n",
       "      <td>0.0</td>\n",
       "      <td>0.0</td>\n",
       "      <td>0.0</td>\n",
       "      <td>0.0</td>\n",
       "      <td>0.0</td>\n",
       "      <td>POLYGON ((-1975508.149 3758374.790, -1975479.9...</td>\n",
       "    </tr>\n",
       "    <tr>\n",
       "      <th>1</th>\n",
       "      <td>35</td>\n",
       "      <td>123.0</td>\n",
       "      <td>0.0</td>\n",
       "      <td>0.0</td>\n",
       "      <td>0.0</td>\n",
       "      <td>0.0</td>\n",
       "      <td>0.0</td>\n",
       "      <td>0.0</td>\n",
       "      <td>0.0</td>\n",
       "      <td>0.0</td>\n",
       "      <td>...</td>\n",
       "      <td>0.0</td>\n",
       "      <td>0.0</td>\n",
       "      <td>0.0</td>\n",
       "      <td>0.0</td>\n",
       "      <td>0.0</td>\n",
       "      <td>0.0</td>\n",
       "      <td>0.0</td>\n",
       "      <td>0.0</td>\n",
       "      <td>0.0</td>\n",
       "      <td>POLYGON ((-1976801.208 3757285.006, -1976772.9...</td>\n",
       "    </tr>\n",
       "    <tr>\n",
       "      <th>2</th>\n",
       "      <td>35</td>\n",
       "      <td>402.0</td>\n",
       "      <td>0.0</td>\n",
       "      <td>2.0</td>\n",
       "      <td>1.0</td>\n",
       "      <td>0.0</td>\n",
       "      <td>1.0</td>\n",
       "      <td>0.0</td>\n",
       "      <td>0.0</td>\n",
       "      <td>3.0</td>\n",
       "      <td>...</td>\n",
       "      <td>0.0</td>\n",
       "      <td>0.0</td>\n",
       "      <td>0.0</td>\n",
       "      <td>0.0</td>\n",
       "      <td>0.0</td>\n",
       "      <td>0.0</td>\n",
       "      <td>0.0</td>\n",
       "      <td>0.0</td>\n",
       "      <td>0.0</td>\n",
       "      <td>POLYGON ((-1976355.131 3757951.299, -1976332.5...</td>\n",
       "    </tr>\n",
       "    <tr>\n",
       "      <th>3</th>\n",
       "      <td>35</td>\n",
       "      <td>83.0</td>\n",
       "      <td>0.0</td>\n",
       "      <td>0.0</td>\n",
       "      <td>0.0</td>\n",
       "      <td>0.0</td>\n",
       "      <td>0.0</td>\n",
       "      <td>0.0</td>\n",
       "      <td>0.0</td>\n",
       "      <td>0.0</td>\n",
       "      <td>...</td>\n",
       "      <td>0.0</td>\n",
       "      <td>0.0</td>\n",
       "      <td>0.0</td>\n",
       "      <td>0.0</td>\n",
       "      <td>0.0</td>\n",
       "      <td>0.0</td>\n",
       "      <td>0.0</td>\n",
       "      <td>0.0</td>\n",
       "      <td>0.0</td>\n",
       "      <td>POLYGON ((-1977840.173 3754744.059, -1977817.5...</td>\n",
       "    </tr>\n",
       "    <tr>\n",
       "      <th>4</th>\n",
       "      <td>35</td>\n",
       "      <td>1336.0</td>\n",
       "      <td>2.0</td>\n",
       "      <td>1.0</td>\n",
       "      <td>2.0</td>\n",
       "      <td>1.0</td>\n",
       "      <td>0.0</td>\n",
       "      <td>1.0</td>\n",
       "      <td>3.0</td>\n",
       "      <td>2.0</td>\n",
       "      <td>...</td>\n",
       "      <td>0.0</td>\n",
       "      <td>0.0</td>\n",
       "      <td>0.0</td>\n",
       "      <td>0.0</td>\n",
       "      <td>0.0</td>\n",
       "      <td>0.0</td>\n",
       "      <td>0.0</td>\n",
       "      <td>0.0</td>\n",
       "      <td>0.0</td>\n",
       "      <td>POLYGON ((-1976117.976 3755935.481, -1976089.7...</td>\n",
       "    </tr>\n",
       "  </tbody>\n",
       "</table>\n",
       "<p>5 rows × 103 columns</p>\n",
       "</div>"
      ],
      "text/plain": [
       "   DN  HISTO_0  HISTO_1  HISTO_2  HISTO_3  HISTO_4  HISTO_5  HISTO_6  HISTO_7  \\\n",
       "0  35     50.0      0.0      0.0      0.0      0.0      0.0      0.0      0.0   \n",
       "1  35    123.0      0.0      0.0      0.0      0.0      0.0      0.0      0.0   \n",
       "2  35    402.0      0.0      2.0      1.0      0.0      1.0      0.0      0.0   \n",
       "3  35     83.0      0.0      0.0      0.0      0.0      0.0      0.0      0.0   \n",
       "4  35   1336.0      2.0      1.0      2.0      1.0      0.0      1.0      3.0   \n",
       "\n",
       "   HISTO_8  ...  HISTO_92  HISTO_93  HISTO_94  HISTO_95  HISTO_96  HISTO_97  \\\n",
       "0      0.0  ...       0.0       0.0       0.0       0.0       0.0       0.0   \n",
       "1      0.0  ...       0.0       0.0       0.0       0.0       0.0       0.0   \n",
       "2      3.0  ...       0.0       0.0       0.0       0.0       0.0       0.0   \n",
       "3      0.0  ...       0.0       0.0       0.0       0.0       0.0       0.0   \n",
       "4      2.0  ...       0.0       0.0       0.0       0.0       0.0       0.0   \n",
       "\n",
       "   HISTO_98  HISTO_99  HISTO_100  \\\n",
       "0       0.0       0.0        0.0   \n",
       "1       0.0       0.0        0.0   \n",
       "2       0.0       0.0        0.0   \n",
       "3       0.0       0.0        0.0   \n",
       "4       0.0       0.0        0.0   \n",
       "\n",
       "                                            geometry  \n",
       "0  POLYGON ((-1975508.149 3758374.790, -1975479.9...  \n",
       "1  POLYGON ((-1976801.208 3757285.006, -1976772.9...  \n",
       "2  POLYGON ((-1976355.131 3757951.299, -1976332.5...  \n",
       "3  POLYGON ((-1977840.173 3754744.059, -1977817.5...  \n",
       "4  POLYGON ((-1976117.976 3755935.481, -1976089.7...  \n",
       "\n",
       "[5 rows x 103 columns]"
      ]
     },
     "execution_count": 90,
     "metadata": {},
     "output_type": "execute_result"
    }
   ],
   "source": [
    "## I/O\n",
    "region = 'YF'\n",
    "df_pth = '/mnt/g/Ch4/misc/UAVSAR_polygonized/sub_roi/zonal_hist/YFLATS_190914_mosaic_rcls_brn_zHist_Oc.shp' # this is zonal histogram of YF UAVSAR against GSW Occurrence\n",
    "# region = 'CSB'\n",
    "# df_pth = '/mnt/g/Ch4/misc/UAVSAR_polygonized/sub_roi/zonal_hist/bakerc_16008_19059_012_190904_L090_CX_01_Freeman-inc_rcls_brn_zHist_Oc.shp'\n",
    "# region = 'PAD'\n",
    "# df_pth = '/mnt/g/Ch4/misc/UAVSAR_polygonized/sub_roi/zonal_hist/padelE_36000_19059_003_190904_L090_CX_01_Freeman-inc_rcls_brn_zHist_Oc.shp'\n",
    "\n",
    "## Load\n",
    "df = gpd.read_file(df_pth) \n",
    "df.head()"
   ]
  },
  {
   "cell_type": "code",
   "execution_count": 100,
   "metadata": {},
   "outputs": [],
   "source": [
    "## Add actual class name\n",
    "df['Class'] = df['DN'].apply(lambda x: reclass_vals_detailed[x])\n",
    "df['Broad_class'] = df['DN'].apply(lambda x: reclass_vals_simple[x])"
   ]
  },
  {
   "cell_type": "code",
   "execution_count": 104,
   "metadata": {},
   "outputs": [
    {
     "data": {
      "text/html": [
       "<div>\n",
       "<style scoped>\n",
       "    .dataframe tbody tr th:only-of-type {\n",
       "        vertical-align: middle;\n",
       "    }\n",
       "\n",
       "    .dataframe tbody tr th {\n",
       "        vertical-align: top;\n",
       "    }\n",
       "\n",
       "    .dataframe thead th {\n",
       "        text-align: right;\n",
       "    }\n",
       "</style>\n",
       "<table border=\"1\" class=\"dataframe\">\n",
       "  <thead>\n",
       "    <tr style=\"text-align: right;\">\n",
       "      <th></th>\n",
       "      <th>HISTO_0</th>\n",
       "      <th>HISTO_1</th>\n",
       "      <th>HISTO_2</th>\n",
       "      <th>HISTO_3</th>\n",
       "      <th>HISTO_4</th>\n",
       "      <th>HISTO_5</th>\n",
       "      <th>HISTO_6</th>\n",
       "      <th>HISTO_7</th>\n",
       "      <th>HISTO_8</th>\n",
       "      <th>HISTO_9</th>\n",
       "      <th>...</th>\n",
       "      <th>HISTO_91</th>\n",
       "      <th>HISTO_92</th>\n",
       "      <th>HISTO_93</th>\n",
       "      <th>HISTO_94</th>\n",
       "      <th>HISTO_95</th>\n",
       "      <th>HISTO_96</th>\n",
       "      <th>HISTO_97</th>\n",
       "      <th>HISTO_98</th>\n",
       "      <th>HISTO_99</th>\n",
       "      <th>HISTO_100</th>\n",
       "    </tr>\n",
       "    <tr>\n",
       "      <th>Broad_class</th>\n",
       "      <th></th>\n",
       "      <th></th>\n",
       "      <th></th>\n",
       "      <th></th>\n",
       "      <th></th>\n",
       "      <th></th>\n",
       "      <th></th>\n",
       "      <th></th>\n",
       "      <th></th>\n",
       "      <th></th>\n",
       "      <th></th>\n",
       "      <th></th>\n",
       "      <th></th>\n",
       "      <th></th>\n",
       "      <th></th>\n",
       "      <th></th>\n",
       "      <th></th>\n",
       "      <th></th>\n",
       "      <th></th>\n",
       "      <th></th>\n",
       "      <th></th>\n",
       "    </tr>\n",
       "  </thead>\n",
       "  <tbody>\n",
       "    <tr>\n",
       "      <th>LEV</th>\n",
       "      <td>162624.0</td>\n",
       "      <td>1219.0</td>\n",
       "      <td>2347.0</td>\n",
       "      <td>2643.0</td>\n",
       "      <td>2275.0</td>\n",
       "      <td>1920.0</td>\n",
       "      <td>1895.0</td>\n",
       "      <td>1635.0</td>\n",
       "      <td>1516.0</td>\n",
       "      <td>1462.0</td>\n",
       "      <td>...</td>\n",
       "      <td>298.0</td>\n",
       "      <td>251.0</td>\n",
       "      <td>167.0</td>\n",
       "      <td>84.0</td>\n",
       "      <td>48.0</td>\n",
       "      <td>45.0</td>\n",
       "      <td>57.0</td>\n",
       "      <td>68.0</td>\n",
       "      <td>5.0</td>\n",
       "      <td>0.0</td>\n",
       "    </tr>\n",
       "    <tr>\n",
       "      <th>dry land</th>\n",
       "      <td>4913459.0</td>\n",
       "      <td>4638.0</td>\n",
       "      <td>7189.0</td>\n",
       "      <td>6844.0</td>\n",
       "      <td>5055.0</td>\n",
       "      <td>3701.0</td>\n",
       "      <td>3086.0</td>\n",
       "      <td>2741.0</td>\n",
       "      <td>2484.0</td>\n",
       "      <td>2421.0</td>\n",
       "      <td>...</td>\n",
       "      <td>491.0</td>\n",
       "      <td>493.0</td>\n",
       "      <td>513.0</td>\n",
       "      <td>471.0</td>\n",
       "      <td>690.0</td>\n",
       "      <td>1015.0</td>\n",
       "      <td>2076.0</td>\n",
       "      <td>2538.0</td>\n",
       "      <td>460.0</td>\n",
       "      <td>4.0</td>\n",
       "    </tr>\n",
       "    <tr>\n",
       "      <th>invalid</th>\n",
       "      <td>503535.0</td>\n",
       "      <td>2245.0</td>\n",
       "      <td>3545.0</td>\n",
       "      <td>3349.0</td>\n",
       "      <td>2415.0</td>\n",
       "      <td>1920.0</td>\n",
       "      <td>1517.0</td>\n",
       "      <td>1381.0</td>\n",
       "      <td>1394.0</td>\n",
       "      <td>1359.0</td>\n",
       "      <td>...</td>\n",
       "      <td>3578.0</td>\n",
       "      <td>4755.0</td>\n",
       "      <td>6371.0</td>\n",
       "      <td>7937.0</td>\n",
       "      <td>7503.0</td>\n",
       "      <td>9233.0</td>\n",
       "      <td>20803.0</td>\n",
       "      <td>33941.0</td>\n",
       "      <td>7719.0</td>\n",
       "      <td>25.0</td>\n",
       "    </tr>\n",
       "    <tr>\n",
       "      <th>water</th>\n",
       "      <td>128087.0</td>\n",
       "      <td>1186.0</td>\n",
       "      <td>2547.0</td>\n",
       "      <td>2467.0</td>\n",
       "      <td>1882.0</td>\n",
       "      <td>1685.0</td>\n",
       "      <td>1524.0</td>\n",
       "      <td>1391.0</td>\n",
       "      <td>1466.0</td>\n",
       "      <td>1379.0</td>\n",
       "      <td>...</td>\n",
       "      <td>15429.0</td>\n",
       "      <td>16441.0</td>\n",
       "      <td>15927.0</td>\n",
       "      <td>10996.0</td>\n",
       "      <td>4679.0</td>\n",
       "      <td>1954.0</td>\n",
       "      <td>5095.0</td>\n",
       "      <td>7415.0</td>\n",
       "      <td>1227.0</td>\n",
       "      <td>12.0</td>\n",
       "    </tr>\n",
       "    <tr>\n",
       "      <th>SUM</th>\n",
       "      <td>5707705.0</td>\n",
       "      <td>9288.0</td>\n",
       "      <td>15628.0</td>\n",
       "      <td>15303.0</td>\n",
       "      <td>11627.0</td>\n",
       "      <td>9226.0</td>\n",
       "      <td>8022.0</td>\n",
       "      <td>7148.0</td>\n",
       "      <td>6860.0</td>\n",
       "      <td>6621.0</td>\n",
       "      <td>...</td>\n",
       "      <td>19796.0</td>\n",
       "      <td>21940.0</td>\n",
       "      <td>22978.0</td>\n",
       "      <td>19488.0</td>\n",
       "      <td>12920.0</td>\n",
       "      <td>12247.0</td>\n",
       "      <td>28031.0</td>\n",
       "      <td>43962.0</td>\n",
       "      <td>9411.0</td>\n",
       "      <td>41.0</td>\n",
       "    </tr>\n",
       "  </tbody>\n",
       "</table>\n",
       "<p>5 rows × 101 columns</p>\n",
       "</div>"
      ],
      "text/plain": [
       "               HISTO_0  HISTO_1  HISTO_2  HISTO_3  HISTO_4  HISTO_5  HISTO_6  \\\n",
       "Broad_class                                                                    \n",
       "LEV           162624.0   1219.0   2347.0   2643.0   2275.0   1920.0   1895.0   \n",
       "dry land     4913459.0   4638.0   7189.0   6844.0   5055.0   3701.0   3086.0   \n",
       "invalid       503535.0   2245.0   3545.0   3349.0   2415.0   1920.0   1517.0   \n",
       "water         128087.0   1186.0   2547.0   2467.0   1882.0   1685.0   1524.0   \n",
       "SUM          5707705.0   9288.0  15628.0  15303.0  11627.0   9226.0   8022.0   \n",
       "\n",
       "             HISTO_7  HISTO_8  HISTO_9  ...  HISTO_91  HISTO_92  HISTO_93  \\\n",
       "Broad_class                             ...                                 \n",
       "LEV           1635.0   1516.0   1462.0  ...     298.0     251.0     167.0   \n",
       "dry land      2741.0   2484.0   2421.0  ...     491.0     493.0     513.0   \n",
       "invalid       1381.0   1394.0   1359.0  ...    3578.0    4755.0    6371.0   \n",
       "water         1391.0   1466.0   1379.0  ...   15429.0   16441.0   15927.0   \n",
       "SUM           7148.0   6860.0   6621.0  ...   19796.0   21940.0   22978.0   \n",
       "\n",
       "             HISTO_94  HISTO_95  HISTO_96  HISTO_97  HISTO_98  HISTO_99  \\\n",
       "Broad_class                                                               \n",
       "LEV              84.0      48.0      45.0      57.0      68.0       5.0   \n",
       "dry land        471.0     690.0    1015.0    2076.0    2538.0     460.0   \n",
       "invalid        7937.0    7503.0    9233.0   20803.0   33941.0    7719.0   \n",
       "water         10996.0    4679.0    1954.0    5095.0    7415.0    1227.0   \n",
       "SUM           19488.0   12920.0   12247.0   28031.0   43962.0    9411.0   \n",
       "\n",
       "             HISTO_100  \n",
       "Broad_class             \n",
       "LEV                0.0  \n",
       "dry land           4.0  \n",
       "invalid           25.0  \n",
       "water             12.0  \n",
       "SUM               41.0  \n",
       "\n",
       "[5 rows x 101 columns]"
      ]
     },
     "execution_count": 104,
     "metadata": {},
     "output_type": "execute_result"
    }
   ],
   "source": [
    "# Aggregate by class (detailed)\n",
    "dfg = df.groupby('Class')\n",
    "df_sums = dfg.sum(numeric_only=True)\n",
    "df_sums.drop(columns='DN', inplace=True) # drop meaningless columns\n",
    "df_sums.loc['SUM', :]=df_sums.sum()\n",
    "\n",
    "# Aggregate by class (simple)\n",
    "dfgs = df.groupby('Broad_class')\n",
    "df_sums_s = dfgs.sum(numeric_only=True)\n",
    "df_sums_s.drop(columns='DN', inplace=True)\n",
    "df_sums_s.drop(index='non-roi', inplace=True)\n",
    "df_sums_s.loc['SUM', :]=df_sums_s.sum() # don't include out of ROI samples, obviously\n",
    "\n",
    "df_sums_s"
   ]
  },
  {
   "cell_type": "code",
   "execution_count": 103,
   "metadata": {},
   "outputs": [
    {
     "data": {
      "image/png": "[encoded data removed]",
      "text/plain": [
       "<Figure size 640x480 with 1 Axes>"
      ]
     },
     "metadata": {},
     "output_type": "display_data"
    }
   ],
   "source": [
    "## Plot hist to show: \"Within all wet graminoid pixels, what was the distribution of occurrence values\"\n",
    "'''Almost all WG pixels have 0 occurrence...'''\n",
    "hist_wg = df_sums.loc['wet graminoid', 'HISTO_0':] # 'HISTO_100'\n",
    "sns.barplot(x=np.arange(df_sums.columns.size), y=hist_wg)\n",
    "plt.ylim([0, 5000])\n",
    "plt.xticks(ticks=plt.xticks()[0][::20])\n",
    "plt.xlabel('Occurrence (%)')\n",
    "plt.ylabel('Number of pixels')\n",
    "plt.title(f'{region}: Distribution of occurrence values within wet graminoid class')\n",
    "plt.show()"
   ]
  },
  {
   "cell_type": "code",
   "execution_count": 105,
   "metadata": {},
   "outputs": [
    {
     "data": {
      "image/png": "[encoded data removed]",
      "text/plain": [
       "<Figure size 640x480 with 1 Axes>"
      ]
     },
     "metadata": {},
     "output_type": "display_data"
    }
   ],
   "source": [
    "## Plot hist to show: \"Within all LEV, what was the distribution of occurrence values\"\n",
    "'''Almost all WG pixels have 0 occurrence...'''\n",
    "hist_wg = df_sums_s.loc['LEV', 'HISTO_0':]\n",
    "sns.barplot(x=np.arange(df_sums.columns.size), y=hist_wg)\n",
    "plt.ylim([0, 10000]) #5,000 for most sites, 10,000 for PAD\n",
    "plt.xticks(ticks=plt.xticks()[0][::20])\n",
    "plt.xlabel('Occurrence (%)')\n",
    "plt.ylabel('Number of pixels')\n",
    "plt.title(f'{region}: Distribution of occurrence values within LEV class')\n",
    "plt.show()"
   ]
  },
  {
   "attachments": {},
   "cell_type": "markdown",
   "metadata": {},
   "source": [
    "### Now, group occurrence and calculate confusion matrix"
   ]
  },
  {
   "cell_type": "code",
   "execution_count": 106,
   "metadata": {},
   "outputs": [
    {
     "data": {
      "text/plain": [
       "BinnedStatisticResult(statistic=array([[1.711080e+05, 5.704700e+04, 1.481100e+04, 2.230000e+02],\n",
       "       [4.937185e+06, 7.717400e+04, 1.659600e+04, 6.783000e+03],\n",
       "       [1.361690e+05, 8.877000e+04, 1.817240e+05, 2.038200e+04],\n",
       "       [5.759551e+06, 2.774090e+05, 2.861440e+05, 1.066120e+05]]), bin_edges=array([  0.,   5.,  50.,  95., 100.]), binnumber=array([1, 1, 1, 1, 1, 2, 2, 2, 2, 2, 2, 2, 2, 2, 2, 2, 2, 2, 2, 2, 2, 2,\n",
       "       2, 2, 2, 2, 2, 2, 2, 2, 2, 2, 2, 2, 2, 2, 2, 2, 2, 2, 2, 2, 2, 2,\n",
       "       2, 2, 2, 2, 2, 2, 3, 3, 3, 3, 3, 3, 3, 3, 3, 3, 3, 3, 3, 3, 3, 3,\n",
       "       3, 3, 3, 3, 3, 3, 3, 3, 3, 3, 3, 3, 3, 3, 3, 3, 3, 3, 3, 3, 3, 3,\n",
       "       3, 3, 3, 3, 3, 3, 3, 4, 4, 4, 4, 4, 4]))"
      ]
     },
     "execution_count": 106,
     "metadata": {},
     "output_type": "execute_result"
    }
   ],
   "source": [
    "## Compute binned statistic\n",
    "stats_classes = ['LEV', 'dry land', 'water', 'SUM'] # \n",
    "bStat = binned_statistic(np.arange(df_sums_s.columns.size), values=df_sums_s.loc[stats_classes, :], statistic='sum', bins=[0, 5, 50, 95, 100]) # \n",
    "df_sums_s\n",
    "bStat\n"
   ]
  },
  {
   "cell_type": "code",
   "execution_count": 107,
   "metadata": {},
   "outputs": [
    {
     "data": {
      "text/html": [
       "<div>\n",
       "<style scoped>\n",
       "    .dataframe tbody tr th:only-of-type {\n",
       "        vertical-align: middle;\n",
       "    }\n",
       "\n",
       "    .dataframe tbody tr th {\n",
       "        vertical-align: top;\n",
       "    }\n",
       "\n",
       "    .dataframe thead th {\n",
       "        text-align: right;\n",
       "    }\n",
       "</style>\n",
       "<table border=\"1\" class=\"dataframe\">\n",
       "  <thead>\n",
       "    <tr style=\"text-align: right;\">\n",
       "      <th></th>\n",
       "      <th>5.0</th>\n",
       "      <th>50.0</th>\n",
       "      <th>95.0</th>\n",
       "      <th>100.0</th>\n",
       "    </tr>\n",
       "  </thead>\n",
       "  <tbody>\n",
       "    <tr>\n",
       "      <th>LEV</th>\n",
       "      <td>171108.0</td>\n",
       "      <td>57047.0</td>\n",
       "      <td>14811.0</td>\n",
       "      <td>223.0</td>\n",
       "    </tr>\n",
       "    <tr>\n",
       "      <th>dry land</th>\n",
       "      <td>4937185.0</td>\n",
       "      <td>77174.0</td>\n",
       "      <td>16596.0</td>\n",
       "      <td>6783.0</td>\n",
       "    </tr>\n",
       "    <tr>\n",
       "      <th>water</th>\n",
       "      <td>136169.0</td>\n",
       "      <td>88770.0</td>\n",
       "      <td>181724.0</td>\n",
       "      <td>20382.0</td>\n",
       "    </tr>\n",
       "    <tr>\n",
       "      <th>Other</th>\n",
       "      <td>515089.0</td>\n",
       "      <td>54418.0</td>\n",
       "      <td>73013.0</td>\n",
       "      <td>79224.0</td>\n",
       "    </tr>\n",
       "    <tr>\n",
       "      <th>SUM</th>\n",
       "      <td>5759551.0</td>\n",
       "      <td>277409.0</td>\n",
       "      <td>286144.0</td>\n",
       "      <td>106612.0</td>\n",
       "    </tr>\n",
       "  </tbody>\n",
       "</table>\n",
       "</div>"
      ],
      "text/plain": [
       "              5.0       50.0      95.0      100.0\n",
       "LEV        171108.0   57047.0   14811.0     223.0\n",
       "dry land  4937185.0   77174.0   16596.0    6783.0\n",
       "water      136169.0   88770.0  181724.0   20382.0\n",
       "Other      515089.0   54418.0   73013.0   79224.0\n",
       "SUM       5759551.0  277409.0  286144.0  106612.0"
      ]
     },
     "execution_count": 107,
     "metadata": {},
     "output_type": "execute_result"
    }
   ],
   "source": [
    "## Construct Confusion Matrix\n",
    "\n",
    "cm = pd.DataFrame(bStat.statistic[[0, -1]], columns = bStat.bin_edges[1:], index = [stats_classes[0], stats_classes[-1]])\n",
    "cm.loc['Other', :] = cm.loc['SUM',:] - cm.loc['LEV', :] # this will return an error if the row order or names changes\n",
    "cm = cm.reindex(cm.index[[0,2,1]])\n",
    "cm\n",
    "\n",
    "## Construct Confusion Matrix with water\n",
    "cm_full = pd.DataFrame(bStat.statistic, columns = bStat.bin_edges[1:], index = stats_classes)\n",
    "cm_full.loc['Other', :] = cm_full.loc['SUM',:] - cm_full.loc[stats_classes[:3], :].sum()\n",
    "cm_full = cm_full.reindex(cm_full.index[[0,1,2,4,3]])\n",
    "cm_full"
   ]
  },
  {
   "cell_type": "code",
   "execution_count": 109,
   "metadata": {},
   "outputs": [
    {
     "data": {
      "image/png": "[encoded data removed]",
      "text/plain": [
       "<Figure size 640x480 with 1 Axes>"
      ]
     },
     "metadata": {},
     "output_type": "display_data"
    }
   ],
   "source": [
    "## Plot binned stat\n",
    "## Plot hist to show: \"Within all LEV, what was the binned distribution of occurrence values\"\n",
    "'''Almost all WG pixels have 0 occurrence...'''\n",
    "bin_labels = ['0-5', '5-50', '50-95', '95-100']\n",
    "sns.barplot(x=cm.columns, y=cm.loc['LEV', :] / cm.loc['SUM', :] * 100)\n",
    "\n",
    "# plt.ylim([0, 5000])\n",
    "plt.xticks(ticks=plt.xticks()[0][::20])\n",
    "plt.xlabel('Occurrence bin (%)')\n",
    "plt.xticks(ticks=np.arange(4), labels = bin_labels)\n",
    "plt.ylabel('Percent of total LEV pixels (%)')\n",
    "plt.title(f'{region}: Distribution of occurrence values within LEV class')\n",
    "plt.show()\n",
    "\n"
   ]
  },
  {
   "cell_type": "code",
   "execution_count": 110,
   "metadata": {},
   "outputs": [
    {
     "data": {
      "text/plain": [
       "<seaborn.axisgrid.FacetGrid at 0x7fa899295c30>"
      ]
     },
     "execution_count": 110,
     "metadata": {},
     "output_type": "execute_result"
    },
    {
     "data": {
      "image/png": "[encoded data removed]",
      "text/plain": [
       "<Figure size 607.375x500 with 1 Axes>"
      ]
     },
     "metadata": {},
     "output_type": "display_data"
    }
   ],
   "source": [
    "## Plot binned stat for all main classes as percentage of total pixels in bin (reshape first with pd.melt)\n",
    "g = sns.catplot((cm_full.drop('SUM')/ cm_full.loc['SUM', :] * 100).reset_index().melt(id_vars='index', var_name='bin_R_edge'),\\\n",
    "     x = 'bin_R_edge', y='value', hue='index', kind='bar', palette=['#267300', '#6d3f0b', '#73b2ff', '#9a9a9a']) #\n",
    "g.legend.set_title('')\n",
    "g.set_axis_labels('', 'Pixels within bin (%)')\n",
    "g.set(title=f'{region}: Pixel breakdown within Occurrence bins', xticklabels=bin_labels)"
   ]
  },
  {
   "cell_type": "code",
   "execution_count": null,
   "metadata": {},
   "outputs": [
    {
     "data": {
      "image/png": "[encoded data removed]",
      "text/plain": [
       "<Figure size 640x480 with 1 Axes>"
      ]
     },
     "metadata": {},
     "output_type": "display_data"
    }
   ],
   "source": [
    "## Plot binned stat in other dimension (TBD)\n",
    "## Plot hist to show: \"Within all of one occurrence bin, what was the contribution of LEV values\"\n",
    "'''Almost all WG pixels have 0 occurrence...'''\n",
    "bin_labels = ['0-5', '5-50', '50-95', '95-100']\n",
    "sns.barplot(x=cm.columns, y=cm.loc['LEV', :] / cm.loc['SUM', :] * 100)\n",
    "# plt.ylim([0, 5000])\n",
    "plt.xticks(ticks=plt.xticks()[0][::20])\n",
    "plt.xlabel('Occurrence bin (%)')\n",
    "plt.xticks(ticks=np.arange(4), labels = bin_labels)\n",
    "plt.ylabel('Percent of total LEV pixels (%)')\n",
    "plt.title('Distribution of occurrence values within LEV class')\n",
    "plt.show()\n",
    "\n"
   ]
  },
  {
   "attachments": {},
   "cell_type": "markdown",
   "metadata": {},
   "source": [
    "### Try to visualize confusion matrix"
   ]
  },
  {
   "cell_type": "code",
   "execution_count": 2,
   "metadata": {},
   "outputs": [
    {
     "ename": "NameError",
     "evalue": "name 'cm' is not defined",
     "output_type": "error",
     "traceback": [
      "\u001b[0;31m---------------------------------------------------------------------------\u001b[0m",
      "\u001b[0;31mNameError\u001b[0m                                 Traceback (most recent call last)",
      "Cell \u001b[0;32mIn[2], line 1\u001b[0m\n\u001b[0;32m----> 1\u001b[0m cm\u001b[39m.\u001b[39miloc[:\u001b[39m2\u001b[39m, :\u001b[39m-\u001b[39m\u001b[39m1\u001b[39m]\n",
      "\u001b[0;31mNameError\u001b[0m: name 'cm' is not defined"
     ]
    }
   ],
   "source": [
    "cm.iloc[:2, :-1]"
   ]
  },
  {
   "cell_type": "code",
   "execution_count": 130,
   "metadata": {},
   "outputs": [
    {
     "ename": "KeyError",
     "evalue": "(0, 0)",
     "output_type": "error",
     "traceback": [
      "\u001b[0;31m---------------------------------------------------------------------------\u001b[0m",
      "\u001b[0;31mKeyError\u001b[0m                                  Traceback (most recent call last)",
      "File \u001b[0;32m~/mambaforge/envs/geospatial/lib/python3.10/site-packages/pandas/core/indexes/base.py:3803\u001b[0m, in \u001b[0;36mIndex.get_loc\u001b[0;34m(self, key, method, tolerance)\u001b[0m\n\u001b[1;32m   3802\u001b[0m \u001b[39mtry\u001b[39;00m:\n\u001b[0;32m-> 3803\u001b[0m     \u001b[39mreturn\u001b[39;00m \u001b[39mself\u001b[39;49m\u001b[39m.\u001b[39;49m_engine\u001b[39m.\u001b[39;49mget_loc(casted_key)\n\u001b[1;32m   3804\u001b[0m \u001b[39mexcept\u001b[39;00m \u001b[39mKeyError\u001b[39;00m \u001b[39mas\u001b[39;00m err:\n",
      "File \u001b[0;32m~/mambaforge/envs/geospatial/lib/python3.10/site-packages/pandas/_libs/index.pyx:138\u001b[0m, in \u001b[0;36mpandas._libs.index.IndexEngine.get_loc\u001b[0;34m()\u001b[0m\n",
      "File \u001b[0;32m~/mambaforge/envs/geospatial/lib/python3.10/site-packages/pandas/_libs/index.pyx:146\u001b[0m, in \u001b[0;36mpandas._libs.index.IndexEngine.get_loc\u001b[0;34m()\u001b[0m\n",
      "File \u001b[0;32mpandas/_libs/index_class_helper.pxi:20\u001b[0m, in \u001b[0;36mpandas._libs.index.Float64Engine._check_type\u001b[0;34m()\u001b[0m\n",
      "\u001b[0;31mKeyError\u001b[0m: (0, 0)",
      "\nThe above exception was the direct cause of the following exception:\n",
      "\u001b[0;31mKeyError\u001b[0m                                  Traceback (most recent call last)",
      "Cell \u001b[0;32mIn[130], line 5\u001b[0m\n\u001b[1;32m      3\u001b[0m cmD \u001b[39m=\u001b[39m ConfusionMatrixDisplay(cm\u001b[39m.\u001b[39miloc[:\u001b[39m2\u001b[39m, :])\n\u001b[1;32m      4\u001b[0m \u001b[39m# cmD.\u001b[39;00m\n\u001b[0;32m----> 5\u001b[0m cmD\u001b[39m.\u001b[39;49mplot()\n",
      "File \u001b[0;32m~/mambaforge/envs/geospatial/lib/python3.10/site-packages/sklearn/metrics/_plot/confusion_matrix.py:159\u001b[0m, in \u001b[0;36mConfusionMatrixDisplay.plot\u001b[0;34m(self, include_values, cmap, xticks_rotation, values_format, ax, colorbar, im_kw, text_kw)\u001b[0m\n\u001b[1;32m    156\u001b[0m thresh \u001b[39m=\u001b[39m (cm\u001b[39m.\u001b[39mmax() \u001b[39m+\u001b[39m cm\u001b[39m.\u001b[39mmin()) \u001b[39m/\u001b[39m \u001b[39m2.0\u001b[39m\n\u001b[1;32m    158\u001b[0m \u001b[39mfor\u001b[39;00m i, j \u001b[39min\u001b[39;00m product(\u001b[39mrange\u001b[39m(n_classes), \u001b[39mrange\u001b[39m(n_classes)):\n\u001b[0;32m--> 159\u001b[0m     color \u001b[39m=\u001b[39m cmap_max \u001b[39mif\u001b[39;00m cm[i, j] \u001b[39m<\u001b[39m thresh \u001b[39melse\u001b[39;00m cmap_min\n\u001b[1;32m    161\u001b[0m     \u001b[39mif\u001b[39;00m values_format \u001b[39mis\u001b[39;00m \u001b[39mNone\u001b[39;00m:\n\u001b[1;32m    162\u001b[0m         text_cm \u001b[39m=\u001b[39m \u001b[39mformat\u001b[39m(cm[i, j], \u001b[39m\"\u001b[39m\u001b[39m.2g\u001b[39m\u001b[39m\"\u001b[39m)\n",
      "File \u001b[0;32m~/mambaforge/envs/geospatial/lib/python3.10/site-packages/pandas/core/frame.py:3805\u001b[0m, in \u001b[0;36mDataFrame.__getitem__\u001b[0;34m(self, key)\u001b[0m\n\u001b[1;32m   3803\u001b[0m \u001b[39mif\u001b[39;00m \u001b[39mself\u001b[39m\u001b[39m.\u001b[39mcolumns\u001b[39m.\u001b[39mnlevels \u001b[39m>\u001b[39m \u001b[39m1\u001b[39m:\n\u001b[1;32m   3804\u001b[0m     \u001b[39mreturn\u001b[39;00m \u001b[39mself\u001b[39m\u001b[39m.\u001b[39m_getitem_multilevel(key)\n\u001b[0;32m-> 3805\u001b[0m indexer \u001b[39m=\u001b[39m \u001b[39mself\u001b[39;49m\u001b[39m.\u001b[39;49mcolumns\u001b[39m.\u001b[39;49mget_loc(key)\n\u001b[1;32m   3806\u001b[0m \u001b[39mif\u001b[39;00m is_integer(indexer):\n\u001b[1;32m   3807\u001b[0m     indexer \u001b[39m=\u001b[39m [indexer]\n",
      "File \u001b[0;32m~/mambaforge/envs/geospatial/lib/python3.10/site-packages/pandas/core/indexes/base.py:3805\u001b[0m, in \u001b[0;36mIndex.get_loc\u001b[0;34m(self, key, method, tolerance)\u001b[0m\n\u001b[1;32m   3803\u001b[0m     \u001b[39mreturn\u001b[39;00m \u001b[39mself\u001b[39m\u001b[39m.\u001b[39m_engine\u001b[39m.\u001b[39mget_loc(casted_key)\n\u001b[1;32m   3804\u001b[0m \u001b[39mexcept\u001b[39;00m \u001b[39mKeyError\u001b[39;00m \u001b[39mas\u001b[39;00m err:\n\u001b[0;32m-> 3805\u001b[0m     \u001b[39mraise\u001b[39;00m \u001b[39mKeyError\u001b[39;00m(key) \u001b[39mfrom\u001b[39;00m \u001b[39merr\u001b[39;00m\n\u001b[1;32m   3806\u001b[0m \u001b[39mexcept\u001b[39;00m \u001b[39mTypeError\u001b[39;00m:\n\u001b[1;32m   3807\u001b[0m     \u001b[39m# If we have a listlike key, _check_indexing_error will raise\u001b[39;00m\n\u001b[1;32m   3808\u001b[0m     \u001b[39m#  InvalidIndexError. Otherwise we fall through and re-raise\u001b[39;00m\n\u001b[1;32m   3809\u001b[0m     \u001b[39m#  the TypeError.\u001b[39;00m\n\u001b[1;32m   3810\u001b[0m     \u001b[39mself\u001b[39m\u001b[39m.\u001b[39m_check_indexing_error(key)\n",
      "\u001b[0;31mKeyError\u001b[0m: (0, 0)"
     ]
    },
    {
     "data": {
      "image/png": "[encoded data removed]",
      "text/plain": [
       "<Figure size 640x480 with 1 Axes>"
      ]
     },
     "metadata": {},
     "output_type": "display_data"
    }
   ],
   "source": [
    "## Visualize CM\n",
    "from sklearn.metrics import ConfusionMatrixDisplay\n",
    "cmD = ConfusionMatrixDisplay(cm.iloc[:2, :])\n",
    "# cmD.\n",
    "cmD.plot()"
   ]
  },
  {
   "attachments": {},
   "cell_type": "markdown",
   "metadata": {},
   "source": [
    "### CM viz V2"
   ]
  },
  {
   "cell_type": "code",
   "execution_count": 152,
   "metadata": {},
   "outputs": [
    {
     "data": {
      "text/html": [
       "<div>\n",
       "<style scoped>\n",
       "    .dataframe tbody tr th:only-of-type {\n",
       "        vertical-align: middle;\n",
       "    }\n",
       "\n",
       "    .dataframe tbody tr th {\n",
       "        vertical-align: top;\n",
       "    }\n",
       "\n",
       "    .dataframe thead th {\n",
       "        text-align: right;\n",
       "    }\n",
       "</style>\n",
       "<table border=\"1\" class=\"dataframe\">\n",
       "  <thead>\n",
       "    <tr style=\"text-align: right;\">\n",
       "      <th></th>\n",
       "      <th>0-5</th>\n",
       "      <th>5-50</th>\n",
       "      <th>50-95</th>\n",
       "      <th>95-100</th>\n",
       "      <th>SUM</th>\n",
       "    </tr>\n",
       "  </thead>\n",
       "  <tbody>\n",
       "    <tr>\n",
       "      <th>LEV</th>\n",
       "      <td>171108</td>\n",
       "      <td>57047</td>\n",
       "      <td>14811</td>\n",
       "      <td>223</td>\n",
       "      <td>243189</td>\n",
       "    </tr>\n",
       "    <tr>\n",
       "      <th>SUM</th>\n",
       "      <td>50507184</td>\n",
       "      <td>1657152</td>\n",
       "      <td>2227264</td>\n",
       "      <td>1062964</td>\n",
       "      <td>55454564</td>\n",
       "    </tr>\n",
       "    <tr>\n",
       "      <th>Other</th>\n",
       "      <td>50336076</td>\n",
       "      <td>1600105</td>\n",
       "      <td>2212453</td>\n",
       "      <td>1062741</td>\n",
       "      <td>55211375</td>\n",
       "    </tr>\n",
       "  </tbody>\n",
       "</table>\n",
       "</div>"
      ],
      "text/plain": [
       "            0-5     5-50    50-95   95-100       SUM\n",
       "LEV      171108    57047    14811      223    243189\n",
       "SUM    50507184  1657152  2227264  1062964  55454564\n",
       "Other  50336076  1600105  2212453  1062741  55211375"
      ]
     },
     "execution_count": 152,
     "metadata": {},
     "output_type": "execute_result"
    }
   ],
   "source": [
    "## Add row sum\n",
    "# cm.columns = ['0-5', '5-50', '50-95', '95-100'] # comment out if already run\n",
    "# cm['SUM'] = cm.sum(axis=1)\n",
    "cm.astype('int')"
   ]
  },
  {
   "cell_type": "code",
   "execution_count": 148,
   "metadata": {},
   "outputs": [
    {
     "ename": "KeyError",
     "evalue": "(0, 0)",
     "output_type": "error",
     "traceback": [
      "\u001b[0;31m---------------------------------------------------------------------------\u001b[0m",
      "\u001b[0;31mKeyError\u001b[0m                                  Traceback (most recent call last)",
      "File \u001b[0;32m~/mambaforge/envs/geospatial/lib/python3.10/site-packages/pandas/core/indexes/base.py:3803\u001b[0m, in \u001b[0;36mIndex.get_loc\u001b[0;34m(self, key, method, tolerance)\u001b[0m\n\u001b[1;32m   3802\u001b[0m \u001b[39mtry\u001b[39;00m:\n\u001b[0;32m-> 3803\u001b[0m     \u001b[39mreturn\u001b[39;00m \u001b[39mself\u001b[39;49m\u001b[39m.\u001b[39;49m_engine\u001b[39m.\u001b[39;49mget_loc(casted_key)\n\u001b[1;32m   3804\u001b[0m \u001b[39mexcept\u001b[39;00m \u001b[39mKeyError\u001b[39;00m \u001b[39mas\u001b[39;00m err:\n",
      "File \u001b[0;32m~/mambaforge/envs/geospatial/lib/python3.10/site-packages/pandas/_libs/index.pyx:138\u001b[0m, in \u001b[0;36mpandas._libs.index.IndexEngine.get_loc\u001b[0;34m()\u001b[0m\n",
      "File \u001b[0;32m~/mambaforge/envs/geospatial/lib/python3.10/site-packages/pandas/_libs/index.pyx:165\u001b[0m, in \u001b[0;36mpandas._libs.index.IndexEngine.get_loc\u001b[0;34m()\u001b[0m\n",
      "File \u001b[0;32mpandas/_libs/hashtable_class_helper.pxi:5745\u001b[0m, in \u001b[0;36mpandas._libs.hashtable.PyObjectHashTable.get_item\u001b[0;34m()\u001b[0m\n",
      "File \u001b[0;32mpandas/_libs/hashtable_class_helper.pxi:5753\u001b[0m, in \u001b[0;36mpandas._libs.hashtable.PyObjectHashTable.get_item\u001b[0;34m()\u001b[0m\n",
      "\u001b[0;31mKeyError\u001b[0m: (0, 0)",
      "\nThe above exception was the direct cause of the following exception:\n",
      "\u001b[0;31mKeyError\u001b[0m                                  Traceback (most recent call last)",
      "Cell \u001b[0;32mIn[148], line 4\u001b[0m\n\u001b[1;32m      1\u001b[0m cmD \u001b[39m=\u001b[39m ConfusionMatrixDisplay(cm)\n\u001b[1;32m      2\u001b[0m \u001b[39m# cmD = ConfusionMatrixDisplay(cm.iloc[:2, :4])\u001b[39;00m\n\u001b[1;32m      3\u001b[0m \u001b[39m# cmD.\u001b[39;00m\n\u001b[0;32m----> 4\u001b[0m cmD\u001b[39m.\u001b[39;49mplot()\n",
      "File \u001b[0;32m~/mambaforge/envs/geospatial/lib/python3.10/site-packages/sklearn/metrics/_plot/confusion_matrix.py:159\u001b[0m, in \u001b[0;36mConfusionMatrixDisplay.plot\u001b[0;34m(self, include_values, cmap, xticks_rotation, values_format, ax, colorbar, im_kw, text_kw)\u001b[0m\n\u001b[1;32m    156\u001b[0m thresh \u001b[39m=\u001b[39m (cm\u001b[39m.\u001b[39mmax() \u001b[39m+\u001b[39m cm\u001b[39m.\u001b[39mmin()) \u001b[39m/\u001b[39m \u001b[39m2.0\u001b[39m\n\u001b[1;32m    158\u001b[0m \u001b[39mfor\u001b[39;00m i, j \u001b[39min\u001b[39;00m product(\u001b[39mrange\u001b[39m(n_classes), \u001b[39mrange\u001b[39m(n_classes)):\n\u001b[0;32m--> 159\u001b[0m     color \u001b[39m=\u001b[39m cmap_max \u001b[39mif\u001b[39;00m cm[i, j] \u001b[39m<\u001b[39m thresh \u001b[39melse\u001b[39;00m cmap_min\n\u001b[1;32m    161\u001b[0m     \u001b[39mif\u001b[39;00m values_format \u001b[39mis\u001b[39;00m \u001b[39mNone\u001b[39;00m:\n\u001b[1;32m    162\u001b[0m         text_cm \u001b[39m=\u001b[39m \u001b[39mformat\u001b[39m(cm[i, j], \u001b[39m\"\u001b[39m\u001b[39m.2g\u001b[39m\u001b[39m\"\u001b[39m)\n",
      "File \u001b[0;32m~/mambaforge/envs/geospatial/lib/python3.10/site-packages/pandas/core/frame.py:3805\u001b[0m, in \u001b[0;36mDataFrame.__getitem__\u001b[0;34m(self, key)\u001b[0m\n\u001b[1;32m   3803\u001b[0m \u001b[39mif\u001b[39;00m \u001b[39mself\u001b[39m\u001b[39m.\u001b[39mcolumns\u001b[39m.\u001b[39mnlevels \u001b[39m>\u001b[39m \u001b[39m1\u001b[39m:\n\u001b[1;32m   3804\u001b[0m     \u001b[39mreturn\u001b[39;00m \u001b[39mself\u001b[39m\u001b[39m.\u001b[39m_getitem_multilevel(key)\n\u001b[0;32m-> 3805\u001b[0m indexer \u001b[39m=\u001b[39m \u001b[39mself\u001b[39;49m\u001b[39m.\u001b[39;49mcolumns\u001b[39m.\u001b[39;49mget_loc(key)\n\u001b[1;32m   3806\u001b[0m \u001b[39mif\u001b[39;00m is_integer(indexer):\n\u001b[1;32m   3807\u001b[0m     indexer \u001b[39m=\u001b[39m [indexer]\n",
      "File \u001b[0;32m~/mambaforge/envs/geospatial/lib/python3.10/site-packages/pandas/core/indexes/base.py:3805\u001b[0m, in \u001b[0;36mIndex.get_loc\u001b[0;34m(self, key, method, tolerance)\u001b[0m\n\u001b[1;32m   3803\u001b[0m     \u001b[39mreturn\u001b[39;00m \u001b[39mself\u001b[39m\u001b[39m.\u001b[39m_engine\u001b[39m.\u001b[39mget_loc(casted_key)\n\u001b[1;32m   3804\u001b[0m \u001b[39mexcept\u001b[39;00m \u001b[39mKeyError\u001b[39;00m \u001b[39mas\u001b[39;00m err:\n\u001b[0;32m-> 3805\u001b[0m     \u001b[39mraise\u001b[39;00m \u001b[39mKeyError\u001b[39;00m(key) \u001b[39mfrom\u001b[39;00m \u001b[39merr\u001b[39;00m\n\u001b[1;32m   3806\u001b[0m \u001b[39mexcept\u001b[39;00m \u001b[39mTypeError\u001b[39;00m:\n\u001b[1;32m   3807\u001b[0m     \u001b[39m# If we have a listlike key, _check_indexing_error will raise\u001b[39;00m\n\u001b[1;32m   3808\u001b[0m     \u001b[39m#  InvalidIndexError. Otherwise we fall through and re-raise\u001b[39;00m\n\u001b[1;32m   3809\u001b[0m     \u001b[39m#  the TypeError.\u001b[39;00m\n\u001b[1;32m   3810\u001b[0m     \u001b[39mself\u001b[39m\u001b[39m.\u001b[39m_check_indexing_error(key)\n",
      "\u001b[0;31mKeyError\u001b[0m: (0, 0)"
     ]
    },
    {
     "data": {
      "image/png": "[encoded data removed]",
      "text/plain": [
       "<Figure size 640x480 with 1 Axes>"
      ]
     },
     "metadata": {},
     "output_type": "display_data"
    }
   ],
   "source": [
    "cmD = ConfusionMatrixDisplay(cm)\n",
    "# cmD = ConfusionMatrixDisplay(cm.iloc[:2, :4])\n",
    "# cmD.\n",
    "cmD.plot()"
   ]
  },
  {
   "attachments": {},
   "cell_type": "markdown",
   "metadata": {},
   "source": [
    "## Method B: Load from lengthy GIS operations\n",
    "In QGIS:\n",
    "1. Polygonize burned UAVSAR raster\n",
    "2. Dissolve based on DN field to get only n entries corresponding to n classes\n",
    "2. Zonal histogram based on DN field"
   ]
  },
  {
   "cell_type": "code",
   "execution_count": 30,
   "metadata": {},
   "outputs": [
    {
     "data": {
      "text/html": [
       "<div>\n",
       "<style scoped>\n",
       "    .dataframe tbody tr th:only-of-type {\n",
       "        vertical-align: middle;\n",
       "    }\n",
       "\n",
       "    .dataframe tbody tr th {\n",
       "        vertical-align: top;\n",
       "    }\n",
       "\n",
       "    .dataframe thead th {\n",
       "        text-align: right;\n",
       "    }\n",
       "</style>\n",
       "<table border=\"1\" class=\"dataframe\">\n",
       "  <thead>\n",
       "    <tr style=\"text-align: right;\">\n",
       "      <th></th>\n",
       "      <th>DN</th>\n",
       "      <th>geometry</th>\n",
       "    </tr>\n",
       "  </thead>\n",
       "  <tbody>\n",
       "    <tr>\n",
       "      <th>0</th>\n",
       "      <td>35</td>\n",
       "      <td>MULTIPOLYGON (((-2017546.705 3712282.011, -201...</td>\n",
       "    </tr>\n",
       "    <tr>\n",
       "      <th>1</th>\n",
       "      <td>5</td>\n",
       "      <td>MULTIPOLYGON (((-2034859.024 3717013.819, -203...</td>\n",
       "    </tr>\n",
       "    <tr>\n",
       "      <th>2</th>\n",
       "      <td>4</td>\n",
       "      <td>MULTIPOLYGON (((-2057236.298 3723637.221, -205...</td>\n",
       "    </tr>\n",
       "    <tr>\n",
       "      <th>3</th>\n",
       "      <td>3</td>\n",
       "      <td>MULTIPOLYGON (((-2058766.512 3723947.781, -205...</td>\n",
       "    </tr>\n",
       "    <tr>\n",
       "      <th>4</th>\n",
       "      <td>2</td>\n",
       "      <td>MULTIPOLYGON (((-2059381.986 3723834.850, -205...</td>\n",
       "    </tr>\n",
       "  </tbody>\n",
       "</table>\n",
       "</div>"
      ],
      "text/plain": [
       "   DN                                           geometry\n",
       "0  35  MULTIPOLYGON (((-2017546.705 3712282.011, -201...\n",
       "1   5  MULTIPOLYGON (((-2034859.024 3717013.819, -203...\n",
       "2   4  MULTIPOLYGON (((-2057236.298 3723637.221, -205...\n",
       "3   3  MULTIPOLYGON (((-2058766.512 3723947.781, -205...\n",
       "4   2  MULTIPOLYGON (((-2059381.986 3723834.850, -205..."
      ]
     },
     "execution_count": 30,
     "metadata": {},
     "output_type": "execute_result"
    }
   ],
   "source": [
    "## Load file that has already been aggregated through verrry slow QGIS dissolve by DN\n",
    "df = gpd.read_file('/mnt/g/Ch4/misc/UAVSAR_polygonized/sub_roi/dissolved/zonal_hist/YFLATS_190914_mosaic_rcls_brn_ds_Occurrence.shp')\n",
    "df.head()"
   ]
  },
  {
   "cell_type": "code",
   "execution_count": null,
   "metadata": {},
   "outputs": [],
   "source": []
  }
 ],
 "metadata": {
  "kernelspec": {
   "display_name": "geospatial",
   "language": "python",
   "name": "python3"
  },
  "language_info": {
   "codemirror_mode": {
    "name": "ipython",
    "version": 3
   },
   "file_extension": ".py",
   "mimetype": "text/x-python",
   "name": "python",
   "nbconvert_exporter": "python",
   "pygments_lexer": "ipython3",
   "version": "3.10.8"
  },
  "orig_nbformat": 4,
  "vscode": {
   "interpreter": {
    "hash": "7c2adcd04cb759f62ae312ee256557939cf64646c4c1feb81f383cf035bb7331"
   }
  }
 },
 "nbformat": 4,
 "nbformat_minor": 2
}
