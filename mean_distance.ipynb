{
 "cells": [
  {
   "cell_type": "code",
   "execution_count": 95,
   "metadata": {},
   "outputs": [],
   "source": [
    "import libpysal\n",
    "import geopandas as gpd\n",
    "import numpy as np\n",
    "import libpysal\n",
    "from scipy.spatial.distance import cdist\n",
    "from scipy.spatial import distance_matrix\n",
    "import shapely\n",
    "import pandas as pd\n",
    "from libpysal.cg import KDTree\n",
    "from libpysal.weights import KNN\n",
    "import esda\n",
    "from matplotlib import pyplot as plt\n",
    "\n",
    "import os\n",
    "import numpy as np\n",
    "import pandas as pd\n",
    "# import scipy as sp\n",
    "from scipy import stats as sps\n",
    "import pointpats as pp\n",
    "from shapely.geometry import Polygon, Point, MultiPoint\n",
    "import leafmap"
   ]
  },
  {
   "cell_type": "code",
   "execution_count": 150,
   "metadata": {},
   "outputs": [],
   "source": [
    "## I/O\n",
    "\n",
    "lakes_gdf = gpd.read_file('/mnt/g/Ch4/misc/WBD_sample.shp').to_crs(\"ESRI:102001\")"
   ]
  },
  {
   "cell_type": "code",
   "execution_count": 151,
   "metadata": {},
   "outputs": [
    {
     "data": {
      "application/vnd.jupyter.widget-view+json": {
       "model_id": "c79cc02388b14d519ebbdee947d71a0f",
       "version_major": 2,
       "version_minor": 0
      },
      "text/plain": [
       "Map(center=[20, 0], controls=(ZoomControl(options=['position', 'zoom_in_text', 'zoom_in_title', 'zoom_out_text…"
      ]
     },
     "metadata": {},
     "output_type": "display_data"
    }
   ],
   "source": [
    "## View\n",
    "m = leafmap.Map(google_map='SATELLITE')\n",
    "m.add_gdf(lakes_gdf, fill_colors=['red'])\n",
    "m"
   ]
  },
  {
   "cell_type": "code",
   "execution_count": 222,
   "metadata": {},
   "outputs": [
    {
     "data": {
      "text/html": [
       "<div>\n",
       "<style scoped>\n",
       "    .dataframe tbody tr th:only-of-type {\n",
       "        vertical-align: middle;\n",
       "    }\n",
       "\n",
       "    .dataframe tbody tr th {\n",
       "        vertical-align: top;\n",
       "    }\n",
       "\n",
       "    .dataframe thead th {\n",
       "        text-align: right;\n",
       "    }\n",
       "</style>\n",
       "<table border=\"1\" class=\"dataframe\">\n",
       "  <thead>\n",
       "    <tr style=\"text-align: right;\">\n",
       "      <th></th>\n",
       "      <th>OBJECTID</th>\n",
       "      <th>ID</th>\n",
       "      <th>GRIDCODE</th>\n",
       "      <th>Area</th>\n",
       "      <th>SI</th>\n",
       "      <th>Shape_Leng</th>\n",
       "      <th>Shape_Area</th>\n",
       "      <th>PA</th>\n",
       "      <th>PA_Circle</th>\n",
       "      <th>Perimeter</th>\n",
       "      <th>river</th>\n",
       "      <th>on_glacier</th>\n",
       "      <th>geometry</th>\n",
       "      <th>mean_dist2shore</th>\n",
       "    </tr>\n",
       "  </thead>\n",
       "  <tbody>\n",
       "    <tr>\n",
       "      <th>0</th>\n",
       "      <td>318312.0</td>\n",
       "      <td>883539.0</td>\n",
       "      <td>1.0</td>\n",
       "      <td>0.035178</td>\n",
       "      <td>1.115111</td>\n",
       "      <td>0.008823</td>\n",
       "      <td>4.540358e-06</td>\n",
       "      <td>21.076057</td>\n",
       "      <td>18.900415</td>\n",
       "      <td>0.741407</td>\n",
       "      <td>None</td>\n",
       "      <td>None</td>\n",
       "      <td>POLYGON ((606034.179 1256955.080, 606029.835 1...</td>\n",
       "      <td>31.008030</td>\n",
       "    </tr>\n",
       "    <tr>\n",
       "      <th>1</th>\n",
       "      <td>318452.0</td>\n",
       "      <td>884210.0</td>\n",
       "      <td>1.0</td>\n",
       "      <td>0.002896</td>\n",
       "      <td>1.281111</td>\n",
       "      <td>0.003251</td>\n",
       "      <td>3.736590e-07</td>\n",
       "      <td>84.396667</td>\n",
       "      <td>65.877731</td>\n",
       "      <td>0.244376</td>\n",
       "      <td>None</td>\n",
       "      <td>None</td>\n",
       "      <td>POLYGON ((609803.427 1256749.361, 609712.381 1...</td>\n",
       "      <td>8.761459</td>\n",
       "    </tr>\n",
       "    <tr>\n",
       "      <th>2</th>\n",
       "      <td>318470.0</td>\n",
       "      <td>884329.0</td>\n",
       "      <td>1.0</td>\n",
       "      <td>0.019256</td>\n",
       "      <td>2.054513</td>\n",
       "      <td>0.012196</td>\n",
       "      <td>2.484794e-06</td>\n",
       "      <td>52.485142</td>\n",
       "      <td>25.546265</td>\n",
       "      <td>1.010628</td>\n",
       "      <td>None</td>\n",
       "      <td>None</td>\n",
       "      <td>POLYGON ((610127.148 1256791.776, 610141.427 1...</td>\n",
       "      <td>10.557570</td>\n",
       "    </tr>\n",
       "    <tr>\n",
       "      <th>3</th>\n",
       "      <td>318699.0</td>\n",
       "      <td>885767.0</td>\n",
       "      <td>1.0</td>\n",
       "      <td>2.879962</td>\n",
       "      <td>2.544130</td>\n",
       "      <td>0.186279</td>\n",
       "      <td>3.716075e-04</td>\n",
       "      <td>5.314359</td>\n",
       "      <td>2.088871</td>\n",
       "      <td>15.305153</td>\n",
       "      <td>None</td>\n",
       "      <td>None</td>\n",
       "      <td>POLYGON ((607603.646 1255653.473, 607617.933 1...</td>\n",
       "      <td>151.404721</td>\n",
       "    </tr>\n",
       "  </tbody>\n",
       "</table>\n",
       "</div>"
      ],
      "text/plain": [
       "   OBJECTID        ID  GRIDCODE      Area        SI  Shape_Leng    Shape_Area  \\\n",
       "0  318312.0  883539.0       1.0  0.035178  1.115111    0.008823  4.540358e-06   \n",
       "1  318452.0  884210.0       1.0  0.002896  1.281111    0.003251  3.736590e-07   \n",
       "2  318470.0  884329.0       1.0  0.019256  2.054513    0.012196  2.484794e-06   \n",
       "3  318699.0  885767.0       1.0  2.879962  2.544130    0.186279  3.716075e-04   \n",
       "\n",
       "          PA  PA_Circle  Perimeter river on_glacier  \\\n",
       "0  21.076057  18.900415   0.741407  None       None   \n",
       "1  84.396667  65.877731   0.244376  None       None   \n",
       "2  52.485142  25.546265   1.010628  None       None   \n",
       "3   5.314359   2.088871  15.305153  None       None   \n",
       "\n",
       "                                            geometry  mean_dist2shore  \n",
       "0  POLYGON ((606034.179 1256955.080, 606029.835 1...        31.008030  \n",
       "1  POLYGON ((609803.427 1256749.361, 609712.381 1...         8.761459  \n",
       "2  POLYGON ((610127.148 1256791.776, 610141.427 1...        10.557570  \n",
       "3  POLYGON ((607603.646 1255653.473, 607617.933 1...       151.404721  "
      ]
     },
     "execution_count": 222,
     "metadata": {},
     "output_type": "execute_result"
    }
   ],
   "source": [
    "## loop\n",
    "for i, feature in enumerate(lakes_gdf.loc[:, 'geometry']): # 0:4\n",
    "    rand_pts = pp.random.poisson(feature, size=30)\n",
    "    rand_pts_geom = [Point(pt) for pt in rand_pts]\n",
    "    # random_pts_gdf = gpd.GeoDataFrame(geometry = [Point(pt) for pt in random_pts], crs=lakes_gdf.crs)\n",
    "    rand_pts_gs = gpd.GeoSeries([Point(pt) for pt in rand_pts], crs=lakes_gdf.crs)\n",
    "    lakes_gdf.loc[i, 'mean_dist2shore'] = rand_pts_gs.distance(feature.boundary).mean()\n",
    "    # rand_pts_dist = gpd.\n",
    "\n",
    "# pp.random.poisson(shp.loc[0, 'geometry'], size=30)\n",
    "# shp.loc[0, 'geometry']\n",
    "\n",
    "lakes_gdf.head()"
   ]
  },
  {
   "cell_type": "code",
   "execution_count": 220,
   "metadata": {},
   "outputs": [
    {
     "data": {
      "text/plain": [
       "36.017324279898084"
      ]
     },
     "execution_count": 220,
     "metadata": {},
     "output_type": "execute_result"
    }
   ],
   "source": [
    "feature.boundary.distance(rand_pts_geom[20]) #, align=False)\n",
    "# help(feature.distance)\n",
    "# gpd.GeoSeries.distance\n",
    "# lakes_gdf.loc[0:1, 'geometry'].boundary.distance(rand_pts_gs[1:5], align=False)\n",
    "type(lakes_gdf.loc[0:1, 'geometry'])\n",
    "type(lakes_gdf.loc[1, 'geometry'])\n",
    "type(lakes_gdf.iloc[1, :])\n",
    "type(lakes_gdf.iloc[0:1, :])\n",
    "# lakes_gdf.loc[1, 'geometry']\n",
    "rand_pts_gs.distance(feature.boundary) # <<<< THIS IS IT!\n",
    "rand_pts_gs.distance(feature.boundary).mean()"
   ]
  },
  {
   "cell_type": "code",
   "execution_count": 159,
   "metadata": {},
   "outputs": [
    {
     "data": {
      "application/vnd.jupyter.widget-view+json": {
       "model_id": "c79cc02388b14d519ebbdee947d71a0f",
       "version_major": 2,
       "version_minor": 0
      },
      "text/plain": [
       "Map(bottom=11220627.369628906, center=[51.087303621960494, -87.2503709793091], controls=(ZoomControl(options=[…"
      ]
     },
     "metadata": {},
     "output_type": "display_data"
    }
   ],
   "source": [
    "pts_gdf = gpd.GeoDataFrame(geometry = [Point(pt) for pt in rand_pts], crs=lakes_gdf.crs)\n",
    "m.add_gdf(lakes_gdf)\n",
    "m.add_gdf(pts_gdf)\n",
    "m"
   ]
  },
  {
   "cell_type": "code",
   "execution_count": 118,
   "metadata": {},
   "outputs": [
    {
     "data": {
      "text/plain": [
       "<AxesSubplot:>"
      ]
     },
     "execution_count": 118,
     "metadata": {},
     "output_type": "execute_result"
    },
    {
     "data": {
      "image/png": "[encoded data removed]",
      "text/plain": [
       "<Figure size 640x480 with 1 Axes>"
      ]
     },
     "metadata": {},
     "output_type": "display_data"
    }
   ],
   "source": [
    "## Alt plot\n",
    "%matplotlib inline\n",
    "fig, ax = plt.subplots()\n",
    "lakes_gdf.boundary.plot(ax=ax)\n",
    "pts_gdf.plot(c='red', ax=ax)"
   ]
  },
  {
   "cell_type": "markdown",
   "metadata": {},
   "source": [
    "## Testing examples"
   ]
  },
  {
   "cell_type": "code",
   "execution_count": 67,
   "metadata": {},
   "outputs": [
    {
     "data": {
      "text/plain": [
       "<matplotlib.collections.PathCollection at 0x7fefe5f57df0>"
      ]
     },
     "execution_count": 67,
     "metadata": {},
     "output_type": "execute_result"
    },
    {
     "data": {
      "image/png": "[encoded data removed]",
      "text/plain": [
       "<Figure size 640x480 with 1 Axes>"
      ]
     },
     "metadata": {},
     "output_type": "display_data"
    }
   ],
   "source": [
    "## Pointpats random points generation\n",
    "## https://stackoverflow.com/questions/56393503/how-can-i-generate-random-coordinates-inside-a-polygon\n",
    "\n",
    " \n",
    "# Coordinates of polygon edges\n",
    "coords = [[5,4],[3,4], [2,2],[4,3]]\n",
    "point1 = Point([3,3])\n",
    "point2 = Point([0,4])\n",
    "pgon = Polygon(coords)\n",
    "\n",
    "# Generates 5 points inside polygon\n",
    "random_pts = pp.random.poisson(pgon, size=30)\n",
    "\n",
    "## View\n",
    "coords_np = np.array(coords)\n",
    "plt.plot(coords_np[:,0], coords_np[:,1])\n",
    "plt.scatter(random_pts[:,0], random_pts[:,1])"
   ]
  },
  {
   "cell_type": "code",
   "execution_count": 68,
   "metadata": {},
   "outputs": [
    {
     "ename": "AttributeError",
     "evalue": "'Polygon' object has no attribute 'bounding_box'",
     "output_type": "error",
     "traceback": [
      "\u001b[0;31m---------------------------------------------------------------------------\u001b[0m",
      "\u001b[0;31mAttributeError\u001b[0m                            Traceback (most recent call last)",
      "Cell \u001b[0;32mIn[68], line 3\u001b[0m\n\u001b[1;32m      1\u001b[0m \u001b[39m## Calc distance from point to poly\u001b[39;00m\n\u001b[1;32m      2\u001b[0m \u001b[39mfrom\u001b[39;00m \u001b[39mlibpysal\u001b[39;00m\u001b[39m.\u001b[39;00m\u001b[39mcg\u001b[39;00m \u001b[39mimport\u001b[39;00m get_polygon_point_dist\n\u001b[0;32m----> 3\u001b[0m get_polygon_point_dist(pgon, point1)\n",
      "File \u001b[0;32m~/mambaforge/envs/geospatial/lib/python3.10/site-packages/libpysal/cg/standalone.py:651\u001b[0m, in \u001b[0;36mget_polygon_point_dist\u001b[0;34m(poly, pt)\u001b[0m\n\u001b[1;32m    621\u001b[0m \u001b[39mdef\u001b[39;00m \u001b[39mget_polygon_point_dist\u001b[39m(poly, pt):\n\u001b[1;32m    622\u001b[0m     \u001b[39m\"\"\"Returns the distance between a polygon and point.\u001b[39;00m\n\u001b[1;32m    623\u001b[0m \n\u001b[1;32m    624\u001b[0m \u001b[39m    Parameters\u001b[39;00m\n\u001b[0;32m   (...)\u001b[0m\n\u001b[1;32m    648\u001b[0m \u001b[39m    \u001b[39;00m\n\u001b[1;32m    649\u001b[0m \u001b[39m    \"\"\"\u001b[39;00m\n\u001b[0;32m--> 651\u001b[0m     \u001b[39mif\u001b[39;00m get_polygon_point_intersect(poly, pt) \u001b[39mis\u001b[39;00m \u001b[39mnot\u001b[39;00m \u001b[39mNone\u001b[39;00m:\n\u001b[1;32m    652\u001b[0m         dist \u001b[39m=\u001b[39m \u001b[39m0.0\u001b[39m\n\u001b[1;32m    653\u001b[0m     \u001b[39melse\u001b[39;00m:\n",
      "File \u001b[0;32m~/mambaforge/envs/geospatial/lib/python3.10/site-packages/libpysal/cg/standalone.py:424\u001b[0m, in \u001b[0;36mget_polygon_point_intersect\u001b[0;34m(poly, pt)\u001b[0m\n\u001b[1;32m    421\u001b[0m ret \u001b[39m=\u001b[39m \u001b[39mNone\u001b[39;00m\n\u001b[1;32m    423\u001b[0m \u001b[39m# Weed out points that aren't even close\u001b[39;00m\n\u001b[0;32m--> 424\u001b[0m \u001b[39mif\u001b[39;00m get_rectangle_point_intersect(poly\u001b[39m.\u001b[39;49mbounding_box, pt) \u001b[39mis\u001b[39;00m \u001b[39mNone\u001b[39;00m:\n\u001b[1;32m    425\u001b[0m     \u001b[39mpass\u001b[39;00m\n\u001b[1;32m    426\u001b[0m \u001b[39melse\u001b[39;00m:\n",
      "\u001b[0;31mAttributeError\u001b[0m: 'Polygon' object has no attribute 'bounding_box'"
     ]
    }
   ],
   "source": [
    "## Calc distance from point to poly\n",
    "from libpysal.cg import get_polygon_point_dist\n",
    "get_polygon_point_dist(pgon, point1)"
   ]
  },
  {
   "cell_type": "code",
   "execution_count": 117,
   "metadata": {},
   "outputs": [
    {
     "data": {
      "text/plain": [
       "['HexagonM',\n",
       " 'PointPattern',\n",
       " 'PointProcess',\n",
       " 'PoissonClusterPointProcess',\n",
       " 'PoissonPointProcess',\n",
       " 'QStatistic',\n",
       " 'RectangleM',\n",
       " 'SpaceTimeEvents',\n",
       " 'Window',\n",
       " '__builtins__',\n",
       " '__cached__',\n",
       " '__doc__',\n",
       " '__file__',\n",
       " '__loader__',\n",
       " '__name__',\n",
       " '__package__',\n",
       " '__path__',\n",
       " '__spec__',\n",
       " '__version__',\n",
       " '_circle',\n",
       " '_deprecated_distance_statistics',\n",
       " 'as_window',\n",
       " 'centrography',\n",
       " 'distance_statistics',\n",
       " 'dtot',\n",
       " 'ellipse',\n",
       " 'euclidean_median',\n",
       " 'f',\n",
       " 'f_test',\n",
       " 'g',\n",
       " 'g_test',\n",
       " 'geometry',\n",
       " 'hull',\n",
       " 'j',\n",
       " 'j_test',\n",
       " 'jacquez',\n",
       " 'k',\n",
       " 'k_test',\n",
       " 'knox',\n",
       " 'l',\n",
       " 'l_test',\n",
       " 'manhattan_median',\n",
       " 'mantel',\n",
       " 'mbr',\n",
       " 'mean_center',\n",
       " 'minimum_bounding_rectangle',\n",
       " 'minimum_rotated_rectangle',\n",
       " 'modified_knox',\n",
       " 'pointpattern',\n",
       " 'poly_from_bbox',\n",
       " 'process',\n",
       " 'quadrat_statistics',\n",
       " 'random',\n",
       " 'skyum',\n",
       " 'spacetime',\n",
       " 'std_distance',\n",
       " 'to_ccf',\n",
       " 'util',\n",
       " 'weighted_mean_center',\n",
       " 'window']"
      ]
     },
     "execution_count": 117,
     "metadata": {},
     "output_type": "execute_result"
    }
   ],
   "source": [
    "dir(pointpats)"
   ]
  }
 ],
 "metadata": {
  "kernelspec": {
   "display_name": "Python 3.10.8",
   "language": "python",
   "name": "python3"
  },
  "language_info": {
   "codemirror_mode": {
    "name": "ipython",
    "version": 3
   },
   "file_extension": ".py",
   "mimetype": "text/x-python",
   "name": "python",
   "nbconvert_exporter": "python",
   "pygments_lexer": "ipython3",
   "version": "3.10.8"
  },
  "orig_nbformat": 4,
  "vscode": {
   "interpreter": {
    "hash": "7c2adcd04cb759f62ae312ee256557939cf64646c4c1feb81f383cf035bb7331"
   }
  }
 },
 "nbformat": 4,
 "nbformat_minor": 2
}
